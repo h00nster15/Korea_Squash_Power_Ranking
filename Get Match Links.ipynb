{
 "cells": [
  {
   "cell_type": "code",
   "execution_count": 2,
   "metadata": {},
   "outputs": [],
   "source": [
    "import pandas as pd\n",
    "from selenium import webdriver\n",
    "from bs4 import BeautifulSoup\n",
    "import time\n",
    "import regex as re\n",
    "from tqdm import tqdm\n",
    "\n",
    "import urllib.request\n",
    "from bs4 import BeautifulSoup\n",
    "import requests\n",
    "import json as json\n",
    "import datetime\n",
    "\n",
    "\n",
    "from selenium.webdriver.support.ui import Select"
   ]
  },
  {
   "cell_type": "code",
   "execution_count": 3,
   "metadata": {},
   "outputs": [
    {
     "name": "stderr",
     "output_type": "stream",
     "text": [
      "  0%|          | 0/5 [00:06<?, ?it/s]"
     ]
    },
    {
     "name": "stdout",
     "output_type": "stream",
     "text": [
      "제91회 전국체육대회\n"
     ]
    },
    {
     "name": "stderr",
     "output_type": "stream",
     "text": [
      "\n"
     ]
    },
    {
     "ename": "UnexpectedAlertPresentException",
     "evalue": "Alert Text: 선택한 대회정보를 찾을 수 없습니다.\nMessage: unexpected alert open: {Alert text : 선택한 대회정보를 찾을 수 없습니다.}\n  (Session info: chrome=89.0.4389.90)\n",
     "output_type": "error",
     "traceback": [
      "\u001b[1;31m---------------------------------------------------------------------------\u001b[0m",
      "\u001b[1;31mUnexpectedAlertPresentException\u001b[0m           Traceback (most recent call last)",
      "\u001b[1;32m<ipython-input-3-6a58416739ca>\u001b[0m in \u001b[0;36m<module>\u001b[1;34m\u001b[0m\n\u001b[0;32m     32\u001b[0m     \u001b[1;31m#종목구분 알아내기\u001b[0m\u001b[1;33m\u001b[0m\u001b[1;33m\u001b[0m\u001b[1;33m\u001b[0m\u001b[0m\n\u001b[0;32m     33\u001b[0m \u001b[1;33m\u001b[0m\u001b[0m\n\u001b[1;32m---> 34\u001b[1;33m     \u001b[0msoup\u001b[0m \u001b[1;33m=\u001b[0m \u001b[0mBeautifulSoup\u001b[0m\u001b[1;33m(\u001b[0m\u001b[0mdriver2\u001b[0m\u001b[1;33m.\u001b[0m\u001b[0mpage_source\u001b[0m\u001b[1;33m,\u001b[0m \u001b[1;34m'lxml'\u001b[0m\u001b[1;33m)\u001b[0m\u001b[1;33m\u001b[0m\u001b[1;33m\u001b[0m\u001b[0m\n\u001b[0m\u001b[0;32m     35\u001b[0m     \u001b[0mscroll_tabs\u001b[0m \u001b[1;33m=\u001b[0m \u001b[0msoup\u001b[0m\u001b[1;33m.\u001b[0m\u001b[0mfind_all\u001b[0m\u001b[1;33m(\u001b[0m\u001b[0mclass_\u001b[0m \u001b[1;33m=\u001b[0m \u001b[1;34m'serch_list'\u001b[0m\u001b[1;33m)\u001b[0m\u001b[1;33m\u001b[0m\u001b[1;33m\u001b[0m\u001b[0m\n\u001b[0;32m     36\u001b[0m     \u001b[0mdivisions\u001b[0m \u001b[1;33m=\u001b[0m \u001b[0mscroll_tabs\u001b[0m\u001b[1;33m[\u001b[0m\u001b[1;36m0\u001b[0m\u001b[1;33m]\u001b[0m\u001b[1;33m.\u001b[0m\u001b[0mfind\u001b[0m\u001b[1;33m(\u001b[0m\u001b[1;34m\"select\"\u001b[0m\u001b[1;33m,\u001b[0m \u001b[1;33m{\u001b[0m\u001b[1;34m\"id\"\u001b[0m\u001b[1;33m:\u001b[0m \u001b[1;34m\"kindCd\"\u001b[0m\u001b[1;33m}\u001b[0m\u001b[1;33m)\u001b[0m\u001b[1;33m.\u001b[0m\u001b[0mcontents\u001b[0m\u001b[1;33m\u001b[0m\u001b[1;33m\u001b[0m\u001b[0m\n",
      "\u001b[1;32m~\\anaconda3\\lib\\site-packages\\selenium\\webdriver\\remote\\webdriver.py\u001b[0m in \u001b[0;36mpage_source\u001b[1;34m(self)\u001b[0m\n\u001b[0;32m    677\u001b[0m             \u001b[0mdriver\u001b[0m\u001b[1;33m.\u001b[0m\u001b[0mpage_source\u001b[0m\u001b[1;33m\u001b[0m\u001b[1;33m\u001b[0m\u001b[0m\n\u001b[0;32m    678\u001b[0m         \"\"\"\n\u001b[1;32m--> 679\u001b[1;33m         \u001b[1;32mreturn\u001b[0m \u001b[0mself\u001b[0m\u001b[1;33m.\u001b[0m\u001b[0mexecute\u001b[0m\u001b[1;33m(\u001b[0m\u001b[0mCommand\u001b[0m\u001b[1;33m.\u001b[0m\u001b[0mGET_PAGE_SOURCE\u001b[0m\u001b[1;33m)\u001b[0m\u001b[1;33m[\u001b[0m\u001b[1;34m'value'\u001b[0m\u001b[1;33m]\u001b[0m\u001b[1;33m\u001b[0m\u001b[1;33m\u001b[0m\u001b[0m\n\u001b[0m\u001b[0;32m    680\u001b[0m \u001b[1;33m\u001b[0m\u001b[0m\n\u001b[0;32m    681\u001b[0m     \u001b[1;32mdef\u001b[0m \u001b[0mclose\u001b[0m\u001b[1;33m(\u001b[0m\u001b[0mself\u001b[0m\u001b[1;33m)\u001b[0m\u001b[1;33m:\u001b[0m\u001b[1;33m\u001b[0m\u001b[1;33m\u001b[0m\u001b[0m\n",
      "\u001b[1;32m~\\anaconda3\\lib\\site-packages\\selenium\\webdriver\\remote\\webdriver.py\u001b[0m in \u001b[0;36mexecute\u001b[1;34m(self, driver_command, params)\u001b[0m\n\u001b[0;32m    319\u001b[0m         \u001b[0mresponse\u001b[0m \u001b[1;33m=\u001b[0m \u001b[0mself\u001b[0m\u001b[1;33m.\u001b[0m\u001b[0mcommand_executor\u001b[0m\u001b[1;33m.\u001b[0m\u001b[0mexecute\u001b[0m\u001b[1;33m(\u001b[0m\u001b[0mdriver_command\u001b[0m\u001b[1;33m,\u001b[0m \u001b[0mparams\u001b[0m\u001b[1;33m)\u001b[0m\u001b[1;33m\u001b[0m\u001b[1;33m\u001b[0m\u001b[0m\n\u001b[0;32m    320\u001b[0m         \u001b[1;32mif\u001b[0m \u001b[0mresponse\u001b[0m\u001b[1;33m:\u001b[0m\u001b[1;33m\u001b[0m\u001b[1;33m\u001b[0m\u001b[0m\n\u001b[1;32m--> 321\u001b[1;33m             \u001b[0mself\u001b[0m\u001b[1;33m.\u001b[0m\u001b[0merror_handler\u001b[0m\u001b[1;33m.\u001b[0m\u001b[0mcheck_response\u001b[0m\u001b[1;33m(\u001b[0m\u001b[0mresponse\u001b[0m\u001b[1;33m)\u001b[0m\u001b[1;33m\u001b[0m\u001b[1;33m\u001b[0m\u001b[0m\n\u001b[0m\u001b[0;32m    322\u001b[0m             response['value'] = self._unwrap_value(\n\u001b[0;32m    323\u001b[0m                 response.get('value', None))\n",
      "\u001b[1;32m~\\anaconda3\\lib\\site-packages\\selenium\\webdriver\\remote\\errorhandler.py\u001b[0m in \u001b[0;36mcheck_response\u001b[1;34m(self, response)\u001b[0m\n\u001b[0;32m    239\u001b[0m             \u001b[1;32melif\u001b[0m \u001b[1;34m'alert'\u001b[0m \u001b[1;32min\u001b[0m \u001b[0mvalue\u001b[0m\u001b[1;33m:\u001b[0m\u001b[1;33m\u001b[0m\u001b[1;33m\u001b[0m\u001b[0m\n\u001b[0;32m    240\u001b[0m                 \u001b[0malert_text\u001b[0m \u001b[1;33m=\u001b[0m \u001b[0mvalue\u001b[0m\u001b[1;33m[\u001b[0m\u001b[1;34m'alert'\u001b[0m\u001b[1;33m]\u001b[0m\u001b[1;33m.\u001b[0m\u001b[0mget\u001b[0m\u001b[1;33m(\u001b[0m\u001b[1;34m'text'\u001b[0m\u001b[1;33m)\u001b[0m\u001b[1;33m\u001b[0m\u001b[1;33m\u001b[0m\u001b[0m\n\u001b[1;32m--> 241\u001b[1;33m             \u001b[1;32mraise\u001b[0m \u001b[0mexception_class\u001b[0m\u001b[1;33m(\u001b[0m\u001b[0mmessage\u001b[0m\u001b[1;33m,\u001b[0m \u001b[0mscreen\u001b[0m\u001b[1;33m,\u001b[0m \u001b[0mstacktrace\u001b[0m\u001b[1;33m,\u001b[0m \u001b[0malert_text\u001b[0m\u001b[1;33m)\u001b[0m\u001b[1;33m\u001b[0m\u001b[1;33m\u001b[0m\u001b[0m\n\u001b[0m\u001b[0;32m    242\u001b[0m         \u001b[1;32mraise\u001b[0m \u001b[0mexception_class\u001b[0m\u001b[1;33m(\u001b[0m\u001b[0mmessage\u001b[0m\u001b[1;33m,\u001b[0m \u001b[0mscreen\u001b[0m\u001b[1;33m,\u001b[0m \u001b[0mstacktrace\u001b[0m\u001b[1;33m)\u001b[0m\u001b[1;33m\u001b[0m\u001b[1;33m\u001b[0m\u001b[0m\n\u001b[0;32m    243\u001b[0m \u001b[1;33m\u001b[0m\u001b[0m\n",
      "\u001b[1;31mUnexpectedAlertPresentException\u001b[0m: Alert Text: 선택한 대회정보를 찾을 수 없습니다.\nMessage: unexpected alert open: {Alert text : 선택한 대회정보를 찾을 수 없습니다.}\n  (Session info: chrome=89.0.4389.90)\n"
     ]
    }
   ],
   "source": [
    "data = pd.read_csv(\"전국대회_명단.csv\", index_col = None)\n",
    "data['시작일'] = pd.to_datetime(data['시작일'])\n",
    "\n",
    "\n",
    "cut = datetime.date(2019,10,31)\n",
    "valid_data = data[data['시작일'].dt.date < cut]\n",
    "\n",
    "#print(valid_data)\n",
    "t_code = valid_data['대회번호']\n",
    "t_code\n",
    "\n",
    "#create dataframe and scrape\n",
    "\n",
    "columns = ['대회명','종별', '경기결과']\n",
    "combined_df = pd.DataFrame(columns = columns)\n",
    "    \n",
    "\n",
    "for i in tqdm(range(60, len(valid_data))):\n",
    "    \n",
    "    t_num = t_code.iloc[i]\n",
    "    url = r\"https://result.sports.or.kr/sq/S11.jsp?classCd=41&toCd=\" + str(t_num) + \"&kindCd=&baseClassCd=&gameDate=&page=1\"\n",
    "    driver2 = webdriver.Chrome(executable_path=r'C:\\Users\\h00ns\\Power Ranking\\power_rank\\chromedriver')\n",
    "    driver2.get(url)\n",
    "    \n",
    "    \n",
    "    t_row = valid_data.loc[valid_data['대회번호'] == int(t_num)]\n",
    "    t_name = t_row.iloc[0].at['대회명']\n",
    "    print(t_name)\n",
    "\n",
    "    #time.sleep(5)\n",
    "\n",
    "    #종목구분 알아내기\n",
    "\n",
    "    soup = BeautifulSoup(driver2.page_source, 'lxml')\n",
    "    scroll_tabs = soup.find_all(class_ = 'serch_list')\n",
    "    divisions = scroll_tabs[0].find(\"select\", {\"id\": \"kindCd\"}).contents\n",
    "    div_list = []\n",
    "    \n",
    "    tourney_dic = {}\n",
    "    for div in divisions:\n",
    "        string = div.string\n",
    "        div_list.append(string)\n",
    "    \n",
    "    \n",
    "    for div in div_list:\n",
    "        select = Select(driver2.find_element_by_id(\"kindCd\"))\n",
    "        select.select_by_visible_text(str(div))\n",
    "\n",
    "        search_btn = driver2.find_element_by_xpath(\"//*[@id='selectDiv']/table/tbody/tr/td[4]/a\")\n",
    "        search_btn.click()\n",
    "\n",
    "        soup2 = BeautifulSoup(driver2.page_source, 'lxml')\n",
    "        a = soup2.find_all('a', href=True)\n",
    "        match_link_list = []\n",
    "\n",
    "        \n",
    "        division = []\n",
    "        matches = []\n",
    "        tournament = []\n",
    "\n",
    "        for links in a:\n",
    "            href = links.get('href')\n",
    "            keyword = re.compile('^T02')\n",
    "\n",
    "            if re.search(keyword, str(href)):\n",
    "                link = \"https://result.sports.or.kr/sq/\"+ str(href)\n",
    "                match_link_list.append(link)\n",
    "\n",
    "                division.append(str(div))\n",
    "                matches.append(link)\n",
    "                tournament.append(t_name)\n",
    "\n",
    "\n",
    "        tourney_dic[str(div)] = match_link_list\n",
    "    \n",
    "    columns = ['대회명','종별', '경기결과']\n",
    "    match_df = pd.DataFrame(columns = columns)\n",
    "    tournament = []\n",
    "    section = []\n",
    "    all_links = []\n",
    "\n",
    "    for key in tourney_dic:\n",
    "        value = tourney_dic[str(key)]\n",
    "        for site in value:\n",
    "            tournament.append(t_name)\n",
    "            section.append(key)\n",
    "            all_links.append(site)\n",
    "\n",
    "    match_df['종별'] = section\n",
    "    match_df['경기결과'] = all_links\n",
    "    match_df['대회명'] = tournament\n",
    "    \n",
    "    combined_df = combined_df.append(match_df)\n",
    "    combined_df.to_csv('All_Match_Links_4.csv')\n",
    "\n",
    "combined_df.to_csv('All_Match_Links_4.csv')"
   ]
  },
  {
   "cell_type": "code",
   "execution_count": 6,
   "metadata": {},
   "outputs": [],
   "source": [
    "t_num = t_code.iloc[10]\n",
    "url = r\"https://result.sports.or.kr/sq/S11.jsp?classCd=41&toCd=\" + str(t_num) + \"&kindCd=&baseClassCd=&gameDate=&page=1\"\n",
    "driver2 = webdriver.Chrome(executable_path=r'C:\\Users\\h00ns\\Power Ranking\\power_rank\\chromedriver')\n",
    "driver2.get(url)"
   ]
  },
  {
   "cell_type": "code",
   "execution_count": null,
   "metadata": {},
   "outputs": [],
   "source": []
  }
 ],
 "metadata": {
  "kernelspec": {
   "display_name": "Python 3",
   "language": "python",
   "name": "python3"
  },
  "language_info": {
   "codemirror_mode": {
    "name": "ipython",
    "version": 3
   },
   "file_extension": ".py",
   "mimetype": "text/x-python",
   "name": "python",
   "nbconvert_exporter": "python",
   "pygments_lexer": "ipython3",
   "version": "3.8.5"
  }
 },
 "nbformat": 4,
 "nbformat_minor": 4
}
