{
 "cells": [
  {
   "cell_type": "code",
   "execution_count": 42,
   "metadata": {},
   "outputs": [],
   "source": [
    "import pandas as pd\n",
    "from selenium import webdriver\n",
    "from bs4 import BeautifulSoup\n",
    "import time\n",
    "import regex as re\n",
    "from tqdm import tqdm\n",
    "\n",
    "import urllib.request\n",
    "from bs4 import BeautifulSoup\n",
    "import requests\n",
    "import json as json\n",
    "\n",
    "\n",
    "import selenium\n",
    "from selenium.common.exceptions import UnexpectedAlertPresentException"
   ]
  },
  {
   "cell_type": "code",
   "execution_count": 118,
   "metadata": {},
   "outputs": [
    {
     "data": {
      "text/plain": [
       "0               제100회 전국체육대회(스쿼시)\n",
       "1               제100회 전국체육대회(스쿼시)\n",
       "2               제100회 전국체육대회(스쿼시)\n",
       "3               제100회 전국체육대회(스쿼시)\n",
       "4               제100회 전국체육대회(스쿼시)\n",
       "                  ...            \n",
       "1283    제9회 대한체육회장배 전국 스쿼시 선수권 대회\n",
       "1284    제9회 대한체육회장배 전국 스쿼시 선수권 대회\n",
       "1285    제9회 대한체육회장배 전국 스쿼시 선수권 대회\n",
       "1286    제9회 대한체육회장배 전국 스쿼시 선수권 대회\n",
       "1287    제9회 대한체육회장배 전국 스쿼시 선수권 대회\n",
       "Name: 대회명, Length: 6938, dtype: object"
      ]
     },
     "execution_count": 118,
     "metadata": {},
     "output_type": "execute_result"
    }
   ],
   "source": [
    "df1 = pd.read_csv(\"All_Match_Links.csv\")\n",
    "df2 = pd.read_csv(\"All_Match_Links_2.csv\")\n",
    "df3 = pd.read_csv(\"All_Match_Links_3.csv\")\n",
    "\n",
    "\n",
    "file = df1.append(df2).append(df3).drop(\"Unnamed: 0\", axis=1)\n",
    "file.to_csv(\"All_Mathces_Combined.csv\")\n",
    "file['대회명']"
   ]
  },
  {
   "cell_type": "code",
   "execution_count": 5,
   "metadata": {},
   "outputs": [],
   "source": [
    "# Load the web page\n",
    "url = file['경기결과'][0]\n",
    "driver = webdriver.Chrome(executable_path=r'C:\\Users\\h00ns\\Oasis\\chromedriver')\n",
    "driver.get(url)\n",
    "\n",
    "# Wait for the page to fully load\n",
    "driver.implicitly_wait(5)"
   ]
  },
  {
   "cell_type": "code",
   "execution_count": 10,
   "metadata": {},
   "outputs": [
    {
     "name": "stdout",
     "output_type": "stream",
     "text": [
      "      0                        1                 2                 3\n",
      "0  대회기간  2019.08.23 ~ 2019.08.24               경기장            인천지역예정\n",
      "1  경기구분         남자중등부 - 개인전 - 결승  남자중등부 - 개인전 - 결승  남자중등부 - 개인전 - 결승 \n",
      " \n",
      " \n",
      " \n",
      "\n",
      "             0   1          2          3          4          5          6   \\\n",
      "0  나주영설화중학교(충남) NaN         전적         전적         전적         전적         전적   \n",
      "1  나주영설화중학교(충남) NaN          승          승         결과         결과         결과   \n",
      "2  나주영설화중학교(충남) NaN          3          3         점수         점수         점수   \n",
      "3  나주영설화중학교(충남) NaN  사유코드 : 없음  사유코드 : 없음  사유코드 : 없음  사유코드 : 없음  사유코드 : 없음   \n",
      "4  나주영설화중학교(충남) NaN       세부전적       세부전적       세부전적       세부전적       세부전적   \n",
      "5  나주영설화중학교(충남) NaN         점수         점수         세트         세트         세트   \n",
      "6  나주영설화중학교(충남) NaN          6          6       1set       1set       1set   \n",
      "7  나주영설화중학교(충남) NaN         11         11       2set       2set       2set   \n",
      "8  나주영설화중학교(충남) NaN         11         11       3set       3set       3set   \n",
      "9  나주영설화중학교(충남) NaN         11         11       4set       4set       4set   \n",
      "\n",
      "          7          8          9    10            11   12  13            14  \n",
      "0         전적         전적         전적   전적            전적   전적 NaN  이강인대화중학교(경기)  \n",
      "1         결과          패          패  NaN  이강인대화중학교(경기)  NaN NaN           NaN  \n",
      "2         점수          1          1  NaN  이강인대화중학교(경기)  NaN NaN           NaN  \n",
      "3  사유코드 : 없음  사유코드 : 없음  사유코드 : 없음  NaN  이강인대화중학교(경기)  NaN NaN           NaN  \n",
      "4       세부전적       세부전적       세부전적  NaN  이강인대화중학교(경기)  NaN NaN           NaN  \n",
      "5         세트         점수         점수  NaN  이강인대화중학교(경기)  NaN NaN           NaN  \n",
      "6       1set         11         11  NaN  이강인대화중학교(경기)  NaN NaN           NaN  \n",
      "7       2set          3          3  NaN  이강인대화중학교(경기)  NaN NaN           NaN  \n",
      "8       3set          4          4  NaN  이강인대화중학교(경기)  NaN NaN           NaN  \n",
      "9       4set          4          4  NaN  이강인대화중학교(경기)  NaN NaN           NaN   \n",
      " \n",
      " \n",
      " \n",
      "\n",
      "  설화중학교(충남)          \n",
      "         성명   출생년도 학년\n",
      "0       나주영  2006년  1 \n",
      " \n",
      " \n",
      " \n",
      "\n",
      "  대화중학교(경기)          \n",
      "         성명   출생년도 학년\n",
      "0       이강인  2004년  3 \n",
      " \n",
      " \n",
      " \n",
      "\n"
     ]
    }
   ],
   "source": [
    "#create beautifulsoup object to read html\n",
    "soup = BeautifulSoup(driver.page_source, 'lxml')\n",
    "tables = soup.find_all('table')\n",
    "dfs = pd.read_html(str(tables))\n",
    "\n",
    "for i in range(len(dfs)):\n",
    "    print(dfs[i], \"\\n\", \"\\n\", \"\\n\", \"\\n\")"
   ]
  },
  {
   "cell_type": "code",
   "execution_count": 29,
   "metadata": {},
   "outputs": [
    {
     "data": {
      "text/plain": [
       "'여자대학부'"
      ]
     },
     "execution_count": 29,
     "metadata": {},
     "output_type": "execute_result"
    }
   ],
   "source": [
    "dfs[0][1][1].split(' ')[0]"
   ]
  },
  {
   "cell_type": "code",
   "execution_count": 43,
   "metadata": {},
   "outputs": [
    {
     "name": "stdout",
     "output_type": "stream",
     "text": [
      "설화중학교(충남) 나주영\n",
      "대화중학교(경기) 이강인\n"
     ]
    }
   ],
   "source": [
    "#get player info\n",
    "team_1 = dfs[2].columns.levels[0][0]\n",
    "player_1 = dfs[2][team_1]['성명'][0]\n",
    "\n",
    "team_2 = dfs[3].columns.levels[0][0]\n",
    "player_2 = dfs[3][team_2]['성명'][0]\n",
    "\n",
    "print(team_1, player_1)\n",
    "print(team_2, player_2)"
   ]
  },
  {
   "cell_type": "code",
   "execution_count": 60,
   "metadata": {},
   "outputs": [
    {
     "data": {
      "text/plain": [
       "'결승'"
      ]
     },
     "execution_count": 60,
     "metadata": {},
     "output_type": "execute_result"
    }
   ],
   "source": [
    "#get stage\n",
    "\n",
    "stage = dfs[0].iloc[1].iloc[1].split(\" - \")[-1]\n",
    "stage"
   ]
  },
  {
   "cell_type": "code",
   "execution_count": 100,
   "metadata": {},
   "outputs": [
    {
     "name": "stdout",
     "output_type": "stream",
     "text": [
      "11 2\n",
      "11 3\n",
      "11 1\n",
      "승 패\n",
      "3 0\n",
      "[11, 11, 11, 0, 0] \n",
      " [2, 3, 1, 0, 0]\n"
     ]
    }
   ],
   "source": [
    "#get match result\n",
    "\n",
    "result_1 = dfs[1].iloc[1].loc[3]\n",
    "result_2 = dfs[1].iloc[1].loc[9]\n",
    "\n",
    "set_1 = dfs[1].iloc[2].loc[3]\n",
    "set_2 = dfs[1].iloc[2].loc[9]\n",
    "\n",
    "score_1 = []\n",
    "score_2 = []\n",
    "for i in range(5):\n",
    "    try:\n",
    "        neg_i = -i-1\n",
    "        point_1 = int(dfs[1].iloc[neg_i].loc[3])\n",
    "        point_2 = int(dfs[1].iloc[neg_i].loc[9])\n",
    "        \n",
    "        score_1.append(point_1)\n",
    "        score_2.append(point_2)\n",
    "        print(int(point_1), int(point_2))\n",
    "        \n",
    "    except ValueError:\n",
    "        score_1.append(0)\n",
    "        score_2.append(0)\n",
    "\n",
    "print(result_1, result_2)        \n",
    "print(set_1, set_2)\n",
    "print(score_1, \"\\n\", score_2)"
   ]
  },
  {
   "cell_type": "code",
   "execution_count": 68,
   "metadata": {
    "scrolled": true
   },
   "outputs": [
    {
     "name": "stderr",
     "output_type": "stream",
     "text": [
      "  0%|          | 1/1813 [00:09<4:33:58,  9.07s/it]"
     ]
    },
    {
     "name": "stdout",
     "output_type": "stream",
     "text": [
      "Saved  제13회 회장배 전한국 스쿼시 선수권 대회 준준준결승경기５ 엄화영 김수림\n"
     ]
    },
    {
     "name": "stderr",
     "output_type": "stream",
     "text": [
      "  0%|          | 2/1813 [00:18<4:34:09,  9.08s/it]"
     ]
    },
    {
     "name": "stdout",
     "output_type": "stream",
     "text": [
      "Saved  제13회 회장배 전한국 스쿼시 선수권 대회 준준준결승경기６ 이석주 김조은\n"
     ]
    },
    {
     "name": "stderr",
     "output_type": "stream",
     "text": [
      "  0%|          | 3/1813 [00:25<4:16:52,  8.52s/it]"
     ]
    },
    {
     "name": "stdout",
     "output_type": "stream",
     "text": [
      "Saved  제13회 회장배 전한국 스쿼시 선수권 대회 준준준결승경기７ 박민주 문혜연\n"
     ]
    },
    {
     "name": "stderr",
     "output_type": "stream",
     "text": [
      "  0%|          | 4/1813 [00:32<4:06:32,  8.18s/it]"
     ]
    },
    {
     "name": "stdout",
     "output_type": "stream",
     "text": [
      "Saved  제13회 회장배 전한국 스쿼시 선수권 대회 준준준결승경기８ 백지은 김기한\n"
     ]
    },
    {
     "name": "stderr",
     "output_type": "stream",
     "text": [
      "  0%|          | 5/1813 [00:39<3:54:27,  7.78s/it]"
     ]
    },
    {
     "name": "stdout",
     "output_type": "stream",
     "text": [
      "Saved  제13회 회장배 전한국 스쿼시 선수권 대회 준준결승경기１ 김미진 김선희\n"
     ]
    },
    {
     "name": "stderr",
     "output_type": "stream",
     "text": [
      "  0%|          | 6/1813 [00:46<3:46:33,  7.52s/it]"
     ]
    },
    {
     "name": "stdout",
     "output_type": "stream",
     "text": [
      "Saved  제13회 회장배 전한국 스쿼시 선수권 대회 준준결승경기２ 안예진 김가은\n"
     ]
    },
    {
     "name": "stderr",
     "output_type": "stream",
     "text": [
      "  0%|          | 7/1813 [01:01<4:52:38,  9.72s/it]"
     ]
    },
    {
     "name": "stdout",
     "output_type": "stream",
     "text": [
      "Saved  제13회 회장배 전한국 스쿼시 선수권 대회 준준결승경기３ 엄화영 김조은\n"
     ]
    },
    {
     "name": "stderr",
     "output_type": "stream",
     "text": [
      "  0%|          | 8/1813 [01:08<4:25:55,  8.84s/it]"
     ]
    },
    {
     "name": "stdout",
     "output_type": "stream",
     "text": [
      "Saved  제13회 회장배 전한국 스쿼시 선수권 대회 준준결승경기４ 박민주 김기한\n"
     ]
    },
    {
     "name": "stderr",
     "output_type": "stream",
     "text": [
      "  0%|          | 9/1813 [01:14<4:07:34,  8.23s/it]"
     ]
    },
    {
     "name": "stdout",
     "output_type": "stream",
     "text": [
      "Saved  제13회 회장배 전한국 스쿼시 선수권 대회 준결승경기１ 김미진 안예진\n"
     ]
    },
    {
     "name": "stderr",
     "output_type": "stream",
     "text": [
      "  1%|          | 10/1813 [01:21<3:54:14,  7.80s/it]"
     ]
    },
    {
     "name": "stdout",
     "output_type": "stream",
     "text": [
      "Saved  제13회 회장배 전한국 스쿼시 선수권 대회 준결승경기２ 엄화영 박민주\n"
     ]
    },
    {
     "name": "stderr",
     "output_type": "stream",
     "text": [
      "  1%|          | 11/1813 [01:28<3:45:56,  7.52s/it]"
     ]
    },
    {
     "name": "stdout",
     "output_type": "stream",
     "text": [
      "Saved  제13회 회장배 전한국 스쿼시 선수권 대회 결승 김미진 박민주\n"
     ]
    },
    {
     "name": "stderr",
     "output_type": "stream",
     "text": [
      "  1%|          | 12/1813 [01:35<3:40:11,  7.34s/it]"
     ]
    },
    {
     "name": "stdout",
     "output_type": "stream",
     "text": [
      "Saved  제13회 회장배 전한국 스쿼시 선수권 대회 예선경기２ 제연정 오세희\n"
     ]
    },
    {
     "name": "stderr",
     "output_type": "stream",
     "text": [
      "  1%|          | 13/1813 [01:52<5:05:02, 10.17s/it]"
     ]
    },
    {
     "name": "stdout",
     "output_type": "stream",
     "text": [
      "Saved  제13회 회장배 전한국 스쿼시 선수권 대회 예선경기７ 고혜선 강한나\n"
     ]
    },
    {
     "name": "stderr",
     "output_type": "stream",
     "text": [
      "  1%|          | 14/1813 [01:59<4:36:18,  9.22s/it]"
     ]
    },
    {
     "name": "stdout",
     "output_type": "stream",
     "text": [
      "Saved  제13회 회장배 전한국 스쿼시 선수권 대회 준준결승경기１ 최유라 제연정\n"
     ]
    },
    {
     "name": "stderr",
     "output_type": "stream",
     "text": [
      "  1%|          | 15/1813 [02:06<4:14:00,  8.48s/it]"
     ]
    },
    {
     "name": "stdout",
     "output_type": "stream",
     "text": [
      "Saved  제13회 회장배 전한국 스쿼시 선수권 대회 준준결승경기２ 장유빈 김다정\n"
     ]
    },
    {
     "name": "stderr",
     "output_type": "stream",
     "text": [
      "  1%|          | 16/1813 [02:13<4:00:57,  8.05s/it]"
     ]
    },
    {
     "name": "stdout",
     "output_type": "stream",
     "text": [
      "Saved  제13회 회장배 전한국 스쿼시 선수권 대회 준준결승경기３ 이지현 박다빈\n"
     ]
    },
    {
     "name": "stderr",
     "output_type": "stream",
     "text": [
      "  1%|          | 17/1813 [02:21<4:06:46,  8.24s/it]"
     ]
    },
    {
     "name": "stdout",
     "output_type": "stream",
     "text": [
      "Saved  제13회 회장배 전한국 스쿼시 선수권 대회 준준결승경기４ 강한나 김상미\n"
     ]
    },
    {
     "name": "stderr",
     "output_type": "stream",
     "text": [
      "  1%|          | 18/1813 [02:36<5:06:23, 10.24s/it]"
     ]
    },
    {
     "name": "stdout",
     "output_type": "stream",
     "text": [
      "Saved  제13회 회장배 전한국 스쿼시 선수권 대회 준결승경기１ 최유라 장유빈\n",
      "Saved  제13회 회장배 전한국 스쿼시 선수권 대회 준결승경기２ 이지현 김상미\n"
     ]
    },
    {
     "name": "stderr",
     "output_type": "stream",
     "text": [
      "  1%|          | 19/1813 [02:43<4:37:13,  9.27s/it]"
     ]
    },
    {
     "name": "stdout",
     "output_type": "stream",
     "text": [
      "Saved  제13회 회장배 전한국 스쿼시 선수권 대회 결승 최유라 이지현\n"
     ]
    },
    {
     "name": "stderr",
     "output_type": "stream",
     "text": [
      "  1%|          | 21/1813 [02:58<4:07:53,  8.30s/it]"
     ]
    },
    {
     "name": "stdout",
     "output_type": "stream",
     "text": [
      "Saved  제13회 회장배 전한국 스쿼시 선수권 대회 예선경기２ 김진희 김선임\n"
     ]
    },
    {
     "name": "stderr",
     "output_type": "stream",
     "text": [
      "  1%|          | 22/1813 [03:05<3:57:04,  7.94s/it]"
     ]
    },
    {
     "name": "stdout",
     "output_type": "stream",
     "text": [
      "Saved  제13회 회장배 전한국 스쿼시 선수권 대회 예선경기７ 이해경 성화영\n"
     ]
    },
    {
     "name": "stderr",
     "output_type": "stream",
     "text": [
      "  1%|▏         | 23/1813 [03:20<5:01:01, 10.09s/it]"
     ]
    },
    {
     "name": "stdout",
     "output_type": "stream",
     "text": [
      "Saved  제13회 회장배 전한국 스쿼시 선수권 대회 예선경기１０ 박진주 강영진\n"
     ]
    },
    {
     "name": "stderr",
     "output_type": "stream",
     "text": [
      "  1%|▏         | 24/1813 [03:27<4:34:10,  9.20s/it]"
     ]
    },
    {
     "name": "stdout",
     "output_type": "stream",
     "text": [
      "Saved  제13회 회장배 전한국 스쿼시 선수권 대회 예선경기１５ 강은경 김아현\n"
     ]
    },
    {
     "name": "stderr",
     "output_type": "stream",
     "text": [
      "  1%|▏         | 25/1813 [03:35<4:16:29,  8.61s/it]"
     ]
    },
    {
     "name": "stdout",
     "output_type": "stream",
     "text": [
      "Saved  제13회 회장배 전한국 스쿼시 선수권 대회 준준준결승경기１ 김가혜 김진희\n"
     ]
    },
    {
     "name": "stderr",
     "output_type": "stream",
     "text": [
      "  1%|▏         | 26/1813 [03:42<4:01:42,  8.12s/it]"
     ]
    },
    {
     "name": "stdout",
     "output_type": "stream",
     "text": [
      "Saved  제13회 회장배 전한국 스쿼시 선수권 대회 준준준결승경기２ 성은미 이영욱\n",
      "Saved  제13회 회장배 전한국 스쿼시 선수권 대회 준준준결승경기３ 배찬미 송선미\n"
     ]
    },
    {
     "name": "stderr",
     "output_type": "stream",
     "text": [
      "  2%|▏         | 28/1813 [03:56<3:45:08,  7.57s/it]"
     ]
    },
    {
     "name": "stdout",
     "output_type": "stream",
     "text": [
      "Saved  제13회 회장배 전한국 스쿼시 선수권 대회 준준준결승경기４ 이해경 오성령\n",
      "Saved  제13회 회장배 전한국 스쿼시 선수권 대회 준준준결승경기５ 양연수 박진주\n"
     ]
    },
    {
     "name": "stderr",
     "output_type": "stream",
     "text": [
      "  2%|▏         | 30/1813 [04:23<5:01:50, 10.16s/it]"
     ]
    },
    {
     "name": "stdout",
     "output_type": "stream",
     "text": [
      "Saved  제13회 회장배 전한국 스쿼시 선수권 대회 준준준결승경기６ 김가람 박미림\n"
     ]
    },
    {
     "name": "stderr",
     "output_type": "stream",
     "text": [
      "  2%|▏         | 31/1813 [04:30<4:32:49,  9.19s/it]"
     ]
    },
    {
     "name": "stdout",
     "output_type": "stream",
     "text": [
      "Saved  제13회 회장배 전한국 스쿼시 선수권 대회 준준준결승경기７ 박영미 김은순\n",
      "Saved  제13회 회장배 전한국 스쿼시 선수권 대회 준준준결승경기８ 김아현 박은옥\n"
     ]
    },
    {
     "name": "stderr",
     "output_type": "stream",
     "text": [
      "  2%|▏         | 33/1813 [04:44<4:03:46,  8.22s/it]"
     ]
    },
    {
     "name": "stdout",
     "output_type": "stream",
     "text": [
      "Saved  제13회 회장배 전한국 스쿼시 선수권 대회 준준결승경기１ 김가혜 이영욱\n"
     ]
    },
    {
     "name": "stderr",
     "output_type": "stream",
     "text": [
      "  2%|▏         | 34/1813 [04:59<5:04:01, 10.25s/it]"
     ]
    },
    {
     "name": "stdout",
     "output_type": "stream",
     "text": [
      "Saved  제13회 회장배 전한국 스쿼시 선수권 대회 준준결승경기２ 송선미 이해경\n"
     ]
    },
    {
     "name": "stderr",
     "output_type": "stream",
     "text": [
      "  2%|▏         | 35/1813 [05:06<4:35:31,  9.30s/it]"
     ]
    },
    {
     "name": "stdout",
     "output_type": "stream",
     "text": [
      "Saved  제13회 회장배 전한국 스쿼시 선수권 대회 준준결승경기３ 양연수 박미림\n"
     ]
    },
    {
     "name": "stderr",
     "output_type": "stream",
     "text": [
      "  2%|▏         | 36/1813 [05:15<4:34:11,  9.26s/it]"
     ]
    },
    {
     "name": "stdout",
     "output_type": "stream",
     "text": [
      "Saved  제13회 회장배 전한국 스쿼시 선수권 대회 준준결승경기４ 박영미 박은옥\n"
     ]
    },
    {
     "name": "stderr",
     "output_type": "stream",
     "text": [
      "  2%|▏         | 37/1813 [05:22<4:11:53,  8.51s/it]"
     ]
    },
    {
     "name": "stdout",
     "output_type": "stream",
     "text": [
      "Saved  제13회 회장배 전한국 스쿼시 선수권 대회 준결승경기１ 김가혜 송선미\n"
     ]
    },
    {
     "name": "stderr",
     "output_type": "stream",
     "text": [
      "  2%|▏         | 38/1813 [05:29<3:58:41,  8.07s/it]"
     ]
    },
    {
     "name": "stdout",
     "output_type": "stream",
     "text": [
      "Saved  제13회 회장배 전한국 스쿼시 선수권 대회 준결승경기２ 양연수 박은옥\n"
     ]
    },
    {
     "name": "stderr",
     "output_type": "stream",
     "text": [
      "  2%|▏         | 39/1813 [05:44<4:57:00, 10.05s/it]"
     ]
    },
    {
     "name": "stdout",
     "output_type": "stream",
     "text": [
      "Saved  제13회 회장배 전한국 스쿼시 선수권 대회 결승 송선미 박은옥\n"
     ]
    },
    {
     "name": "stderr",
     "output_type": "stream",
     "text": [
      "  2%|▏         | 40/1813 [05:51<4:28:25,  9.08s/it]"
     ]
    },
    {
     "name": "stdout",
     "output_type": "stream",
     "text": [
      "Saved  제13회 회장배 전한국 스쿼시 선수권 대회 예선경기１ 장수혁 박우성\n"
     ]
    },
    {
     "name": "stderr",
     "output_type": "stream",
     "text": [
      "  2%|▏         | 41/1813 [05:57<4:07:41,  8.39s/it]"
     ]
    },
    {
     "name": "stdout",
     "output_type": "stream",
     "text": [
      "Saved  제13회 회장배 전한국 스쿼시 선수권 대회 예선경기２ 강우석 장은준\n"
     ]
    },
    {
     "name": "stderr",
     "output_type": "stream",
     "text": [
      "  2%|▏         | 42/1813 [06:05<3:56:20,  8.01s/it]"
     ]
    },
    {
     "name": "stdout",
     "output_type": "stream",
     "text": [
      "Saved  제13회 회장배 전한국 스쿼시 선수권 대회 예선경기３ 박인훈 김지환\n"
     ]
    },
    {
     "name": "stderr",
     "output_type": "stream",
     "text": [
      "  2%|▏         | 43/1813 [06:11<3:44:56,  7.63s/it]"
     ]
    },
    {
     "name": "stdout",
     "output_type": "stream",
     "text": [
      "Saved  제13회 회장배 전한국 스쿼시 선수권 대회 예선경기４ KIM HAN 김태민\n"
     ]
    },
    {
     "name": "stderr",
     "output_type": "stream",
     "text": [
      "  2%|▏         | 44/1813 [06:18<3:35:44,  7.32s/it]"
     ]
    },
    {
     "name": "stdout",
     "output_type": "stream",
     "text": [
      "Saved  제13회 회장배 전한국 스쿼시 선수권 대회 준결승경기１ 장수혁 장은준\n",
      "Saved  제13회 회장배 전한국 스쿼시 선수권 대회 준결승경기２ 김지환 KIM HAN\n"
     ]
    },
    {
     "name": "stderr",
     "output_type": "stream",
     "text": [
      "  3%|▎         | 46/1813 [06:42<4:30:01,  9.17s/it]"
     ]
    },
    {
     "name": "stdout",
     "output_type": "stream",
     "text": [
      "Saved  제13회 회장배 전한국 스쿼시 선수권 대회 결승 장수혁 김지환\n"
     ]
    },
    {
     "name": "stderr",
     "output_type": "stream",
     "text": [
      "  3%|▎         | 47/1813 [06:48<4:07:32,  8.41s/it]"
     ]
    },
    {
     "name": "stdout",
     "output_type": "stream",
     "text": [
      "Saved  제13회 회장배 전한국 스쿼시 선수권 대회 예선경기２ 김남경 양재혁\n"
     ]
    },
    {
     "name": "stderr",
     "output_type": "stream",
     "text": [
      "  3%|▎         | 48/1813 [06:55<3:54:37,  7.98s/it]"
     ]
    },
    {
     "name": "stdout",
     "output_type": "stream",
     "text": [
      "Saved  제13회 회장배 전한국 스쿼시 선수권 대회 예선경기３ 김정원 임태섭\n"
     ]
    },
    {
     "name": "stderr",
     "output_type": "stream",
     "text": [
      "  3%|▎         | 49/1813 [07:02<3:43:40,  7.61s/it]"
     ]
    },
    {
     "name": "stdout",
     "output_type": "stream",
     "text": [
      "Saved  제13회 회장배 전한국 스쿼시 선수권 대회 예선경기４ 석지훈 오수현\n"
     ]
    },
    {
     "name": "stderr",
     "output_type": "stream",
     "text": [
      "  3%|▎         | 50/1813 [07:17<4:47:42,  9.79s/it]"
     ]
    },
    {
     "name": "stdout",
     "output_type": "stream",
     "text": [
      "Saved  제13회 회장배 전한국 스쿼시 선수권 대회 예선경기６ 강현범 이용정\n"
     ]
    },
    {
     "name": "stderr",
     "output_type": "stream",
     "text": [
      "  3%|▎         | 51/1813 [07:23<4:20:24,  8.87s/it]"
     ]
    },
    {
     "name": "stdout",
     "output_type": "stream",
     "text": [
      "Saved  제13회 회장배 전한국 스쿼시 선수권 대회 예선경기７ 조성환 김대운\n",
      "Saved  제13회 회장배 전한국 스쿼시 선수권 대회 예선경기１０ 이동민 이현준\n"
     ]
    },
    {
     "name": "stderr",
     "output_type": "stream",
     "text": [
      "  3%|▎         | 53/1813 [07:37<3:49:36,  7.83s/it]"
     ]
    },
    {
     "name": "stdout",
     "output_type": "stream",
     "text": [
      "Saved  제13회 회장배 전한국 스쿼시 선수권 대회 예선경기１１ CHOI SEAN SEVIN 양재혁\n",
      "Saved  제13회 회장배 전한국 스쿼시 선수권 대회 예선경기１４ 오현민 이준행\n"
     ]
    },
    {
     "name": "stderr",
     "output_type": "stream",
     "text": [
      "  3%|▎         | 55/1813 [07:51<3:38:34,  7.46s/it]"
     ]
    },
    {
     "name": "stdout",
     "output_type": "stream",
     "text": [
      "Saved  제13회 회장배 전한국 스쿼시 선수권 대회 예선경기１５ 김석진 이상지\n"
     ]
    },
    {
     "name": "stderr",
     "output_type": "stream",
     "text": [
      "  3%|▎         | 56/1813 [08:08<5:00:23, 10.26s/it]"
     ]
    },
    {
     "name": "stdout",
     "output_type": "stream",
     "text": [
      "Saved  제13회 회장배 전한국 스쿼시 선수권 대회 준준준결승경기１ 류한동 김남경\n"
     ]
    },
    {
     "name": "stderr",
     "output_type": "stream",
     "text": [
      "  3%|▎         | 57/1813 [08:15<4:31:26,  9.27s/it]"
     ]
    },
    {
     "name": "stdout",
     "output_type": "stream",
     "text": [
      "Saved  제13회 회장배 전한국 스쿼시 선수권 대회 준준준결승경기２ 임태섭 오수현\n"
     ]
    },
    {
     "name": "stderr",
     "output_type": "stream",
     "text": [
      "  3%|▎         | 58/1813 [08:22<4:08:35,  8.50s/it]"
     ]
    },
    {
     "name": "stdout",
     "output_type": "stream",
     "text": [
      "Saved  제13회 회장배 전한국 스쿼시 선수권 대회 준준준결승경기３ 황수연 강현범\n"
     ]
    },
    {
     "name": "stderr",
     "output_type": "stream",
     "text": [
      "  3%|▎         | 59/1813 [08:29<3:53:08,  7.98s/it]"
     ]
    },
    {
     "name": "stdout",
     "output_type": "stream",
     "text": [
      "Saved  제13회 회장배 전한국 스쿼시 선수권 대회 준준준결승경기４ 김대운 탁효진\n"
     ]
    },
    {
     "name": "stderr",
     "output_type": "stream",
     "text": [
      "  3%|▎         | 60/1813 [08:35<3:42:40,  7.62s/it]"
     ]
    },
    {
     "name": "stdout",
     "output_type": "stream",
     "text": [
      "Saved  제13회 회장배 전한국 스쿼시 선수권 대회 준준준결승경기５ 이인우 이동민\n"
     ]
    },
    {
     "name": "stderr",
     "output_type": "stream",
     "text": [
      "  3%|▎         | 61/1813 [08:50<4:45:15,  9.77s/it]"
     ]
    },
    {
     "name": "stdout",
     "output_type": "stream",
     "text": [
      "Saved  제13회 회장배 전한국 스쿼시 선수권 대회 준준준결승경기６ CHOI SEAN SEVIN 전성수\n"
     ]
    },
    {
     "name": "stderr",
     "output_type": "stream",
     "text": [
      "  3%|▎         | 62/1813 [08:57<4:19:47,  8.90s/it]"
     ]
    },
    {
     "name": "stdout",
     "output_type": "stream",
     "text": [
      "Saved  제13회 회장배 전한국 스쿼시 선수권 대회 준준준결승경기７ 구성진 오현민\n"
     ]
    },
    {
     "name": "stderr",
     "output_type": "stream",
     "text": [
      "  3%|▎         | 63/1813 [09:04<4:02:55,  8.33s/it]"
     ]
    },
    {
     "name": "stdout",
     "output_type": "stream",
     "text": [
      "Saved  제13회 회장배 전한국 스쿼시 선수권 대회 준준준결승경기８ 김석진 박성찬\n"
     ]
    },
    {
     "name": "stderr",
     "output_type": "stream",
     "text": [
      "  4%|▎         | 64/1813 [09:11<3:49:08,  7.86s/it]"
     ]
    },
    {
     "name": "stdout",
     "output_type": "stream",
     "text": [
      "Saved  제13회 회장배 전한국 스쿼시 선수권 대회 준준결승경기１ 류한동 오수현\n"
     ]
    },
    {
     "name": "stderr",
     "output_type": "stream",
     "text": [
      "  4%|▎         | 65/1813 [09:18<3:39:49,  7.55s/it]"
     ]
    },
    {
     "name": "stdout",
     "output_type": "stream",
     "text": [
      "Saved  제13회 회장배 전한국 스쿼시 선수권 대회 준준결승경기２ 강현범 탁효진\n"
     ]
    },
    {
     "name": "stderr",
     "output_type": "stream",
     "text": [
      "  4%|▎         | 66/1813 [09:24<3:32:46,  7.31s/it]"
     ]
    },
    {
     "name": "stdout",
     "output_type": "stream",
     "text": [
      "Saved  제13회 회장배 전한국 스쿼시 선수권 대회 준준결승경기３ 이동민 CHOI SEAN SEVIN\n"
     ]
    },
    {
     "name": "stderr",
     "output_type": "stream",
     "text": [
      "  4%|▎         | 67/1813 [09:41<4:56:05, 10.18s/it]"
     ]
    },
    {
     "name": "stdout",
     "output_type": "stream",
     "text": [
      "Saved  제13회 회장배 전한국 스쿼시 선수권 대회 준준결승경기４ 오현민 박성찬\n"
     ]
    },
    {
     "name": "stderr",
     "output_type": "stream",
     "text": [
      "  4%|▍         | 68/1813 [09:48<4:28:50,  9.24s/it]"
     ]
    },
    {
     "name": "stdout",
     "output_type": "stream",
     "text": [
      "Saved  제13회 회장배 전한국 스쿼시 선수권 대회 준결승경기１ 류한동 강현범\n"
     ]
    },
    {
     "name": "stderr",
     "output_type": "stream",
     "text": [
      "  4%|▍         | 69/1813 [09:55<4:07:11,  8.50s/it]"
     ]
    },
    {
     "name": "stdout",
     "output_type": "stream",
     "text": [
      "Saved  제13회 회장배 전한국 스쿼시 선수권 대회 준결승경기２ 이동민 박성찬\n"
     ]
    },
    {
     "name": "stderr",
     "output_type": "stream",
     "text": [
      "  4%|▍         | 70/1813 [10:02<3:52:38,  8.01s/it]"
     ]
    },
    {
     "name": "stdout",
     "output_type": "stream",
     "text": [
      "Saved  제13회 회장배 전한국 스쿼시 선수권 대회 결승 류한동 박성찬\n"
     ]
    },
    {
     "name": "stderr",
     "output_type": "stream",
     "text": [
      "  4%|▍         | 71/1813 [10:09<3:43:27,  7.70s/it]"
     ]
    },
    {
     "name": "stdout",
     "output_type": "stream",
     "text": [
      "Saved  제13회 회장배 전한국 스쿼시 선수권 대회 예선경기２ 김민서 김진솔\n"
     ]
    },
    {
     "name": "stderr",
     "output_type": "stream",
     "text": [
      "  4%|▍         | 72/1813 [10:24<4:47:16,  9.90s/it]"
     ]
    },
    {
     "name": "stdout",
     "output_type": "stream",
     "text": [
      "Saved  제13회 회장배 전한국 스쿼시 선수권 대회 예선경기３ 구나현 이루리\n"
     ]
    },
    {
     "name": "stderr",
     "output_type": "stream",
     "text": [
      "  4%|▍         | 73/1813 [10:33<4:39:01,  9.62s/it]"
     ]
    },
    {
     "name": "stdout",
     "output_type": "stream",
     "text": [
      "Saved  제13회 회장배 전한국 스쿼시 선수권 대회 예선경기４ 차연재 김다미\n"
     ]
    },
    {
     "name": "stderr",
     "output_type": "stream",
     "text": [
      "  4%|▍         | 74/1813 [10:40<4:15:00,  8.80s/it]"
     ]
    },
    {
     "name": "stdout",
     "output_type": "stream",
     "text": [
      "Saved  제13회 회장배 전한국 스쿼시 선수권 대회 준결승경기１ 전아인 김민서\n"
     ]
    },
    {
     "name": "stderr",
     "output_type": "stream",
     "text": [
      "  4%|▍         | 75/1813 [10:46<3:56:11,  8.15s/it]"
     ]
    },
    {
     "name": "stdout",
     "output_type": "stream",
     "text": [
      "Saved  제13회 회장배 전한국 스쿼시 선수권 대회 준결승경기２ 이루리 김다미\n"
     ]
    },
    {
     "name": "stderr",
     "output_type": "stream",
     "text": [
      "  4%|▍         | 76/1813 [10:53<3:43:40,  7.73s/it]"
     ]
    },
    {
     "name": "stdout",
     "output_type": "stream",
     "text": [
      "Saved  제13회 회장배 전한국 스쿼시 선수권 대회 결승 전아인 김다미\n"
     ]
    },
    {
     "name": "stderr",
     "output_type": "stream",
     "text": [
      "  4%|▍         | 77/1813 [11:00<3:34:09,  7.40s/it]"
     ]
    },
    {
     "name": "stdout",
     "output_type": "stream",
     "text": [
      "Saved  제13회 회장배 전한국 스쿼시 선수권 대회 예선경기２ 정다은 김은향\n"
     ]
    },
    {
     "name": "stderr",
     "output_type": "stream",
     "text": [
      "  4%|▍         | 78/1813 [11:18<5:03:42, 10.50s/it]"
     ]
    },
    {
     "name": "stdout",
     "output_type": "stream",
     "text": [
      "Saved  제13회 회장배 전한국 스쿼시 선수권 대회 예선경기７ 곽다연 홍서경\n"
     ]
    },
    {
     "name": "stderr",
     "output_type": "stream",
     "text": [
      "  4%|▍         | 79/1813 [11:24<4:31:01,  9.38s/it]"
     ]
    },
    {
     "name": "stdout",
     "output_type": "stream",
     "text": [
      "Saved  제13회 회장배 전한국 스쿼시 선수권 대회 준준결승경기１ 최유주 정다은\n"
     ]
    },
    {
     "name": "stderr",
     "output_type": "stream",
     "text": [
      "  4%|▍         | 80/1813 [11:31<4:09:18,  8.63s/it]"
     ]
    },
    {
     "name": "stdout",
     "output_type": "stream",
     "text": [
      "Saved  제13회 회장배 전한국 스쿼시 선수권 대회 준준결승경기２ 조민영 오승희\n"
     ]
    },
    {
     "name": "stderr",
     "output_type": "stream",
     "text": [
      "  4%|▍         | 81/1813 [11:38<3:53:10,  8.08s/it]"
     ]
    },
    {
     "name": "stdout",
     "output_type": "stream",
     "text": [
      "Saved  제13회 회장배 전한국 스쿼시 선수권 대회 준준결승경기３ 송채원 김규리\n"
     ]
    },
    {
     "name": "stderr",
     "output_type": "stream",
     "text": [
      "  5%|▍         | 82/1813 [11:45<3:41:36,  7.68s/it]"
     ]
    },
    {
     "name": "stdout",
     "output_type": "stream",
     "text": [
      "Saved  제13회 회장배 전한국 스쿼시 선수권 대회 준준결승경기４ 곽다연 김민영\n"
     ]
    },
    {
     "name": "stderr",
     "output_type": "stream",
     "text": [
      "  5%|▍         | 83/1813 [12:00<4:44:02,  9.85s/it]"
     ]
    },
    {
     "name": "stdout",
     "output_type": "stream",
     "text": [
      "Saved  제13회 회장배 전한국 스쿼시 선수권 대회 준결승경기１ 최유주 오승희\n"
     ]
    },
    {
     "name": "stderr",
     "output_type": "stream",
     "text": [
      "  5%|▍         | 84/1813 [12:06<4:17:07,  8.92s/it]"
     ]
    },
    {
     "name": "stdout",
     "output_type": "stream",
     "text": [
      "Saved  제13회 회장배 전한국 스쿼시 선수권 대회 준결승경기２ 김규리 곽다연\n"
     ]
    },
    {
     "name": "stderr",
     "output_type": "stream",
     "text": [
      "  5%|▍         | 85/1813 [12:13<3:58:04,  8.27s/it]"
     ]
    },
    {
     "name": "stdout",
     "output_type": "stream",
     "text": [
      "Saved  제13회 회장배 전한국 스쿼시 선수권 대회 결승 최유주 김규리\n"
     ]
    },
    {
     "name": "stderr",
     "output_type": "stream",
     "text": [
      "  5%|▍         | 86/1813 [12:20<3:46:44,  7.88s/it]"
     ]
    },
    {
     "name": "stdout",
     "output_type": "stream",
     "text": [
      "Saved  제16회 금곡배 전국 초중고 스쿼시 선수권 대회 예선경기２ 이승욱 이동준\n"
     ]
    },
    {
     "name": "stderr",
     "output_type": "stream",
     "text": [
      "  5%|▍         | 87/1813 [12:29<3:54:10,  8.14s/it]"
     ]
    },
    {
     "name": "stdout",
     "output_type": "stream",
     "text": [
      "Saved  제16회 금곡배 전국 초중고 스쿼시 선수권 대회 예선경기 31 윤호진 김태엽\n"
     ]
    },
    {
     "name": "stderr",
     "output_type": "stream",
     "text": [
      "  5%|▍         | 88/1813 [12:44<4:52:05, 10.16s/it]"
     ]
    },
    {
     "name": "stdout",
     "output_type": "stream",
     "text": [
      "Saved  제16회 금곡배 전국 초중고 스쿼시 선수권 대회 준준준준결승 2 유성연 배연우\n"
     ]
    },
    {
     "name": "stderr",
     "output_type": "stream",
     "text": [
      "  5%|▍         | 89/1813 [12:51<4:23:56,  9.19s/it]"
     ]
    },
    {
     "name": "stdout",
     "output_type": "stream",
     "text": [
      "Saved  제16회 금곡배 전국 초중고 스쿼시 선수권 대회 준준준준결승 3 박영복 권창혁\n"
     ]
    },
    {
     "name": "stderr",
     "output_type": "stream",
     "text": [
      "  5%|▍         | 90/1813 [12:59<4:18:40,  9.01s/it]"
     ]
    },
    {
     "name": "stdout",
     "output_type": "stream",
     "text": [
      "Saved  제16회 금곡배 전국 초중고 스쿼시 선수권 대회 준준준준결승 4 신승용 오준혁\n"
     ]
    },
    {
     "name": "stderr",
     "output_type": "stream",
     "text": [
      "  5%|▌         | 91/1813 [13:06<3:58:39,  8.32s/it]"
     ]
    },
    {
     "name": "stdout",
     "output_type": "stream",
     "text": [
      "Saved  제16회 금곡배 전국 초중고 스쿼시 선수권 대회 준준준준결승 5 임지훈 이원기\n"
     ]
    },
    {
     "name": "stderr",
     "output_type": "stream",
     "text": [
      "  5%|▌         | 92/1813 [13:13<3:44:17,  7.82s/it]"
     ]
    },
    {
     "name": "stdout",
     "output_type": "stream",
     "text": [
      "Saved  제16회 금곡배 전국 초중고 스쿼시 선수권 대회 준준준준결승 6 권순주 김남정\n"
     ]
    },
    {
     "name": "stderr",
     "output_type": "stream",
     "text": [
      "  5%|▌         | 93/1813 [13:19<3:35:20,  7.51s/it]"
     ]
    },
    {
     "name": "stdout",
     "output_type": "stream",
     "text": [
      "Saved  제16회 금곡배 전국 초중고 스쿼시 선수권 대회 준준준준결승 7 신상용 유승범\n"
     ]
    },
    {
     "name": "stderr",
     "output_type": "stream",
     "text": [
      "  5%|▌         | 94/1813 [13:36<4:52:57, 10.23s/it]"
     ]
    },
    {
     "name": "stdout",
     "output_type": "stream",
     "text": [
      "Saved  제16회 금곡배 전국 초중고 스쿼시 선수권 대회 준준준준결승 8 최지우 탁형진\n"
     ]
    },
    {
     "name": "stderr",
     "output_type": "stream",
     "text": [
      "  5%|▌         | 95/1813 [13:43<4:22:42,  9.17s/it]"
     ]
    },
    {
     "name": "stdout",
     "output_type": "stream",
     "text": [
      "Saved  제16회 금곡배 전국 초중고 스쿼시 선수권 대회 준준준준결승 9 이현욱 유덕재\n"
     ]
    },
    {
     "name": "stderr",
     "output_type": "stream",
     "text": [
      "  5%|▌         | 96/1813 [13:49<4:01:14,  8.43s/it]"
     ]
    },
    {
     "name": "stdout",
     "output_type": "stream",
     "text": [
      "Saved  제16회 금곡배 전국 초중고 스쿼시 선수권 대회 준준준준결승 10 이동현 윤여훈\n"
     ]
    },
    {
     "name": "stderr",
     "output_type": "stream",
     "text": [
      "  5%|▌         | 97/1813 [13:56<3:46:53,  7.93s/it]"
     ]
    },
    {
     "name": "stdout",
     "output_type": "stream",
     "text": [
      "Saved  제16회 금곡배 전국 초중고 스쿼시 선수권 대회 준준준준결승 11 박병국 원종수\n"
     ]
    },
    {
     "name": "stderr",
     "output_type": "stream",
     "text": [
      "  5%|▌         | 98/1813 [14:03<3:35:46,  7.55s/it]"
     ]
    },
    {
     "name": "stdout",
     "output_type": "stream",
     "text": [
      "Saved  제16회 금곡배 전국 초중고 스쿼시 선수권 대회 준준준준결승 12 양성훈 박정식\n"
     ]
    },
    {
     "name": "stderr",
     "output_type": "stream",
     "text": [
      "  5%|▌         | 99/1813 [14:18<4:38:16,  9.74s/it]"
     ]
    },
    {
     "name": "stdout",
     "output_type": "stream",
     "text": [
      "Saved  제16회 금곡배 전국 초중고 스쿼시 선수권 대회 준준준준결승 13 이승훈 박성준\n"
     ]
    },
    {
     "name": "stderr",
     "output_type": "stream",
     "text": [
      "  6%|▌         | 100/1813 [14:25<4:13:26,  8.88s/it]"
     ]
    },
    {
     "name": "stdout",
     "output_type": "stream",
     "text": [
      "Saved  제16회 금곡배 전국 초중고 스쿼시 선수권 대회 준준준준결승 1 고영조 이동준\n"
     ]
    },
    {
     "name": "stderr",
     "output_type": "stream",
     "text": [
      "  6%|▌         | 101/1813 [14:31<3:54:57,  8.23s/it]"
     ]
    },
    {
     "name": "stdout",
     "output_type": "stream",
     "text": [
      "Saved  제16회 금곡배 전국 초중고 스쿼시 선수권 대회 준준준준결승 14 김태규 최동진\n"
     ]
    },
    {
     "name": "stderr",
     "output_type": "stream",
     "text": [
      "  6%|▌         | 102/1813 [14:38<3:42:17,  7.79s/it]"
     ]
    },
    {
     "name": "stdout",
     "output_type": "stream",
     "text": [
      "Saved  제16회 금곡배 전국 초중고 스쿼시 선수권 대회 준준준준결승 15 강한준 박민우\n"
     ]
    },
    {
     "name": "stderr",
     "output_type": "stream",
     "text": [
      "  6%|▌         | 103/1813 [14:45<3:34:30,  7.53s/it]"
     ]
    },
    {
     "name": "stdout",
     "output_type": "stream",
     "text": [
      "Saved  제16회 금곡배 전국 초중고 스쿼시 선수권 대회 준준준준결승 16 윤호진 김현용\n"
     ]
    },
    {
     "name": "stderr",
     "output_type": "stream",
     "text": [
      "  6%|▌         | 104/1813 [14:52<3:27:31,  7.29s/it]"
     ]
    },
    {
     "name": "stdout",
     "output_type": "stream",
     "text": [
      "Saved  제16회 금곡배 전국 초중고 스쿼시 선수권 대회 준준준결승경기１ 고영조 배연우\n"
     ]
    },
    {
     "name": "stderr",
     "output_type": "stream",
     "text": [
      "  6%|▌         | 105/1813 [15:08<4:48:33, 10.14s/it]"
     ]
    },
    {
     "name": "stdout",
     "output_type": "stream",
     "text": [
      "Saved  제16회 금곡배 전국 초중고 스쿼시 선수권 대회 준준준결승경기２ 박영복 신승용\n"
     ]
    },
    {
     "name": "stderr",
     "output_type": "stream",
     "text": [
      "  6%|▌         | 106/1813 [15:15<4:20:11,  9.15s/it]"
     ]
    },
    {
     "name": "stdout",
     "output_type": "stream",
     "text": [
      "Saved  제16회 금곡배 전국 초중고 스쿼시 선수권 대회 준준준결승경기３ 임지훈 김남정\n"
     ]
    },
    {
     "name": "stderr",
     "output_type": "stream",
     "text": [
      "  6%|▌         | 107/1813 [15:22<3:59:36,  8.43s/it]"
     ]
    },
    {
     "name": "stdout",
     "output_type": "stream",
     "text": [
      "Saved  제16회 금곡배 전국 초중고 스쿼시 선수권 대회 준준준결승경기４ 신상용 탁형진\n"
     ]
    },
    {
     "name": "stderr",
     "output_type": "stream",
     "text": [
      "  6%|▌         | 108/1813 [15:29<3:46:09,  7.96s/it]"
     ]
    },
    {
     "name": "stdout",
     "output_type": "stream",
     "text": [
      "Saved  제16회 금곡배 전국 초중고 스쿼시 선수권 대회 준준준결승경기５ 유덕재 이동현\n"
     ]
    },
    {
     "name": "stderr",
     "output_type": "stream",
     "text": [
      "  6%|▌         | 109/1813 [15:36<3:35:31,  7.59s/it]"
     ]
    },
    {
     "name": "stdout",
     "output_type": "stream",
     "text": [
      "Saved  제16회 금곡배 전국 초중고 스쿼시 선수권 대회 준준준결승경기６ 박병국 박정식\n"
     ]
    },
    {
     "name": "stderr",
     "output_type": "stream",
     "text": [
      "  6%|▌         | 110/1813 [15:50<4:36:46,  9.75s/it]"
     ]
    },
    {
     "name": "stdout",
     "output_type": "stream",
     "text": [
      "Saved  제16회 금곡배 전국 초중고 스쿼시 선수권 대회 준준준결승경기７ 이승훈 최동진\n"
     ]
    },
    {
     "name": "stderr",
     "output_type": "stream",
     "text": [
      "  6%|▌         | 111/1813 [15:57<4:09:16,  8.79s/it]"
     ]
    },
    {
     "name": "stdout",
     "output_type": "stream",
     "text": [
      "Saved  제16회 금곡배 전국 초중고 스쿼시 선수권 대회 준준준결승경기８ 박민우 김현용\n"
     ]
    },
    {
     "name": "stderr",
     "output_type": "stream",
     "text": [
      "  6%|▌         | 112/1813 [16:04<3:51:37,  8.17s/it]"
     ]
    },
    {
     "name": "stdout",
     "output_type": "stream",
     "text": [
      "Saved  제16회 금곡배 전국 초중고 스쿼시 선수권 대회 준준결승경기１ 고영조 신승용\n"
     ]
    },
    {
     "name": "stderr",
     "output_type": "stream",
     "text": [
      "  6%|▌         | 113/1813 [16:11<3:40:34,  7.79s/it]"
     ]
    },
    {
     "name": "stdout",
     "output_type": "stream",
     "text": [
      "Saved  제16회 금곡배 전국 초중고 스쿼시 선수권 대회 준준결승경기２ 김남정 탁형진\n"
     ]
    },
    {
     "name": "stderr",
     "output_type": "stream",
     "text": [
      "  6%|▋         | 114/1813 [16:17<3:32:35,  7.51s/it]"
     ]
    },
    {
     "name": "stdout",
     "output_type": "stream",
     "text": [
      "Saved  제16회 금곡배 전국 초중고 스쿼시 선수권 대회 준준결승경기３ 유덕재 박병국\n"
     ]
    },
    {
     "name": "stderr",
     "output_type": "stream",
     "text": [
      "  6%|▋         | 115/1813 [16:32<4:33:42,  9.67s/it]"
     ]
    },
    {
     "name": "stdout",
     "output_type": "stream",
     "text": [
      "Saved  제16회 금곡배 전국 초중고 스쿼시 선수권 대회 준준결승경기４ 이승훈 김현용\n"
     ]
    },
    {
     "name": "stderr",
     "output_type": "stream",
     "text": [
      "  6%|▋         | 116/1813 [16:41<4:24:50,  9.36s/it]"
     ]
    },
    {
     "name": "stdout",
     "output_type": "stream",
     "text": [
      "Saved  제16회 금곡배 전국 초중고 스쿼시 선수권 대회 준결승경기１ 고영조 탁형진\n"
     ]
    },
    {
     "name": "stderr",
     "output_type": "stream",
     "text": [
      "  6%|▋         | 117/1813 [16:48<4:04:46,  8.66s/it]"
     ]
    },
    {
     "name": "stdout",
     "output_type": "stream",
     "text": [
      "Saved  제16회 금곡배 전국 초중고 스쿼시 선수권 대회 준결승경기２ 유덕재 김현용\n"
     ]
    },
    {
     "name": "stderr",
     "output_type": "stream",
     "text": [
      "  7%|▋         | 118/1813 [16:55<3:48:09,  8.08s/it]"
     ]
    },
    {
     "name": "stdout",
     "output_type": "stream",
     "text": [
      "Saved  제16회 금곡배 전국 초중고 스쿼시 선수권 대회 결승 고영조 유덕재\n"
     ]
    },
    {
     "name": "stderr",
     "output_type": "stream",
     "text": [
      "  7%|▋         | 119/1813 [17:01<3:36:47,  7.68s/it]"
     ]
    },
    {
     "name": "stdout",
     "output_type": "stream",
     "text": [
      "Saved  제16회 금곡배 전국 초중고 스쿼시 선수권 대회 예선경기２ 송하연 김수림\n"
     ]
    },
    {
     "name": "stderr",
     "output_type": "stream",
     "text": [
      "  7%|▋         | 120/1813 [17:08<3:29:32,  7.43s/it]"
     ]
    },
    {
     "name": "stdout",
     "output_type": "stream",
     "text": [
      "Saved  제16회 금곡배 전국 초중고 스쿼시 선수권 대회 예선경기３ 김미진 김선희\n"
     ]
    },
    {
     "name": "stderr",
     "output_type": "stream",
     "text": [
      "  7%|▋         | 121/1813 [17:25<4:47:21, 10.19s/it]"
     ]
    },
    {
     "name": "stdout",
     "output_type": "stream",
     "text": [
      "Saved  제16회 금곡배 전국 초중고 스쿼시 선수권 대회 예선경기４ 김조은 성제은\n"
     ]
    },
    {
     "name": "stderr",
     "output_type": "stream",
     "text": [
      "  7%|▋         | 122/1813 [17:32<4:18:04,  9.16s/it]"
     ]
    },
    {
     "name": "stdout",
     "output_type": "stream",
     "text": [
      "Saved  제16회 금곡배 전국 초중고 스쿼시 선수권 대회 예선경기６ 최예솔 신유민\n"
     ]
    },
    {
     "name": "stderr",
     "output_type": "stream",
     "text": [
      "  7%|▋         | 123/1813 [17:38<3:57:30,  8.43s/it]"
     ]
    },
    {
     "name": "stdout",
     "output_type": "stream",
     "text": [
      "Saved  제16회 금곡배 전국 초중고 스쿼시 선수권 대회 예선경기７ 백지은 김유라\n"
     ]
    },
    {
     "name": "stderr",
     "output_type": "stream",
     "text": [
      "  7%|▋         | 124/1813 [17:45<3:44:10,  7.96s/it]"
     ]
    },
    {
     "name": "stdout",
     "output_type": "stream",
     "text": [
      "Saved  제16회 금곡배 전국 초중고 스쿼시 선수권 대회 예선경기１０ 장유진 오영민\n"
     ]
    },
    {
     "name": "stderr",
     "output_type": "stream",
     "text": [
      "  7%|▋         | 125/1813 [17:52<3:33:10,  7.58s/it]"
     ]
    },
    {
     "name": "stdout",
     "output_type": "stream",
     "text": [
      "Saved  제16회 금곡배 전국 초중고 스쿼시 선수권 대회 예선경기１１ 문혜연 김하은\n"
     ]
    },
    {
     "name": "stderr",
     "output_type": "stream",
     "text": [
      "  7%|▋         | 126/1813 [18:07<4:33:58,  9.74s/it]"
     ]
    },
    {
     "name": "stdout",
     "output_type": "stream",
     "text": [
      "Saved  제16회 금곡배 전국 초중고 스쿼시 선수권 대회 예선경기１４ 선나라 김민영\n"
     ]
    },
    {
     "name": "stderr",
     "output_type": "stream",
     "text": [
      "  7%|▋         | 127/1813 [18:13<4:08:27,  8.84s/it]"
     ]
    },
    {
     "name": "stdout",
     "output_type": "stream",
     "text": [
      "Saved  제16회 금곡배 전국 초중고 스쿼시 선수권 대회 예선경기１５ 김민지 박다영\n"
     ]
    },
    {
     "name": "stderr",
     "output_type": "stream",
     "text": [
      "  7%|▋         | 128/1813 [18:20<3:50:28,  8.21s/it]"
     ]
    },
    {
     "name": "stdout",
     "output_type": "stream",
     "text": [
      "Saved  제16회 금곡배 전국 초중고 스쿼시 선수권 대회 준준준결승경기１ 엄화영 김수림\n"
     ]
    },
    {
     "name": "stderr",
     "output_type": "stream",
     "text": [
      "  7%|▋         | 129/1813 [18:27<3:39:52,  7.83s/it]"
     ]
    },
    {
     "name": "stdout",
     "output_type": "stream",
     "text": [
      "Saved  제16회 금곡배 전국 초중고 스쿼시 선수권 대회 준준준결승경기２ 김미진 김조은\n",
      "Saved  제16회 금곡배 전국 초중고 스쿼시 선수권 대회 준준준결승경기３ 허민경 신유민\n"
     ]
    },
    {
     "name": "stderr",
     "output_type": "stream",
     "text": [
      "  7%|▋         | 131/1813 [18:49<4:33:32,  9.76s/it]"
     ]
    },
    {
     "name": "stdout",
     "output_type": "stream",
     "text": [
      "Saved  제16회 금곡배 전국 초중고 스쿼시 선수권 대회 준준준결승경기４ 백지은 윤상은\n"
     ]
    },
    {
     "name": "stderr",
     "output_type": "stream",
     "text": [
      "  7%|▋         | 132/1813 [18:58<4:25:11,  9.47s/it]"
     ]
    },
    {
     "name": "stdout",
     "output_type": "stream",
     "text": [
      "Saved  제16회 금곡배 전국 초중고 스쿼시 선수권 대회 준준준결승경기５ 이석주 장유진\n",
      "Saved  제16회 금곡배 전국 초중고 스쿼시 선수권 대회 준준준결승경기６ 문혜연 권소희\n"
     ]
    },
    {
     "name": "stderr",
     "output_type": "stream",
     "text": [
      "  7%|▋         | 134/1813 [19:11<3:46:22,  8.09s/it]"
     ]
    },
    {
     "name": "stdout",
     "output_type": "stream",
     "text": [
      "Saved  제16회 금곡배 전국 초중고 스쿼시 선수권 대회 준준준결승경기７ 한지원 김민영\n"
     ]
    },
    {
     "name": "stderr",
     "output_type": "stream",
     "text": [
      "  7%|▋         | 135/1813 [19:18<3:34:11,  7.66s/it]"
     ]
    },
    {
     "name": "stdout",
     "output_type": "stream",
     "text": [
      "Saved  제16회 금곡배 전국 초중고 스쿼시 선수권 대회 준준준결승경기８ 김민지 김기한\n"
     ]
    },
    {
     "name": "stderr",
     "output_type": "stream",
     "text": [
      "  8%|▊         | 136/1813 [19:25<3:28:06,  7.45s/it]"
     ]
    },
    {
     "name": "stdout",
     "output_type": "stream",
     "text": [
      "Saved  제16회 금곡배 전국 초중고 스쿼시 선수권 대회 준준결승경기１ 엄화영 김미진\n"
     ]
    },
    {
     "name": "stderr",
     "output_type": "stream",
     "text": [
      "  8%|▊         | 137/1813 [19:42<4:46:11, 10.25s/it]"
     ]
    },
    {
     "name": "stdout",
     "output_type": "stream",
     "text": [
      "Saved  제16회 금곡배 전국 초중고 스쿼시 선수권 대회 준준결승경기２ 허민경 백지은\n"
     ]
    },
    {
     "name": "stderr",
     "output_type": "stream",
     "text": [
      "  8%|▊         | 138/1813 [19:48<4:18:14,  9.25s/it]"
     ]
    },
    {
     "name": "stdout",
     "output_type": "stream",
     "text": [
      "Saved  제16회 금곡배 전국 초중고 스쿼시 선수권 대회 준준결승경기３ 장유진 문혜연\n"
     ]
    },
    {
     "name": "stderr",
     "output_type": "stream",
     "text": [
      "  8%|▊         | 139/1813 [19:55<3:57:20,  8.51s/it]"
     ]
    },
    {
     "name": "stdout",
     "output_type": "stream",
     "text": [
      "Saved  제16회 금곡배 전국 초중고 스쿼시 선수권 대회 준준결승경기４ 김민영 김기한\n"
     ]
    },
    {
     "name": "stderr",
     "output_type": "stream",
     "text": [
      "  8%|▊         | 140/1813 [20:02<3:43:39,  8.02s/it]"
     ]
    },
    {
     "name": "stdout",
     "output_type": "stream",
     "text": [
      "Saved  제16회 금곡배 전국 초중고 스쿼시 선수권 대회 준결승경기１ 김미진 허민경\n"
     ]
    },
    {
     "name": "stderr",
     "output_type": "stream",
     "text": [
      "  8%|▊         | 141/1813 [20:09<3:33:44,  7.67s/it]"
     ]
    },
    {
     "name": "stdout",
     "output_type": "stream",
     "text": [
      "Saved  제16회 금곡배 전국 초중고 스쿼시 선수권 대회 준결승경기２ 장유진 김기한\n",
      "Saved  제16회 금곡배 전국 초중고 스쿼시 선수권 대회 결승 김미진 김기한\n"
     ]
    },
    {
     "name": "stderr",
     "output_type": "stream",
     "text": [
      "  8%|▊         | 143/1813 [20:33<4:19:44,  9.33s/it]"
     ]
    },
    {
     "name": "stdout",
     "output_type": "stream",
     "text": [
      "Saved  제16회 금곡배 전국 초중고 스쿼시 선수권 대회 예선경기２ 김우석 박우성\n"
     ]
    },
    {
     "name": "stderr",
     "output_type": "stream",
     "text": [
      "  8%|▊         | 144/1813 [20:40<3:59:06,  8.60s/it]"
     ]
    },
    {
     "name": "stdout",
     "output_type": "stream",
     "text": [
      "Saved  제16회 금곡배 전국 초중고 스쿼시 선수권 대회 예선경기６ KIM HAN 강우석\n"
     ]
    },
    {
     "name": "stderr",
     "output_type": "stream",
     "text": [
      "  8%|▊         | 145/1813 [20:47<3:45:43,  8.12s/it]"
     ]
    },
    {
     "name": "stdout",
     "output_type": "stream",
     "text": [
      "Saved  제16회 금곡배 전국 초중고 스쿼시 선수권 대회 예선경기７ 장은준 최호진\n"
     ]
    },
    {
     "name": "stderr",
     "output_type": "stream",
     "text": [
      "  8%|▊         | 146/1813 [20:55<3:49:57,  8.28s/it]"
     ]
    },
    {
     "name": "stdout",
     "output_type": "stream",
     "text": [
      "Saved  제16회 금곡배 전국 초중고 스쿼시 선수권 대회 준준결승경기１ 장수혁 김우석\n"
     ]
    },
    {
     "name": "stderr",
     "output_type": "stream",
     "text": [
      "  8%|▊         | 147/1813 [21:10<4:44:38, 10.25s/it]"
     ]
    },
    {
     "name": "stdout",
     "output_type": "stream",
     "text": [
      "Saved  제16회 금곡배 전국 초중고 스쿼시 선수권 대회 준준결승경기２ 박일석 김태민\n"
     ]
    },
    {
     "name": "stderr",
     "output_type": "stream",
     "text": [
      "  8%|▊         | 148/1813 [21:17<4:16:43,  9.25s/it]"
     ]
    },
    {
     "name": "stdout",
     "output_type": "stream",
     "text": [
      "Saved  제16회 금곡배 전국 초중고 스쿼시 선수권 대회 준준결승경기３ 김지환 KIM HAN\n"
     ]
    },
    {
     "name": "stderr",
     "output_type": "stream",
     "text": [
      "  8%|▊         | 149/1813 [21:24<3:56:50,  8.54s/it]"
     ]
    },
    {
     "name": "stdout",
     "output_type": "stream",
     "text": [
      "Saved  제16회 금곡배 전국 초중고 스쿼시 선수권 대회 준준결승경기４ 장은준 김기찬\n"
     ]
    },
    {
     "name": "stderr",
     "output_type": "stream",
     "text": [
      "  8%|▊         | 150/1813 [21:31<3:42:15,  8.02s/it]"
     ]
    },
    {
     "name": "stdout",
     "output_type": "stream",
     "text": [
      "Saved  제16회 금곡배 전국 초중고 스쿼시 선수권 대회 준결승경기１ 장수혁 박일석\n"
     ]
    },
    {
     "name": "stderr",
     "output_type": "stream",
     "text": [
      "  8%|▊         | 151/1813 [21:37<3:31:24,  7.63s/it]"
     ]
    },
    {
     "name": "stdout",
     "output_type": "stream",
     "text": [
      "Saved  제16회 금곡배 전국 초중고 스쿼시 선수권 대회 준결승경기２ 김지환 장은준\n"
     ]
    },
    {
     "name": "stderr",
     "output_type": "stream",
     "text": [
      "  8%|▊         | 152/1813 [21:44<3:23:43,  7.36s/it]"
     ]
    },
    {
     "name": "stdout",
     "output_type": "stream",
     "text": [
      "Saved  제16회 금곡배 전국 초중고 스쿼시 선수권 대회 결승 장수혁 김지환\n"
     ]
    },
    {
     "name": "stderr",
     "output_type": "stream",
     "text": [
      "  8%|▊         | 153/1813 [22:01<4:41:41, 10.18s/it]"
     ]
    },
    {
     "name": "stdout",
     "output_type": "stream",
     "text": [
      "Saved  제16회 금곡배 전국 초중고 스쿼시 선수권 대회 예선경기２ 김대운 김태현\n"
     ]
    },
    {
     "name": "stderr",
     "output_type": "stream",
     "text": [
      "  8%|▊         | 154/1813 [22:08<4:16:34,  9.28s/it]"
     ]
    },
    {
     "name": "stdout",
     "output_type": "stream",
     "text": [
      "Saved  제16회 금곡배 전국 초중고 스쿼시 선수권 대회 예선경기７ 김석진 이현준\n"
     ]
    },
    {
     "name": "stderr",
     "output_type": "stream",
     "text": [
      "  9%|▊         | 155/1813 [22:15<3:59:02,  8.65s/it]"
     ]
    },
    {
     "name": "stdout",
     "output_type": "stream",
     "text": [
      "Saved  제16회 금곡배 전국 초중고 스쿼시 선수권 대회 예선경기１０ 김남경 이용정\n"
     ]
    },
    {
     "name": "stderr",
     "output_type": "stream",
     "text": [
      "  9%|▊         | 156/1813 [22:24<3:59:02,  8.66s/it]"
     ]
    },
    {
     "name": "stdout",
     "output_type": "stream",
     "text": [
      "Saved  제16회 금곡배 전국 초중고 스쿼시 선수권 대회 예선경기１５ 강현범 김정원\n"
     ]
    },
    {
     "name": "stderr",
     "output_type": "stream",
     "text": [
      "  9%|▊         | 157/1813 [22:31<3:42:56,  8.08s/it]"
     ]
    },
    {
     "name": "stdout",
     "output_type": "stream",
     "text": [
      "Saved  제16회 금곡배 전국 초중고 스쿼시 선수권 대회 준준준결승경기１ 류한동 김대운\n"
     ]
    },
    {
     "name": "stderr",
     "output_type": "stream",
     "text": [
      "  9%|▊         | 158/1813 [22:45<4:38:41, 10.10s/it]"
     ]
    },
    {
     "name": "stdout",
     "output_type": "stream",
     "text": [
      "Saved  제16회 금곡배 전국 초중고 스쿼시 선수권 대회 준준준결승경기２ 이동민 오수현\n"
     ]
    },
    {
     "name": "stderr",
     "output_type": "stream",
     "text": [
      "  9%|▉         | 159/1813 [22:52<4:10:19,  9.08s/it]"
     ]
    },
    {
     "name": "stdout",
     "output_type": "stream",
     "text": [
      "Saved  제16회 금곡배 전국 초중고 스쿼시 선수권 대회 준준준결승경기３ 조성환 양재혁\n"
     ]
    },
    {
     "name": "stderr",
     "output_type": "stream",
     "text": [
      "  9%|▉         | 160/1813 [22:59<3:52:44,  8.45s/it]"
     ]
    },
    {
     "name": "stdout",
     "output_type": "stream",
     "text": [
      "Saved  제16회 금곡배 전국 초중고 스쿼시 선수권 대회 준준준결승경기４ 김석진 이준행\n"
     ]
    },
    {
     "name": "stderr",
     "output_type": "stream",
     "text": [
      "  9%|▉         | 161/1813 [23:06<3:38:34,  7.94s/it]"
     ]
    },
    {
     "name": "stdout",
     "output_type": "stream",
     "text": [
      "Saved  제16회 금곡배 전국 초중고 스쿼시 선수권 대회 준준준결승경기５ 이인우 김남경\n"
     ]
    },
    {
     "name": "stderr",
     "output_type": "stream",
     "text": [
      "  9%|▉         | 162/1813 [23:14<3:43:53,  8.14s/it]"
     ]
    },
    {
     "name": "stdout",
     "output_type": "stream",
     "text": [
      "Saved  제16회 금곡배 전국 초중고 스쿼시 선수권 대회 준준준결승경기６ 탁효진 전성수\n"
     ]
    },
    {
     "name": "stderr",
     "output_type": "stream",
     "text": [
      "  9%|▉         | 163/1813 [23:21<3:32:34,  7.73s/it]"
     ]
    },
    {
     "name": "stdout",
     "output_type": "stream",
     "text": [
      "Saved  제16회 금곡배 전국 초중고 스쿼시 선수권 대회 준준준결승경기７ 황수연 오현민\n"
     ]
    },
    {
     "name": "stderr",
     "output_type": "stream",
     "text": [
      "  9%|▉         | 164/1813 [23:38<4:48:18, 10.49s/it]"
     ]
    },
    {
     "name": "stdout",
     "output_type": "stream",
     "text": [
      "Saved  제16회 금곡배 전국 초중고 스쿼시 선수권 대회 준준준결승경기８ 강현범 박성찬\n"
     ]
    },
    {
     "name": "stderr",
     "output_type": "stream",
     "text": [
      "  9%|▉         | 165/1813 [23:45<4:20:15,  9.48s/it]"
     ]
    },
    {
     "name": "stdout",
     "output_type": "stream",
     "text": [
      "Saved  제16회 금곡배 전국 초중고 스쿼시 선수권 대회 준준결승경기１ 류한동 오수현\n"
     ]
    },
    {
     "name": "stderr",
     "output_type": "stream",
     "text": [
      "  9%|▉         | 166/1813 [23:52<3:58:43,  8.70s/it]"
     ]
    },
    {
     "name": "stdout",
     "output_type": "stream",
     "text": [
      "Saved  제16회 금곡배 전국 초중고 스쿼시 선수권 대회 준준결승경기２ 양재혁 김석진\n"
     ]
    },
    {
     "name": "stderr",
     "output_type": "stream",
     "text": [
      "  9%|▉         | 167/1813 [23:59<3:43:43,  8.16s/it]"
     ]
    },
    {
     "name": "stdout",
     "output_type": "stream",
     "text": [
      "Saved  제16회 금곡배 전국 초중고 스쿼시 선수권 대회 준준결승경기３ 이인우 탁효진\n"
     ]
    },
    {
     "name": "stderr",
     "output_type": "stream",
     "text": [
      "  9%|▉         | 168/1813 [24:06<3:32:03,  7.73s/it]"
     ]
    },
    {
     "name": "stdout",
     "output_type": "stream",
     "text": [
      "Saved  제16회 금곡배 전국 초중고 스쿼시 선수권 대회 준준결승경기４ 오현민 박성찬\n"
     ]
    },
    {
     "name": "stderr",
     "output_type": "stream",
     "text": [
      "  9%|▉         | 169/1813 [24:21<4:30:12,  9.86s/it]"
     ]
    },
    {
     "name": "stdout",
     "output_type": "stream",
     "text": [
      "Saved  제16회 금곡배 전국 초중고 스쿼시 선수권 대회 준결승경기１ 류한동 김석진\n"
     ]
    },
    {
     "name": "stderr",
     "output_type": "stream",
     "text": [
      "  9%|▉         | 170/1813 [24:29<4:18:55,  9.46s/it]"
     ]
    },
    {
     "name": "stdout",
     "output_type": "stream",
     "text": [
      "Saved  제16회 금곡배 전국 초중고 스쿼시 선수권 대회 준결승경기２ 이인우 박성찬\n"
     ]
    },
    {
     "name": "stderr",
     "output_type": "stream",
     "text": [
      "  9%|▉         | 171/1813 [24:36<3:56:49,  8.65s/it]"
     ]
    },
    {
     "name": "stdout",
     "output_type": "stream",
     "text": [
      "Saved  제16회 금곡배 전국 초중고 스쿼시 선수권 대회 결승 류한동 박성찬\n"
     ]
    },
    {
     "name": "stderr",
     "output_type": "stream",
     "text": [
      "  9%|▉         | 172/1813 [24:43<3:40:56,  8.08s/it]"
     ]
    },
    {
     "name": "stdout",
     "output_type": "stream",
     "text": [
      "Saved  제16회 금곡배 전국 초중고 스쿼시 선수권 대회 예선경기１ CHO OLIVIA IN YOUNG 구나현\n",
      "Saved  제16회 금곡배 전국 초중고 스쿼시 선수권 대회 예선경기２ 전아인 최이안\n"
     ]
    },
    {
     "name": "stderr",
     "output_type": "stream",
     "text": [
      " 10%|▉         | 174/1813 [25:05<4:31:43,  9.95s/it]"
     ]
    },
    {
     "name": "stdout",
     "output_type": "stream",
     "text": [
      "Saved  제16회 금곡배 전국 초중고 스쿼시 선수권 대회 결승 구나현 전아인\n"
     ]
    },
    {
     "name": "stderr",
     "output_type": "stream",
     "text": [
      " 10%|▉         | 175/1813 [25:12<4:10:19,  9.17s/it]"
     ]
    },
    {
     "name": "stdout",
     "output_type": "stream",
     "text": [
      "Saved  제16회 금곡배 전국 초중고 스쿼시 선수권 대회 예선경기２ 곽다연 홍서경\n"
     ]
    },
    {
     "name": "stderr",
     "output_type": "stream",
     "text": [
      " 10%|▉         | 176/1813 [25:19<3:51:49,  8.50s/it]"
     ]
    },
    {
     "name": "stdout",
     "output_type": "stream",
     "text": [
      "Saved  제16회 금곡배 전국 초중고 스쿼시 선수권 대회 준준결승경기１ 최유주 곽다연\n"
     ]
    },
    {
     "name": "stderr",
     "output_type": "stream",
     "text": [
      " 10%|▉         | 177/1813 [25:26<3:38:59,  8.03s/it]"
     ]
    },
    {
     "name": "stdout",
     "output_type": "stream",
     "text": [
      "Saved  제16회 금곡배 전국 초중고 스쿼시 선수권 대회 준준결승경기２ 이현원 송동주\n"
     ]
    },
    {
     "name": "stderr",
     "output_type": "stream",
     "text": [
      " 10%|▉         | 178/1813 [25:33<3:29:26,  7.69s/it]"
     ]
    },
    {
     "name": "stdout",
     "output_type": "stream",
     "text": [
      "Saved  제16회 금곡배 전국 초중고 스쿼시 선수권 대회 준준결승경기３ 조민영 박지연\n"
     ]
    },
    {
     "name": "stderr",
     "output_type": "stream",
     "text": [
      " 10%|▉         | 179/1813 [25:40<3:22:10,  7.42s/it]"
     ]
    },
    {
     "name": "stdout",
     "output_type": "stream",
     "text": [
      "Saved  제16회 금곡배 전국 초중고 스쿼시 선수권 대회 준준결승경기４ 오승희 송채원\n"
     ]
    },
    {
     "name": "stderr",
     "output_type": "stream",
     "text": [
      " 10%|▉         | 180/1813 [25:57<4:45:54, 10.50s/it]"
     ]
    },
    {
     "name": "stdout",
     "output_type": "stream",
     "text": [
      "Saved  제16회 금곡배 전국 초중고 스쿼시 선수권 대회 준결승경기１ 최유주 송동주\n"
     ]
    },
    {
     "name": "stderr",
     "output_type": "stream",
     "text": [
      " 10%|▉         | 181/1813 [26:04<4:17:14,  9.46s/it]"
     ]
    },
    {
     "name": "stdout",
     "output_type": "stream",
     "text": [
      "Saved  제16회 금곡배 전국 초중고 스쿼시 선수권 대회 준결승경기２ 조민영 오승희\n",
      "Saved  제16회 금곡배 전국 초중고 스쿼시 선수권 대회 결승 최유주 오승희\n"
     ]
    },
    {
     "name": "stderr",
     "output_type": "stream",
     "text": [
      " 10%|█         | 182/1813 [26:11<3:56:10,  8.69s/it]"
     ]
    },
    {
     "name": "stdout",
     "output_type": "stream",
     "text": [
      "Saved  제7회 전북연맹회장배 전국 스쿼시 선수권 대회 예선경기２ 장홍현 김병조\n"
     ]
    },
    {
     "name": "stderr",
     "output_type": "stream",
     "text": [
      " 10%|█         | 184/1813 [26:25<3:30:01,  7.74s/it]"
     ]
    },
    {
     "name": "stdout",
     "output_type": "stream",
     "text": [
      "Saved  제7회 전북연맹회장배 전국 스쿼시 선수권 대회 예선경기７ 윤여훈 박성준\n"
     ]
    },
    {
     "name": "stderr",
     "output_type": "stream",
     "text": [
      " 10%|█         | 185/1813 [26:40<4:27:09,  9.85s/it]"
     ]
    },
    {
     "name": "stdout",
     "output_type": "stream",
     "text": [
      "Saved  제7회 전북연맹회장배 전국 스쿼시 선수권 대회 예선경기１０ 강한준 유덕재\n"
     ]
    },
    {
     "name": "stderr",
     "output_type": "stream",
     "text": [
      " 10%|█         | 186/1813 [26:47<4:03:53,  8.99s/it]"
     ]
    },
    {
     "name": "stdout",
     "output_type": "stream",
     "text": [
      "Saved  제7회 전북연맹회장배 전국 스쿼시 선수권 대회 예선경기１５ 김남정 이원기\n"
     ]
    },
    {
     "name": "stderr",
     "output_type": "stream",
     "text": [
      " 10%|█         | 187/1813 [26:54<3:46:24,  8.35s/it]"
     ]
    },
    {
     "name": "stdout",
     "output_type": "stream",
     "text": [
      "Saved  제7회 전북연맹회장배 전국 스쿼시 선수권 대회 준준준결승경기１ 오성학 김병조\n"
     ]
    },
    {
     "name": "stderr",
     "output_type": "stream",
     "text": [
      " 10%|█         | 188/1813 [27:00<3:33:19,  7.88s/it]"
     ]
    },
    {
     "name": "stdout",
     "output_type": "stream",
     "text": [
      "Saved  제7회 전북연맹회장배 전국 스쿼시 선수권 대회 준준준결승경기２ 박정식 이동현\n"
     ]
    },
    {
     "name": "stderr",
     "output_type": "stream",
     "text": [
      " 10%|█         | 189/1813 [27:07<3:25:12,  7.58s/it]"
     ]
    },
    {
     "name": "stdout",
     "output_type": "stream",
     "text": [
      "Saved  제7회 전북연맹회장배 전국 스쿼시 선수권 대회 준준준결승경기３ 김예일 김태엽\n"
     ]
    },
    {
     "name": "stderr",
     "output_type": "stream",
     "text": [
      " 10%|█         | 190/1813 [27:22<4:23:36,  9.75s/it]"
     ]
    },
    {
     "name": "stdout",
     "output_type": "stream",
     "text": [
      "Saved  제7회 전북연맹회장배 전국 스쿼시 선수권 대회 준준준결승경기４ 윤여훈 김현용\n"
     ]
    },
    {
     "name": "stderr",
     "output_type": "stream",
     "text": [
      " 11%|█         | 191/1813 [27:29<4:00:58,  8.91s/it]"
     ]
    },
    {
     "name": "stdout",
     "output_type": "stream",
     "text": [
      "Saved  제7회 전북연맹회장배 전국 스쿼시 선수권 대회 준준준결승경기５ 최지우 유덕재\n"
     ]
    },
    {
     "name": "stderr",
     "output_type": "stream",
     "text": [
      " 11%|█         | 192/1813 [27:36<3:42:51,  8.25s/it]"
     ]
    },
    {
     "name": "stdout",
     "output_type": "stream",
     "text": [
      "Saved  제7회 전북연맹회장배 전국 스쿼시 선수권 대회 준준준결승경기６ 이승욱 신승용\n"
     ]
    },
    {
     "name": "stderr",
     "output_type": "stream",
     "text": [
      " 11%|█         | 193/1813 [27:42<3:30:50,  7.81s/it]"
     ]
    },
    {
     "name": "stdout",
     "output_type": "stream",
     "text": [
      "Saved  제7회 전북연맹회장배 전국 스쿼시 선수권 대회 준준준결승경기７ 이동준 이현욱\n"
     ]
    },
    {
     "name": "stderr",
     "output_type": "stream",
     "text": [
      " 11%|█         | 194/1813 [27:49<3:22:16,  7.50s/it]"
     ]
    },
    {
     "name": "stdout",
     "output_type": "stream",
     "text": [
      "Saved  제7회 전북연맹회장배 전국 스쿼시 선수권 대회 준준준결승경기８ 김남정 권순주\n"
     ]
    },
    {
     "name": "stderr",
     "output_type": "stream",
     "text": [
      " 11%|█         | 195/1813 [27:56<3:17:19,  7.32s/it]"
     ]
    },
    {
     "name": "stdout",
     "output_type": "stream",
     "text": [
      "Saved  제7회 전북연맹회장배 전국 스쿼시 선수권 대회 준준결승경기１ 오성학 박정식\n"
     ]
    },
    {
     "name": "stderr",
     "output_type": "stream",
     "text": [
      " 11%|█         | 196/1813 [28:13<4:33:46, 10.16s/it]"
     ]
    },
    {
     "name": "stdout",
     "output_type": "stream",
     "text": [
      "Saved  제7회 전북연맹회장배 전국 스쿼시 선수권 대회 준준결승경기２ 김태엽 김현용\n"
     ]
    },
    {
     "name": "stderr",
     "output_type": "stream",
     "text": [
      " 11%|█         | 197/1813 [28:20<4:06:12,  9.14s/it]"
     ]
    },
    {
     "name": "stdout",
     "output_type": "stream",
     "text": [
      "Saved  제7회 전북연맹회장배 전국 스쿼시 선수권 대회 준준결승경기３ 유덕재 신승용\n"
     ]
    },
    {
     "name": "stderr",
     "output_type": "stream",
     "text": [
      " 11%|█         | 198/1813 [28:27<3:48:00,  8.47s/it]"
     ]
    },
    {
     "name": "stdout",
     "output_type": "stream",
     "text": [
      "Saved  제7회 전북연맹회장배 전국 스쿼시 선수권 대회 준준결승경기４ 이동준 김남정\n"
     ]
    },
    {
     "name": "stderr",
     "output_type": "stream",
     "text": [
      " 11%|█         | 199/1813 [28:34<3:35:49,  8.02s/it]"
     ]
    },
    {
     "name": "stdout",
     "output_type": "stream",
     "text": [
      "Saved  제7회 전북연맹회장배 전국 스쿼시 선수권 대회 준결승경기１ 오성학 김현용\n"
     ]
    },
    {
     "name": "stderr",
     "output_type": "stream",
     "text": [
      " 11%|█         | 200/1813 [28:40<3:26:09,  7.67s/it]"
     ]
    },
    {
     "name": "stdout",
     "output_type": "stream",
     "text": [
      "Saved  제7회 전북연맹회장배 전국 스쿼시 선수권 대회 준결승경기２ 유덕재 김남정\n"
     ]
    },
    {
     "name": "stderr",
     "output_type": "stream",
     "text": [
      " 11%|█         | 201/1813 [28:55<4:25:09,  9.87s/it]"
     ]
    },
    {
     "name": "stdout",
     "output_type": "stream",
     "text": [
      "Saved  제7회 전북연맹회장배 전국 스쿼시 선수권 대회 결승 김현용 유덕재\n"
     ]
    },
    {
     "name": "stderr",
     "output_type": "stream",
     "text": [
      " 11%|█         | 202/1813 [29:02<4:00:40,  8.96s/it]"
     ]
    },
    {
     "name": "stdout",
     "output_type": "stream",
     "text": [
      "Saved  제7회 전북연맹회장배 전국 스쿼시 선수권 대회 예선경기２ 김재완 최창환\n"
     ]
    },
    {
     "name": "stderr",
     "output_type": "stream",
     "text": [
      " 11%|█         | 203/1813 [29:09<3:42:10,  8.28s/it]"
     ]
    },
    {
     "name": "stdout",
     "output_type": "stream",
     "text": [
      "Saved  제7회 전북연맹회장배 전국 스쿼시 선수권 대회 예선경기３ 원준호 강석환\n"
     ]
    },
    {
     "name": "stderr",
     "output_type": "stream",
     "text": [
      " 11%|█▏        | 204/1813 [29:16<3:29:56,  7.83s/it]"
     ]
    },
    {
     "name": "stdout",
     "output_type": "stream",
     "text": [
      "Saved  제7회 전북연맹회장배 전국 스쿼시 선수권 대회 예선경기４ 이단대 황중찬\n"
     ]
    },
    {
     "name": "stderr",
     "output_type": "stream",
     "text": [
      " 11%|█▏        | 205/1813 [29:23<3:21:09,  7.51s/it]"
     ]
    },
    {
     "name": "stdout",
     "output_type": "stream",
     "text": [
      "Saved  제7회 전북연맹회장배 전국 스쿼시 선수권 대회 예선경기５ 유재진 엄수원\n"
     ]
    },
    {
     "name": "stderr",
     "output_type": "stream",
     "text": [
      " 11%|█▏        | 206/1813 [29:37<4:20:44,  9.74s/it]"
     ]
    },
    {
     "name": "stdout",
     "output_type": "stream",
     "text": [
      "Saved  제7회 전북연맹회장배 전국 스쿼시 선수권 대회 예선경기６ 이승호 김현준\n",
      "Saved  제7회 전북연맹회장배 전국 스쿼시 선수권 대회 예선경기７ 김성집 정성진\n"
     ]
    },
    {
     "name": "stderr",
     "output_type": "stream",
     "text": [
      " 11%|█▏        | 208/1813 [29:54<3:55:37,  8.81s/it]"
     ]
    },
    {
     "name": "stdout",
     "output_type": "stream",
     "text": [
      "Saved  제7회 전북연맹회장배 전국 스쿼시 선수권 대회 예선경기８ 한대희 박종명\n"
     ]
    },
    {
     "name": "stderr",
     "output_type": "stream",
     "text": [
      " 12%|█▏        | 209/1813 [30:01<3:40:26,  8.25s/it]"
     ]
    },
    {
     "name": "stdout",
     "output_type": "stream",
     "text": [
      "Saved  제7회 전북연맹회장배 전국 스쿼시 선수권 대회 준준결승경기１ 진승우 김재완\n"
     ]
    },
    {
     "name": "stderr",
     "output_type": "stream",
     "text": [
      " 12%|█▏        | 210/1813 [30:07<3:28:32,  7.81s/it]"
     ]
    },
    {
     "name": "stdout",
     "output_type": "stream",
     "text": [
      "Saved  제7회 전북연맹회장배 전국 스쿼시 선수권 대회 준준결승경기２ 강석환 황중찬\n"
     ]
    },
    {
     "name": "stderr",
     "output_type": "stream",
     "text": [
      " 12%|█▏        | 211/1813 [30:14<3:21:08,  7.53s/it]"
     ]
    },
    {
     "name": "stdout",
     "output_type": "stream",
     "text": [
      "Saved  제7회 전북연맹회장배 전국 스쿼시 선수권 대회 준준결승경기３ 유재진 이승호\n"
     ]
    },
    {
     "name": "stderr",
     "output_type": "stream",
     "text": [
      " 12%|█▏        | 212/1813 [30:32<4:39:46, 10.48s/it]"
     ]
    },
    {
     "name": "stdout",
     "output_type": "stream",
     "text": [
      "Saved  제7회 전북연맹회장배 전국 스쿼시 선수권 대회 준준결승경기４ 김성집 박종명\n"
     ]
    },
    {
     "name": "stderr",
     "output_type": "stream",
     "text": [
      " 12%|█▏        | 213/1813 [30:39<4:11:54,  9.45s/it]"
     ]
    },
    {
     "name": "stdout",
     "output_type": "stream",
     "text": [
      "Saved  제7회 전북연맹회장배 전국 스쿼시 선수권 대회 준결승경기１ 진승우 강석환\n"
     ]
    },
    {
     "name": "stderr",
     "output_type": "stream",
     "text": [
      " 12%|█▏        | 214/1813 [30:45<3:49:49,  8.62s/it]"
     ]
    },
    {
     "name": "stdout",
     "output_type": "stream",
     "text": [
      "Saved  제7회 전북연맹회장배 전국 스쿼시 선수권 대회 준결승경기２ 유재진 박종명\n"
     ]
    },
    {
     "name": "stderr",
     "output_type": "stream",
     "text": [
      " 12%|█▏        | 215/1813 [30:52<3:35:16,  8.08s/it]"
     ]
    },
    {
     "name": "stdout",
     "output_type": "stream",
     "text": [
      "Saved  제7회 전북연맹회장배 전국 스쿼시 선수권 대회 결승 진승우 유재진\n"
     ]
    },
    {
     "name": "stderr",
     "output_type": "stream",
     "text": [
      " 12%|█▏        | 216/1813 [30:59<3:25:02,  7.70s/it]"
     ]
    },
    {
     "name": "stdout",
     "output_type": "stream",
     "text": [
      "Saved  제7회 전북연맹회장배 전국 스쿼시 선수권 대회 예선경기２ 유성은 한상철\n"
     ]
    },
    {
     "name": "stderr",
     "output_type": "stream",
     "text": [
      " 12%|█▏        | 217/1813 [31:14<4:23:40,  9.91s/it]"
     ]
    },
    {
     "name": "stdout",
     "output_type": "stream",
     "text": [
      "Saved  제7회 전북연맹회장배 전국 스쿼시 선수권 대회 예선경기３ 민주홍 임동현\n"
     ]
    },
    {
     "name": "stderr",
     "output_type": "stream",
     "text": [
      " 12%|█▏        | 218/1813 [31:21<3:59:37,  9.01s/it]"
     ]
    },
    {
     "name": "stdout",
     "output_type": "stream",
     "text": [
      "Saved  제7회 전북연맹회장배 전국 스쿼시 선수권 대회 예선경기４ 최상철 김상학\n"
     ]
    },
    {
     "name": "stderr",
     "output_type": "stream",
     "text": [
      " 12%|█▏        | 219/1813 [31:28<3:43:49,  8.43s/it]"
     ]
    },
    {
     "name": "stdout",
     "output_type": "stream",
     "text": [
      "Saved  제7회 전북연맹회장배 전국 스쿼시 선수권 대회 예선경기５ 김성영 최규희\n"
     ]
    },
    {
     "name": "stderr",
     "output_type": "stream",
     "text": [
      " 12%|█▏        | 220/1813 [31:35<3:29:52,  7.90s/it]"
     ]
    },
    {
     "name": "stdout",
     "output_type": "stream",
     "text": [
      "Saved  제7회 전북연맹회장배 전국 스쿼시 선수권 대회 예선경기６ 백승엽 이승준\n"
     ]
    },
    {
     "name": "stderr",
     "output_type": "stream",
     "text": [
      " 12%|█▏        | 221/1813 [31:42<3:26:43,  7.79s/it]"
     ]
    },
    {
     "name": "stdout",
     "output_type": "stream",
     "text": [
      "Saved  제7회 전북연맹회장배 전국 스쿼시 선수권 대회 예선경기７ 임지훈 권오석\n"
     ]
    },
    {
     "name": "stderr",
     "output_type": "stream",
     "text": [
      " 12%|█▏        | 222/1813 [31:57<4:23:31,  9.94s/it]"
     ]
    },
    {
     "name": "stdout",
     "output_type": "stream",
     "text": [
      "Saved  제7회 전북연맹회장배 전국 스쿼시 선수권 대회 예선경기１０ 정대훈 권혁\n"
     ]
    },
    {
     "name": "stderr",
     "output_type": "stream",
     "text": [
      " 12%|█▏        | 223/1813 [32:04<3:59:18,  9.03s/it]"
     ]
    },
    {
     "name": "stdout",
     "output_type": "stream",
     "text": [
      "Saved  제7회 전북연맹회장배 전국 스쿼시 선수권 대회 예선경기１１ 진수철 한성수\n"
     ]
    },
    {
     "name": "stderr",
     "output_type": "stream",
     "text": [
      " 12%|█▏        | 224/1813 [32:11<3:41:31,  8.36s/it]"
     ]
    },
    {
     "name": "stdout",
     "output_type": "stream",
     "text": [
      "Saved  제7회 전북연맹회장배 전국 스쿼시 선수권 대회 예선경기１２ 황중원 강성민\n"
     ]
    },
    {
     "name": "stderr",
     "output_type": "stream",
     "text": [
      " 12%|█▏        | 225/1813 [32:18<3:32:18,  8.02s/it]"
     ]
    },
    {
     "name": "stdout",
     "output_type": "stream",
     "text": [
      "Saved  제7회 전북연맹회장배 전국 스쿼시 선수권 대회 예선경기１３ 유용민 조광호\n"
     ]
    },
    {
     "name": "stderr",
     "output_type": "stream",
     "text": [
      " 12%|█▏        | 226/1813 [32:25<3:23:19,  7.69s/it]"
     ]
    },
    {
     "name": "stdout",
     "output_type": "stream",
     "text": [
      "Saved  제7회 전북연맹회장배 전국 스쿼시 선수권 대회 예선경기１４ 이세현 정민채\n"
     ]
    },
    {
     "name": "stderr",
     "output_type": "stream",
     "text": [
      " 13%|█▎        | 227/1813 [32:32<3:17:02,  7.45s/it]"
     ]
    },
    {
     "name": "stdout",
     "output_type": "stream",
     "text": [
      "Saved  제7회 전북연맹회장배 전국 스쿼시 선수권 대회 예선경기１５ 황지훈 최정운\n"
     ]
    },
    {
     "name": "stderr",
     "output_type": "stream",
     "text": [
      " 13%|█▎        | 228/1813 [32:49<4:30:47, 10.25s/it]"
     ]
    },
    {
     "name": "stdout",
     "output_type": "stream",
     "text": [
      "Saved  제7회 전북연맹회장배 전국 스쿼시 선수권 대회 준준준결승경기１ 김동우 한상철\n"
     ]
    },
    {
     "name": "stderr",
     "output_type": "stream",
     "text": [
      " 13%|█▎        | 229/1813 [32:56<4:03:21,  9.22s/it]"
     ]
    },
    {
     "name": "stdout",
     "output_type": "stream",
     "text": [
      "Saved  제7회 전북연맹회장배 전국 스쿼시 선수권 대회 준준준결승경기２ 임동현 최상철\n"
     ]
    },
    {
     "name": "stderr",
     "output_type": "stream",
     "text": [
      " 13%|█▎        | 230/1813 [33:03<3:45:58,  8.57s/it]"
     ]
    },
    {
     "name": "stdout",
     "output_type": "stream",
     "text": [
      "Saved  제7회 전북연맹회장배 전국 스쿼시 선수권 대회 준준준결승경기３ 김성영 이승준\n"
     ]
    },
    {
     "name": "stderr",
     "output_type": "stream",
     "text": [
      " 13%|█▎        | 231/1813 [33:09<3:33:05,  8.08s/it]"
     ]
    },
    {
     "name": "stdout",
     "output_type": "stream",
     "text": [
      "Saved  제7회 전북연맹회장배 전국 스쿼시 선수권 대회 준준준결승경기４ 권오석 이건동\n"
     ]
    },
    {
     "name": "stderr",
     "output_type": "stream",
     "text": [
      " 13%|█▎        | 232/1813 [33:17<3:26:57,  7.85s/it]"
     ]
    },
    {
     "name": "stdout",
     "output_type": "stream",
     "text": [
      "Saved  제7회 전북연맹회장배 전국 스쿼시 선수권 대회 준준준결승경기５ 유승룡 정대훈\n"
     ]
    },
    {
     "name": "stderr",
     "output_type": "stream",
     "text": [
      " 13%|█▎        | 233/1813 [33:32<4:24:22, 10.04s/it]"
     ]
    },
    {
     "name": "stdout",
     "output_type": "stream",
     "text": [
      "Saved  제7회 전북연맹회장배 전국 스쿼시 선수권 대회 준준준결승경기６ 한성수 황중원\n",
      "Saved  제7회 전북연맹회장배 전국 스쿼시 선수권 대회 준준준결승경기７ 유용민 이세현\n"
     ]
    },
    {
     "name": "stderr",
     "output_type": "stream",
     "text": [
      " 13%|█▎        | 234/1813 [33:39<4:03:31,  9.25s/it]"
     ]
    },
    {
     "name": "stdout",
     "output_type": "stream",
     "text": [
      "Saved  제7회 전북연맹회장배 전국 스쿼시 선수권 대회 준준준결승경기８ 최정운 이승택\n"
     ]
    },
    {
     "name": "stderr",
     "output_type": "stream",
     "text": [
      " 13%|█▎        | 236/1813 [33:54<3:34:33,  8.16s/it]"
     ]
    },
    {
     "name": "stdout",
     "output_type": "stream",
     "text": [
      "Saved  제7회 전북연맹회장배 전국 스쿼시 선수권 대회 준준결승경기１ 김동우 최상철\n"
     ]
    },
    {
     "name": "stderr",
     "output_type": "stream",
     "text": [
      " 13%|█▎        | 237/1813 [34:00<3:24:07,  7.77s/it]"
     ]
    },
    {
     "name": "stdout",
     "output_type": "stream",
     "text": [
      "Saved  제7회 전북연맹회장배 전국 스쿼시 선수권 대회 준준결승경기２ 이승준 이건동\n",
      "Saved  제7회 전북연맹회장배 전국 스쿼시 선수권 대회 준준결승경기３ 정대훈 한성수\n"
     ]
    },
    {
     "name": "stderr",
     "output_type": "stream",
     "text": [
      " 13%|█▎        | 239/1813 [34:23<3:59:16,  9.12s/it]"
     ]
    },
    {
     "name": "stdout",
     "output_type": "stream",
     "text": [
      "Saved  제7회 전북연맹회장배 전국 스쿼시 선수권 대회 준준결승경기４ 유용민 이승택\n"
     ]
    },
    {
     "name": "stderr",
     "output_type": "stream",
     "text": [
      " 13%|█▎        | 240/1813 [34:29<3:40:35,  8.41s/it]"
     ]
    },
    {
     "name": "stdout",
     "output_type": "stream",
     "text": [
      "Saved  제7회 전북연맹회장배 전국 스쿼시 선수권 대회 준결승경기１ 김동우 이건동\n"
     ]
    },
    {
     "name": "stderr",
     "output_type": "stream",
     "text": [
      " 13%|█▎        | 241/1813 [34:37<3:30:26,  8.03s/it]"
     ]
    },
    {
     "name": "stdout",
     "output_type": "stream",
     "text": [
      "Saved  제7회 전북연맹회장배 전국 스쿼시 선수권 대회 준결승경기２ 한성수 이승택\n"
     ]
    },
    {
     "name": "stderr",
     "output_type": "stream",
     "text": [
      " 13%|█▎        | 242/1813 [34:44<3:23:59,  7.79s/it]"
     ]
    },
    {
     "name": "stdout",
     "output_type": "stream",
     "text": [
      "Saved  제7회 전북연맹회장배 전국 스쿼시 선수권 대회 결승 이건동 이승택\n"
     ]
    },
    {
     "name": "stderr",
     "output_type": "stream",
     "text": [
      " 13%|█▎        | 243/1813 [34:51<3:18:21,  7.58s/it]"
     ]
    },
    {
     "name": "stdout",
     "output_type": "stream",
     "text": [
      "Saved  제7회 전북연맹회장배 전국 스쿼시 선수권 대회 예선경기２ 송하연 권소희\n"
     ]
    },
    {
     "name": "stderr",
     "output_type": "stream",
     "text": [
      " 13%|█▎        | 244/1813 [35:08<4:30:51, 10.36s/it]"
     ]
    },
    {
     "name": "stdout",
     "output_type": "stream",
     "text": [
      "Saved  제7회 전북연맹회장배 전국 스쿼시 선수권 대회 예선경기７ 박다영 오영민\n"
     ]
    },
    {
     "name": "stderr",
     "output_type": "stream",
     "text": [
      " 14%|█▎        | 245/1813 [35:15<4:04:56,  9.37s/it]"
     ]
    },
    {
     "name": "stdout",
     "output_type": "stream",
     "text": [
      "Saved  제7회 전북연맹회장배 전국 스쿼시 선수권 대회 준준결승경기１ 박민주 송하연\n"
     ]
    },
    {
     "name": "stderr",
     "output_type": "stream",
     "text": [
      " 14%|█▎        | 246/1813 [35:22<3:44:50,  8.61s/it]"
     ]
    },
    {
     "name": "stdout",
     "output_type": "stream",
     "text": [
      "Saved  제7회 전북연맹회장배 전국 스쿼시 선수권 대회 준준결승경기２ 김기한 김조은\n"
     ]
    },
    {
     "name": "stderr",
     "output_type": "stream",
     "text": [
      " 14%|█▎        | 247/1813 [35:28<3:30:03,  8.05s/it]"
     ]
    },
    {
     "name": "stdout",
     "output_type": "stream",
     "text": [
      "Saved  제7회 전북연맹회장배 전국 스쿼시 선수권 대회 준준결승경기３ 황하윤 김민영\n"
     ]
    },
    {
     "name": "stderr",
     "output_type": "stream",
     "text": [
      " 14%|█▎        | 248/1813 [35:35<3:21:30,  7.73s/it]"
     ]
    },
    {
     "name": "stdout",
     "output_type": "stream",
     "text": [
      "Saved  제7회 전북연맹회장배 전국 스쿼시 선수권 대회 준준결승경기４ 박다영 안예진\n"
     ]
    },
    {
     "name": "stderr",
     "output_type": "stream",
     "text": [
      " 14%|█▎        | 249/1813 [35:52<4:34:33, 10.53s/it]"
     ]
    },
    {
     "name": "stdout",
     "output_type": "stream",
     "text": [
      "Saved  제7회 전북연맹회장배 전국 스쿼시 선수권 대회 준결승경기１ 박민주 김조은\n"
     ]
    },
    {
     "name": "stderr",
     "output_type": "stream",
     "text": [
      " 14%|█▍        | 250/1813 [36:00<4:07:09,  9.49s/it]"
     ]
    },
    {
     "name": "stdout",
     "output_type": "stream",
     "text": [
      "Saved  제7회 전북연맹회장배 전국 스쿼시 선수권 대회 준결승경기２ 김민영 안예진\n"
     ]
    },
    {
     "name": "stderr",
     "output_type": "stream",
     "text": [
      " 14%|█▍        | 251/1813 [36:07<3:47:44,  8.75s/it]"
     ]
    },
    {
     "name": "stdout",
     "output_type": "stream",
     "text": [
      "Saved  제7회 전북연맹회장배 전국 스쿼시 선수권 대회 결승 박민주 안예진\n"
     ]
    },
    {
     "name": "stderr",
     "output_type": "stream",
     "text": [
      " 14%|█▍        | 252/1813 [36:13<3:33:25,  8.20s/it]"
     ]
    },
    {
     "name": "stdout",
     "output_type": "stream",
     "text": [
      "Saved  제7회 전북연맹회장배 전국 스쿼시 선수권 대회 예선경기２ 장유빈 박다나\n"
     ]
    },
    {
     "name": "stderr",
     "output_type": "stream",
     "text": [
      " 14%|█▍        | 253/1813 [36:20<3:22:01,  7.77s/it]"
     ]
    },
    {
     "name": "stdout",
     "output_type": "stream",
     "text": [
      "Saved  제7회 전북연맹회장배 전국 스쿼시 선수권 대회 예선경기３ 김상미 박다빈\n"
     ]
    },
    {
     "name": "stderr",
     "output_type": "stream",
     "text": [
      " 14%|█▍        | 254/1813 [36:35<4:18:21,  9.94s/it]"
     ]
    },
    {
     "name": "stdout",
     "output_type": "stream",
     "text": [
      "Saved  제7회 전북연맹회장배 전국 스쿼시 선수권 대회 준결승경기１ 최유라 박다나\n"
     ]
    },
    {
     "name": "stderr",
     "output_type": "stream",
     "text": [
      " 14%|█▍        | 255/1813 [36:42<3:54:28,  9.03s/it]"
     ]
    },
    {
     "name": "stdout",
     "output_type": "stream",
     "text": [
      "Saved  제7회 전북연맹회장배 전국 스쿼시 선수권 대회 준결승경기２ 김상미 이지현\n"
     ]
    },
    {
     "name": "stderr",
     "output_type": "stream",
     "text": [
      " 14%|█▍        | 256/1813 [36:49<3:37:00,  8.36s/it]"
     ]
    },
    {
     "name": "stdout",
     "output_type": "stream",
     "text": [
      "Saved  제7회 전북연맹회장배 전국 스쿼시 선수권 대회 결승 최유라 이지현\n"
     ]
    },
    {
     "name": "stderr",
     "output_type": "stream",
     "text": [
      " 14%|█▍        | 257/1813 [36:56<3:25:13,  7.91s/it]"
     ]
    },
    {
     "name": "stdout",
     "output_type": "stream",
     "text": [
      "Saved  제7회 전북연맹회장배 전국 스쿼시 선수권 대회 예선경기１ 박은옥 김순여\n"
     ]
    },
    {
     "name": "stderr",
     "output_type": "stream",
     "text": [
      " 14%|█▍        | 258/1813 [37:03<3:18:17,  7.65s/it]"
     ]
    },
    {
     "name": "stdout",
     "output_type": "stream",
     "text": [
      "Saved  제7회 전북연맹회장배 전국 스쿼시 선수권 대회 예선경기２ 성화영 이해경\n"
     ]
    },
    {
     "name": "stderr",
     "output_type": "stream",
     "text": [
      " 14%|█▍        | 259/1813 [37:10<3:12:55,  7.45s/it]"
     ]
    },
    {
     "name": "stdout",
     "output_type": "stream",
     "text": [
      "Saved  제7회 전북연맹회장배 전국 스쿼시 선수권 대회 예선경기３ 배찬미 성은미\n"
     ]
    },
    {
     "name": "stderr",
     "output_type": "stream",
     "text": [
      " 14%|█▍        | 260/1813 [37:29<4:43:41, 10.96s/it]"
     ]
    },
    {
     "name": "stdout",
     "output_type": "stream",
     "text": [
      "Saved  제7회 전북연맹회장배 전국 스쿼시 선수권 대회 예선경기４ 이영욱 박진주\n"
     ]
    },
    {
     "name": "stderr",
     "output_type": "stream",
     "text": [
      " 14%|█▍        | 261/1813 [37:36<4:12:56,  9.78s/it]"
     ]
    },
    {
     "name": "stdout",
     "output_type": "stream",
     "text": [
      "Saved  제7회 전북연맹회장배 전국 스쿼시 선수권 대회 예선경기５ 양연수 안은찬\n"
     ]
    },
    {
     "name": "stderr",
     "output_type": "stream",
     "text": [
      " 14%|█▍        | 262/1813 [37:45<4:03:48,  9.43s/it]"
     ]
    },
    {
     "name": "stdout",
     "output_type": "stream",
     "text": [
      "Saved  제7회 전북연맹회장배 전국 스쿼시 선수권 대회 예선경기６ 박미림 송선미\n"
     ]
    },
    {
     "name": "stderr",
     "output_type": "stream",
     "text": [
      " 15%|█▍        | 263/1813 [37:52<3:46:18,  8.76s/it]"
     ]
    },
    {
     "name": "stdout",
     "output_type": "stream",
     "text": [
      "Saved  제7회 전북연맹회장배 전국 스쿼시 선수권 대회 예선경기７ 권성은 김다정\n"
     ]
    },
    {
     "name": "stderr",
     "output_type": "stream",
     "text": [
      " 15%|█▍        | 264/1813 [37:59<3:31:46,  8.20s/it]"
     ]
    },
    {
     "name": "stdout",
     "output_type": "stream",
     "text": [
      "Saved  제7회 전북연맹회장배 전국 스쿼시 선수권 대회 예선경기８ 김진희 오성령\n"
     ]
    },
    {
     "name": "stderr",
     "output_type": "stream",
     "text": [
      " 15%|█▍        | 265/1813 [38:14<4:24:21, 10.25s/it]"
     ]
    },
    {
     "name": "stdout",
     "output_type": "stream",
     "text": [
      "Saved  제7회 전북연맹회장배 전국 스쿼시 선수권 대회 준준결승경기１ 박은옥 이해경\n"
     ]
    },
    {
     "name": "stderr",
     "output_type": "stream",
     "text": [
      " 15%|█▍        | 266/1813 [38:21<3:57:23,  9.21s/it]"
     ]
    },
    {
     "name": "stdout",
     "output_type": "stream",
     "text": [
      "Saved  제7회 전북연맹회장배 전국 스쿼시 선수권 대회 준준결승경기２ 배찬미 박진주\n"
     ]
    },
    {
     "name": "stderr",
     "output_type": "stream",
     "text": [
      " 15%|█▍        | 267/1813 [38:27<3:39:32,  8.52s/it]"
     ]
    },
    {
     "name": "stdout",
     "output_type": "stream",
     "text": [
      "Saved  제7회 전북연맹회장배 전국 스쿼시 선수권 대회 준준결승경기３ 안은찬 송선미\n",
      "Saved  제7회 전북연맹회장배 전국 스쿼시 선수권 대회 준준결승경기４ 권성은 오성령\n"
     ]
    },
    {
     "name": "stderr",
     "output_type": "stream",
     "text": [
      " 15%|█▍        | 269/1813 [38:41<3:18:42,  7.72s/it]"
     ]
    },
    {
     "name": "stdout",
     "output_type": "stream",
     "text": [
      "Saved  제7회 전북연맹회장배 전국 스쿼시 선수권 대회 준결승경기１ 박은옥 배찬미\n"
     ]
    },
    {
     "name": "stderr",
     "output_type": "stream",
     "text": [
      " 15%|█▍        | 270/1813 [38:56<4:13:33,  9.86s/it]"
     ]
    },
    {
     "name": "stdout",
     "output_type": "stream",
     "text": [
      "Saved  제7회 전북연맹회장배 전국 스쿼시 선수권 대회 준결승경기２ 송선미 오성령\n"
     ]
    },
    {
     "name": "stderr",
     "output_type": "stream",
     "text": [
      " 15%|█▍        | 271/1813 [39:03<3:51:02,  8.99s/it]"
     ]
    },
    {
     "name": "stdout",
     "output_type": "stream",
     "text": [
      "Saved  제7회 전북연맹회장배 전국 스쿼시 선수권 대회 결승 박은옥 송선미\n"
     ]
    },
    {
     "name": "stderr",
     "output_type": "stream",
     "text": [
      " 15%|█▌        | 272/1813 [39:10<3:34:44,  8.36s/it]"
     ]
    },
    {
     "name": "stdout",
     "output_type": "stream",
     "text": [
      "Saved  제7회 전북연맹회장배 전국 스쿼시 선수권 대회 예선경기２ 강현우 박준하\n",
      "Saved  제7회 전북연맹회장배 전국 스쿼시 선수권 대회 예선경기３ 강치우 장은준\n"
     ]
    },
    {
     "name": "stderr",
     "output_type": "stream",
     "text": [
      " 15%|█▌        | 274/1813 [39:24<3:14:22,  7.58s/it]"
     ]
    },
    {
     "name": "stdout",
     "output_type": "stream",
     "text": [
      "Saved  제7회 전북연맹회장배 전국 스쿼시 선수권 대회 준결승경기１ 장수혁 박준하\n"
     ]
    },
    {
     "name": "stderr",
     "output_type": "stream",
     "text": [
      " 15%|█▌        | 275/1813 [39:31<3:08:42,  7.36s/it]"
     ]
    },
    {
     "name": "stdout",
     "output_type": "stream",
     "text": [
      "Saved  제7회 전북연맹회장배 전국 스쿼시 선수권 대회 준결승경기２ 장은준 김지환\n"
     ]
    },
    {
     "name": "stderr",
     "output_type": "stream",
     "text": [
      " 15%|█▌        | 276/1813 [39:47<4:21:31, 10.21s/it]"
     ]
    },
    {
     "name": "stdout",
     "output_type": "stream",
     "text": [
      "Saved  제7회 전북연맹회장배 전국 스쿼시 선수권 대회 결승 장수혁 김지환\n"
     ]
    },
    {
     "name": "stderr",
     "output_type": "stream",
     "text": [
      " 15%|█▌        | 277/1813 [39:55<3:57:25,  9.27s/it]"
     ]
    },
    {
     "name": "stdout",
     "output_type": "stream",
     "text": [
      "Saved  제7회 전북연맹회장배 전국 스쿼시 선수권 대회 예선경기２ 이상지 김정원\n"
     ]
    },
    {
     "name": "stderr",
     "output_type": "stream",
     "text": [
      " 15%|█▌        | 278/1813 [40:01<3:38:58,  8.56s/it]"
     ]
    },
    {
     "name": "stdout",
     "output_type": "stream",
     "text": [
      "Saved  제7회 전북연맹회장배 전국 스쿼시 선수권 대회 예선경기１５ 김석진 구성진\n"
     ]
    },
    {
     "name": "stderr",
     "output_type": "stream",
     "text": [
      " 15%|█▌        | 279/1813 [40:08<3:26:42,  8.09s/it]"
     ]
    },
    {
     "name": "stdout",
     "output_type": "stream",
     "text": [
      "Saved  제7회 전북연맹회장배 전국 스쿼시 선수권 대회 준준준결승경기１ 이인우 이상지\n"
     ]
    },
    {
     "name": "stderr",
     "output_type": "stream",
     "text": [
      " 15%|█▌        | 280/1813 [40:16<3:19:18,  7.80s/it]"
     ]
    },
    {
     "name": "stdout",
     "output_type": "stream",
     "text": [
      "Saved  제7회 전북연맹회장배 전국 스쿼시 선수권 대회 준준준결승경기２ 강현범 김남경\n"
     ]
    },
    {
     "name": "stderr",
     "output_type": "stream",
     "text": [
      " 15%|█▌        | 281/1813 [40:31<4:17:35, 10.09s/it]"
     ]
    },
    {
     "name": "stdout",
     "output_type": "stream",
     "text": [
      "Saved  제7회 전북연맹회장배 전국 스쿼시 선수권 대회 준준준결승경기４ 김대운 양재혁\n"
     ]
    },
    {
     "name": "stderr",
     "output_type": "stream",
     "text": [
      " 16%|█▌        | 282/1813 [40:39<4:03:12,  9.53s/it]"
     ]
    },
    {
     "name": "stdout",
     "output_type": "stream",
     "text": [
      "Saved  제7회 전북연맹회장배 전국 스쿼시 선수권 대회 준준준결승경기５ 임주찬 이용정\n"
     ]
    },
    {
     "name": "stderr",
     "output_type": "stream",
     "text": [
      " 16%|█▌        | 283/1813 [40:46<3:43:48,  8.78s/it]"
     ]
    },
    {
     "name": "stdout",
     "output_type": "stream",
     "text": [
      "Saved  제7회 전북연맹회장배 전국 스쿼시 선수권 대회 준준준결승경기６ 이동민 박성찬\n",
      "Saved  제7회 전북연맹회장배 전국 스쿼시 선수권 대회 준준준결승경기７ 신경훈 오현민\n"
     ]
    },
    {
     "name": "stderr",
     "output_type": "stream",
     "text": [
      " 16%|█▌        | 285/1813 [41:00<3:22:18,  7.94s/it]"
     ]
    },
    {
     "name": "stdout",
     "output_type": "stream",
     "text": [
      "Saved  제7회 전북연맹회장배 전국 스쿼시 선수권 대회 준준준결승경기８ 김석진 황수연\n"
     ]
    },
    {
     "name": "stderr",
     "output_type": "stream",
     "text": [
      " 16%|█▌        | 286/1813 [41:07<3:14:13,  7.63s/it]"
     ]
    },
    {
     "name": "stdout",
     "output_type": "stream",
     "text": [
      "Saved  제7회 전북연맹회장배 전국 스쿼시 선수권 대회 준준결승경기１ 이인우 강현범\n"
     ]
    },
    {
     "name": "stderr",
     "output_type": "stream",
     "text": [
      " 16%|█▌        | 287/1813 [41:24<4:24:27, 10.40s/it]"
     ]
    },
    {
     "name": "stdout",
     "output_type": "stream",
     "text": [
      "Saved  제7회 전북연맹회장배 전국 스쿼시 선수권 대회 준준결승경기２ 이현준 김대운\n"
     ]
    },
    {
     "name": "stderr",
     "output_type": "stream",
     "text": [
      " 16%|█▌        | 288/1813 [41:31<3:57:55,  9.36s/it]"
     ]
    },
    {
     "name": "stdout",
     "output_type": "stream",
     "text": [
      "Saved  제7회 전북연맹회장배 전국 스쿼시 선수권 대회 준준결승경기３ 이용정 박성찬\n"
     ]
    },
    {
     "name": "stderr",
     "output_type": "stream",
     "text": [
      " 16%|█▌        | 289/1813 [41:38<3:38:48,  8.61s/it]"
     ]
    },
    {
     "name": "stdout",
     "output_type": "stream",
     "text": [
      "Saved  제7회 전북연맹회장배 전국 스쿼시 선수권 대회 준준결승경기４ 오현민 김석진\n"
     ]
    },
    {
     "name": "stderr",
     "output_type": "stream",
     "text": [
      " 16%|█▌        | 290/1813 [41:47<3:40:33,  8.69s/it]"
     ]
    },
    {
     "name": "stdout",
     "output_type": "stream",
     "text": [
      "Saved  제7회 전북연맹회장배 전국 스쿼시 선수권 대회 준결승경기１ 이인우 이현준\n"
     ]
    },
    {
     "name": "stderr",
     "output_type": "stream",
     "text": [
      " 16%|█▌        | 291/1813 [41:54<3:26:30,  8.14s/it]"
     ]
    },
    {
     "name": "stdout",
     "output_type": "stream",
     "text": [
      "Saved  제7회 전북연맹회장배 전국 스쿼시 선수권 대회 준결승경기２ 박성찬 오현민\n"
     ]
    },
    {
     "name": "stderr",
     "output_type": "stream",
     "text": [
      " 16%|█▌        | 292/1813 [42:09<4:16:57, 10.14s/it]"
     ]
    },
    {
     "name": "stdout",
     "output_type": "stream",
     "text": [
      "Saved  제7회 전북연맹회장배 전국 스쿼시 선수권 대회 결승 이인우 박성찬\n"
     ]
    },
    {
     "name": "stderr",
     "output_type": "stream",
     "text": [
      " 16%|█▌        | 293/1813 [42:16<3:52:51,  9.19s/it]"
     ]
    },
    {
     "name": "stdout",
     "output_type": "stream",
     "text": [
      "Saved  제7회 전북연맹회장배 전국 스쿼시 선수권 대회 예선경기２ 송동주 송채원\n"
     ]
    },
    {
     "name": "stderr",
     "output_type": "stream",
     "text": [
      " 16%|█▌        | 294/1813 [42:22<3:34:22,  8.47s/it]"
     ]
    },
    {
     "name": "stdout",
     "output_type": "stream",
     "text": [
      "Saved  제7회 전북연맹회장배 전국 스쿼시 선수권 대회 예선경기３ 곽다연 최유주\n"
     ]
    },
    {
     "name": "stderr",
     "output_type": "stream",
     "text": [
      " 16%|█▋        | 295/1813 [42:29<3:22:59,  8.02s/it]"
     ]
    },
    {
     "name": "stdout",
     "output_type": "stream",
     "text": [
      "Saved  제7회 전북연맹회장배 전국 스쿼시 선수권 대회 예선경기４ 조민영 오승희\n"
     ]
    },
    {
     "name": "stderr",
     "output_type": "stream",
     "text": [
      " 16%|█▋        | 296/1813 [42:36<3:14:52,  7.71s/it]"
     ]
    },
    {
     "name": "stdout",
     "output_type": "stream",
     "text": [
      "Saved  제7회 전북연맹회장배 전국 스쿼시 선수권 대회 준결승경기１ 홍서경 송동주\n"
     ]
    },
    {
     "name": "stderr",
     "output_type": "stream",
     "text": [
      " 16%|█▋        | 297/1813 [42:51<4:09:06,  9.86s/it]"
     ]
    },
    {
     "name": "stdout",
     "output_type": "stream",
     "text": [
      "Saved  제7회 전북연맹회장배 전국 스쿼시 선수권 대회 준결승경기２ 최유주 오승희\n"
     ]
    },
    {
     "name": "stderr",
     "output_type": "stream",
     "text": [
      " 16%|█▋        | 298/1813 [42:58<3:46:31,  8.97s/it]"
     ]
    },
    {
     "name": "stdout",
     "output_type": "stream",
     "text": [
      "Saved  제7회 전북연맹회장배 전국 스쿼시 선수권 대회 결승 송동주 최유주\n"
     ]
    },
    {
     "name": "stderr",
     "output_type": "stream",
     "text": [
      " 16%|█▋        | 299/1813 [43:05<3:30:21,  8.34s/it]"
     ]
    },
    {
     "name": "stdout",
     "output_type": "stream",
     "text": [
      "Saved  제10회 회장배 전국 학생 스쿼시선수권대회 예선경기２ 오성학 최동진\n"
     ]
    },
    {
     "name": "stderr",
     "output_type": "stream",
     "text": [
      " 17%|█▋        | 300/1813 [43:12<3:20:12,  7.94s/it]"
     ]
    },
    {
     "name": "stdout",
     "output_type": "stream",
     "text": [
      "Saved  제10회 회장배 전국 학생 스쿼시선수권대회 예선경기３ 박준현 탁형진\n"
     ]
    },
    {
     "name": "stderr",
     "output_type": "stream",
     "text": [
      " 17%|█▋        | 301/1813 [43:19<3:13:37,  7.68s/it]"
     ]
    },
    {
     "name": "stdout",
     "output_type": "stream",
     "text": [
      "Saved  제10회 회장배 전국 학생 스쿼시선수권대회 예선경기４ 장준영 박요한\n"
     ]
    },
    {
     "name": "stderr",
     "output_type": "stream",
     "text": [
      " 17%|█▋        | 302/1813 [43:26<3:09:06,  7.51s/it]"
     ]
    },
    {
     "name": "stdout",
     "output_type": "stream",
     "text": [
      "Saved  제10회 회장배 전국 학생 스쿼시선수권대회 예선경기６ 박병국 장홍현\n"
     ]
    },
    {
     "name": "stderr",
     "output_type": "stream",
     "text": [
      " 17%|█▋        | 303/1813 [43:43<4:20:35, 10.35s/it]"
     ]
    },
    {
     "name": "stdout",
     "output_type": "stream",
     "text": [
      "Saved  제10회 회장배 전국 학생 스쿼시선수권대회 예선경기７ 유성연 이승훈\n"
     ]
    },
    {
     "name": "stderr",
     "output_type": "stream",
     "text": [
      " 17%|█▋        | 304/1813 [43:50<3:56:36,  9.41s/it]"
     ]
    },
    {
     "name": "stdout",
     "output_type": "stream",
     "text": [
      "Saved  제10회 회장배 전국 학생 스쿼시선수권대회 준준결승경기１ 고영조 오성학\n"
     ]
    },
    {
     "name": "stderr",
     "output_type": "stream",
     "text": [
      " 17%|█▋        | 305/1813 [43:57<3:37:32,  8.66s/it]"
     ]
    },
    {
     "name": "stdout",
     "output_type": "stream",
     "text": [
      "Saved  제10회 회장배 전국 학생 스쿼시선수권대회 준준결승경기２ 탁형진 박요한\n"
     ]
    },
    {
     "name": "stderr",
     "output_type": "stream",
     "text": [
      " 17%|█▋        | 306/1813 [44:04<3:25:11,  8.17s/it]"
     ]
    },
    {
     "name": "stdout",
     "output_type": "stream",
     "text": [
      "Saved  제10회 회장배 전국 학생 스쿼시선수권대회 준준결승경기３ 오준혁 박병국\n"
     ]
    },
    {
     "name": "stderr",
     "output_type": "stream",
     "text": [
      " 17%|█▋        | 307/1813 [44:11<3:15:38,  7.79s/it]"
     ]
    },
    {
     "name": "stdout",
     "output_type": "stream",
     "text": [
      "Saved  제10회 회장배 전국 학생 스쿼시선수권대회 준준결승경기４ 이승훈 김예일\n"
     ]
    },
    {
     "name": "stderr",
     "output_type": "stream",
     "text": [
      " 17%|█▋        | 308/1813 [44:26<4:09:11,  9.93s/it]"
     ]
    },
    {
     "name": "stdout",
     "output_type": "stream",
     "text": [
      "Saved  제10회 회장배 전국 학생 스쿼시선수권대회 준결승경기１ 고영조 탁형진\n"
     ]
    },
    {
     "name": "stderr",
     "output_type": "stream",
     "text": [
      " 17%|█▋        | 309/1813 [44:33<3:47:40,  9.08s/it]"
     ]
    },
    {
     "name": "stdout",
     "output_type": "stream",
     "text": [
      "Saved  제10회 회장배 전국 학생 스쿼시선수권대회 준결승경기２ 박병국 이승훈\n",
      "Saved  제10회 회장배 전국 학생 스쿼시선수권대회 결승 고영조 이승훈\n"
     ]
    },
    {
     "name": "stderr",
     "output_type": "stream",
     "text": [
      " 17%|█▋        | 311/1813 [44:47<3:21:53,  8.07s/it]"
     ]
    },
    {
     "name": "stdout",
     "output_type": "stream",
     "text": [
      "Saved  제10회 회장배 전국 학생 스쿼시선수권대회 예선경기２ 김성집 김재완\n"
     ]
    },
    {
     "name": "stderr",
     "output_type": "stream",
     "text": [
      " 17%|█▋        | 312/1813 [44:54<3:13:32,  7.74s/it]"
     ]
    },
    {
     "name": "stdout",
     "output_type": "stream",
     "text": [
      "Saved  제10회 회장배 전국 학생 스쿼시선수권대회 예선경기３ 강석환 유재진\n"
     ]
    },
    {
     "name": "stderr",
     "output_type": "stream",
     "text": [
      " 17%|█▋        | 313/1813 [45:09<4:08:30,  9.94s/it]"
     ]
    },
    {
     "name": "stdout",
     "output_type": "stream",
     "text": [
      "Saved  제10회 회장배 전국 학생 스쿼시선수권대회 예선경기６ 이승호 윤병민\n"
     ]
    },
    {
     "name": "stderr",
     "output_type": "stream",
     "text": [
      " 17%|█▋        | 314/1813 [45:16<3:46:05,  9.05s/it]"
     ]
    },
    {
     "name": "stdout",
     "output_type": "stream",
     "text": [
      "Saved  제10회 회장배 전국 학생 스쿼시선수권대회 예선경기７ 한승철 김현준\n"
     ]
    },
    {
     "name": "stderr",
     "output_type": "stream",
     "text": [
      " 17%|█▋        | 315/1813 [45:26<3:49:20,  9.19s/it]"
     ]
    },
    {
     "name": "stdout",
     "output_type": "stream",
     "text": [
      "Saved  제10회 회장배 전국 학생 스쿼시선수권대회 준준결승경기１ 진승우 김성집\n"
     ]
    },
    {
     "name": "stderr",
     "output_type": "stream",
     "text": [
      " 17%|█▋        | 316/1813 [45:35<3:50:00,  9.22s/it]"
     ]
    },
    {
     "name": "stdout",
     "output_type": "stream",
     "text": [
      "Saved  제10회 회장배 전국 학생 스쿼시선수권대회 준준결승경기２ 유재진 강보성\n"
     ]
    },
    {
     "name": "stderr",
     "output_type": "stream",
     "text": [
      " 17%|█▋        | 317/1813 [45:42<3:32:46,  8.53s/it]"
     ]
    },
    {
     "name": "stdout",
     "output_type": "stream",
     "text": [
      "Saved  제10회 회장배 전국 학생 스쿼시선수권대회 준준결승경기３ 박종명 이승호\n",
      "Saved  제10회 회장배 전국 학생 스쿼시선수권대회 준준결승경기４ 한승철 황중찬\n"
     ]
    },
    {
     "name": "stderr",
     "output_type": "stream",
     "text": [
      " 18%|█▊        | 319/1813 [46:06<4:29:40, 10.83s/it]"
     ]
    },
    {
     "name": "stdout",
     "output_type": "stream",
     "text": [
      "Saved  제10회 회장배 전국 학생 스쿼시선수권대회 준결승경기１ 진승우 유재진\n"
     ]
    },
    {
     "name": "stderr",
     "output_type": "stream",
     "text": [
      " 18%|█▊        | 320/1813 [46:13<3:58:55,  9.60s/it]"
     ]
    },
    {
     "name": "stdout",
     "output_type": "stream",
     "text": [
      "Saved  제10회 회장배 전국 학생 스쿼시선수권대회 준결승경기２ 박종명 한승철\n"
     ]
    },
    {
     "name": "stderr",
     "output_type": "stream",
     "text": [
      " 18%|█▊        | 321/1813 [46:20<3:38:11,  8.77s/it]"
     ]
    },
    {
     "name": "stdout",
     "output_type": "stream",
     "text": [
      "Saved  제10회 회장배 전국 학생 스쿼시선수권대회 결승 진승우 박종명\n"
     ]
    },
    {
     "name": "stderr",
     "output_type": "stream",
     "text": [
      " 18%|█▊        | 322/1813 [46:27<3:23:03,  8.17s/it]"
     ]
    },
    {
     "name": "stdout",
     "output_type": "stream",
     "text": [
      "Saved  제10회 회장배 전국 학생 스쿼시선수권대회 예선경기２ 최누리 김기한\n"
     ]
    },
    {
     "name": "stderr",
     "output_type": "stream",
     "text": [
      " 18%|█▊        | 323/1813 [46:34<3:15:54,  7.89s/it]"
     ]
    },
    {
     "name": "stdout",
     "output_type": "stream",
     "text": [
      "Saved  제10회 회장배 전국 학생 스쿼시선수권대회 예선경기３ 김선희 허민경\n"
     ]
    },
    {
     "name": "stderr",
     "output_type": "stream",
     "text": [
      " 18%|█▊        | 324/1813 [46:49<4:11:02, 10.12s/it]"
     ]
    },
    {
     "name": "stdout",
     "output_type": "stream",
     "text": [
      "Saved  제10회 회장배 전국 학생 스쿼시선수권대회 예선경기７ 장유진 백지은\n"
     ]
    },
    {
     "name": "stderr",
     "output_type": "stream",
     "text": [
      " 18%|█▊        | 325/1813 [46:57<3:49:43,  9.26s/it]"
     ]
    },
    {
     "name": "stdout",
     "output_type": "stream",
     "text": [
      "Saved  제10회 회장배 전국 학생 스쿼시선수권대회 준준결승경기１ 안예진 김기한\n",
      "Saved  제10회 회장배 전국 학생 스쿼시선수권대회 준준결승경기２ 김선희 황하윤\n"
     ]
    },
    {
     "name": "stderr",
     "output_type": "stream",
     "text": [
      " 18%|█▊        | 326/1813 [47:04<3:32:28,  8.57s/it]"
     ]
    },
    {
     "name": "stdout",
     "output_type": "stream",
     "text": [
      "Saved  제10회 회장배 전국 학생 스쿼시선수권대회 준준결승경기３ 엄화영 박은희\n"
     ]
    },
    {
     "name": "stderr",
     "output_type": "stream",
     "text": [
      " 18%|█▊        | 328/1813 [47:18<3:15:11,  7.89s/it]"
     ]
    },
    {
     "name": "stdout",
     "output_type": "stream",
     "text": [
      "Saved  제10회 회장배 전국 학생 스쿼시선수권대회 준준결승경기４ 장유진 김미진\n"
     ]
    },
    {
     "name": "stderr",
     "output_type": "stream",
     "text": [
      " 18%|█▊        | 329/1813 [47:33<4:07:02,  9.99s/it]"
     ]
    },
    {
     "name": "stdout",
     "output_type": "stream",
     "text": [
      "Saved  제10회 회장배 전국 학생 스쿼시선수권대회 준결승경기１ 안예진 김선희\n"
     ]
    },
    {
     "name": "stderr",
     "output_type": "stream",
     "text": [
      " 18%|█▊        | 330/1813 [47:40<3:44:33,  9.09s/it]"
     ]
    },
    {
     "name": "stdout",
     "output_type": "stream",
     "text": [
      "Saved  제10회 회장배 전국 학생 스쿼시선수권대회 준결승경기２ 엄화영 김미진\n"
     ]
    },
    {
     "name": "stderr",
     "output_type": "stream",
     "text": [
      " 18%|█▊        | 331/1813 [47:47<3:27:01,  8.38s/it]"
     ]
    },
    {
     "name": "stdout",
     "output_type": "stream",
     "text": [
      "Saved  제10회 회장배 전국 학생 스쿼시선수권대회 결승 안예진 김미진\n"
     ]
    },
    {
     "name": "stderr",
     "output_type": "stream",
     "text": [
      " 18%|█▊        | 332/1813 [47:53<3:15:11,  7.91s/it]"
     ]
    },
    {
     "name": "stdout",
     "output_type": "stream",
     "text": [
      "Saved  제10회 회장배 전국 학생 스쿼시선수권대회 예선경기１ 최유라 장유빈\n"
     ]
    },
    {
     "name": "stderr",
     "output_type": "stream",
     "text": [
      " 18%|█▊        | 333/1813 [48:00<3:07:12,  7.59s/it]"
     ]
    },
    {
     "name": "stdout",
     "output_type": "stream",
     "text": [
      "Saved  제10회 회장배 전국 학생 스쿼시선수권대회 예선경기２ 이지현 김상미\n"
     ]
    },
    {
     "name": "stderr",
     "output_type": "stream",
     "text": [
      " 18%|█▊        | 334/1813 [48:07<3:01:39,  7.37s/it]"
     ]
    },
    {
     "name": "stdout",
     "output_type": "stream",
     "text": [
      "Saved  제10회 회장배 전국 학생 스쿼시선수권대회 결승 최유라 이지현\n"
     ]
    },
    {
     "name": "stderr",
     "output_type": "stream",
     "text": [
      " 18%|█▊        | 335/1813 [48:24<4:12:55, 10.27s/it]"
     ]
    },
    {
     "name": "stdout",
     "output_type": "stream",
     "text": [
      "Saved  제10회 회장배 전국 학생 스쿼시선수권대회 예선경기２ 강현우 박준하\n"
     ]
    },
    {
     "name": "stderr",
     "output_type": "stream",
     "text": [
      " 19%|█▊        | 336/1813 [48:31<3:50:07,  9.35s/it]"
     ]
    },
    {
     "name": "stdout",
     "output_type": "stream",
     "text": [
      "Saved  제10회 회장배 전국 학생 스쿼시선수권대회 예선경기３ 장은준 이승재\n"
     ]
    },
    {
     "name": "stderr",
     "output_type": "stream",
     "text": [
      " 19%|█▊        | 337/1813 [48:39<3:33:42,  8.69s/it]"
     ]
    },
    {
     "name": "stdout",
     "output_type": "stream",
     "text": [
      "Saved  제10회 회장배 전국 학생 스쿼시선수권대회 예선경기４ 강치우 박인훈\n"
     ]
    },
    {
     "name": "stderr",
     "output_type": "stream",
     "text": [
      " 19%|█▊        | 338/1813 [48:45<3:20:23,  8.15s/it]"
     ]
    },
    {
     "name": "stdout",
     "output_type": "stream",
     "text": [
      "Saved  제10회 회장배 전국 학생 스쿼시선수권대회 예선경기６ 김태민 KIM HAN\n"
     ]
    },
    {
     "name": "stderr",
     "output_type": "stream",
     "text": [
      " 19%|█▊        | 339/1813 [48:54<3:26:24,  8.40s/it]"
     ]
    },
    {
     "name": "stdout",
     "output_type": "stream",
     "text": [
      "Saved  제10회 회장배 전국 학생 스쿼시선수권대회 예선경기７ 공민서 김지환\n"
     ]
    },
    {
     "name": "stderr",
     "output_type": "stream",
     "text": [
      " 19%|█▉        | 340/1813 [49:09<4:13:56, 10.34s/it]"
     ]
    },
    {
     "name": "stdout",
     "output_type": "stream",
     "text": [
      "Saved  제10회 회장배 전국 학생 스쿼시선수권대회 준준결승경기１ 장수혁 박준하\n"
     ]
    },
    {
     "name": "stderr",
     "output_type": "stream",
     "text": [
      " 19%|█▉        | 341/1813 [49:16<3:49:16,  9.35s/it]"
     ]
    },
    {
     "name": "stdout",
     "output_type": "stream",
     "text": [
      "Saved  제10회 회장배 전국 학생 스쿼시선수권대회 준준결승경기２ 장은준 박인훈\n"
     ]
    },
    {
     "name": "stderr",
     "output_type": "stream",
     "text": [
      " 19%|█▉        | 342/1813 [49:23<3:31:01,  8.61s/it]"
     ]
    },
    {
     "name": "stdout",
     "output_type": "stream",
     "text": [
      "Saved  제10회 회장배 전국 학생 스쿼시선수권대회 준준결승경기３ 임재혁 KIM HAN\n"
     ]
    },
    {
     "name": "stderr",
     "output_type": "stream",
     "text": [
      " 19%|█▉        | 343/1813 [49:30<3:17:07,  8.05s/it]"
     ]
    },
    {
     "name": "stdout",
     "output_type": "stream",
     "text": [
      "Saved  제10회 회장배 전국 학생 스쿼시선수권대회 준준결승경기４ 김지환 이재형\n"
     ]
    },
    {
     "name": "stderr",
     "output_type": "stream",
     "text": [
      " 19%|█▉        | 344/1813 [49:39<3:22:38,  8.28s/it]"
     ]
    },
    {
     "name": "stdout",
     "output_type": "stream",
     "text": [
      "Saved  제10회 회장배 전국 학생 스쿼시선수권대회 준결승경기１ 장수혁 장은준\n"
     ]
    },
    {
     "name": "stderr",
     "output_type": "stream",
     "text": [
      " 19%|█▉        | 345/1813 [49:47<3:26:13,  8.43s/it]"
     ]
    },
    {
     "name": "stdout",
     "output_type": "stream",
     "text": [
      "Saved  제10회 회장배 전국 학생 스쿼시선수권대회 준결승경기２ KIM HAN 김지환\n",
      "Saved  제10회 회장배 전국 학생 스쿼시선수권대회 결승 장수혁 김지환\n"
     ]
    },
    {
     "name": "stderr",
     "output_type": "stream",
     "text": [
      " 19%|█▉        | 347/1813 [50:15<4:28:04, 10.97s/it]"
     ]
    },
    {
     "name": "stdout",
     "output_type": "stream",
     "text": [
      "Saved  제10회 회장배 전국 학생 스쿼시선수권대회 예선경기２ 임주찬 김남경\n"
     ]
    },
    {
     "name": "stderr",
     "output_type": "stream",
     "text": [
      " 19%|█▉        | 348/1813 [50:27<4:32:04, 11.14s/it]"
     ]
    },
    {
     "name": "stdout",
     "output_type": "stream",
     "text": [
      "Saved  제10회 회장배 전국 학생 스쿼시선수권대회 준준준결승경기２ 이용정 오수현\n"
     ]
    },
    {
     "name": "stderr",
     "output_type": "stream",
     "text": [
      " 19%|█▉        | 349/1813 [50:35<4:05:31, 10.06s/it]"
     ]
    },
    {
     "name": "stdout",
     "output_type": "stream",
     "text": [
      "Saved  제10회 회장배 전국 학생 스쿼시선수권대회 준준준결승경기３ 김대운 김정원\n",
      "Saved  제10회 회장배 전국 학생 스쿼시선수권대회 준준준결승경기４ 김석진 황수연\n"
     ]
    },
    {
     "name": "stderr",
     "output_type": "stream",
     "text": [
      " 19%|█▉        | 351/1813 [51:08<5:28:53, 13.50s/it]"
     ]
    },
    {
     "name": "stdout",
     "output_type": "stream",
     "text": [
      "Saved  제10회 회장배 전국 학생 스쿼시선수권대회 준준준결승경기５ 임태섭 이현준\n"
     ]
    },
    {
     "name": "stderr",
     "output_type": "stream",
     "text": [
      " 19%|█▉        | 352/1813 [51:15<4:40:55, 11.54s/it]"
     ]
    },
    {
     "name": "stdout",
     "output_type": "stream",
     "text": [
      "Saved  제10회 회장배 전국 학생 스쿼시선수권대회 준준준결승경기６ 탁효진 오현민\n"
     ]
    },
    {
     "name": "stderr",
     "output_type": "stream",
     "text": [
      " 19%|█▉        | 353/1813 [51:22<4:06:08, 10.12s/it]"
     ]
    },
    {
     "name": "stdout",
     "output_type": "stream",
     "text": [
      "Saved  제10회 회장배 전국 학생 스쿼시선수권대회 준준준결승경기７ 강현범 구성진\n"
     ]
    },
    {
     "name": "stderr",
     "output_type": "stream",
     "text": [
      " 20%|█▉        | 354/1813 [51:29<3:43:32,  9.19s/it]"
     ]
    },
    {
     "name": "stdout",
     "output_type": "stream",
     "text": [
      "Saved  제10회 회장배 전국 학생 스쿼시선수권대회 준준준결승경기８ 양재혁 박성찬\n"
     ]
    },
    {
     "name": "stderr",
     "output_type": "stream",
     "text": [
      " 20%|█▉        | 355/1813 [51:36<3:26:13,  8.49s/it]"
     ]
    },
    {
     "name": "stdout",
     "output_type": "stream",
     "text": [
      "Saved  제10회 회장배 전국 학생 스쿼시선수권대회 준준준결승경기１ 류한동 김남경\n"
     ]
    },
    {
     "name": "stderr",
     "output_type": "stream",
     "text": [
      " 20%|█▉        | 356/1813 [51:42<3:15:10,  8.04s/it]"
     ]
    },
    {
     "name": "stdout",
     "output_type": "stream",
     "text": [
      "Saved  제10회 회장배 전국 학생 스쿼시선수권대회 준준결승경기１ 류한동 오수현\n"
     ]
    },
    {
     "name": "stderr",
     "output_type": "stream",
     "text": [
      " 20%|█▉        | 357/1813 [51:59<4:18:48, 10.67s/it]"
     ]
    },
    {
     "name": "stdout",
     "output_type": "stream",
     "text": [
      "Saved  제10회 회장배 전국 학생 스쿼시선수권대회 준준결승경기２ 김대운 황수연\n"
     ]
    },
    {
     "name": "stderr",
     "output_type": "stream",
     "text": [
      " 20%|█▉        | 358/1813 [52:07<3:54:01,  9.65s/it]"
     ]
    },
    {
     "name": "stdout",
     "output_type": "stream",
     "text": [
      "Saved  제10회 회장배 전국 학생 스쿼시선수권대회 준준결승경기３ 이현준 탁효진\n"
     ]
    },
    {
     "name": "stderr",
     "output_type": "stream",
     "text": [
      " 20%|█▉        | 359/1813 [52:13<3:32:43,  8.78s/it]"
     ]
    },
    {
     "name": "stdout",
     "output_type": "stream",
     "text": [
      "Saved  제10회 회장배 전국 학생 스쿼시선수권대회 준준결승경기４ 강현범 박성찬\n"
     ]
    },
    {
     "name": "stderr",
     "output_type": "stream",
     "text": [
      " 20%|█▉        | 360/1813 [52:20<3:19:35,  8.24s/it]"
     ]
    },
    {
     "name": "stdout",
     "output_type": "stream",
     "text": [
      "Saved  제10회 회장배 전국 학생 스쿼시선수권대회 준결승경기１ 류한동 황수연\n"
     ]
    },
    {
     "name": "stderr",
     "output_type": "stream",
     "text": [
      " 20%|█▉        | 361/1813 [52:27<3:08:54,  7.81s/it]"
     ]
    },
    {
     "name": "stdout",
     "output_type": "stream",
     "text": [
      "Saved  제10회 회장배 전국 학생 스쿼시선수권대회 준결승경기２ 탁효진 박성찬\n"
     ]
    },
    {
     "name": "stderr",
     "output_type": "stream",
     "text": [
      " 20%|█▉        | 362/1813 [52:42<4:00:01,  9.92s/it]"
     ]
    },
    {
     "name": "stdout",
     "output_type": "stream",
     "text": [
      "Saved  제10회 회장배 전국 학생 스쿼시선수권대회 결승 류한동 박성찬\n"
     ]
    },
    {
     "name": "stderr",
     "output_type": "stream",
     "text": [
      " 20%|██        | 363/1813 [52:49<3:38:41,  9.05s/it]"
     ]
    },
    {
     "name": "stdout",
     "output_type": "stream",
     "text": [
      "Saved  제10회 회장배 전국 학생 스쿼시선수권대회 예선경기２ 오승희 김규리\n"
     ]
    },
    {
     "name": "stderr",
     "output_type": "stream",
     "text": [
      " 20%|██        | 364/1813 [52:56<3:22:23,  8.38s/it]"
     ]
    },
    {
     "name": "stdout",
     "output_type": "stream",
     "text": [
      "Saved  제10회 회장배 전국 학생 스쿼시선수권대회 예선경기３ 송동주 송채원\n"
     ]
    },
    {
     "name": "stderr",
     "output_type": "stream",
     "text": [
      " 20%|██        | 365/1813 [53:03<3:11:55,  7.95s/it]"
     ]
    },
    {
     "name": "stdout",
     "output_type": "stream",
     "text": [
      "Saved  제10회 회장배 전국 학생 스쿼시선수권대회 준결승경기１ 최유주 오승희\n",
      "Saved  제10회 회장배 전국 학생 스쿼시선수권대회 준결승경기２ 송동주 박지연\n"
     ]
    },
    {
     "name": "stderr",
     "output_type": "stream",
     "text": [
      " 20%|██        | 367/1813 [53:29<4:22:35, 10.90s/it]"
     ]
    },
    {
     "name": "stdout",
     "output_type": "stream",
     "text": [
      "Saved  제10회 회장배 전국 학생 스쿼시선수권대회 결승 최유주 송동주\n"
     ]
    },
    {
     "name": "stderr",
     "output_type": "stream",
     "text": [
      " 20%|██        | 368/1813 [53:36<3:54:05,  9.72s/it]"
     ]
    },
    {
     "name": "stdout",
     "output_type": "stream",
     "text": [
      "Saved  제9회 대한체육회장배 전국 스쿼시 선수권 대회 예선경기２ 장홍현 배연우\n"
     ]
    },
    {
     "name": "stderr",
     "output_type": "stream",
     "text": [
      " 20%|██        | 369/1813 [53:43<3:32:42,  8.84s/it]"
     ]
    },
    {
     "name": "stdout",
     "output_type": "stream",
     "text": [
      "Saved  제9회 대한체육회장배 전국 스쿼시 선수권 대회 예선경기７ 김찬희 박정식\n"
     ]
    },
    {
     "name": "stderr",
     "output_type": "stream",
     "text": [
      " 20%|██        | 370/1813 [53:49<3:18:38,  8.26s/it]"
     ]
    },
    {
     "name": "stdout",
     "output_type": "stream",
     "text": [
      "Saved  제9회 대한체육회장배 전국 스쿼시 선수권 대회 예선경기１５ 이동현 탁형진\n"
     ]
    },
    {
     "name": "stderr",
     "output_type": "stream",
     "text": [
      " 20%|██        | 371/1813 [53:58<3:22:32,  8.43s/it]"
     ]
    },
    {
     "name": "stdout",
     "output_type": "stream",
     "text": [
      "Saved  제9회 대한체육회장배 전국 스쿼시 선수권 대회 예선경기１８ 김남정 강한준\n"
     ]
    },
    {
     "name": "stderr",
     "output_type": "stream",
     "text": [
      " 21%|██        | 372/1813 [54:05<3:11:57,  7.99s/it]"
     ]
    },
    {
     "name": "stdout",
     "output_type": "stream",
     "text": [
      "Saved  제9회 대한체육회장배 전국 스쿼시 선수권 대회 예선경기 23 최지우 유승범\n"
     ]
    },
    {
     "name": "stderr",
     "output_type": "stream",
     "text": [
      " 21%|██        | 373/1813 [54:22<4:16:16, 10.68s/it]"
     ]
    },
    {
     "name": "stdout",
     "output_type": "stream",
     "text": [
      "Saved  제9회 대한체육회장배 전국 스쿼시 선수권 대회 예선경기 26 장준영 신상용\n"
     ]
    },
    {
     "name": "stderr",
     "output_type": "stream",
     "text": [
      " 21%|██        | 374/1813 [54:29<3:48:54,  9.54s/it]"
     ]
    },
    {
     "name": "stdout",
     "output_type": "stream",
     "text": [
      "Saved  제9회 대한체육회장배 전국 스쿼시 선수권 대회 예선경기 31 이동준 최승열\n"
     ]
    },
    {
     "name": "stderr",
     "output_type": "stream",
     "text": [
      " 21%|██        | 375/1813 [54:36<3:30:28,  8.78s/it]"
     ]
    },
    {
     "name": "stdout",
     "output_type": "stream",
     "text": [
      "Saved  제9회 대한체육회장배 전국 스쿼시 선수권 대회 준준준준결승 1 유덕재 배연우\n"
     ]
    },
    {
     "name": "stderr",
     "output_type": "stream",
     "text": [
      " 21%|██        | 376/1813 [54:43<3:18:18,  8.28s/it]"
     ]
    },
    {
     "name": "stdout",
     "output_type": "stream",
     "text": [
      "Saved  제9회 대한체육회장배 전국 스쿼시 선수권 대회 준준준준결승 2 임지훈 박성준\n"
     ]
    },
    {
     "name": "stderr",
     "output_type": "stream",
     "text": [
      " 21%|██        | 377/1813 [54:50<3:10:20,  7.95s/it]"
     ]
    },
    {
     "name": "stdout",
     "output_type": "stream",
     "text": [
      "Saved  제9회 대한체육회장배 전국 스쿼시 선수권 대회 준준준준결승 3 양성훈 오성학\n"
     ]
    },
    {
     "name": "stderr",
     "output_type": "stream",
     "text": [
      " 21%|██        | 378/1813 [55:05<4:00:56, 10.07s/it]"
     ]
    },
    {
     "name": "stdout",
     "output_type": "stream",
     "text": [
      "Saved  제9회 대한체육회장배 전국 스쿼시 선수권 대회 준준준준결승 4 박정식 최동진\n"
     ]
    },
    {
     "name": "stderr",
     "output_type": "stream",
     "text": [
      " 21%|██        | 379/1813 [55:13<3:42:28,  9.31s/it]"
     ]
    },
    {
     "name": "stdout",
     "output_type": "stream",
     "text": [
      "Saved  제9회 대한체육회장배 전국 스쿼시 선수권 대회 준준준준결승 5 하재민 박병국\n"
     ]
    },
    {
     "name": "stderr",
     "output_type": "stream",
     "text": [
      " 21%|██        | 380/1813 [55:23<3:45:28,  9.44s/it]"
     ]
    },
    {
     "name": "stdout",
     "output_type": "stream",
     "text": [
      "Saved  제9회 대한체육회장배 전국 스쿼시 선수권 대회 준준준준결승 6 고영조 원종수\n"
     ]
    },
    {
     "name": "stderr",
     "output_type": "stream",
     "text": [
      " 21%|██        | 381/1813 [55:33<3:54:19,  9.82s/it]"
     ]
    },
    {
     "name": "stdout",
     "output_type": "stream",
     "text": [
      "Saved  제9회 대한체육회장배 전국 스쿼시 선수권 대회 준준준준결승 7 김현용 임도원\n"
     ]
    },
    {
     "name": "stderr",
     "output_type": "stream",
     "text": [
      " 21%|██        | 382/1813 [55:42<3:42:13,  9.32s/it]"
     ]
    },
    {
     "name": "stdout",
     "output_type": "stream",
     "text": [
      "Saved  제9회 대한체육회장배 전국 스쿼시 선수권 대회 준준준준결승 8 탁형진 김태규\n"
     ]
    },
    {
     "name": "stderr",
     "output_type": "stream",
     "text": [
      " 21%|██        | 383/1813 [55:58<4:36:29, 11.60s/it]"
     ]
    },
    {
     "name": "stdout",
     "output_type": "stream",
     "text": [
      "Saved  제9회 대한체육회장배 전국 스쿼시 선수권 대회 준준준준결승 9 박민우 김남정\n"
     ]
    },
    {
     "name": "stderr",
     "output_type": "stream",
     "text": [
      " 21%|██        | 384/1813 [56:05<4:02:22, 10.18s/it]"
     ]
    },
    {
     "name": "stdout",
     "output_type": "stream",
     "text": [
      "Saved  제9회 대한체육회장배 전국 스쿼시 선수권 대회 준준준준결승 10 이승욱 윤여훈\n"
     ]
    },
    {
     "name": "stderr",
     "output_type": "stream",
     "text": [
      " 21%|██        | 385/1813 [56:12<3:39:29,  9.22s/it]"
     ]
    },
    {
     "name": "stdout",
     "output_type": "stream",
     "text": [
      "Saved  제9회 대한체육회장배 전국 스쿼시 선수권 대회 준준준준결승 11 이현욱 김태엽\n"
     ]
    },
    {
     "name": "stderr",
     "output_type": "stream",
     "text": [
      " 21%|██▏       | 386/1813 [56:19<3:22:34,  8.52s/it]"
     ]
    },
    {
     "name": "stdout",
     "output_type": "stream",
     "text": [
      "Saved  제9회 대한체육회장배 전국 스쿼시 선수권 대회 준준준준결승 12 최지우 권창혁\n"
     ]
    },
    {
     "name": "stderr",
     "output_type": "stream",
     "text": [
      " 21%|██▏       | 387/1813 [56:26<3:11:18,  8.05s/it]"
     ]
    },
    {
     "name": "stdout",
     "output_type": "stream",
     "text": [
      "Saved  제9회 대한체육회장배 전국 스쿼시 선수권 대회 준준준준결승 13 신승용 장준영\n"
     ]
    },
    {
     "name": "stderr",
     "output_type": "stream",
     "text": [
      " 21%|██▏       | 388/1813 [56:33<3:03:40,  7.73s/it]"
     ]
    },
    {
     "name": "stdout",
     "output_type": "stream",
     "text": [
      "Saved  제9회 대한체육회장배 전국 스쿼시 선수권 대회 준준준준결승 14 김병조 박영복\n"
     ]
    },
    {
     "name": "stderr",
     "output_type": "stream",
     "text": [
      " 21%|██▏       | 389/1813 [56:51<4:17:25, 10.85s/it]"
     ]
    },
    {
     "name": "stdout",
     "output_type": "stream",
     "text": [
      "Saved  제9회 대한체육회장배 전국 스쿼시 선수권 대회 준준준준결승 15 권순주 유성연\n",
      "Saved  제9회 대한체육회장배 전국 스쿼시 선수권 대회 준준준준결승 16 이동준 이승훈\n"
     ]
    },
    {
     "name": "stderr",
     "output_type": "stream",
     "text": [
      " 22%|██▏       | 391/1813 [57:06<3:35:45,  9.10s/it]"
     ]
    },
    {
     "name": "stdout",
     "output_type": "stream",
     "text": [
      "Saved  제9회 대한체육회장배 전국 스쿼시 선수권 대회 준준준결승경기１ 유덕재 임지훈\n"
     ]
    },
    {
     "name": "stderr",
     "output_type": "stream",
     "text": [
      " 22%|██▏       | 392/1813 [57:13<3:21:50,  8.52s/it]"
     ]
    },
    {
     "name": "stdout",
     "output_type": "stream",
     "text": [
      "Saved  제9회 대한체육회장배 전국 스쿼시 선수권 대회 준준준결승경기２ 오성학 박정식\n"
     ]
    },
    {
     "name": "stderr",
     "output_type": "stream",
     "text": [
      " 22%|██▏       | 393/1813 [57:23<3:28:41,  8.82s/it]"
     ]
    },
    {
     "name": "stdout",
     "output_type": "stream",
     "text": [
      "Saved  제9회 대한체육회장배 전국 스쿼시 선수권 대회 준준준결승경기３ 박병국 고영조\n"
     ]
    },
    {
     "name": "stderr",
     "output_type": "stream",
     "text": [
      " 22%|██▏       | 394/1813 [57:39<4:17:35, 10.89s/it]"
     ]
    },
    {
     "name": "stdout",
     "output_type": "stream",
     "text": [
      "Saved  제9회 대한체육회장배 전국 스쿼시 선수권 대회 준준준결승경기４ 김현용 탁형진\n"
     ]
    },
    {
     "name": "stderr",
     "output_type": "stream",
     "text": [
      " 22%|██▏       | 395/1813 [57:48<4:03:49, 10.32s/it]"
     ]
    },
    {
     "name": "stdout",
     "output_type": "stream",
     "text": [
      "Saved  제9회 대한체육회장배 전국 스쿼시 선수권 대회 준준준결승경기５ 김남정 윤여훈\n"
     ]
    },
    {
     "name": "stderr",
     "output_type": "stream",
     "text": [
      " 22%|██▏       | 396/1813 [57:55<3:39:30,  9.29s/it]"
     ]
    },
    {
     "name": "stdout",
     "output_type": "stream",
     "text": [
      "Saved  제9회 대한체육회장배 전국 스쿼시 선수권 대회 준준준결승경기６ 이현욱 최지우\n"
     ]
    },
    {
     "name": "stderr",
     "output_type": "stream",
     "text": [
      " 22%|██▏       | 397/1813 [58:01<3:22:31,  8.58s/it]"
     ]
    },
    {
     "name": "stdout",
     "output_type": "stream",
     "text": [
      "Saved  제9회 대한체육회장배 전국 스쿼시 선수권 대회 준준준결승경기７ 신승용 김병조\n"
     ]
    },
    {
     "name": "stderr",
     "output_type": "stream",
     "text": [
      " 22%|██▏       | 398/1813 [58:08<3:11:34,  8.12s/it]"
     ]
    },
    {
     "name": "stdout",
     "output_type": "stream",
     "text": [
      "Saved  제9회 대한체육회장배 전국 스쿼시 선수권 대회 준준준결승경기８ 유성연 이승훈\n"
     ]
    },
    {
     "name": "stderr",
     "output_type": "stream",
     "text": [
      " 22%|██▏       | 399/1813 [58:24<4:00:16, 10.20s/it]"
     ]
    },
    {
     "name": "stdout",
     "output_type": "stream",
     "text": [
      "Saved  제9회 대한체육회장배 전국 스쿼시 선수권 대회 준준결승경기１ 유덕재 오성학\n"
     ]
    },
    {
     "name": "stderr",
     "output_type": "stream",
     "text": [
      " 22%|██▏       | 400/1813 [58:33<3:55:12,  9.99s/it]"
     ]
    },
    {
     "name": "stdout",
     "output_type": "stream",
     "text": [
      "Saved  제9회 대한체육회장배 전국 스쿼시 선수권 대회 준준결승경기２ 고영조 탁형진\n"
     ]
    },
    {
     "name": "stderr",
     "output_type": "stream",
     "text": [
      " 22%|██▏       | 401/1813 [58:42<3:47:25,  9.66s/it]"
     ]
    },
    {
     "name": "stdout",
     "output_type": "stream",
     "text": [
      "Saved  제9회 대한체육회장배 전국 스쿼시 선수권 대회 준준결승경기３ 김남정 최지우\n"
     ]
    },
    {
     "name": "stderr",
     "output_type": "stream",
     "text": [
      " 22%|██▏       | 402/1813 [58:49<3:28:40,  8.87s/it]"
     ]
    },
    {
     "name": "stdout",
     "output_type": "stream",
     "text": [
      "Saved  제9회 대한체육회장배 전국 스쿼시 선수권 대회 준준결승경기４ 김병조 이승훈\n"
     ]
    },
    {
     "name": "stderr",
     "output_type": "stream",
     "text": [
      " 22%|██▏       | 403/1813 [58:56<3:16:27,  8.36s/it]"
     ]
    },
    {
     "name": "stdout",
     "output_type": "stream",
     "text": [
      "Saved  제9회 대한체육회장배 전국 스쿼시 선수권 대회 준결승경기１ 유덕재 고영조\n"
     ]
    },
    {
     "name": "stderr",
     "output_type": "stream",
     "text": [
      " 22%|██▏       | 404/1813 [59:04<3:09:48,  8.08s/it]"
     ]
    },
    {
     "name": "stdout",
     "output_type": "stream",
     "text": [
      "Saved  제9회 대한체육회장배 전국 스쿼시 선수권 대회 준결승경기２ 김남정 이승훈\n"
     ]
    },
    {
     "name": "stderr",
     "output_type": "stream",
     "text": [
      " 22%|██▏       | 405/1813 [59:46<7:12:06, 18.41s/it]"
     ]
    },
    {
     "name": "stdout",
     "output_type": "stream",
     "text": [
      "Saved  제9회 대한체육회장배 전국 스쿼시 선수권 대회 결승 고영조 이승훈\n",
      "Saved  제9회 대한체육회장배 전국 스쿼시 선수권 대회 예선경기１ 진승우 이단대\n"
     ]
    },
    {
     "name": "stderr",
     "output_type": "stream",
     "text": [
      " 22%|██▏       | 407/1813 [1:00:02<5:04:18, 12.99s/it]"
     ]
    },
    {
     "name": "stdout",
     "output_type": "stream",
     "text": [
      "Saved  제9회 대한체육회장배 전국 스쿼시 선수권 대회 예선경기２ 한승철 김성집\n"
     ]
    },
    {
     "name": "stderr",
     "output_type": "stream",
     "text": [
      " 23%|██▎       | 408/1813 [1:00:11<4:38:53, 11.91s/it]"
     ]
    },
    {
     "name": "stdout",
     "output_type": "stream",
     "text": [
      "Saved  제9회 대한체육회장배 전국 스쿼시 선수권 대회 예선경기３ 길재호 원준호\n"
     ]
    },
    {
     "name": "stderr",
     "output_type": "stream",
     "text": [
      " 23%|██▎       | 409/1813 [1:00:19<4:07:38, 10.58s/it]"
     ]
    },
    {
     "name": "stdout",
     "output_type": "stream",
     "text": [
      "Saved  제9회 대한체육회장배 전국 스쿼시 선수권 대회 예선경기４ 유재진 정욱진\n"
     ]
    },
    {
     "name": "stderr",
     "output_type": "stream",
     "text": [
      " 23%|██▎       | 410/1813 [1:00:51<6:42:17, 17.20s/it]"
     ]
    },
    {
     "name": "stdout",
     "output_type": "stream",
     "text": [
      "Saved  제9회 대한체육회장배 전국 스쿼시 선수권 대회 예선경기５ 강석환 이승호\n"
     ]
    },
    {
     "name": "stderr",
     "output_type": "stream",
     "text": [
      " 23%|██▎       | 411/1813 [1:01:11<7:02:01, 18.06s/it]"
     ]
    },
    {
     "name": "stdout",
     "output_type": "stream",
     "text": [
      "Saved  제9회 대한체육회장배 전국 스쿼시 선수권 대회 예선경기６ 허재선 김현준\n"
     ]
    },
    {
     "name": "stderr",
     "output_type": "stream",
     "text": [
      " 23%|██▎       | 412/1813 [1:01:18<5:45:31, 14.80s/it]"
     ]
    },
    {
     "name": "stdout",
     "output_type": "stream",
     "text": [
      "Saved  제9회 대한체육회장배 전국 스쿼시 선수권 대회 예선경기７ 황중찬 정성진\n"
     ]
    },
    {
     "name": "stderr",
     "output_type": "stream",
     "text": [
      " 23%|██▎       | 413/1813 [1:01:27<4:59:30, 12.84s/it]"
     ]
    },
    {
     "name": "stdout",
     "output_type": "stream",
     "text": [
      "Saved  제9회 대한체육회장배 전국 스쿼시 선수권 대회 예선경기８ 권혁제 박종명\n"
     ]
    },
    {
     "name": "stderr",
     "output_type": "stream",
     "text": [
      " 23%|██▎       | 414/1813 [1:01:34<4:19:22, 11.12s/it]"
     ]
    },
    {
     "name": "stdout",
     "output_type": "stream",
     "text": [
      "Saved  제9회 대한체육회장배 전국 스쿼시 선수권 대회 준준결승경기１ 진승우 한승철\n"
     ]
    },
    {
     "name": "stderr",
     "output_type": "stream",
     "text": [
      " 23%|██▎       | 415/1813 [1:01:43<4:07:14, 10.61s/it]"
     ]
    },
    {
     "name": "stdout",
     "output_type": "stream",
     "text": [
      "Saved  제9회 대한체육회장배 전국 스쿼시 선수권 대회 준준결승경기２ 원준호 유재진\n"
     ]
    },
    {
     "name": "stderr",
     "output_type": "stream",
     "text": [
      " 23%|██▎       | 416/1813 [1:02:00<4:51:53, 12.54s/it]"
     ]
    },
    {
     "name": "stdout",
     "output_type": "stream",
     "text": [
      "Saved  제9회 대한체육회장배 전국 스쿼시 선수권 대회 준준결승경기３ 강석환 허재선\n"
     ]
    },
    {
     "name": "stderr",
     "output_type": "stream",
     "text": [
      " 23%|██▎       | 417/1813 [1:02:07<4:13:37, 10.90s/it]"
     ]
    },
    {
     "name": "stdout",
     "output_type": "stream",
     "text": [
      "Saved  제9회 대한체육회장배 전국 스쿼시 선수권 대회 준준결승경기４ 황중찬 박종명\n"
     ]
    },
    {
     "name": "stderr",
     "output_type": "stream",
     "text": [
      " 23%|██▎       | 418/1813 [1:02:14<3:46:12,  9.73s/it]"
     ]
    },
    {
     "name": "stdout",
     "output_type": "stream",
     "text": [
      "Saved  제9회 대한체육회장배 전국 스쿼시 선수권 대회 준결승경기１ 진승우 유재진\n"
     ]
    },
    {
     "name": "stderr",
     "output_type": "stream",
     "text": [
      " 23%|██▎       | 419/1813 [1:02:22<3:27:57,  8.95s/it]"
     ]
    },
    {
     "name": "stdout",
     "output_type": "stream",
     "text": [
      "Saved  제9회 대한체육회장배 전국 스쿼시 선수권 대회 준결승경기２ 강석환 박종명\n"
     ]
    },
    {
     "name": "stderr",
     "output_type": "stream",
     "text": [
      " 23%|██▎       | 420/1813 [1:02:30<3:26:53,  8.91s/it]"
     ]
    },
    {
     "name": "stdout",
     "output_type": "stream",
     "text": [
      "Saved  제9회 대한체육회장배 전국 스쿼시 선수권 대회 결승 유재진 박종명\n"
     ]
    },
    {
     "name": "stderr",
     "output_type": "stream",
     "text": [
      " 23%|██▎       | 421/1813 [1:02:47<4:23:05, 11.34s/it]"
     ]
    },
    {
     "name": "stdout",
     "output_type": "stream",
     "text": [
      "Saved  제9회 대한체육회장배 전국 스쿼시 선수권 대회 예선경기１ 이승준 김태우\n"
     ]
    },
    {
     "name": "stderr",
     "output_type": "stream",
     "text": [
      " 23%|██▎       | 422/1813 [1:02:54<3:53:15, 10.06s/it]"
     ]
    },
    {
     "name": "stdout",
     "output_type": "stream",
     "text": [
      "Saved  제9회 대한체육회장배 전국 스쿼시 선수권 대회 예선경기２ 윤태용 이은범\n",
      "Saved  제9회 대한체육회장배 전국 스쿼시 선수권 대회 예선경기３ 김동우 이승택\n"
     ]
    },
    {
     "name": "stderr",
     "output_type": "stream",
     "text": [
      " 23%|██▎       | 424/1813 [1:03:09<3:18:55,  8.59s/it]"
     ]
    },
    {
     "name": "stdout",
     "output_type": "stream",
     "text": [
      "Saved  제9회 대한체육회장배 전국 스쿼시 선수권 대회 예선경기４ 한상철 정대훈\n"
     ]
    },
    {
     "name": "stderr",
     "output_type": "stream",
     "text": [
      " 23%|██▎       | 425/1813 [1:03:16<3:07:27,  8.10s/it]"
     ]
    },
    {
     "name": "stdout",
     "output_type": "stream",
     "text": [
      "Saved  제9회 대한체육회장배 전국 스쿼시 선수권 대회 예선경기５ 최정운 임지훈\n"
     ]
    },
    {
     "name": "stderr",
     "output_type": "stream",
     "text": [
      " 23%|██▎       | 426/1813 [1:03:31<3:54:51, 10.16s/it]"
     ]
    },
    {
     "name": "stdout",
     "output_type": "stream",
     "text": [
      "Saved  제9회 대한체육회장배 전국 스쿼시 선수권 대회 예선경기６ 안성수 정민채\n"
     ]
    },
    {
     "name": "stderr",
     "output_type": "stream",
     "text": [
      " 24%|██▎       | 427/1813 [1:08:01<33:59:27, 88.29s/it]"
     ]
    },
    {
     "name": "stdout",
     "output_type": "stream",
     "text": [
      "Saved  제9회 대한체육회장배 전국 스쿼시 선수권 대회 예선경기７ 유용민 정현도\n"
     ]
    },
    {
     "name": "stderr",
     "output_type": "stream",
     "text": [
      " 24%|██▎       | 428/1813 [1:08:08<24:34:52, 63.89s/it]"
     ]
    },
    {
     "name": "stdout",
     "output_type": "stream",
     "text": [
      "Saved  제9회 대한체육회장배 전국 스쿼시 선수권 대회 예선경기８ 권오석 권현준\n"
     ]
    },
    {
     "name": "stderr",
     "output_type": "stream",
     "text": [
      " 24%|██▎       | 429/1813 [1:08:15<18:00:47, 46.85s/it]"
     ]
    },
    {
     "name": "stdout",
     "output_type": "stream",
     "text": [
      "Saved  제9회 대한체육회장배 전국 스쿼시 선수권 대회 예선경기９ 이건동 황상엽\n"
     ]
    },
    {
     "name": "stderr",
     "output_type": "stream",
     "text": [
      " 24%|██▎       | 430/1813 [1:08:22<13:23:47, 34.87s/it]"
     ]
    },
    {
     "name": "stdout",
     "output_type": "stream",
     "text": [
      "Saved  제9회 대한체육회장배 전국 스쿼시 선수권 대회 예선경기１０ 이호국 엄수원\n"
     ]
    },
    {
     "name": "stderr",
     "output_type": "stream",
     "text": [
      " 24%|██▍       | 431/1813 [1:08:29<10:08:44, 26.43s/it]"
     ]
    },
    {
     "name": "stdout",
     "output_type": "stream",
     "text": [
      "Saved  제9회 대한체육회장배 전국 스쿼시 선수권 대회 예선경기１１ 황중원 진수철\n"
     ]
    },
    {
     "name": "stderr",
     "output_type": "stream",
     "text": [
      " 24%|██▍       | 432/1813 [1:08:44<8:49:12, 22.99s/it] "
     ]
    },
    {
     "name": "stdout",
     "output_type": "stream",
     "text": [
      "Saved  제9회 대한체육회장배 전국 스쿼시 선수권 대회 예선경기１２ 이년호 강성민\n"
     ]
    },
    {
     "name": "stderr",
     "output_type": "stream",
     "text": [
      " 24%|██▍       | 433/1813 [1:08:51<6:56:58, 18.13s/it]"
     ]
    },
    {
     "name": "stdout",
     "output_type": "stream",
     "text": [
      "Saved  제9회 대한체육회장배 전국 스쿼시 선수권 대회 예선경기１３ 구륜회 노승화\n"
     ]
    },
    {
     "name": "stderr",
     "output_type": "stream",
     "text": [
      " 24%|██▍       | 434/1813 [1:08:58<5:39:06, 14.75s/it]"
     ]
    },
    {
     "name": "stdout",
     "output_type": "stream",
     "text": [
      "Saved  제9회 대한체육회장배 전국 스쿼시 선수권 대회 예선경기１４ 한성수 이세현\n"
     ]
    },
    {
     "name": "stderr",
     "output_type": "stream",
     "text": [
      " 24%|██▍       | 435/1813 [1:09:05<4:46:54, 12.49s/it]"
     ]
    },
    {
     "name": "stdout",
     "output_type": "stream",
     "text": [
      "Saved  제9회 대한체육회장배 전국 스쿼시 선수권 대회 예선경기１５ 김종훈 유승룡\n"
     ]
    },
    {
     "name": "stderr",
     "output_type": "stream",
     "text": [
      " 24%|██▍       | 436/1813 [1:09:12<4:09:00, 10.85s/it]"
     ]
    },
    {
     "name": "stdout",
     "output_type": "stream",
     "text": [
      "Saved  제9회 대한체육회장배 전국 스쿼시 선수권 대회 예선경기１６ 황지훈 김현동\n"
     ]
    },
    {
     "name": "stderr",
     "output_type": "stream",
     "text": [
      " 24%|██▍       | 437/1813 [1:09:27<4:38:06, 12.13s/it]"
     ]
    },
    {
     "name": "stdout",
     "output_type": "stream",
     "text": [
      "Saved  제9회 대한체육회장배 전국 스쿼시 선수권 대회 준준준결승경기１ 이승준 이은범\n"
     ]
    },
    {
     "name": "stderr",
     "output_type": "stream",
     "text": [
      " 24%|██▍       | 438/1813 [1:09:35<4:07:35, 10.80s/it]"
     ]
    },
    {
     "name": "stdout",
     "output_type": "stream",
     "text": [
      "Saved  제9회 대한체육회장배 전국 스쿼시 선수권 대회 준준준결승경기２ 이승택 정대훈\n"
     ]
    },
    {
     "name": "stderr",
     "output_type": "stream",
     "text": [
      " 24%|██▍       | 439/1813 [1:09:41<3:39:53,  9.60s/it]"
     ]
    },
    {
     "name": "stdout",
     "output_type": "stream",
     "text": [
      "Saved  제9회 대한체육회장배 전국 스쿼시 선수권 대회 준준준결승경기３ 최정운 정민채\n"
     ]
    },
    {
     "name": "stderr",
     "output_type": "stream",
     "text": [
      " 24%|██▍       | 440/1813 [1:09:48<3:21:15,  8.79s/it]"
     ]
    },
    {
     "name": "stdout",
     "output_type": "stream",
     "text": [
      "Saved  제9회 대한체육회장배 전국 스쿼시 선수권 대회 준준준결승경기４ 유용민 권현준\n"
     ]
    },
    {
     "name": "stderr",
     "output_type": "stream",
     "text": [
      " 24%|██▍       | 441/1813 [1:09:55<3:09:05,  8.27s/it]"
     ]
    },
    {
     "name": "stdout",
     "output_type": "stream",
     "text": [
      "Saved  제9회 대한체육회장배 전국 스쿼시 선수권 대회 준준준결승경기５ 이건동 엄수원\n"
     ]
    },
    {
     "name": "stderr",
     "output_type": "stream",
     "text": [
      " 24%|██▍       | 442/1813 [1:10:11<3:56:05, 10.33s/it]"
     ]
    },
    {
     "name": "stdout",
     "output_type": "stream",
     "text": [
      "Saved  제9회 대한체육회장배 전국 스쿼시 선수권 대회 준준준결승경기６ 황중원 이년호\n"
     ]
    },
    {
     "name": "stderr",
     "output_type": "stream",
     "text": [
      " 24%|██▍       | 443/1813 [1:10:18<3:33:08,  9.33s/it]"
     ]
    },
    {
     "name": "stdout",
     "output_type": "stream",
     "text": [
      "Saved  제9회 대한체육회장배 전국 스쿼시 선수권 대회 준준준결승경기７ 구륜회 이세현\n"
     ]
    },
    {
     "name": "stderr",
     "output_type": "stream",
     "text": [
      " 24%|██▍       | 444/1813 [1:10:25<3:17:01,  8.63s/it]"
     ]
    },
    {
     "name": "stdout",
     "output_type": "stream",
     "text": [
      "Saved  제9회 대한체육회장배 전국 스쿼시 선수권 대회 준준준결승경기８ 김종훈 김현동\n"
     ]
    },
    {
     "name": "stderr",
     "output_type": "stream",
     "text": [
      " 25%|██▍       | 445/1813 [1:10:32<3:08:59,  8.29s/it]"
     ]
    },
    {
     "name": "stdout",
     "output_type": "stream",
     "text": [
      "Saved  제9회 대한체육회장배 전국 스쿼시 선수권 대회 준준결승경기１ 이승준 이승택\n"
     ]
    },
    {
     "name": "stderr",
     "output_type": "stream",
     "text": [
      " 25%|██▍       | 446/1813 [1:10:39<2:59:38,  7.88s/it]"
     ]
    },
    {
     "name": "stdout",
     "output_type": "stream",
     "text": [
      "Saved  제9회 대한체육회장배 전국 스쿼시 선수권 대회 준준결승경기２ 최정운 권현준\n"
     ]
    },
    {
     "name": "stderr",
     "output_type": "stream",
     "text": [
      " 25%|██▍       | 447/1813 [1:10:46<2:52:26,  7.57s/it]"
     ]
    },
    {
     "name": "stdout",
     "output_type": "stream",
     "text": [
      "Saved  제9회 대한체육회장배 전국 스쿼시 선수권 대회 준준결승경기３ 이건동 이년호\n"
     ]
    },
    {
     "name": "stderr",
     "output_type": "stream",
     "text": [
      " 25%|██▍       | 448/1813 [1:11:03<3:55:20, 10.34s/it]"
     ]
    },
    {
     "name": "stdout",
     "output_type": "stream",
     "text": [
      "Saved  제9회 대한체육회장배 전국 스쿼시 선수권 대회 준준결승경기４ 이세현 김현동\n"
     ]
    },
    {
     "name": "stderr",
     "output_type": "stream",
     "text": [
      " 25%|██▍       | 449/1813 [1:11:10<3:32:51,  9.36s/it]"
     ]
    },
    {
     "name": "stdout",
     "output_type": "stream",
     "text": [
      "Saved  제9회 대한체육회장배 전국 스쿼시 선수권 대회 준결승경기１ 이승준 최정운\n"
     ]
    },
    {
     "name": "stderr",
     "output_type": "stream",
     "text": [
      " 25%|██▍       | 450/1813 [1:11:17<3:16:23,  8.64s/it]"
     ]
    },
    {
     "name": "stdout",
     "output_type": "stream",
     "text": [
      "Saved  제9회 대한체육회장배 전국 스쿼시 선수권 대회 준결승경기２ 이건동 이세현\n"
     ]
    },
    {
     "name": "stderr",
     "output_type": "stream",
     "text": [
      " 25%|██▍       | 451/1813 [1:11:23<3:03:20,  8.08s/it]"
     ]
    },
    {
     "name": "stdout",
     "output_type": "stream",
     "text": [
      "Saved  제9회 대한체육회장배 전국 스쿼시 선수권 대회 결승 이승준 이세현\n"
     ]
    },
    {
     "name": "stderr",
     "output_type": "stream",
     "text": [
      " 25%|██▍       | 452/1813 [1:11:30<2:53:48,  7.66s/it]"
     ]
    },
    {
     "name": "stdout",
     "output_type": "stream",
     "text": [
      "Saved  제9회 대한체육회장배 전국 스쿼시 선수권 대회 예선경기２ 박지선 신유민\n"
     ]
    },
    {
     "name": "stderr",
     "output_type": "stream",
     "text": [
      " 25%|██▍       | 453/1813 [1:11:45<3:44:16,  9.89s/it]"
     ]
    },
    {
     "name": "stdout",
     "output_type": "stream",
     "text": [
      "Saved  제9회 대한체육회장배 전국 스쿼시 선수권 대회 예선경기３ 최예솔 김민지\n"
     ]
    },
    {
     "name": "stderr",
     "output_type": "stream",
     "text": [
      " 25%|██▌       | 454/1813 [1:11:52<3:24:11,  9.02s/it]"
     ]
    },
    {
     "name": "stdout",
     "output_type": "stream",
     "text": [
      "Saved  제9회 대한체육회장배 전국 스쿼시 선수권 대회 예선경기４ 허민경 오영민\n"
     ]
    },
    {
     "name": "stderr",
     "output_type": "stream",
     "text": [
      " 25%|██▌       | 455/1813 [1:12:01<3:23:32,  8.99s/it]"
     ]
    },
    {
     "name": "stdout",
     "output_type": "stream",
     "text": [
      "Saved  제9회 대한체육회장배 전국 스쿼시 선수권 대회 예선경기５ 김수림 박은희\n"
     ]
    },
    {
     "name": "stderr",
     "output_type": "stream",
     "text": [
      " 25%|██▌       | 456/1813 [1:12:08<3:08:52,  8.35s/it]"
     ]
    },
    {
     "name": "stdout",
     "output_type": "stream",
     "text": [
      "Saved  제9회 대한체육회장배 전국 스쿼시 선수권 대회 예선경기６ 장유진 한지원\n"
     ]
    },
    {
     "name": "stderr",
     "output_type": "stream",
     "text": [
      " 25%|██▌       | 457/1813 [1:12:15<2:59:17,  7.93s/it]"
     ]
    },
    {
     "name": "stdout",
     "output_type": "stream",
     "text": [
      "Saved  제9회 대한체육회장배 전국 스쿼시 선수권 대회 예선경기７ 황하윤 엄화영\n"
     ]
    },
    {
     "name": "stderr",
     "output_type": "stream",
     "text": [
      " 25%|██▌       | 458/1813 [1:12:30<3:45:28,  9.98s/it]"
     ]
    },
    {
     "name": "stdout",
     "output_type": "stream",
     "text": [
      "Saved  제9회 대한체육회장배 전국 스쿼시 선수권 대회 예선경기１０ 박다영 김선희\n"
     ]
    },
    {
     "name": "stderr",
     "output_type": "stream",
     "text": [
      " 25%|██▌       | 459/1813 [1:12:37<3:25:12,  9.09s/it]"
     ]
    },
    {
     "name": "stdout",
     "output_type": "stream",
     "text": [
      "Saved  제9회 대한체육회장배 전국 스쿼시 선수권 대회 예선경기１１ 김조은 송하연\n"
     ]
    },
    {
     "name": "stderr",
     "output_type": "stream",
     "text": [
      " 25%|██▌       | 460/1813 [1:12:44<3:09:42,  8.41s/it]"
     ]
    },
    {
     "name": "stdout",
     "output_type": "stream",
     "text": [
      "Saved  제9회 대한체육회장배 전국 스쿼시 선수권 대회 예선경기１２ 이석주 김하은\n"
     ]
    },
    {
     "name": "stderr",
     "output_type": "stream",
     "text": [
      " 25%|██▌       | 461/1813 [1:12:51<2:59:38,  7.97s/it]"
     ]
    },
    {
     "name": "stdout",
     "output_type": "stream",
     "text": [
      "Saved  제9회 대한체육회장배 전국 스쿼시 선수권 대회 예선경기１３ 김민영 김유라\n"
     ]
    },
    {
     "name": "stderr",
     "output_type": "stream",
     "text": [
      " 25%|██▌       | 462/1813 [1:12:58<2:53:04,  7.69s/it]"
     ]
    },
    {
     "name": "stdout",
     "output_type": "stream",
     "text": [
      "Saved  제9회 대한체육회장배 전국 스쿼시 선수권 대회 예선경기１４ 선나라 최누리\n"
     ]
    },
    {
     "name": "stderr",
     "output_type": "stream",
     "text": [
      " 26%|██▌       | 463/1813 [1:13:12<3:41:41,  9.85s/it]"
     ]
    },
    {
     "name": "stdout",
     "output_type": "stream",
     "text": [
      "Saved  제9회 대한체육회장배 전국 스쿼시 선수권 대회 예선경기１５ 문혜연 백지은\n"
     ]
    },
    {
     "name": "stderr",
     "output_type": "stream",
     "text": [
      " 26%|██▌       | 464/1813 [1:13:20<3:22:48,  9.02s/it]"
     ]
    },
    {
     "name": "stdout",
     "output_type": "stream",
     "text": [
      "Saved  제9회 대한체육회장배 전국 스쿼시 선수권 대회 준준준결승경기１ 박민주 신유민\n"
     ]
    },
    {
     "name": "stderr",
     "output_type": "stream",
     "text": [
      " 26%|██▌       | 465/1813 [1:13:26<3:08:15,  8.38s/it]"
     ]
    },
    {
     "name": "stdout",
     "output_type": "stream",
     "text": [
      "Saved  제9회 대한체육회장배 전국 스쿼시 선수권 대회 준준준결승경기２ 김민지 허민경\n"
     ]
    },
    {
     "name": "stderr",
     "output_type": "stream",
     "text": [
      " 26%|██▌       | 466/1813 [1:13:33<2:58:32,  7.95s/it]"
     ]
    },
    {
     "name": "stdout",
     "output_type": "stream",
     "text": [
      "Saved  제9회 대한체육회장배 전국 스쿼시 선수권 대회 준준준결승경기３ 박은희 장유진\n"
     ]
    },
    {
     "name": "stderr",
     "output_type": "stream",
     "text": [
      " 26%|██▌       | 467/1813 [1:13:40<2:52:43,  7.70s/it]"
     ]
    },
    {
     "name": "stdout",
     "output_type": "stream",
     "text": [
      "Saved  제9회 대한체육회장배 전국 스쿼시 선수권 대회 준준준결승경기４ 엄화영 권소희\n"
     ]
    },
    {
     "name": "stderr",
     "output_type": "stream",
     "text": [
      " 26%|██▌       | 468/1813 [1:13:47<2:47:09,  7.46s/it]"
     ]
    },
    {
     "name": "stdout",
     "output_type": "stream",
     "text": [
      "Saved  제9회 대한체육회장배 전국 스쿼시 선수권 대회 준준준결승경기５ 김미진 김선희\n"
     ]
    },
    {
     "name": "stderr",
     "output_type": "stream",
     "text": [
      " 26%|██▌       | 469/1813 [1:14:04<3:51:16, 10.32s/it]"
     ]
    },
    {
     "name": "stdout",
     "output_type": "stream",
     "text": [
      "Saved  제9회 대한체육회장배 전국 스쿼시 선수권 대회 준준준결승경기６ 김조은 이석주\n"
     ]
    },
    {
     "name": "stderr",
     "output_type": "stream",
     "text": [
      " 26%|██▌       | 470/1813 [1:14:11<3:28:48,  9.33s/it]"
     ]
    },
    {
     "name": "stdout",
     "output_type": "stream",
     "text": [
      "Saved  제9회 대한체육회장배 전국 스쿼시 선수권 대회 준준준결승경기７ 김민영 최누리\n"
     ]
    },
    {
     "name": "stderr",
     "output_type": "stream",
     "text": [
      " 26%|██▌       | 471/1813 [1:14:18<3:12:00,  8.58s/it]"
     ]
    },
    {
     "name": "stdout",
     "output_type": "stream",
     "text": [
      "Saved  제9회 대한체육회장배 전국 스쿼시 선수권 대회 준준준결승경기８ 문혜연 안예진\n"
     ]
    },
    {
     "name": "stderr",
     "output_type": "stream",
     "text": [
      " 26%|██▌       | 472/1813 [1:14:25<2:59:45,  8.04s/it]"
     ]
    },
    {
     "name": "stdout",
     "output_type": "stream",
     "text": [
      "Saved  제9회 대한체육회장배 전국 스쿼시 선수권 대회 준준결승경기１ 박민주 허민경\n"
     ]
    },
    {
     "name": "stderr",
     "output_type": "stream",
     "text": [
      " 26%|██▌       | 473/1813 [1:14:34<3:03:53,  8.23s/it]"
     ]
    },
    {
     "name": "stdout",
     "output_type": "stream",
     "text": [
      "Saved  제9회 대한체육회장배 전국 스쿼시 선수권 대회 준준결승경기２ 장유진 엄화영\n"
     ]
    },
    {
     "name": "stderr",
     "output_type": "stream",
     "text": [
      " 26%|██▌       | 474/1813 [1:14:49<3:49:45, 10.30s/it]"
     ]
    },
    {
     "name": "stdout",
     "output_type": "stream",
     "text": [
      "Saved  제9회 대한체육회장배 전국 스쿼시 선수권 대회 준준결승경기３ 김미진 김조은\n"
     ]
    },
    {
     "name": "stderr",
     "output_type": "stream",
     "text": [
      " 26%|██▌       | 475/1813 [1:14:56<3:27:27,  9.30s/it]"
     ]
    },
    {
     "name": "stdout",
     "output_type": "stream",
     "text": [
      "Saved  제9회 대한체육회장배 전국 스쿼시 선수권 대회 준준결승경기４ 김민영 안예진\n"
     ]
    },
    {
     "name": "stderr",
     "output_type": "stream",
     "text": [
      " 26%|██▋       | 476/1813 [1:15:03<3:10:38,  8.56s/it]"
     ]
    },
    {
     "name": "stdout",
     "output_type": "stream",
     "text": [
      "Saved  제9회 대한체육회장배 전국 스쿼시 선수권 대회 준결승경기１ 박민주 엄화영\n"
     ]
    },
    {
     "name": "stderr",
     "output_type": "stream",
     "text": [
      " 26%|██▋       | 477/1813 [1:15:10<2:59:42,  8.07s/it]"
     ]
    },
    {
     "name": "stdout",
     "output_type": "stream",
     "text": [
      "Saved  제9회 대한체육회장배 전국 스쿼시 선수권 대회 준결승경기２ 김미진 안예진\n"
     ]
    },
    {
     "name": "stderr",
     "output_type": "stream",
     "text": [
      " 26%|██▋       | 478/1813 [1:15:17<2:53:57,  7.82s/it]"
     ]
    },
    {
     "name": "stdout",
     "output_type": "stream",
     "text": [
      "Saved  제9회 대한체육회장배 전국 스쿼시 선수권 대회 결승 박민주 김미진\n"
     ]
    },
    {
     "name": "stderr",
     "output_type": "stream",
     "text": [
      " 26%|██▋       | 479/1813 [1:15:32<3:44:46, 10.11s/it]"
     ]
    },
    {
     "name": "stdout",
     "output_type": "stream",
     "text": [
      "Saved  제9회 대한체육회장배 전국 스쿼시 선수권 대회 예선경기２ 강한나 장유빈\n"
     ]
    },
    {
     "name": "stderr",
     "output_type": "stream",
     "text": [
      " 26%|██▋       | 480/1813 [1:15:40<3:29:17,  9.42s/it]"
     ]
    },
    {
     "name": "stdout",
     "output_type": "stream",
     "text": [
      "Saved  제9회 대한체육회장배 전국 스쿼시 선수권 대회 예선경기３ 이지현 제연정\n"
     ]
    },
    {
     "name": "stderr",
     "output_type": "stream",
     "text": [
      " 27%|██▋       | 481/1813 [1:15:47<3:11:31,  8.63s/it]"
     ]
    },
    {
     "name": "stdout",
     "output_type": "stream",
     "text": [
      "Saved  제9회 대한체육회장배 전국 스쿼시 선수권 대회 예선경기４ 박다나 김상미\n"
     ]
    },
    {
     "name": "stderr",
     "output_type": "stream",
     "text": [
      " 27%|██▋       | 482/1813 [1:15:54<2:59:43,  8.10s/it]"
     ]
    },
    {
     "name": "stdout",
     "output_type": "stream",
     "text": [
      "Saved  제9회 대한체육회장배 전국 스쿼시 선수권 대회 준결승경기１ 최유라 강한나\n"
     ]
    },
    {
     "name": "stderr",
     "output_type": "stream",
     "text": [
      " 27%|██▋       | 483/1813 [1:16:03<3:04:43,  8.33s/it]"
     ]
    },
    {
     "name": "stdout",
     "output_type": "stream",
     "text": [
      "Saved  제9회 대한체육회장배 전국 스쿼시 선수권 대회 준결승경기２ 이지현 김상미\n"
     ]
    },
    {
     "name": "stderr",
     "output_type": "stream",
     "text": [
      " 27%|██▋       | 484/1813 [1:16:10<2:56:10,  7.95s/it]"
     ]
    },
    {
     "name": "stdout",
     "output_type": "stream",
     "text": [
      "Saved  제9회 대한체육회장배 전국 스쿼시 선수권 대회 결승 최유라 이지현\n"
     ]
    },
    {
     "name": "stderr",
     "output_type": "stream",
     "text": [
      " 27%|██▋       | 485/1813 [1:16:27<3:55:16, 10.63s/it]"
     ]
    },
    {
     "name": "stdout",
     "output_type": "stream",
     "text": [
      "Saved  제9회 대한체육회장배 전국 스쿼시 선수권 대회 예선경기１ 박은옥 박미림\n"
     ]
    },
    {
     "name": "stderr",
     "output_type": "stream",
     "text": [
      " 27%|██▋       | 486/1813 [1:16:34<3:31:15,  9.55s/it]"
     ]
    },
    {
     "name": "stdout",
     "output_type": "stream",
     "text": [
      "Saved  제9회 대한체육회장배 전국 스쿼시 선수권 대회 예선경기２ 박영미 김선임\n"
     ]
    },
    {
     "name": "stderr",
     "output_type": "stream",
     "text": [
      " 27%|██▋       | 487/1813 [1:16:40<3:12:49,  8.73s/it]"
     ]
    },
    {
     "name": "stdout",
     "output_type": "stream",
     "text": [
      "Saved  제9회 대한체육회장배 전국 스쿼시 선수권 대회 예선경기３ 안은찬 김진희\n"
     ]
    },
    {
     "name": "stderr",
     "output_type": "stream",
     "text": [
      " 27%|██▋       | 488/1813 [1:16:47<3:01:05,  8.20s/it]"
     ]
    },
    {
     "name": "stdout",
     "output_type": "stream",
     "text": [
      "Saved  제9회 대한체육회장배 전국 스쿼시 선수권 대회 예선경기４ 이영욱 오성령\n"
     ]
    },
    {
     "name": "stderr",
     "output_type": "stream",
     "text": [
      " 27%|██▋       | 489/1813 [1:16:54<2:51:56,  7.79s/it]"
     ]
    },
    {
     "name": "stdout",
     "output_type": "stream",
     "text": [
      "Saved  제9회 대한체육회장배 전국 스쿼시 선수권 대회 예선경기５ 양연수 권성은\n"
     ]
    },
    {
     "name": "stderr",
     "output_type": "stream",
     "text": [
      " 27%|██▋       | 490/1813 [1:17:09<3:38:41,  9.92s/it]"
     ]
    },
    {
     "name": "stdout",
     "output_type": "stream",
     "text": [
      "Saved  제9회 대한체육회장배 전국 스쿼시 선수권 대회 예선경기６ 박진주 김아현\n"
     ]
    },
    {
     "name": "stderr",
     "output_type": "stream",
     "text": [
      " 27%|██▋       | 491/1813 [1:17:16<3:17:28,  8.96s/it]"
     ]
    },
    {
     "name": "stdout",
     "output_type": "stream",
     "text": [
      "Saved  제9회 대한체육회장배 전국 스쿼시 선수권 대회 예선경기７ 김다정 안혜진\n"
     ]
    },
    {
     "name": "stderr",
     "output_type": "stream",
     "text": [
      " 27%|██▋       | 492/1813 [1:17:23<3:03:21,  8.33s/it]"
     ]
    },
    {
     "name": "stdout",
     "output_type": "stream",
     "text": [
      "Saved  제9회 대한체육회장배 전국 스쿼시 선수권 대회 예선경기８ 김가혜 배찬미\n"
     ]
    },
    {
     "name": "stderr",
     "output_type": "stream",
     "text": [
      " 27%|██▋       | 493/1813 [1:17:30<2:55:50,  7.99s/it]"
     ]
    },
    {
     "name": "stdout",
     "output_type": "stream",
     "text": [
      "Saved  제9회 대한체육회장배 전국 스쿼시 선수권 대회 준준결승경기１ 박은옥 김선임\n"
     ]
    },
    {
     "name": "stderr",
     "output_type": "stream",
     "text": [
      " 27%|██▋       | 494/1813 [1:17:37<2:48:56,  7.69s/it]"
     ]
    },
    {
     "name": "stdout",
     "output_type": "stream",
     "text": [
      "Saved  제9회 대한체육회장배 전국 스쿼시 선수권 대회 준준결승경기２ 안은찬 오성령\n",
      "Saved  제9회 대한체육회장배 전국 스쿼시 선수권 대회 준준결승경기３ 양연수 김아현\n"
     ]
    },
    {
     "name": "stderr",
     "output_type": "stream",
     "text": [
      " 27%|██▋       | 496/1813 [1:17:59<3:16:30,  8.95s/it]"
     ]
    },
    {
     "name": "stdout",
     "output_type": "stream",
     "text": [
      "Saved  제9회 대한체육회장배 전국 스쿼시 선수권 대회 준준결승경기４ 김다정 김가혜\n"
     ]
    },
    {
     "name": "stderr",
     "output_type": "stream",
     "text": [
      " 27%|██▋       | 497/1813 [1:18:05<3:02:23,  8.32s/it]"
     ]
    },
    {
     "name": "stdout",
     "output_type": "stream",
     "text": [
      "Saved  제9회 대한체육회장배 전국 스쿼시 선수권 대회 준결승경기１ 박은옥 안은찬\n"
     ]
    },
    {
     "name": "stderr",
     "output_type": "stream",
     "text": [
      " 27%|██▋       | 498/1813 [1:18:12<2:52:47,  7.88s/it]"
     ]
    },
    {
     "name": "stdout",
     "output_type": "stream",
     "text": [
      "Saved  제9회 대한체육회장배 전국 스쿼시 선수권 대회 준결승경기２ 양연수 김가혜\n"
     ]
    },
    {
     "name": "stderr",
     "output_type": "stream",
     "text": [
      " 28%|██▊       | 499/1813 [1:18:19<2:46:42,  7.61s/it]"
     ]
    },
    {
     "name": "stdout",
     "output_type": "stream",
     "text": [
      "Saved  제9회 대한체육회장배 전국 스쿼시 선수권 대회 결승 박은옥 양연수\n"
     ]
    },
    {
     "name": "stderr",
     "output_type": "stream",
     "text": [
      " 28%|██▊       | 500/1813 [1:18:26<2:42:34,  7.43s/it]"
     ]
    },
    {
     "name": "stdout",
     "output_type": "stream",
     "text": [
      "Saved  제9회 대한체육회장배 전국 스쿼시 선수권 대회 예선경기１ 장수혁 박준하\n"
     ]
    },
    {
     "name": "stderr",
     "output_type": "stream",
     "text": [
      " 28%|██▊       | 501/1813 [1:18:43<3:44:57, 10.29s/it]"
     ]
    },
    {
     "name": "stdout",
     "output_type": "stream",
     "text": [
      "Saved  제9회 대한체육회장배 전국 스쿼시 선수권 대회 예선경기２ 강우석 장은준\n"
     ]
    },
    {
     "name": "stderr",
     "output_type": "stream",
     "text": [
      " 28%|██▊       | 502/1813 [1:18:50<3:22:21,  9.26s/it]"
     ]
    },
    {
     "name": "stdout",
     "output_type": "stream",
     "text": [
      "Saved  제9회 대한체육회장배 전국 스쿼시 선수권 대회 결승 장수혁 장은준\n"
     ]
    },
    {
     "name": "stderr",
     "output_type": "stream",
     "text": [
      " 28%|██▊       | 503/1813 [1:18:57<3:07:22,  8.58s/it]"
     ]
    },
    {
     "name": "stdout",
     "output_type": "stream",
     "text": [
      "Saved  제9회 대한체육회장배 전국 스쿼시 선수권 대회 예선경기２ 김남경 오현민\n"
     ]
    },
    {
     "name": "stderr",
     "output_type": "stream",
     "text": [
      " 28%|██▊       | 504/1813 [1:19:04<2:56:13,  8.08s/it]"
     ]
    },
    {
     "name": "stdout",
     "output_type": "stream",
     "text": [
      "Saved  제9회 대한체육회장배 전국 스쿼시 선수권 대회 예선경기３ 이용정 탁효진\n"
     ]
    },
    {
     "name": "stderr",
     "output_type": "stream",
     "text": [
      " 28%|██▊       | 505/1813 [1:19:12<2:52:28,  7.91s/it]"
     ]
    },
    {
     "name": "stdout",
     "output_type": "stream",
     "text": [
      "Saved  제9회 대한체육회장배 전국 스쿼시 선수권 대회 예선경기４ 김석진 이현준\n"
     ]
    },
    {
     "name": "stderr",
     "output_type": "stream",
     "text": [
      " 28%|██▊       | 506/1813 [1:19:26<3:37:21,  9.98s/it]"
     ]
    },
    {
     "name": "stdout",
     "output_type": "stream",
     "text": [
      "Saved  제9회 대한체육회장배 전국 스쿼시 선수권 대회 예선경기５ 신경훈 김태현\n"
     ]
    },
    {
     "name": "stderr",
     "output_type": "stream",
     "text": [
      " 28%|██▊       | 507/1813 [1:19:33<3:15:58,  9.00s/it]"
     ]
    },
    {
     "name": "stdout",
     "output_type": "stream",
     "text": [
      "Saved  제9회 대한체육회장배 전국 스쿼시 선수권 대회 예선경기６ 이동민 양재혁\n"
     ]
    },
    {
     "name": "stderr",
     "output_type": "stream",
     "text": [
      " 28%|██▊       | 508/1813 [1:19:42<3:13:21,  8.89s/it]"
     ]
    },
    {
     "name": "stdout",
     "output_type": "stream",
     "text": [
      "Saved  제9회 대한체육회장배 전국 스쿼시 선수권 대회 예선경기７ 황수연 구성진\n"
     ]
    },
    {
     "name": "stderr",
     "output_type": "stream",
     "text": [
      " 28%|██▊       | 509/1813 [1:19:49<3:00:10,  8.29s/it]"
     ]
    },
    {
     "name": "stdout",
     "output_type": "stream",
     "text": [
      "Saved  제9회 대한체육회장배 전국 스쿼시 선수권 대회 준준결승경기１ 류한동 김남경\n"
     ]
    },
    {
     "name": "stderr",
     "output_type": "stream",
     "text": [
      " 28%|██▊       | 510/1813 [1:19:56<2:53:14,  7.98s/it]"
     ]
    },
    {
     "name": "stdout",
     "output_type": "stream",
     "text": [
      "Saved  제9회 대한체육회장배 전국 스쿼시 선수권 대회 준준결승경기２ 탁효진 김석진\n"
     ]
    },
    {
     "name": "stderr",
     "output_type": "stream",
     "text": [
      " 28%|██▊       | 511/1813 [1:20:11<3:39:06, 10.10s/it]"
     ]
    },
    {
     "name": "stdout",
     "output_type": "stream",
     "text": [
      "Saved  제9회 대한체육회장배 전국 스쿼시 선수권 대회 준준결승경기３ 신경훈 이동민\n"
     ]
    },
    {
     "name": "stderr",
     "output_type": "stream",
     "text": [
      " 28%|██▊       | 512/1813 [1:20:18<3:18:10,  9.14s/it]"
     ]
    },
    {
     "name": "stdout",
     "output_type": "stream",
     "text": [
      "Saved  제9회 대한체육회장배 전국 스쿼시 선수권 대회 준준결승경기４ 황수연 박성찬\n"
     ]
    },
    {
     "name": "stderr",
     "output_type": "stream",
     "text": [
      " 28%|██▊       | 513/1813 [1:20:25<3:05:02,  8.54s/it]"
     ]
    },
    {
     "name": "stdout",
     "output_type": "stream",
     "text": [
      "Saved  제9회 대한체육회장배 전국 스쿼시 선수권 대회 준결승경기１ 류한동 탁효진\n"
     ]
    },
    {
     "name": "stderr",
     "output_type": "stream",
     "text": [
      " 28%|██▊       | 514/1813 [1:20:32<2:53:56,  8.03s/it]"
     ]
    },
    {
     "name": "stdout",
     "output_type": "stream",
     "text": [
      "Saved  제9회 대한체육회장배 전국 스쿼시 선수권 대회 준결승경기２ 이동민 박성찬\n"
     ]
    },
    {
     "name": "stderr",
     "output_type": "stream",
     "text": [
      " 28%|██▊       | 515/1813 [1:20:39<2:45:32,  7.65s/it]"
     ]
    },
    {
     "name": "stdout",
     "output_type": "stream",
     "text": [
      "Saved  제9회 대한체육회장배 전국 스쿼시 선수권 대회 결승 류한동 박성찬\n"
     ]
    },
    {
     "name": "stderr",
     "output_type": "stream",
     "text": [
      " 28%|██▊       | 516/1813 [1:20:45<2:40:13,  7.41s/it]"
     ]
    },
    {
     "name": "stdout",
     "output_type": "stream",
     "text": [
      "Saved  제9회 대한체육회장배 전국 스쿼시 선수권 대회 예선경기１ 전아인 LEEARIANANAYEON\n"
     ]
    },
    {
     "name": "stderr",
     "output_type": "stream",
     "text": [
      " 29%|██▊       | 517/1813 [1:21:02<3:41:28, 10.25s/it]"
     ]
    },
    {
     "name": "stdout",
     "output_type": "stream",
     "text": [
      "Saved  제9회 대한체육회장배 전국 스쿼시 선수권 대회 예선경기２ CHO OLIVIA IN YOUNG 최이안\n"
     ]
    },
    {
     "name": "stderr",
     "output_type": "stream",
     "text": [
      " 29%|██▊       | 518/1813 [1:21:09<3:19:59,  9.27s/it]"
     ]
    },
    {
     "name": "stdout",
     "output_type": "stream",
     "text": [
      "Saved  제9회 대한체육회장배 전국 스쿼시 선수권 대회 결승 전아인 CHO OLIVIA IN YOUNG\n"
     ]
    },
    {
     "name": "stderr",
     "output_type": "stream",
     "text": [
      " 29%|██▊       | 519/1813 [1:21:16<3:04:28,  8.55s/it]"
     ]
    },
    {
     "name": "stdout",
     "output_type": "stream",
     "text": [
      "Saved  제9회 대한체육회장배 전국 스쿼시 선수권 대회 예선경기１ 최유주 오승희\n"
     ]
    },
    {
     "name": "stderr",
     "output_type": "stream",
     "text": [
      " 29%|██▊       | 520/1813 [1:21:23<2:52:37,  8.01s/it]"
     ]
    },
    {
     "name": "stdout",
     "output_type": "stream",
     "text": [
      "Saved  제9회 대한체육회장배 전국 스쿼시 선수권 대회 예선경기２ 조민영 송동주\n",
      "Saved  제9회 대한체육회장배 전국 스쿼시 선수권 대회 예선경기３ 곽다연 박지연\n"
     ]
    },
    {
     "name": "stderr",
     "output_type": "stream",
     "text": [
      " 29%|██▊       | 521/1813 [1:21:30<2:47:59,  7.80s/it]"
     ]
    },
    {
     "name": "stdout",
     "output_type": "stream",
     "text": [
      "Saved  제9회 대한체육회장배 전국 스쿼시 선수권 대회 예선경기４ 김미소 김규리\n"
     ]
    },
    {
     "name": "stderr",
     "output_type": "stream",
     "text": [
      " 29%|██▉       | 523/1813 [1:21:52<3:16:03,  9.12s/it]"
     ]
    },
    {
     "name": "stdout",
     "output_type": "stream",
     "text": [
      "Saved  제9회 대한체육회장배 전국 스쿼시 선수권 대회 준결승경기１ 최유주 송동주\n"
     ]
    },
    {
     "name": "stderr",
     "output_type": "stream",
     "text": [
      " 29%|██▉       | 524/1813 [1:21:59<3:00:56,  8.42s/it]"
     ]
    },
    {
     "name": "stdout",
     "output_type": "stream",
     "text": [
      "Saved  제9회 대한체육회장배 전국 스쿼시 선수권 대회 준결승경기２ 곽다연 김규리\n"
     ]
    },
    {
     "name": "stderr",
     "output_type": "stream",
     "text": [
      " 29%|██▉       | 525/1813 [1:22:06<2:50:29,  7.94s/it]"
     ]
    },
    {
     "name": "stdout",
     "output_type": "stream",
     "text": [
      "Saved  제9회 대한체육회장배 전국 스쿼시 선수권 대회 결승 최유주 김규리\n"
     ]
    },
    {
     "name": "stderr",
     "output_type": "stream",
     "text": [
      " 29%|██▉       | 526/1813 [1:22:13<2:44:51,  7.69s/it]"
     ]
    },
    {
     "name": "stdout",
     "output_type": "stream",
     "text": [
      "Saved  제14회 회장배 전한국 스쿼시 선수권대회 예선경기２ 유성연 권순주\n"
     ]
    },
    {
     "name": "stderr",
     "output_type": "stream",
     "text": [
      " 29%|██▉       | 527/1813 [1:22:28<3:30:46,  9.83s/it]"
     ]
    },
    {
     "name": "stdout",
     "output_type": "stream",
     "text": [
      "Saved  제14회 회장배 전한국 스쿼시 선수권대회 예선경기 31 임재현 이동준\n"
     ]
    },
    {
     "name": "stderr",
     "output_type": "stream",
     "text": [
      " 29%|██▉       | 528/1813 [1:22:35<3:11:17,  8.93s/it]"
     ]
    },
    {
     "name": "stdout",
     "output_type": "stream",
     "text": [
      "Saved  제14회 회장배 전한국 스쿼시 선수권대회 준준준준결승 2 이동민 이현욱\n"
     ]
    },
    {
     "name": "stderr",
     "output_type": "stream",
     "text": [
      " 29%|██▉       | 529/1813 [1:22:42<2:59:56,  8.41s/it]"
     ]
    },
    {
     "name": "stdout",
     "output_type": "stream",
     "text": [
      "Saved  제14회 회장배 전한국 스쿼시 선수권대회 준준준준결승 3 최용수 최성은\n"
     ]
    },
    {
     "name": "stderr",
     "output_type": "stream",
     "text": [
      " 29%|██▉       | 530/1813 [1:22:49<2:50:12,  7.96s/it]"
     ]
    },
    {
     "name": "stdout",
     "output_type": "stream",
     "text": [
      "Saved  제14회 회장배 전한국 스쿼시 선수권대회 준준준준결승 4 박준현 권창혁\n"
     ]
    },
    {
     "name": "stderr",
     "output_type": "stream",
     "text": [
      " 29%|██▉       | 531/1813 [1:22:56<2:44:56,  7.72s/it]"
     ]
    },
    {
     "name": "stdout",
     "output_type": "stream",
     "text": [
      "Saved  제14회 회장배 전한국 스쿼시 선수권대회 준준준준결승 5 최동진 강한준\n"
     ]
    },
    {
     "name": "stderr",
     "output_type": "stream",
     "text": [
      " 29%|██▉       | 532/1813 [1:23:03<2:39:08,  7.45s/it]"
     ]
    },
    {
     "name": "stdout",
     "output_type": "stream",
     "text": [
      "Saved  제14회 회장배 전한국 스쿼시 선수권대회 준준준준결승 6 류한동 양성훈\n"
     ]
    },
    {
     "name": "stderr",
     "output_type": "stream",
     "text": [
      " 29%|██▉       | 533/1813 [1:23:20<3:40:31, 10.34s/it]"
     ]
    },
    {
     "name": "stdout",
     "output_type": "stream",
     "text": [
      "Saved  제14회 회장배 전한국 스쿼시 선수권대회 준준준준결승 7 이민 윤호진\n"
     ]
    },
    {
     "name": "stderr",
     "output_type": "stream",
     "text": [
      " 29%|██▉       | 534/1813 [1:23:27<3:18:38,  9.32s/it]"
     ]
    },
    {
     "name": "stdout",
     "output_type": "stream",
     "text": [
      "Saved  제14회 회장배 전한국 스쿼시 선수권대회 준준준준결승 8 장홍현 윤여훈\n"
     ]
    },
    {
     "name": "stderr",
     "output_type": "stream",
     "text": [
      " 30%|██▉       | 535/1813 [1:23:34<3:02:26,  8.57s/it]"
     ]
    },
    {
     "name": "stdout",
     "output_type": "stream",
     "text": [
      "Saved  제14회 회장배 전한국 스쿼시 선수권대회 준준준준결승 9 이동현 이원기\n"
     ]
    },
    {
     "name": "stderr",
     "output_type": "stream",
     "text": [
      " 30%|██▉       | 536/1813 [1:23:40<2:51:09,  8.04s/it]"
     ]
    },
    {
     "name": "stdout",
     "output_type": "stream",
     "text": [
      "Saved  제14회 회장배 전한국 스쿼시 선수권대회 준준준준결승 10 김예일 신헌수\n"
     ]
    },
    {
     "name": "stderr",
     "output_type": "stream",
     "text": [
      " 30%|██▉       | 537/1813 [1:23:47<2:44:03,  7.71s/it]"
     ]
    },
    {
     "name": "stdout",
     "output_type": "stream",
     "text": [
      "Saved  제14회 회장배 전한국 스쿼시 선수권대회 준준준준결승 11 최동민 임도원\n"
     ]
    },
    {
     "name": "stderr",
     "output_type": "stream",
     "text": [
      " 30%|██▉       | 538/1813 [1:24:02<3:30:53,  9.92s/it]"
     ]
    },
    {
     "name": "stdout",
     "output_type": "stream",
     "text": [
      "Saved  제14회 회장배 전한국 스쿼시 선수권대회 준준준준결승 12 오성학 이인우\n"
     ]
    },
    {
     "name": "stderr",
     "output_type": "stream",
     "text": [
      " 30%|██▉       | 539/1813 [1:24:10<3:12:29,  9.07s/it]"
     ]
    },
    {
     "name": "stdout",
     "output_type": "stream",
     "text": [
      "Saved  제14회 회장배 전한국 스쿼시 선수권대회 준준준준결승 13 조현성 서여준\n"
     ]
    },
    {
     "name": "stderr",
     "output_type": "stream",
     "text": [
      " 30%|██▉       | 540/1813 [1:24:16<2:58:00,  8.39s/it]"
     ]
    },
    {
     "name": "stdout",
     "output_type": "stream",
     "text": [
      "Saved  제14회 회장배 전한국 스쿼시 선수권대회 준준준준결승 1 신성문 유성연\n"
     ]
    },
    {
     "name": "stderr",
     "output_type": "stream",
     "text": [
      " 30%|██▉       | 541/1813 [1:24:23<2:48:30,  7.95s/it]"
     ]
    },
    {
     "name": "stdout",
     "output_type": "stream",
     "text": [
      "Saved  제14회 회장배 전한국 스쿼시 선수권대회 준준준준결승 14 김강민 원종수\n"
     ]
    },
    {
     "name": "stderr",
     "output_type": "stream",
     "text": [
      " 30%|██▉       | 542/1813 [1:24:30<2:43:40,  7.73s/it]"
     ]
    },
    {
     "name": "stdout",
     "output_type": "stream",
     "text": [
      "Saved  제14회 회장배 전한국 스쿼시 선수권대회 준준준준결승 15 오준혁 이승욱\n"
     ]
    },
    {
     "name": "stderr",
     "output_type": "stream",
     "text": [
      " 30%|██▉       | 543/1813 [1:24:37<2:38:08,  7.47s/it]"
     ]
    },
    {
     "name": "stdout",
     "output_type": "stream",
     "text": [
      "Saved  제14회 회장배 전한국 스쿼시 선수권대회 준준준준결승 16 이동준 김태규\n"
     ]
    },
    {
     "name": "stderr",
     "output_type": "stream",
     "text": [
      " 30%|███       | 544/1813 [1:24:54<3:36:43, 10.25s/it]"
     ]
    },
    {
     "name": "stdout",
     "output_type": "stream",
     "text": [
      "Saved  제14회 회장배 전한국 스쿼시 선수권대회 준준준결승경기２ 최성은 박준현\n"
     ]
    },
    {
     "name": "stderr",
     "output_type": "stream",
     "text": [
      " 30%|███       | 545/1813 [1:25:01<3:16:15,  9.29s/it]"
     ]
    },
    {
     "name": "stdout",
     "output_type": "stream",
     "text": [
      "Saved  제14회 회장배 전한국 스쿼시 선수권대회 준준준결승경기３ 최동진 류한동\n"
     ]
    },
    {
     "name": "stderr",
     "output_type": "stream",
     "text": [
      " 30%|███       | 546/1813 [1:25:08<3:00:19,  8.54s/it]"
     ]
    },
    {
     "name": "stdout",
     "output_type": "stream",
     "text": [
      "Saved  제14회 회장배 전한국 스쿼시 선수권대회 준준준결승경기４ 윤호진 윤여훈\n"
     ]
    },
    {
     "name": "stderr",
     "output_type": "stream",
     "text": [
      " 30%|███       | 547/1813 [1:25:15<2:50:17,  8.07s/it]"
     ]
    },
    {
     "name": "stdout",
     "output_type": "stream",
     "text": [
      "Saved  제14회 회장배 전한국 스쿼시 선수권대회 준준준결승경기５ 이동현 김예일\n"
     ]
    },
    {
     "name": "stderr",
     "output_type": "stream",
     "text": [
      " 30%|███       | 548/1813 [1:25:24<2:54:26,  8.27s/it]"
     ]
    },
    {
     "name": "stdout",
     "output_type": "stream",
     "text": [
      "Saved  제14회 회장배 전한국 스쿼시 선수권대회 준준준결승경기１ 유성연 이동민\n"
     ]
    },
    {
     "name": "stderr",
     "output_type": "stream",
     "text": [
      " 30%|███       | 549/1813 [1:25:39<3:36:35, 10.28s/it]"
     ]
    },
    {
     "name": "stdout",
     "output_type": "stream",
     "text": [
      "Saved  제14회 회장배 전한국 스쿼시 선수권대회 준준준결승경기６ 임도원 오성학\n"
     ]
    },
    {
     "name": "stderr",
     "output_type": "stream",
     "text": [
      " 30%|███       | 550/1813 [1:25:46<3:15:09,  9.27s/it]"
     ]
    },
    {
     "name": "stdout",
     "output_type": "stream",
     "text": [
      "Saved  제14회 회장배 전한국 스쿼시 선수권대회 준준준결승경기７ 서여준 원종수\n"
     ]
    },
    {
     "name": "stderr",
     "output_type": "stream",
     "text": [
      " 30%|███       | 551/1813 [1:25:52<2:59:09,  8.52s/it]"
     ]
    },
    {
     "name": "stdout",
     "output_type": "stream",
     "text": [
      "Saved  제14회 회장배 전한국 스쿼시 선수권대회 준준준결승경기８ 이승욱 이동준\n"
     ]
    },
    {
     "name": "stderr",
     "output_type": "stream",
     "text": [
      " 30%|███       | 552/1813 [1:25:59<2:47:57,  7.99s/it]"
     ]
    },
    {
     "name": "stdout",
     "output_type": "stream",
     "text": [
      "Saved  제14회 회장배 전한국 스쿼시 선수권대회 준준결승경기１ 유성연 박준현\n"
     ]
    },
    {
     "name": "stderr",
     "output_type": "stream",
     "text": [
      " 31%|███       | 553/1813 [1:26:06<2:41:51,  7.71s/it]"
     ]
    },
    {
     "name": "stdout",
     "output_type": "stream",
     "text": [
      "Saved  제14회 회장배 전한국 스쿼시 선수권대회 준준결승경기２ 류한동 윤호진\n"
     ]
    },
    {
     "name": "stderr",
     "output_type": "stream",
     "text": [
      " 31%|███       | 554/1813 [1:26:13<2:36:19,  7.45s/it]"
     ]
    },
    {
     "name": "stdout",
     "output_type": "stream",
     "text": [
      "Saved  제14회 회장배 전한국 스쿼시 선수권대회 준준결승경기３ 이동현 오성학\n"
     ]
    },
    {
     "name": "stderr",
     "output_type": "stream",
     "text": [
      " 31%|███       | 555/1813 [1:26:30<3:35:10, 10.26s/it]"
     ]
    },
    {
     "name": "stdout",
     "output_type": "stream",
     "text": [
      "Saved  제14회 회장배 전한국 스쿼시 선수권대회 준준결승경기４ 원종수 이동준\n"
     ]
    },
    {
     "name": "stderr",
     "output_type": "stream",
     "text": [
      " 31%|███       | 556/1813 [1:26:37<3:15:59,  9.35s/it]"
     ]
    },
    {
     "name": "stdout",
     "output_type": "stream",
     "text": [
      "Saved  제14회 회장배 전한국 스쿼시 선수권대회 준결승경기１ 유성연 류한동\n"
     ]
    },
    {
     "name": "stderr",
     "output_type": "stream",
     "text": [
      " 31%|███       | 557/1813 [1:26:44<3:01:17,  8.66s/it]"
     ]
    },
    {
     "name": "stdout",
     "output_type": "stream",
     "text": [
      "Saved  제14회 회장배 전한국 스쿼시 선수권대회 준결승경기２ 오성학 이동준\n"
     ]
    },
    {
     "name": "stderr",
     "output_type": "stream",
     "text": [
      " 31%|███       | 558/1813 [1:26:51<2:50:28,  8.15s/it]"
     ]
    },
    {
     "name": "stdout",
     "output_type": "stream",
     "text": [
      "Saved  제14회 회장배 전한국 스쿼시 선수권대회 결승 유성연 이동준\n"
     ]
    },
    {
     "name": "stderr",
     "output_type": "stream",
     "text": [
      " 31%|███       | 559/1813 [1:26:58<2:42:01,  7.75s/it]"
     ]
    },
    {
     "name": "stdout",
     "output_type": "stream",
     "text": [
      "Saved  제14회 회장배 전한국 스쿼시 선수권대회 예선경기２ 엄수원 김태엽\n"
     ]
    },
    {
     "name": "stderr",
     "output_type": "stream",
     "text": [
      " 31%|███       | 560/1813 [1:27:13<3:26:35,  9.89s/it]"
     ]
    },
    {
     "name": "stdout",
     "output_type": "stream",
     "text": [
      "Saved  제14회 회장배 전한국 스쿼시 선수권대회 예선경기７ 황중찬 박요한\n"
     ]
    },
    {
     "name": "stderr",
     "output_type": "stream",
     "text": [
      " 31%|███       | 561/1813 [1:27:20<3:07:56,  9.01s/it]"
     ]
    },
    {
     "name": "stdout",
     "output_type": "stream",
     "text": [
      "Saved  제14회 회장배 전한국 스쿼시 선수권대회 예선경기１０ 오민재 최성훈\n"
     ]
    },
    {
     "name": "stderr",
     "output_type": "stream",
     "text": [
      " 31%|███       | 562/1813 [1:27:27<2:55:01,  8.39s/it]"
     ]
    },
    {
     "name": "stdout",
     "output_type": "stream",
     "text": [
      "Saved  제14회 회장배 전한국 스쿼시 선수권대회 예선경기１５ 최원석 이상훈\n"
     ]
    },
    {
     "name": "stderr",
     "output_type": "stream",
     "text": [
      " 31%|███       | 563/1813 [1:27:33<2:44:47,  7.91s/it]"
     ]
    },
    {
     "name": "stdout",
     "output_type": "stream",
     "text": [
      "Saved  제14회 회장배 전한국 스쿼시 선수권대회 준준준결승경기１ 유재진 엄수원\n"
     ]
    },
    {
     "name": "stderr",
     "output_type": "stream",
     "text": [
      " 31%|███       | 564/1813 [1:27:40<2:37:48,  7.58s/it]"
     ]
    },
    {
     "name": "stdout",
     "output_type": "stream",
     "text": [
      "Saved  제14회 회장배 전한국 스쿼시 선수권대회 준준준결승경기２ 유승범 정대훈\n"
     ]
    },
    {
     "name": "stderr",
     "output_type": "stream",
     "text": [
      " 31%|███       | 565/1813 [1:27:55<3:24:09,  9.82s/it]"
     ]
    },
    {
     "name": "stdout",
     "output_type": "stream",
     "text": [
      "Saved  제14회 회장배 전한국 스쿼시 선수권대회 준준준결승경기３ 김현용 한승철\n",
      "Saved  제14회 회장배 전한국 스쿼시 선수권대회 준준준결승경기４ 황중찬 최창환\n"
     ]
    },
    {
     "name": "stderr",
     "output_type": "stream",
     "text": [
      " 31%|███▏      | 567/1813 [1:28:09<2:52:33,  8.31s/it]"
     ]
    },
    {
     "name": "stdout",
     "output_type": "stream",
     "text": [
      "Saved  제14회 회장배 전한국 스쿼시 선수권대회 준준준결승경기５ 길재호 오민재\n"
     ]
    },
    {
     "name": "stderr",
     "output_type": "stream",
     "text": [
      " 31%|███▏      | 568/1813 [1:28:16<2:42:38,  7.84s/it]"
     ]
    },
    {
     "name": "stdout",
     "output_type": "stream",
     "text": [
      "Saved  제14회 회장배 전한국 스쿼시 선수권대회 준준준결승경기６ 이단대 고영조\n",
      "Saved  제14회 회장배 전한국 스쿼시 선수권대회 준준준결승경기７ 이승훈 탁형진\n"
     ]
    },
    {
     "name": "stderr",
     "output_type": "stream",
     "text": [
      " 31%|███▏      | 570/1813 [1:28:30<2:32:56,  7.38s/it]"
     ]
    },
    {
     "name": "stdout",
     "output_type": "stream",
     "text": [
      "Saved  제14회 회장배 전한국 스쿼시 선수권대회 준준준결승경기８ 최원석 박종명\n"
     ]
    },
    {
     "name": "stderr",
     "output_type": "stream",
     "text": [
      " 31%|███▏      | 571/1813 [1:28:47<3:32:29, 10.26s/it]"
     ]
    },
    {
     "name": "stdout",
     "output_type": "stream",
     "text": [
      "Saved  제14회 회장배 전한국 스쿼시 선수권대회 준준결승경기１ 유재진 정대훈\n"
     ]
    },
    {
     "name": "stderr",
     "output_type": "stream",
     "text": [
      " 32%|███▏      | 572/1813 [1:28:53<3:10:56,  9.23s/it]"
     ]
    },
    {
     "name": "stdout",
     "output_type": "stream",
     "text": [
      "Saved  제14회 회장배 전한국 스쿼시 선수권대회 준준결승경기２ 한승철 황중찬\n"
     ]
    },
    {
     "name": "stderr",
     "output_type": "stream",
     "text": [
      " 32%|███▏      | 573/1813 [1:29:00<2:56:37,  8.55s/it]"
     ]
    },
    {
     "name": "stdout",
     "output_type": "stream",
     "text": [
      "Saved  제14회 회장배 전한국 스쿼시 선수권대회 준준결승경기３ 오민재 고영조\n"
     ]
    },
    {
     "name": "stderr",
     "output_type": "stream",
     "text": [
      " 32%|███▏      | 574/1813 [1:29:07<2:46:38,  8.07s/it]"
     ]
    },
    {
     "name": "stdout",
     "output_type": "stream",
     "text": [
      "Saved  제14회 회장배 전한국 스쿼시 선수권대회 준준결승경기４ 탁형진 박종명\n"
     ]
    },
    {
     "name": "stderr",
     "output_type": "stream",
     "text": [
      " 32%|███▏      | 575/1813 [1:29:15<2:40:57,  7.80s/it]"
     ]
    },
    {
     "name": "stdout",
     "output_type": "stream",
     "text": [
      "Saved  제14회 회장배 전한국 스쿼시 선수권대회 준결승경기１ 유재진 한승철\n"
     ]
    },
    {
     "name": "stderr",
     "output_type": "stream",
     "text": [
      " 32%|███▏      | 576/1813 [1:29:29<3:24:17,  9.91s/it]"
     ]
    },
    {
     "name": "stdout",
     "output_type": "stream",
     "text": [
      "Saved  제14회 회장배 전한국 스쿼시 선수권대회 준결승경기２ 고영조 박종명\n"
     ]
    },
    {
     "name": "stderr",
     "output_type": "stream",
     "text": [
      " 32%|███▏      | 577/1813 [1:29:39<3:20:08,  9.72s/it]"
     ]
    },
    {
     "name": "stdout",
     "output_type": "stream",
     "text": [
      "Saved  제14회 회장배 전한국 스쿼시 선수권대회 결승 유재진 고영조\n"
     ]
    },
    {
     "name": "stderr",
     "output_type": "stream",
     "text": [
      " 32%|███▏      | 578/1813 [1:29:53<3:50:30, 11.20s/it]"
     ]
    },
    {
     "name": "stdout",
     "output_type": "stream",
     "text": [
      "Saved  제14회 회장배 전한국 스쿼시 선수권대회 예선경기２ 김태우 사공현\n",
      "Saved  제14회 회장배 전한국 스쿼시 선수권대회 예선경기 31 김현준 황지훈\n"
     ]
    },
    {
     "name": "stderr",
     "output_type": "stream",
     "text": [
      " 32%|███▏      | 579/1813 [1:30:02<3:32:32, 10.33s/it]"
     ]
    },
    {
     "name": "stdout",
     "output_type": "stream",
     "text": [
      "Saved  제14회 회장배 전한국 스쿼시 선수권대회 준준준준결승 1 이세현 김태우\n"
     ]
    },
    {
     "name": "stderr",
     "output_type": "stream",
     "text": [
      " 32%|███▏      | 581/1813 [1:30:21<3:31:32, 10.30s/it]"
     ]
    },
    {
     "name": "stdout",
     "output_type": "stream",
     "text": [
      "Saved  제14회 회장배 전한국 스쿼시 선수권대회 준준준준결승 2 김규호 진수철\n"
     ]
    },
    {
     "name": "stderr",
     "output_type": "stream",
     "text": [
      " 32%|███▏      | 582/1813 [1:31:01<6:29:54, 19.00s/it]"
     ]
    },
    {
     "name": "stdout",
     "output_type": "stream",
     "text": [
      "Saved  제14회 회장배 전한국 스쿼시 선수권대회 준준준준결승 3 김성영 임지훈\n"
     ]
    },
    {
     "name": "stderr",
     "output_type": "stream",
     "text": [
      " 32%|███▏      | 583/1813 [1:31:15<5:58:57, 17.51s/it]"
     ]
    },
    {
     "name": "stdout",
     "output_type": "stream",
     "text": [
      "Saved  제14회 회장배 전한국 스쿼시 선수권대회 준준준준결승 4 허재선 우창욱\n"
     ]
    },
    {
     "name": "stderr",
     "output_type": "stream",
     "text": [
      " 32%|███▏      | 584/1813 [1:31:32<5:55:53, 17.37s/it]"
     ]
    },
    {
     "name": "stdout",
     "output_type": "stream",
     "text": [
      "Saved  제14회 회장배 전한국 스쿼시 선수권대회 준준준준결승 5 유용민 김태년\n"
     ]
    },
    {
     "name": "stderr",
     "output_type": "stream",
     "text": [
      " 32%|███▏      | 585/1813 [1:31:50<6:02:13, 17.70s/it]"
     ]
    },
    {
     "name": "stdout",
     "output_type": "stream",
     "text": [
      "Saved  제14회 회장배 전한국 스쿼시 선수권대회 준준준준결승 6 이호국 이년호\n"
     ]
    },
    {
     "name": "stderr",
     "output_type": "stream",
     "text": [
      " 32%|███▏      | 586/1813 [1:32:08<6:00:34, 17.63s/it]"
     ]
    },
    {
     "name": "stdout",
     "output_type": "stream",
     "text": [
      "Saved  제14회 회장배 전한국 스쿼시 선수권대회 준준준준결승 7 유승룡 최상철\n"
     ]
    },
    {
     "name": "stderr",
     "output_type": "stream",
     "text": [
      " 32%|███▏      | 587/1813 [1:32:26<6:04:23, 17.83s/it]"
     ]
    },
    {
     "name": "stdout",
     "output_type": "stream",
     "text": [
      "Saved  제14회 회장배 전한국 스쿼시 선수권대회 준준준준결승 8 한상철 김현동\n"
     ]
    },
    {
     "name": "stderr",
     "output_type": "stream",
     "text": [
      " 32%|███▏      | 588/1813 [1:32:43<5:57:33, 17.51s/it]"
     ]
    },
    {
     "name": "stdout",
     "output_type": "stream",
     "text": [
      "Saved  제14회 회장배 전한국 스쿼시 선수권대회 준준준준결승 9 이건동 강석환\n"
     ]
    },
    {
     "name": "stderr",
     "output_type": "stream",
     "text": [
      " 32%|███▏      | 589/1813 [1:33:47<10:40:43, 31.41s/it]"
     ]
    },
    {
     "name": "stdout",
     "output_type": "stream",
     "text": [
      "Saved  제14회 회장배 전한국 스쿼시 선수권대회 준준준준결승 10 진승우 류승한\n"
     ]
    },
    {
     "name": "stderr",
     "output_type": "stream",
     "text": [
      " 33%|███▎      | 590/1813 [1:33:57<8:29:51, 25.01s/it] "
     ]
    },
    {
     "name": "stdout",
     "output_type": "stream",
     "text": [
      "Saved  제14회 회장배 전한국 스쿼시 선수권대회 준준준준결승 11 윤태용 김재완\n"
     ]
    },
    {
     "name": "stderr",
     "output_type": "stream",
     "text": [
      " 33%|███▎      | 591/1813 [1:34:06<6:55:34, 20.40s/it]"
     ]
    },
    {
     "name": "stdout",
     "output_type": "stream",
     "text": [
      "Saved  제14회 회장배 전한국 스쿼시 선수권대회 준준준준결승 12 최규희 이승준\n"
     ]
    },
    {
     "name": "stderr",
     "output_type": "stream",
     "text": [
      " 33%|███▎      | 592/1813 [1:34:21<6:21:24, 18.74s/it]"
     ]
    },
    {
     "name": "stdout",
     "output_type": "stream",
     "text": [
      "Saved  제14회 회장배 전한국 스쿼시 선수권대회 준준준준결승 13 최정운 한성수\n"
     ]
    },
    {
     "name": "stderr",
     "output_type": "stream",
     "text": [
      " 33%|███▎      | 593/1813 [1:34:30<5:22:34, 15.86s/it]"
     ]
    },
    {
     "name": "stdout",
     "output_type": "stream",
     "text": [
      "Saved  제14회 회장배 전한국 스쿼시 선수권대회 준준준준결승 14 정민채 이승택\n"
     ]
    },
    {
     "name": "stderr",
     "output_type": "stream",
     "text": [
      " 33%|███▎      | 594/1813 [1:34:43<5:03:32, 14.94s/it]"
     ]
    },
    {
     "name": "stdout",
     "output_type": "stream",
     "text": [
      "Saved  제14회 회장배 전한국 스쿼시 선수권대회 준준준준결승 15 박정규 최동훈\n"
     ]
    },
    {
     "name": "stderr",
     "output_type": "stream",
     "text": [
      " 33%|███▎      | 595/1813 [1:34:50<4:15:43, 12.60s/it]"
     ]
    },
    {
     "name": "stdout",
     "output_type": "stream",
     "text": [
      "Saved  제14회 회장배 전한국 스쿼시 선수권대회 준준준준결승 16 황지훈 황중원\n"
     ]
    },
    {
     "name": "stderr",
     "output_type": "stream",
     "text": [
      " 33%|███▎      | 596/1813 [1:34:57<3:41:42, 10.93s/it]"
     ]
    },
    {
     "name": "stdout",
     "output_type": "stream",
     "text": [
      "Saved  제14회 회장배 전한국 스쿼시 선수권대회 준준준결승경기１ 이세현 진수철\n"
     ]
    },
    {
     "name": "stderr",
     "output_type": "stream",
     "text": [
      " 33%|███▎      | 597/1813 [1:35:04<3:17:19,  9.74s/it]"
     ]
    },
    {
     "name": "stdout",
     "output_type": "stream",
     "text": [
      "Saved  제14회 회장배 전한국 스쿼시 선수권대회 준준준결승경기２ 김성영 우창욱\n"
     ]
    },
    {
     "name": "stderr",
     "output_type": "stream",
     "text": [
      " 33%|███▎      | 598/1813 [1:35:24<4:15:04, 12.60s/it]"
     ]
    },
    {
     "name": "stdout",
     "output_type": "stream",
     "text": [
      "Saved  제14회 회장배 전한국 스쿼시 선수권대회 준준준결승경기３ 유용민 이년호\n"
     ]
    },
    {
     "name": "stderr",
     "output_type": "stream",
     "text": [
      " 33%|███▎      | 599/1813 [1:35:44<5:02:14, 14.94s/it]"
     ]
    },
    {
     "name": "stdout",
     "output_type": "stream",
     "text": [
      "Saved  제14회 회장배 전한국 스쿼시 선수권대회 준준준결승경기４ 유승룡 김현동\n"
     ]
    },
    {
     "name": "stderr",
     "output_type": "stream",
     "text": [
      " 33%|███▎      | 600/1813 [1:36:14<6:30:31, 19.32s/it]"
     ]
    },
    {
     "name": "stdout",
     "output_type": "stream",
     "text": [
      "Saved  제14회 회장배 전한국 스쿼시 선수권대회 준준준결승경기５ 이건동 진승우\n"
     ]
    },
    {
     "name": "stderr",
     "output_type": "stream",
     "text": [
      " 33%|███▎      | 601/1813 [1:36:30<6:11:01, 18.37s/it]"
     ]
    },
    {
     "name": "stdout",
     "output_type": "stream",
     "text": [
      "Saved  제14회 회장배 전한국 스쿼시 선수권대회 준준준결승경기６ 김재완 이승준\n"
     ]
    },
    {
     "name": "stderr",
     "output_type": "stream",
     "text": [
      " 33%|███▎      | 602/1813 [1:36:51<6:27:50, 19.22s/it]"
     ]
    },
    {
     "name": "stdout",
     "output_type": "stream",
     "text": [
      "Saved  제14회 회장배 전한국 스쿼시 선수권대회 준준준결승경기７ 한성수 이승택\n"
     ]
    },
    {
     "name": "stderr",
     "output_type": "stream",
     "text": [
      " 33%|███▎      | 603/1813 [1:37:46<10:05:24, 30.02s/it]"
     ]
    },
    {
     "name": "stdout",
     "output_type": "stream",
     "text": [
      "Saved  제14회 회장배 전한국 스쿼시 선수권대회 준준준결승경기８ 박정규 황중원\n"
     ]
    },
    {
     "name": "stderr",
     "output_type": "stream",
     "text": [
      " 33%|███▎      | 604/1813 [1:38:06<9:04:57, 27.04s/it] "
     ]
    },
    {
     "name": "stdout",
     "output_type": "stream",
     "text": [
      "Saved  제14회 회장배 전한국 스쿼시 선수권대회 준준결승경기１ 이세현 김성영\n"
     ]
    },
    {
     "name": "stderr",
     "output_type": "stream",
     "text": [
      " 33%|███▎      | 605/1813 [1:38:34<9:06:38, 27.15s/it]"
     ]
    },
    {
     "name": "stdout",
     "output_type": "stream",
     "text": [
      "Saved  제14회 회장배 전한국 스쿼시 선수권대회 준준결승경기２ 이년호 유승룡\n"
     ]
    },
    {
     "name": "stderr",
     "output_type": "stream",
     "text": [
      " 33%|███▎      | 606/1813 [1:38:51<8:09:50, 24.35s/it]"
     ]
    },
    {
     "name": "stdout",
     "output_type": "stream",
     "text": [
      "Saved  제14회 회장배 전한국 스쿼시 선수권대회 준준결승경기３ 이건동 이승준\n"
     ]
    },
    {
     "name": "stderr",
     "output_type": "stream",
     "text": [
      " 33%|███▎      | 607/1813 [1:39:05<7:06:10, 21.20s/it]"
     ]
    },
    {
     "name": "stdout",
     "output_type": "stream",
     "text": [
      "Saved  제14회 회장배 전한국 스쿼시 선수권대회 준준결승경기４ 이승택 황중원\n"
     ]
    },
    {
     "name": "stderr",
     "output_type": "stream",
     "text": [
      " 34%|███▎      | 608/1813 [1:39:20<6:28:30, 19.34s/it]"
     ]
    },
    {
     "name": "stdout",
     "output_type": "stream",
     "text": [
      "Saved  제14회 회장배 전한국 스쿼시 선수권대회 준결승경기１ 이세현 유승룡\n"
     ]
    },
    {
     "name": "stderr",
     "output_type": "stream",
     "text": [
      " 34%|███▎      | 609/1813 [1:39:29<5:24:26, 16.17s/it]"
     ]
    },
    {
     "name": "stdout",
     "output_type": "stream",
     "text": [
      "Saved  제14회 회장배 전한국 스쿼시 선수권대회 준결승경기２ 이승준 이승택\n"
     ]
    },
    {
     "name": "stderr",
     "output_type": "stream",
     "text": [
      " 34%|███▎      | 610/1813 [1:39:36<4:27:21, 13.33s/it]"
     ]
    },
    {
     "name": "stdout",
     "output_type": "stream",
     "text": [
      "Saved  제14회 회장배 전한국 스쿼시 선수권대회 결승 이세현 이승준\n"
     ]
    },
    {
     "name": "stderr",
     "output_type": "stream",
     "text": [
      " 34%|███▎      | 611/1813 [1:39:43<3:47:29, 11.36s/it]"
     ]
    },
    {
     "name": "stdout",
     "output_type": "stream",
     "text": [
      "Saved  제14회 회장배 전한국 스쿼시 선수권대회 예선경기２ 김하은 황유란\n"
     ]
    },
    {
     "name": "stderr",
     "output_type": "stream",
     "text": [
      " 34%|███▍      | 612/1813 [1:39:49<3:20:14, 10.00s/it]"
     ]
    },
    {
     "name": "stdout",
     "output_type": "stream",
     "text": [
      "Saved  제14회 회장배 전한국 스쿼시 선수권대회 예선경기１５ 최예솔 장유진\n"
     ]
    },
    {
     "name": "stderr",
     "output_type": "stream",
     "text": [
      " 34%|███▍      | 613/1813 [1:39:56<3:01:16,  9.06s/it]"
     ]
    },
    {
     "name": "stdout",
     "output_type": "stream",
     "text": [
      "Saved  제14회 회장배 전한국 스쿼시 선수권대회 준준준결승경기２ 김가은 선나라\n"
     ]
    },
    {
     "name": "stderr",
     "output_type": "stream",
     "text": [
      " 34%|███▍      | 614/1813 [1:40:13<3:46:49, 11.35s/it]"
     ]
    },
    {
     "name": "stdout",
     "output_type": "stream",
     "text": [
      "Saved  제14회 회장배 전한국 스쿼시 선수권대회 준준준결승경기３ 김유라 김조은\n"
     ]
    },
    {
     "name": "stderr",
     "output_type": "stream",
     "text": [
      " 34%|███▍      | 615/1813 [1:40:46<5:56:01, 17.83s/it]"
     ]
    },
    {
     "name": "stdout",
     "output_type": "stream",
     "text": [
      "Saved  제14회 회장배 전한국 스쿼시 선수권대회 준준준결승경기４ 김민영 김예지\n"
     ]
    },
    {
     "name": "stderr",
     "output_type": "stream",
     "text": [
      " 34%|███▍      | 616/1813 [1:41:22<7:43:41, 23.24s/it]"
     ]
    },
    {
     "name": "stdout",
     "output_type": "stream",
     "text": [
      "Saved  제14회 회장배 전한국 스쿼시 선수권대회 준준준결승경기５ 성제은 김은향\n"
     ]
    },
    {
     "name": "stderr",
     "output_type": "stream",
     "text": [
      " 34%|███▍      | 617/1813 [1:41:43<7:28:52, 22.52s/it]"
     ]
    },
    {
     "name": "stdout",
     "output_type": "stream",
     "text": [
      "Saved  제14회 회장배 전한국 스쿼시 선수권대회 준준준결승경기１ 박은희 김하은\n"
     ]
    },
    {
     "name": "stderr",
     "output_type": "stream",
     "text": [
      " 34%|███▍      | 618/1813 [1:42:03<7:18:37, 22.02s/it]"
     ]
    },
    {
     "name": "stdout",
     "output_type": "stream",
     "text": [
      "Saved  제14회 회장배 전한국 스쿼시 선수권대회 준준준결승경기６ 허민경 황하윤\n"
     ]
    },
    {
     "name": "stderr",
     "output_type": "stream",
     "text": [
      " 34%|███▍      | 619/1813 [1:42:18<6:35:39, 19.88s/it]"
     ]
    },
    {
     "name": "stdout",
     "output_type": "stream",
     "text": [
      "Saved  제14회 회장배 전한국 스쿼시 선수권대회 준준준결승경기７ 김주현 김민지\n"
     ]
    },
    {
     "name": "stderr",
     "output_type": "stream",
     "text": [
      " 34%|███▍      | 620/1813 [1:42:33<6:04:43, 18.34s/it]"
     ]
    },
    {
     "name": "stdout",
     "output_type": "stream",
     "text": [
      "Saved  제14회 회장배 전한국 스쿼시 선수권대회 준준준결승경기８ 장유진 윤상은\n"
     ]
    },
    {
     "name": "stderr",
     "output_type": "stream",
     "text": [
      " 34%|███▍      | 621/1813 [1:42:43<5:11:16, 15.67s/it]"
     ]
    },
    {
     "name": "stdout",
     "output_type": "stream",
     "text": [
      "Saved  제14회 회장배 전한국 스쿼시 선수권대회 준준결승경기１ 박은희 선나라\n"
     ]
    },
    {
     "name": "stderr",
     "output_type": "stream",
     "text": [
      " 34%|███▍      | 622/1813 [1:42:52<4:36:15, 13.92s/it]"
     ]
    },
    {
     "name": "stdout",
     "output_type": "stream",
     "text": [
      "Saved  제14회 회장배 전한국 스쿼시 선수권대회 준준결승경기２ 김조은 김민영\n"
     ]
    },
    {
     "name": "stderr",
     "output_type": "stream",
     "text": [
      " 34%|███▍      | 623/1813 [1:42:59<3:53:40, 11.78s/it]"
     ]
    },
    {
     "name": "stdout",
     "output_type": "stream",
     "text": [
      "Saved  제14회 회장배 전한국 스쿼시 선수권대회 준준결승경기３ 성제은 허민경\n"
     ]
    },
    {
     "name": "stderr",
     "output_type": "stream",
     "text": [
      " 34%|███▍      | 624/1813 [1:43:06<3:23:55, 10.29s/it]"
     ]
    },
    {
     "name": "stdout",
     "output_type": "stream",
     "text": [
      "Saved  제14회 회장배 전한국 스쿼시 선수권대회 준준결승경기４ 김민지 장유진\n"
     ]
    },
    {
     "name": "stderr",
     "output_type": "stream",
     "text": [
      " 34%|███▍      | 625/1813 [1:43:23<4:02:41, 12.26s/it]"
     ]
    },
    {
     "name": "stdout",
     "output_type": "stream",
     "text": [
      "Saved  제14회 회장배 전한국 스쿼시 선수권대회 준결승경기１ 박은희 김조은\n"
     ]
    },
    {
     "name": "stderr",
     "output_type": "stream",
     "text": [
      " 35%|███▍      | 626/1813 [1:43:30<3:29:50, 10.61s/it]"
     ]
    },
    {
     "name": "stdout",
     "output_type": "stream",
     "text": [
      "Saved  제14회 회장배 전한국 스쿼시 선수권대회 준결승경기２ 허민경 장유진\n"
     ]
    },
    {
     "name": "stderr",
     "output_type": "stream",
     "text": [
      " 35%|███▍      | 627/1813 [1:43:37<3:07:56,  9.51s/it]"
     ]
    },
    {
     "name": "stdout",
     "output_type": "stream",
     "text": [
      "Saved  제14회 회장배 전한국 스쿼시 선수권대회 결승 김조은 허민경\n"
     ]
    },
    {
     "name": "stderr",
     "output_type": "stream",
     "text": [
      " 35%|███▍      | 628/1813 [1:43:44<2:52:52,  8.75s/it]"
     ]
    },
    {
     "name": "stdout",
     "output_type": "stream",
     "text": [
      "Saved  제14회 회장배 전한국 스쿼시 선수권대회 예선경기１ 이지현 김선희\n"
     ]
    },
    {
     "name": "stderr",
     "output_type": "stream",
     "text": [
      " 35%|███▍      | 629/1813 [1:43:50<2:41:25,  8.18s/it]"
     ]
    },
    {
     "name": "stdout",
     "output_type": "stream",
     "text": [
      "Saved  제14회 회장배 전한국 스쿼시 선수권대회 예선경기２ 제연정 김상미\n"
     ]
    },
    {
     "name": "stderr",
     "output_type": "stream",
     "text": [
      " 35%|███▍      | 630/1813 [1:44:05<3:20:29, 10.17s/it]"
     ]
    },
    {
     "name": "stdout",
     "output_type": "stream",
     "text": [
      "Saved  제14회 회장배 전한국 스쿼시 선수권대회 예선경기３ 장유빈 김미진\n"
     ]
    },
    {
     "name": "stderr",
     "output_type": "stream",
     "text": [
      " 35%|███▍      | 631/1813 [1:44:12<3:00:16,  9.15s/it]"
     ]
    },
    {
     "name": "stdout",
     "output_type": "stream",
     "text": [
      "Saved  제14회 회장배 전한국 스쿼시 선수권대회 예선경기４ 엄화영 최유라\n"
     ]
    },
    {
     "name": "stderr",
     "output_type": "stream",
     "text": [
      " 35%|███▍      | 632/1813 [1:44:19<2:46:49,  8.48s/it]"
     ]
    },
    {
     "name": "stdout",
     "output_type": "stream",
     "text": [
      "Saved  제14회 회장배 전한국 스쿼시 선수권대회 준결승경기１ 이지현 김상미\n"
     ]
    },
    {
     "name": "stderr",
     "output_type": "stream",
     "text": [
      " 35%|███▍      | 633/1813 [1:44:26<2:36:10,  7.94s/it]"
     ]
    },
    {
     "name": "stdout",
     "output_type": "stream",
     "text": [
      "Saved  제14회 회장배 전한국 스쿼시 선수권대회 준결승경기２ 김미진 엄화영\n"
     ]
    },
    {
     "name": "stderr",
     "output_type": "stream",
     "text": [
      " 35%|███▍      | 634/1813 [1:44:32<2:29:06,  7.59s/it]"
     ]
    },
    {
     "name": "stdout",
     "output_type": "stream",
     "text": [
      "Saved  제14회 회장배 전한국 스쿼시 선수권대회 결승 이지현 엄화영\n"
     ]
    },
    {
     "name": "stderr",
     "output_type": "stream",
     "text": [
      " 35%|███▌      | 635/1813 [1:44:47<3:11:23,  9.75s/it]"
     ]
    },
    {
     "name": "stdout",
     "output_type": "stream",
     "text": [
      "Saved  제14회 회장배 전한국 스쿼시 선수권대회 예선경기１ 박은옥 김민영\n"
     ]
    },
    {
     "name": "stderr",
     "output_type": "stream",
     "text": [
      " 35%|███▌      | 636/1813 [1:44:54<2:55:36,  8.95s/it]"
     ]
    },
    {
     "name": "stdout",
     "output_type": "stream",
     "text": [
      "Saved  제14회 회장배 전한국 스쿼시 선수권대회 예선경기２ 김선임 강영진\n"
     ]
    },
    {
     "name": "stderr",
     "output_type": "stream",
     "text": [
      " 35%|███▌      | 637/1813 [1:45:01<2:43:00,  8.32s/it]"
     ]
    },
    {
     "name": "stdout",
     "output_type": "stream",
     "text": [
      "Saved  제14회 회장배 전한국 스쿼시 선수권대회 예선경기３ 배찬미 박미림\n"
     ]
    },
    {
     "name": "stderr",
     "output_type": "stream",
     "text": [
      " 35%|███▌      | 638/1813 [1:45:08<2:34:19,  7.88s/it]"
     ]
    },
    {
     "name": "stdout",
     "output_type": "stream",
     "text": [
      "Saved  제14회 회장배 전한국 스쿼시 선수권대회 예선경기４ 박민주 김순여\n"
     ]
    },
    {
     "name": "stderr",
     "output_type": "stream",
     "text": [
      " 35%|███▌      | 639/1813 [1:45:15<2:30:31,  7.69s/it]"
     ]
    },
    {
     "name": "stdout",
     "output_type": "stream",
     "text": [
      "Saved  제14회 회장배 전한국 스쿼시 선수권대회 예선경기５ 김가혜 안예진\n"
     ]
    },
    {
     "name": "stderr",
     "output_type": "stream",
     "text": [
      " 35%|███▌      | 640/1813 [1:45:37<3:50:59, 11.82s/it]"
     ]
    },
    {
     "name": "stdout",
     "output_type": "stream",
     "text": [
      "Saved  제14회 회장배 전한국 스쿼시 선수권대회 예선경기６ 성화영 김은순\n"
     ]
    },
    {
     "name": "stderr",
     "output_type": "stream",
     "text": [
      " 35%|███▌      | 641/1813 [1:45:56<4:34:03, 14.03s/it]"
     ]
    },
    {
     "name": "stdout",
     "output_type": "stream",
     "text": [
      "Saved  제14회 회장배 전한국 스쿼시 선수권대회 예선경기７ 박진주 김아현\n"
     ]
    },
    {
     "name": "stderr",
     "output_type": "stream",
     "text": [
      " 35%|███▌      | 642/1813 [1:46:05<4:03:24, 12.47s/it]"
     ]
    },
    {
     "name": "stdout",
     "output_type": "stream",
     "text": [
      "Saved  제14회 회장배 전한국 스쿼시 선수권대회 예선경기８ 성은미 양연수\n",
      "Saved  제14회 회장배 전한국 스쿼시 선수권대회 준준결승경기１ 박은옥 김선임\n"
     ]
    },
    {
     "name": "stderr",
     "output_type": "stream",
     "text": [
      " 36%|███▌      | 644/1813 [1:46:19<3:08:42,  9.69s/it]"
     ]
    },
    {
     "name": "stdout",
     "output_type": "stream",
     "text": [
      "Saved  제14회 회장배 전한국 스쿼시 선수권대회 준준결승경기２ 배찬미 박민주\n"
     ]
    },
    {
     "name": "stderr",
     "output_type": "stream",
     "text": [
      " 36%|███▌      | 645/1813 [1:46:25<2:50:47,  8.77s/it]"
     ]
    },
    {
     "name": "stdout",
     "output_type": "stream",
     "text": [
      "Saved  제14회 회장배 전한국 스쿼시 선수권대회 준준결승경기３ 김가혜 성화영\n"
     ]
    },
    {
     "name": "stderr",
     "output_type": "stream",
     "text": [
      " 36%|███▌      | 646/1813 [1:46:40<3:25:58, 10.59s/it]"
     ]
    },
    {
     "name": "stdout",
     "output_type": "stream",
     "text": [
      "Saved  제14회 회장배 전한국 스쿼시 선수권대회 준준결승경기４ 김아현 양연수\n"
     ]
    },
    {
     "name": "stderr",
     "output_type": "stream",
     "text": [
      " 36%|███▌      | 647/1813 [1:46:47<3:03:58,  9.47s/it]"
     ]
    },
    {
     "name": "stdout",
     "output_type": "stream",
     "text": [
      "Saved  제14회 회장배 전한국 스쿼시 선수권대회 준결승경기１ 박은옥 박민주\n"
     ]
    },
    {
     "name": "stderr",
     "output_type": "stream",
     "text": [
      " 36%|███▌      | 648/1813 [1:46:54<2:48:06,  8.66s/it]"
     ]
    },
    {
     "name": "stdout",
     "output_type": "stream",
     "text": [
      "Saved  제14회 회장배 전한국 스쿼시 선수권대회 준결승경기２ 김가혜 양연수\n"
     ]
    },
    {
     "name": "stderr",
     "output_type": "stream",
     "text": [
      " 36%|███▌      | 649/1813 [1:47:02<2:47:17,  8.62s/it]"
     ]
    },
    {
     "name": "stdout",
     "output_type": "stream",
     "text": [
      "Saved  제14회 회장배 전한국 스쿼시 선수권대회 결승 박은옥 김가혜\n",
      "Saved  제14회 회장배 전한국 스쿼시 선수권대회 예선경기２ 강우석 노대경\n"
     ]
    },
    {
     "name": "stderr",
     "output_type": "stream",
     "text": [
      " 36%|███▌      | 651/1813 [1:47:16<2:28:54,  7.69s/it]"
     ]
    },
    {
     "name": "stdout",
     "output_type": "stream",
     "text": [
      "Saved  제14회 회장배 전한국 스쿼시 선수권대회 예선경기３ 김성우 최호진\n"
     ]
    },
    {
     "name": "stderr",
     "output_type": "stream",
     "text": [
      " 36%|███▌      | 652/1813 [1:47:33<3:23:30, 10.52s/it]"
     ]
    },
    {
     "name": "stdout",
     "output_type": "stream",
     "text": [
      "Saved  제14회 회장배 전한국 스쿼시 선수권대회 예선경기４ 김태민 장은준\n"
     ]
    },
    {
     "name": "stderr",
     "output_type": "stream",
     "text": [
      " 36%|███▌      | 653/1813 [1:47:40<3:01:49,  9.40s/it]"
     ]
    },
    {
     "name": "stdout",
     "output_type": "stream",
     "text": [
      "Saved  제14회 회장배 전한국 스쿼시 선수권대회 준결승경기１ KIM HAN 강우석\n"
     ]
    },
    {
     "name": "stderr",
     "output_type": "stream",
     "text": [
      " 36%|███▌      | 654/1813 [1:47:47<2:46:04,  8.60s/it]"
     ]
    },
    {
     "name": "stdout",
     "output_type": "stream",
     "text": [
      "Saved  제14회 회장배 전한국 스쿼시 선수권대회 준결승경기２ 최호진 장은준\n"
     ]
    },
    {
     "name": "stderr",
     "output_type": "stream",
     "text": [
      " 36%|███▌      | 655/1813 [1:47:53<2:34:58,  8.03s/it]"
     ]
    },
    {
     "name": "stdout",
     "output_type": "stream",
     "text": [
      "Saved  제14회 회장배 전한국 스쿼시 선수권대회 결승 강우석 최호진\n"
     ]
    },
    {
     "name": "stderr",
     "output_type": "stream",
     "text": [
      " 36%|███▌      | 656/1813 [1:48:00<2:28:18,  7.69s/it]"
     ]
    },
    {
     "name": "stdout",
     "output_type": "stream",
     "text": [
      "Saved  제14회 회장배 전한국 스쿼시 선수권대회 예선경기２ 신정호 김석진\n"
     ]
    },
    {
     "name": "stderr",
     "output_type": "stream",
     "text": [
      " 36%|███▌      | 657/1813 [1:48:15<3:09:03,  9.81s/it]"
     ]
    },
    {
     "name": "stdout",
     "output_type": "stream",
     "text": [
      "Saved  제14회 회장배 전한국 스쿼시 선수권대회 예선경기１０ 탁효진 양재혁\n"
     ]
    },
    {
     "name": "stderr",
     "output_type": "stream",
     "text": [
      " 36%|███▋      | 658/1813 [1:48:22<2:52:44,  8.97s/it]"
     ]
    },
    {
     "name": "stdout",
     "output_type": "stream",
     "text": [
      "Saved  제14회 회장배 전한국 스쿼시 선수권대회 예선경기１５ 오수현 석지훈\n"
     ]
    },
    {
     "name": "stderr",
     "output_type": "stream",
     "text": [
      " 36%|███▋      | 659/1813 [1:48:29<2:40:54,  8.37s/it]"
     ]
    },
    {
     "name": "stdout",
     "output_type": "stream",
     "text": [
      "Saved  제14회 회장배 전한국 스쿼시 선수권대회 준준준결승경기２ 양재혁 구성진\n",
      "Saved  제14회 회장배 전한국 스쿼시 선수권대회 준준준결승경기３ 김정원 김남경\n"
     ]
    },
    {
     "name": "stderr",
     "output_type": "stream",
     "text": [
      " 36%|███▋      | 660/1813 [1:48:36<2:35:08,  8.07s/it]"
     ]
    },
    {
     "name": "stdout",
     "output_type": "stream",
     "text": [
      "Saved  제14회 회장배 전한국 스쿼시 선수권대회 준준준결승경기４ 이승렬 강유상\n"
     ]
    },
    {
     "name": "stderr",
     "output_type": "stream",
     "text": [
      " 37%|███▋      | 662/1813 [1:48:58<3:11:13,  9.97s/it]"
     ]
    },
    {
     "name": "stdout",
     "output_type": "stream",
     "text": [
      "Saved  제14회 회장배 전한국 스쿼시 선수권대회 준준준결승경기６ 김대운 김태현\n"
     ]
    },
    {
     "name": "stderr",
     "output_type": "stream",
     "text": [
      " 37%|███▋      | 663/1813 [1:49:05<2:52:50,  9.02s/it]"
     ]
    },
    {
     "name": "stdout",
     "output_type": "stream",
     "text": [
      "Saved  제14회 회장배 전한국 스쿼시 선수권대회 준준준결승경기１ 강현범 김석진\n"
     ]
    },
    {
     "name": "stderr",
     "output_type": "stream",
     "text": [
      " 37%|███▋      | 664/1813 [1:49:12<2:41:54,  8.45s/it]"
     ]
    },
    {
     "name": "stdout",
     "output_type": "stream",
     "text": [
      "Saved  제14회 회장배 전한국 스쿼시 선수권대회 준준준결승경기５ 이시형 탁효진\n"
     ]
    },
    {
     "name": "stderr",
     "output_type": "stream",
     "text": [
      " 37%|███▋      | 665/1813 [1:49:20<2:34:09,  8.06s/it]"
     ]
    },
    {
     "name": "stdout",
     "output_type": "stream",
     "text": [
      "Saved  제14회 회장배 전한국 스쿼시 선수권대회 준준준결승경기７ 임태섭 장수혁\n"
     ]
    },
    {
     "name": "stderr",
     "output_type": "stream",
     "text": [
      " 37%|███▋      | 666/1813 [1:49:26<2:27:44,  7.73s/it]"
     ]
    },
    {
     "name": "stdout",
     "output_type": "stream",
     "text": [
      "Saved  제14회 회장배 전한국 스쿼시 선수권대회 준준준결승경기８ 오수현 문석호\n"
     ]
    },
    {
     "name": "stderr",
     "output_type": "stream",
     "text": [
      " 37%|███▋      | 667/1813 [1:49:33<2:22:29,  7.46s/it]"
     ]
    },
    {
     "name": "stdout",
     "output_type": "stream",
     "text": [
      "Saved  제14회 회장배 전한국 스쿼시 선수권대회 준준결승경기１ 강현범 양재혁\n"
     ]
    },
    {
     "name": "stderr",
     "output_type": "stream",
     "text": [
      " 37%|███▋      | 668/1813 [1:49:50<3:16:13, 10.28s/it]"
     ]
    },
    {
     "name": "stdout",
     "output_type": "stream",
     "text": [
      "Saved  제14회 회장배 전한국 스쿼시 선수권대회 준준결승경기２ 김남경 강유상\n"
     ]
    },
    {
     "name": "stderr",
     "output_type": "stream",
     "text": [
      " 37%|███▋      | 669/1813 [1:49:57<2:57:40,  9.32s/it]"
     ]
    },
    {
     "name": "stdout",
     "output_type": "stream",
     "text": [
      "Saved  제14회 회장배 전한국 스쿼시 선수권대회 준준결승경기３ 탁효진 김대운\n"
     ]
    },
    {
     "name": "stderr",
     "output_type": "stream",
     "text": [
      " 37%|███▋      | 670/1813 [1:50:04<2:44:56,  8.66s/it]"
     ]
    },
    {
     "name": "stdout",
     "output_type": "stream",
     "text": [
      "Saved  제14회 회장배 전한국 스쿼시 선수권대회 준준결승경기４ 장수혁 오수현\n"
     ]
    },
    {
     "name": "stderr",
     "output_type": "stream",
     "text": [
      " 37%|███▋      | 671/1813 [1:50:11<2:34:49,  8.13s/it]"
     ]
    },
    {
     "name": "stdout",
     "output_type": "stream",
     "text": [
      "Saved  제14회 회장배 전한국 스쿼시 선수권대회 준결승경기１ 강현범 김남경\n"
     ]
    },
    {
     "name": "stderr",
     "output_type": "stream",
     "text": [
      " 37%|███▋      | 672/1813 [1:50:18<2:28:31,  7.81s/it]"
     ]
    },
    {
     "name": "stdout",
     "output_type": "stream",
     "text": [
      "Saved  제14회 회장배 전한국 스쿼시 선수권대회 준결승경기２ 탁효진 장수혁\n"
     ]
    },
    {
     "name": "stderr",
     "output_type": "stream",
     "text": [
      " 37%|███▋      | 673/1813 [1:50:33<3:08:41,  9.93s/it]"
     ]
    },
    {
     "name": "stdout",
     "output_type": "stream",
     "text": [
      "Saved  제14회 회장배 전한국 스쿼시 선수권대회 결승 강현범 탁효진\n"
     ]
    },
    {
     "name": "stderr",
     "output_type": "stream",
     "text": [
      " 37%|███▋      | 674/1813 [1:50:40<2:52:17,  9.08s/it]"
     ]
    },
    {
     "name": "stdout",
     "output_type": "stream",
     "text": [
      "Saved  제14회 회장배 전한국 스쿼시 선수권대회 예선경기２ 송채원 홍서경\n"
     ]
    },
    {
     "name": "stderr",
     "output_type": "stream",
     "text": [
      " 37%|███▋      | 675/1813 [1:50:47<2:39:32,  8.41s/it]"
     ]
    },
    {
     "name": "stdout",
     "output_type": "stream",
     "text": [
      "Saved  제14회 회장배 전한국 스쿼시 선수권대회 준준결승경기１ 오승희 송채원\n"
     ]
    },
    {
     "name": "stderr",
     "output_type": "stream",
     "text": [
      " 37%|███▋      | 676/1813 [1:50:54<2:30:36,  7.95s/it]"
     ]
    },
    {
     "name": "stdout",
     "output_type": "stream",
     "text": [
      "Saved  제14회 회장배 전한국 스쿼시 선수권대회 준준결승경기２ 서효주 진소희\n",
      "Saved  제14회 회장배 전한국 스쿼시 선수권대회 준준결승경기３ 원세리 송동주\n"
     ]
    },
    {
     "name": "stderr",
     "output_type": "stream",
     "text": [
      " 37%|███▋      | 678/1813 [1:51:16<3:06:11,  9.84s/it]"
     ]
    },
    {
     "name": "stdout",
     "output_type": "stream",
     "text": [
      "Saved  제14회 회장배 전한국 스쿼시 선수권대회 준준결승경기４ 김진솔 곽다연\n",
      "Saved  제14회 회장배 전한국 스쿼시 선수권대회 준결승경기１ 오승희 서효주\n"
     ]
    },
    {
     "name": "stderr",
     "output_type": "stream",
     "text": [
      " 38%|███▊      | 680/1813 [1:51:30<2:36:44,  8.30s/it]"
     ]
    },
    {
     "name": "stdout",
     "output_type": "stream",
     "text": [
      "Saved  제14회 회장배 전한국 스쿼시 선수권대회 준결승경기２ 송동주 곽다연\n"
     ]
    },
    {
     "name": "stderr",
     "output_type": "stream",
     "text": [
      " 38%|███▊      | 681/1813 [1:51:37<2:29:25,  7.92s/it]"
     ]
    },
    {
     "name": "stdout",
     "output_type": "stream",
     "text": [
      "Saved  제14회 회장배 전한국 스쿼시 선수권대회 결승 오승희 송동주\n",
      "Saved  2014 국가대표 선발전 예선경기２ 고영조 류한동\n"
     ]
    },
    {
     "name": "stderr",
     "output_type": "stream",
     "text": [
      " 38%|███▊      | 683/1813 [1:51:50<2:18:57,  7.38s/it]"
     ]
    },
    {
     "name": "stdout",
     "output_type": "stream",
     "text": [
      "Saved  2014 국가대표 선발전 예선경기３ 이승택 탁형진\n"
     ]
    },
    {
     "name": "stderr",
     "output_type": "stream",
     "text": [
      " 38%|███▊      | 684/1813 [1:52:07<3:12:45, 10.24s/it]"
     ]
    },
    {
     "name": "stdout",
     "output_type": "stream",
     "text": [
      "Saved  2014 국가대표 선발전 예선경기６ 김현용 황중원\n"
     ]
    },
    {
     "name": "stderr",
     "output_type": "stream",
     "text": [
      " 38%|███▊      | 685/1813 [1:52:14<2:54:09,  9.26s/it]"
     ]
    },
    {
     "name": "stdout",
     "output_type": "stream",
     "text": [
      "Saved  2014 국가대표 선발전 예선경기７ 강석환 이승훈\n"
     ]
    },
    {
     "name": "stderr",
     "output_type": "stream",
     "text": [
      " 38%|███▊      | 686/1813 [1:52:21<2:39:57,  8.52s/it]"
     ]
    },
    {
     "name": "stdout",
     "output_type": "stream",
     "text": [
      "Saved  2014 국가대표 선발전 준준결승경기１ 이승준 고영조\n"
     ]
    },
    {
     "name": "stderr",
     "output_type": "stream",
     "text": [
      " 38%|███▊      | 687/1813 [1:52:28<2:30:05,  8.00s/it]"
     ]
    },
    {
     "name": "stdout",
     "output_type": "stream",
     "text": [
      "Saved  2014 국가대표 선발전 준준결승경기２ 이승택 박종명\n"
     ]
    },
    {
     "name": "stderr",
     "output_type": "stream",
     "text": [
      " 38%|███▊      | 688/1813 [1:52:35<2:23:00,  7.63s/it]"
     ]
    },
    {
     "name": "stdout",
     "output_type": "stream",
     "text": [
      "Saved  2014 국가대표 선발전 준준결승경기３ 진승우 황중원\n"
     ]
    },
    {
     "name": "stderr",
     "output_type": "stream",
     "text": [
      " 38%|███▊      | 689/1813 [1:52:51<3:13:24, 10.32s/it]"
     ]
    },
    {
     "name": "stdout",
     "output_type": "stream",
     "text": [
      "Saved  2014 국가대표 선발전 준준결승경기４ 강석환 이건동\n"
     ]
    },
    {
     "name": "stderr",
     "output_type": "stream",
     "text": [
      " 38%|███▊      | 690/1813 [1:52:58<2:54:13,  9.31s/it]"
     ]
    },
    {
     "name": "stdout",
     "output_type": "stream",
     "text": [
      "Saved  2014 국가대표 선발전 준결승경기１ 이승준 이승택\n"
     ]
    },
    {
     "name": "stderr",
     "output_type": "stream",
     "text": [
      " 38%|███▊      | 691/1813 [1:53:05<2:39:19,  8.52s/it]"
     ]
    },
    {
     "name": "stdout",
     "output_type": "stream",
     "text": [
      "Saved  2014 국가대표 선발전 준결승경기２ 황중원 이건동\n"
     ]
    },
    {
     "name": "stderr",
     "output_type": "stream",
     "text": [
      " 38%|███▊      | 692/1813 [1:53:12<2:29:13,  7.99s/it]"
     ]
    },
    {
     "name": "stdout",
     "output_type": "stream",
     "text": [
      "Saved  2014 국가대표 선발전 준결승경기１ 이지현 오성령\n"
     ]
    },
    {
     "name": "stderr",
     "output_type": "stream",
     "text": [
      " 38%|███▊      | 693/1813 [1:53:18<2:21:56,  7.60s/it]"
     ]
    },
    {
     "name": "stdout",
     "output_type": "stream",
     "text": [
      "Saved  2014 국가대표 선발전 준결승경기２ 김아현 최유라\n"
     ]
    },
    {
     "name": "stderr",
     "output_type": "stream",
     "text": [
      " 38%|███▊      | 694/1813 [1:53:33<3:02:22,  9.78s/it]"
     ]
    },
    {
     "name": "stdout",
     "output_type": "stream",
     "text": [
      "Saved  2014 국가대표 선발전 예선경기１ 이지현 배찬미\n",
      "Saved  2014 국가대표 선발전 예선경기２ 오성령 김상미\n"
     ]
    },
    {
     "name": "stderr",
     "output_type": "stream",
     "text": [
      " 38%|███▊      | 696/1813 [1:53:49<2:41:50,  8.69s/it]"
     ]
    },
    {
     "name": "stdout",
     "output_type": "stream",
     "text": [
      "Saved  2014 국가대표 선발전 예선경기３ 김아현 엄화영\n"
     ]
    },
    {
     "name": "stderr",
     "output_type": "stream",
     "text": [
      " 38%|███▊      | 697/1813 [1:53:56<2:31:18,  8.13s/it]"
     ]
    },
    {
     "name": "stdout",
     "output_type": "stream",
     "text": [
      "Saved  2014 국가대표 선발전 예선경기４ 오승희 최유라\n"
     ]
    },
    {
     "name": "stderr",
     "output_type": "stream",
     "text": [
      " 38%|███▊      | 698/1813 [1:54:02<2:23:26,  7.72s/it]"
     ]
    },
    {
     "name": "stdout",
     "output_type": "stream",
     "text": [
      "Saved  제6회 블랙나이트컵 전국 스쿼시 선수권 및 동호인 대회 예선경기２ 최정운 최상철\n"
     ]
    },
    {
     "name": "stderr",
     "output_type": "stream",
     "text": [
      " 39%|███▊      | 699/1813 [1:54:09<2:17:40,  7.42s/it]"
     ]
    },
    {
     "name": "stdout",
     "output_type": "stream",
     "text": [
      "Saved  제6회 블랙나이트컵 전국 스쿼시 선수권 및 동호인 대회 준준준결승경기１ 임지훈 최정운\n"
     ]
    },
    {
     "name": "stderr",
     "output_type": "stream",
     "text": [
      " 39%|███▊      | 700/1813 [1:54:26<3:09:17, 10.20s/it]"
     ]
    },
    {
     "name": "stdout",
     "output_type": "stream",
     "text": [
      "Saved  제6회 블랙나이트컵 전국 스쿼시 선수권 및 동호인 대회 준준준결승경기２ 김종훈 이승준\n"
     ]
    },
    {
     "name": "stderr",
     "output_type": "stream",
     "text": [
      " 39%|███▊      | 701/1813 [1:54:33<2:50:43,  9.21s/it]"
     ]
    },
    {
     "name": "stdout",
     "output_type": "stream",
     "text": [
      "Saved  제6회 블랙나이트컵 전국 스쿼시 선수권 및 동호인 대회 준준준결승경기３ 한성수 박정규\n"
     ]
    },
    {
     "name": "stderr",
     "output_type": "stream",
     "text": [
      " 39%|███▊      | 702/1813 [1:54:39<2:36:51,  8.47s/it]"
     ]
    },
    {
     "name": "stdout",
     "output_type": "stream",
     "text": [
      "Saved  제6회 블랙나이트컵 전국 스쿼시 선수권 및 동호인 대회 준준준결승경기４ 박종명 오준혁\n"
     ]
    },
    {
     "name": "stderr",
     "output_type": "stream",
     "text": [
      " 39%|███▉      | 703/1813 [1:54:46<2:26:45,  7.93s/it]"
     ]
    },
    {
     "name": "stdout",
     "output_type": "stream",
     "text": [
      "Saved  제6회 블랙나이트컵 전국 스쿼시 선수권 및 동호인 대회 준준준결승경기５ 권혁제 정민채\n"
     ]
    },
    {
     "name": "stderr",
     "output_type": "stream",
     "text": [
      " 39%|███▉      | 704/1813 [1:54:53<2:20:26,  7.60s/it]"
     ]
    },
    {
     "name": "stdout",
     "output_type": "stream",
     "text": [
      "Saved  제6회 블랙나이트컵 전국 스쿼시 선수권 및 동호인 대회 준준준결승경기６ 권현준 김현동\n"
     ]
    },
    {
     "name": "stderr",
     "output_type": "stream",
     "text": [
      " 39%|███▉      | 705/1813 [1:55:08<3:00:31,  9.78s/it]"
     ]
    },
    {
     "name": "stdout",
     "output_type": "stream",
     "text": [
      "Saved  제6회 블랙나이트컵 전국 스쿼시 선수권 및 동호인 대회 준준준결승경기７ 김규호 이용희\n"
     ]
    },
    {
     "name": "stderr",
     "output_type": "stream",
     "text": [
      " 39%|███▉      | 706/1813 [1:55:15<2:43:31,  8.86s/it]"
     ]
    },
    {
     "name": "stdout",
     "output_type": "stream",
     "text": [
      "Saved  제6회 블랙나이트컵 전국 스쿼시 선수권 및 동호인 대회 준준준결승경기８ 한승철 정성진\n"
     ]
    },
    {
     "name": "stderr",
     "output_type": "stream",
     "text": [
      " 39%|███▉      | 707/1813 [1:55:22<2:33:34,  8.33s/it]"
     ]
    },
    {
     "name": "stdout",
     "output_type": "stream",
     "text": [
      "Saved  제6회 블랙나이트컵 전국 스쿼시 선수권 및 동호인 대회 준준결승경기１ 최정운 이승준\n"
     ]
    },
    {
     "name": "stderr",
     "output_type": "stream",
     "text": [
      " 39%|███▉      | 708/1813 [1:55:29<2:26:01,  7.93s/it]"
     ]
    },
    {
     "name": "stdout",
     "output_type": "stream",
     "text": [
      "Saved  제6회 블랙나이트컵 전국 스쿼시 선수권 및 동호인 대회 준준결승경기２ 한성수 박종명\n"
     ]
    },
    {
     "name": "stderr",
     "output_type": "stream",
     "text": [
      " 39%|███▉      | 709/1813 [1:55:35<2:20:13,  7.62s/it]"
     ]
    },
    {
     "name": "stdout",
     "output_type": "stream",
     "text": [
      "Saved  제6회 블랙나이트컵 전국 스쿼시 선수권 및 동호인 대회 준준결승경기３ 정민채 권현준\n"
     ]
    },
    {
     "name": "stderr",
     "output_type": "stream",
     "text": [
      " 39%|███▉      | 710/1813 [1:55:42<2:15:55,  7.39s/it]"
     ]
    },
    {
     "name": "stdout",
     "output_type": "stream",
     "text": [
      "Saved  제6회 블랙나이트컵 전국 스쿼시 선수권 및 동호인 대회 준준결승경기４ 이용희 한승철\n"
     ]
    },
    {
     "name": "stderr",
     "output_type": "stream",
     "text": [
      " 39%|███▉      | 711/1813 [1:55:59<3:07:21, 10.20s/it]"
     ]
    },
    {
     "name": "stdout",
     "output_type": "stream",
     "text": [
      "Saved  제6회 블랙나이트컵 전국 스쿼시 선수권 및 동호인 대회 준결승경기１ 이승준 한성수\n"
     ]
    },
    {
     "name": "stderr",
     "output_type": "stream",
     "text": [
      " 39%|███▉      | 712/1813 [1:56:06<2:49:55,  9.26s/it]"
     ]
    },
    {
     "name": "stdout",
     "output_type": "stream",
     "text": [
      "Saved  제6회 블랙나이트컵 전국 스쿼시 선수권 및 동호인 대회 준결승경기２ 권현준 이용희\n"
     ]
    },
    {
     "name": "stderr",
     "output_type": "stream",
     "text": [
      " 39%|███▉      | 713/1813 [1:56:13<2:36:47,  8.55s/it]"
     ]
    },
    {
     "name": "stdout",
     "output_type": "stream",
     "text": [
      "Saved  제6회 블랙나이트컵 전국 스쿼시 선수권 및 동호인 대회 결승 이승준 권현준\n"
     ]
    },
    {
     "name": "stderr",
     "output_type": "stream",
     "text": [
      " 39%|███▉      | 714/1813 [1:56:20<2:27:48,  8.07s/it]"
     ]
    },
    {
     "name": "stdout",
     "output_type": "stream",
     "text": [
      "Saved  제6회 블랙나이트컵 전국 스쿼시 선수권 및 동호인 대회 예선경기２ 정혜란 양연수\n"
     ]
    },
    {
     "name": "stderr",
     "output_type": "stream",
     "text": [
      " 39%|███▉      | 715/1813 [1:56:27<2:21:13,  7.72s/it]"
     ]
    },
    {
     "name": "stdout",
     "output_type": "stream",
     "text": [
      "Saved  제6회 블랙나이트컵 전국 스쿼시 선수권 및 동호인 대회 예선경기３ 정미애 김가람\n"
     ]
    },
    {
     "name": "stderr",
     "output_type": "stream",
     "text": [
      " 39%|███▉      | 716/1813 [1:56:42<3:02:50, 10.00s/it]"
     ]
    },
    {
     "name": "stdout",
     "output_type": "stream",
     "text": [
      "Saved  제6회 블랙나이트컵 전국 스쿼시 선수권 및 동호인 대회 예선경기４ 권성은 강영진\n"
     ]
    },
    {
     "name": "stderr",
     "output_type": "stream",
     "text": [
      " 40%|███▉      | 717/1813 [1:56:49<2:45:21,  9.05s/it]"
     ]
    },
    {
     "name": "stdout",
     "output_type": "stream",
     "text": [
      "Saved  제6회 블랙나이트컵 전국 스쿼시 선수권 및 동호인 대회 예선경기５ 성은미 강한나\n"
     ]
    },
    {
     "name": "stderr",
     "output_type": "stream",
     "text": [
      " 40%|███▉      | 718/1813 [1:56:58<2:43:01,  8.93s/it]"
     ]
    },
    {
     "name": "stdout",
     "output_type": "stream",
     "text": [
      "Saved  제6회 블랙나이트컵 전국 스쿼시 선수권 및 동호인 대회 예선경기６ 성화영 박다빈\n"
     ]
    },
    {
     "name": "stderr",
     "output_type": "stream",
     "text": [
      " 40%|███▉      | 719/1813 [1:57:05<2:31:50,  8.33s/it]"
     ]
    },
    {
     "name": "stdout",
     "output_type": "stream",
     "text": [
      "Saved  제6회 블랙나이트컵 전국 스쿼시 선수권 및 동호인 대회 예선경기７ 배찬미 최수지\n"
     ]
    },
    {
     "name": "stderr",
     "output_type": "stream",
     "text": [
      " 40%|███▉      | 720/1813 [1:57:12<2:24:33,  7.94s/it]"
     ]
    },
    {
     "name": "stdout",
     "output_type": "stream",
     "text": [
      "Saved  제6회 블랙나이트컵 전국 스쿼시 선수권 및 동호인 대회 준준결승경기１ 김진희 양연수\n"
     ]
    },
    {
     "name": "stderr",
     "output_type": "stream",
     "text": [
      " 40%|███▉      | 721/1813 [1:57:19<2:19:43,  7.68s/it]"
     ]
    },
    {
     "name": "stdout",
     "output_type": "stream",
     "text": [
      "Saved  제6회 블랙나이트컵 전국 스쿼시 선수권 및 동호인 대회 준준결승경기２ 김가람 강영진\n"
     ]
    },
    {
     "name": "stderr",
     "output_type": "stream",
     "text": [
      " 40%|███▉      | 722/1813 [1:57:36<3:09:51, 10.44s/it]"
     ]
    },
    {
     "name": "stdout",
     "output_type": "stream",
     "text": [
      "Saved  제6회 블랙나이트컵 전국 스쿼시 선수권 및 동호인 대회 준준결승경기３ 성은미 성화영\n"
     ]
    },
    {
     "name": "stderr",
     "output_type": "stream",
     "text": [
      " 40%|███▉      | 723/1813 [1:57:43<2:50:39,  9.39s/it]"
     ]
    },
    {
     "name": "stdout",
     "output_type": "stream",
     "text": [
      "Saved  제6회 블랙나이트컵 전국 스쿼시 선수권 및 동호인 대회 준준결승경기４ 배찬미 김다정\n"
     ]
    },
    {
     "name": "stderr",
     "output_type": "stream",
     "text": [
      " 40%|███▉      | 724/1813 [1:57:49<2:36:09,  8.60s/it]"
     ]
    },
    {
     "name": "stdout",
     "output_type": "stream",
     "text": [
      "Saved  제6회 블랙나이트컵 전국 스쿼시 선수권 및 동호인 대회 준결승경기１ 양연수 강영진\n"
     ]
    },
    {
     "name": "stderr",
     "output_type": "stream",
     "text": [
      " 40%|███▉      | 725/1813 [1:57:56<2:26:50,  8.10s/it]"
     ]
    },
    {
     "name": "stdout",
     "output_type": "stream",
     "text": [
      "Saved  제6회 블랙나이트컵 전국 스쿼시 선수권 및 동호인 대회 준결승경기２ 성은미 배찬미\n"
     ]
    },
    {
     "name": "stderr",
     "output_type": "stream",
     "text": [
      " 40%|████      | 726/1813 [1:58:03<2:19:32,  7.70s/it]"
     ]
    },
    {
     "name": "stdout",
     "output_type": "stream",
     "text": [
      "Saved  제6회 블랙나이트컵 전국 스쿼시 선수권 및 동호인 대회 결승 양연수 배찬미\n"
     ]
    },
    {
     "name": "stderr",
     "output_type": "stream",
     "text": [
      " 40%|████      | 727/1813 [1:58:20<3:09:20, 10.46s/it]"
     ]
    },
    {
     "name": "stdout",
     "output_type": "stream",
     "text": [
      "Saved  제6회 블랙나이트컵 전국 스쿼시 선수권 및 동호인 대회 예선경기２ 지형순 이상민\n"
     ]
    },
    {
     "name": "stderr",
     "output_type": "stream",
     "text": [
      " 40%|████      | 728/1813 [1:58:27<2:50:02,  9.40s/it]"
     ]
    },
    {
     "name": "stdout",
     "output_type": "stream",
     "text": [
      "Saved  제6회 블랙나이트컵 전국 스쿼시 선수권 및 동호인 대회 예선경기７ 이재혁 권준\n"
     ]
    },
    {
     "name": "stderr",
     "output_type": "stream",
     "text": [
      " 40%|████      | 729/1813 [1:58:34<2:36:35,  8.67s/it]"
     ]
    },
    {
     "name": "stdout",
     "output_type": "stream",
     "text": [
      "Saved  제6회 블랙나이트컵 전국 스쿼시 선수권 및 동호인 대회 예선경기１５ 장우석 김신복\n"
     ]
    },
    {
     "name": "stderr",
     "output_type": "stream",
     "text": [
      " 40%|████      | 730/1813 [1:58:41<2:27:21,  8.16s/it]"
     ]
    },
    {
     "name": "stdout",
     "output_type": "stream",
     "text": [
      "Saved  제6회 블랙나이트컵 전국 스쿼시 선수권 및 동호인 대회 예선경기１８ 이태룡 진교철\n"
     ]
    },
    {
     "name": "stderr",
     "output_type": "stream",
     "text": [
      " 40%|████      | 731/1813 [1:58:50<2:30:53,  8.37s/it]"
     ]
    },
    {
     "name": "stdout",
     "output_type": "stream",
     "text": [
      "Saved  제6회 블랙나이트컵 전국 스쿼시 선수권 및 동호인 대회 예선경기 26 김종택 한중일\n"
     ]
    },
    {
     "name": "stderr",
     "output_type": "stream",
     "text": [
      " 40%|████      | 732/1813 [1:58:57<2:23:23,  7.96s/it]"
     ]
    },
    {
     "name": "stdout",
     "output_type": "stream",
     "text": [
      "Saved  제6회 블랙나이트컵 전국 스쿼시 선수권 및 동호인 대회 예선경기 31 김창영 박성현\n"
     ]
    },
    {
     "name": "stderr",
     "output_type": "stream",
     "text": [
      " 40%|████      | 733/1813 [1:59:14<3:11:53, 10.66s/it]"
     ]
    },
    {
     "name": "stdout",
     "output_type": "stream",
     "text": [
      "Saved  제6회 블랙나이트컵 전국 스쿼시 선수권 및 동호인 대회 예선경기 34 박성진 김규남\n"
     ]
    },
    {
     "name": "stderr",
     "output_type": "stream",
     "text": [
      " 40%|████      | 734/1813 [1:59:21<2:52:27,  9.59s/it]"
     ]
    },
    {
     "name": "stdout",
     "output_type": "stream",
     "text": [
      "Saved  제6회 블랙나이트컵 전국 스쿼시 선수권 및 동호인 대회 예선경기 39 정규웅 김현종\n"
     ]
    },
    {
     "name": "stderr",
     "output_type": "stream",
     "text": [
      " 41%|████      | 735/1813 [1:59:28<2:39:19,  8.87s/it]"
     ]
    },
    {
     "name": "stdout",
     "output_type": "stream",
     "text": [
      "Saved  제6회 블랙나이트컵 전국 스쿼시 선수권 및 동호인 대회 예선경기 47 박철환 김광문\n"
     ]
    },
    {
     "name": "stderr",
     "output_type": "stream",
     "text": [
      " 41%|████      | 736/1813 [1:59:37<2:37:50,  8.79s/it]"
     ]
    },
    {
     "name": "stdout",
     "output_type": "stream",
     "text": [
      "Saved  제6회 블랙나이트컵 전국 스쿼시 선수권 및 동호인 대회 예선경기 50 이정한 유창석\n",
      "Saved  제6회 블랙나이트컵 전국 스쿼시 선수권 및 동호인 대회 예선경기 58 오재근 김학선\n"
     ]
    },
    {
     "name": "stderr",
     "output_type": "stream",
     "text": [
      " 41%|████      | 737/1813 [1:59:44<2:28:17,  8.27s/it]"
     ]
    },
    {
     "name": "stdout",
     "output_type": "stream",
     "text": [
      "Saved  제6회 블랙나이트컵 전국 스쿼시 선수권 및 동호인 대회 예선경기 63 이용욱 정기용\n"
     ]
    },
    {
     "name": "stderr",
     "output_type": "stream",
     "text": [
      " 41%|████      | 739/1813 [2:00:08<3:10:18, 10.63s/it]"
     ]
    },
    {
     "name": "stdout",
     "output_type": "stream",
     "text": [
      "Saved  제6회 블랙나이트컵 전국 스쿼시 선수권 및 동호인 대회 준준준준준결승 1 정승원 이상민\n"
     ]
    },
    {
     "name": "stderr",
     "output_type": "stream",
     "text": [
      " 41%|████      | 740/1813 [2:00:15<2:52:06,  9.62s/it]"
     ]
    },
    {
     "name": "stdout",
     "output_type": "stream",
     "text": [
      "Saved  제6회 블랙나이트컵 전국 스쿼시 선수권 및 동호인 대회 준준준준준결승 2 최원철 김종욱\n"
     ]
    },
    {
     "name": "stderr",
     "output_type": "stream",
     "text": [
      " 41%|████      | 741/1813 [2:00:22<2:37:40,  8.83s/it]"
     ]
    },
    {
     "name": "stdout",
     "output_type": "stream",
     "text": [
      "Saved  제6회 블랙나이트컵 전국 스쿼시 선수권 및 동호인 대회 준준준준준결승 3 이재호 황성훈\n"
     ]
    },
    {
     "name": "stderr",
     "output_type": "stream",
     "text": [
      " 41%|████      | 742/1813 [2:00:29<2:28:21,  8.31s/it]"
     ]
    },
    {
     "name": "stdout",
     "output_type": "stream",
     "text": [
      "Saved  제6회 블랙나이트컵 전국 스쿼시 선수권 및 동호인 대회 준준준준준결승 4 권준 장기영\n"
     ]
    },
    {
     "name": "stderr",
     "output_type": "stream",
     "text": [
      " 41%|████      | 743/1813 [2:00:36<2:20:18,  7.87s/it]"
     ]
    },
    {
     "name": "stdout",
     "output_type": "stream",
     "text": [
      "Saved  제6회 블랙나이트컵 전국 스쿼시 선수권 및 동호인 대회 준준준준준결승 5 john Steele Eldridge 김곤호\n"
     ]
    },
    {
     "name": "stderr",
     "output_type": "stream",
     "text": [
      " 41%|████      | 744/1813 [2:00:51<2:57:43,  9.97s/it]"
     ]
    },
    {
     "name": "stdout",
     "output_type": "stream",
     "text": [
      "Saved  제6회 블랙나이트컵 전국 스쿼시 선수권 및 동호인 대회 준준준준준결승 6 권순교 장철규\n"
     ]
    },
    {
     "name": "stderr",
     "output_type": "stream",
     "text": [
      " 41%|████      | 745/1813 [2:00:57<2:40:21,  9.01s/it]"
     ]
    },
    {
     "name": "stdout",
     "output_type": "stream",
     "text": [
      "Saved  제6회 블랙나이트컵 전국 스쿼시 선수권 및 동호인 대회 준준준준준결승 7 김성수 서민호\n"
     ]
    },
    {
     "name": "stderr",
     "output_type": "stream",
     "text": [
      " 41%|████      | 746/1813 [2:01:04<2:28:59,  8.38s/it]"
     ]
    },
    {
     "name": "stdout",
     "output_type": "stream",
     "text": [
      "Saved  제6회 블랙나이트컵 전국 스쿼시 선수권 및 동호인 대회 준준준준준결승 8 김신복 김병수\n",
      "Saved  제6회 블랙나이트컵 전국 스쿼시 선수권 및 동호인 대회 준준준준준결승 9 이왕수 이태룡\n"
     ]
    },
    {
     "name": "stderr",
     "output_type": "stream",
     "text": [
      " 41%|████▏     | 748/1813 [2:01:19<2:17:50,  7.77s/it]"
     ]
    },
    {
     "name": "stdout",
     "output_type": "stream",
     "text": [
      "Saved  제6회 블랙나이트컵 전국 스쿼시 선수권 및 동호인 대회 준준준준준결승 10 조현석 박경진\n",
      "Saved  제6회 블랙나이트컵 전국 스쿼시 선수권 및 동호인 대회 준준준준준결승 11 이상진 박문수\n"
     ]
    },
    {
     "name": "stderr",
     "output_type": "stream",
     "text": [
      " 41%|████▏     | 750/1813 [2:01:45<3:12:52, 10.89s/it]"
     ]
    },
    {
     "name": "stdout",
     "output_type": "stream",
     "text": [
      "Saved  제6회 블랙나이트컵 전국 스쿼시 선수권 및 동호인 대회 준준준준준결승 12 김성태 장동익\n"
     ]
    },
    {
     "name": "stderr",
     "output_type": "stream",
     "text": [
      " 41%|████▏     | 751/1813 [2:01:52<2:52:28,  9.74s/it]"
     ]
    },
    {
     "name": "stdout",
     "output_type": "stream",
     "text": [
      "Saved  제6회 블랙나이트컵 전국 스쿼시 선수권 및 동호인 대회 준준준준준결승 13 김동준 김종택\n"
     ]
    },
    {
     "name": "stderr",
     "output_type": "stream",
     "text": [
      " 41%|████▏     | 752/1813 [2:01:59<2:36:52,  8.87s/it]"
     ]
    },
    {
     "name": "stdout",
     "output_type": "stream",
     "text": [
      "Saved  제6회 블랙나이트컵 전국 스쿼시 선수권 및 동호인 대회 준준준준준결승 14 송병용 오세창\n"
     ]
    },
    {
     "name": "stderr",
     "output_type": "stream",
     "text": [
      " 42%|████▏     | 753/1813 [2:02:06<2:26:21,  8.28s/it]"
     ]
    },
    {
     "name": "stdout",
     "output_type": "stream",
     "text": [
      "Saved  제6회 블랙나이트컵 전국 스쿼시 선수권 및 동호인 대회 준준준준준결승 15 함상운 김기헌\n"
     ]
    },
    {
     "name": "stderr",
     "output_type": "stream",
     "text": [
      " 42%|████▏     | 754/1813 [2:02:13<2:19:22,  7.90s/it]"
     ]
    },
    {
     "name": "stdout",
     "output_type": "stream",
     "text": [
      "Saved  제6회 블랙나이트컵 전국 스쿼시 선수권 및 동호인 대회 준준준준준결승 16 김창영 김용균\n"
     ]
    },
    {
     "name": "stderr",
     "output_type": "stream",
     "text": [
      " 42%|████▏     | 755/1813 [2:02:29<3:01:42, 10.30s/it]"
     ]
    },
    {
     "name": "stdout",
     "output_type": "stream",
     "text": [
      "Saved  제6회 블랙나이트컵 전국 스쿼시 선수권 및 동호인 대회 준준준준준결승 17 박호영 박성진\n"
     ]
    },
    {
     "name": "stderr",
     "output_type": "stream",
     "text": [
      " 42%|████▏     | 756/1813 [2:02:36<2:43:54,  9.30s/it]"
     ]
    },
    {
     "name": "stdout",
     "output_type": "stream",
     "text": [
      "Saved  제6회 블랙나이트컵 전국 스쿼시 선수권 및 동호인 대회 준준준준준결승 18 Hian Tee Pang 정상민\n"
     ]
    },
    {
     "name": "stderr",
     "output_type": "stream",
     "text": [
      " 42%|████▏     | 757/1813 [2:02:43<2:31:35,  8.61s/it]"
     ]
    },
    {
     "name": "stdout",
     "output_type": "stream",
     "text": [
      "Saved  제6회 블랙나이트컵 전국 스쿼시 선수권 및 동호인 대회 준준준준준결승 19 박성호 전용택\n"
     ]
    },
    {
     "name": "stderr",
     "output_type": "stream",
     "text": [
      " 42%|████▏     | 758/1813 [2:02:50<2:22:36,  8.11s/it]"
     ]
    },
    {
     "name": "stdout",
     "output_type": "stream",
     "text": [
      "Saved  제6회 블랙나이트컵 전국 스쿼시 선수권 및 동호인 대회 준준준준준결승 20 정규웅 홍흥기\n"
     ]
    },
    {
     "name": "stderr",
     "output_type": "stream",
     "text": [
      " 42%|████▏     | 759/1813 [2:02:57<2:18:53,  7.91s/it]"
     ]
    },
    {
     "name": "stdout",
     "output_type": "stream",
     "text": [
      "Saved  제6회 블랙나이트컵 전국 스쿼시 선수권 및 동호인 대회 준준준준준결승 21 김재준 강현범\n"
     ]
    },
    {
     "name": "stderr",
     "output_type": "stream",
     "text": [
      " 42%|████▏     | 760/1813 [2:03:06<2:22:51,  8.14s/it]"
     ]
    },
    {
     "name": "stdout",
     "output_type": "stream",
     "text": [
      "Saved  제6회 블랙나이트컵 전국 스쿼시 선수권 및 동호인 대회 준준준준준결승 22 강영민 이승욱\n"
     ]
    },
    {
     "name": "stderr",
     "output_type": "stream",
     "text": [
      " 42%|████▏     | 761/1813 [2:03:23<3:09:35, 10.81s/it]"
     ]
    },
    {
     "name": "stdout",
     "output_type": "stream",
     "text": [
      "Saved  제6회 블랙나이트컵 전국 스쿼시 선수권 및 동호인 대회 준준준준준결승 23 한문섭 배진련\n"
     ]
    },
    {
     "name": "stderr",
     "output_type": "stream",
     "text": [
      " 42%|████▏     | 762/1813 [2:03:30<2:49:09,  9.66s/it]"
     ]
    },
    {
     "name": "stdout",
     "output_type": "stream",
     "text": [
      "Saved  제6회 블랙나이트컵 전국 스쿼시 선수권 및 동호인 대회 준준준준준결승 24 김광문 김인호\n"
     ]
    },
    {
     "name": "stderr",
     "output_type": "stream",
     "text": [
      " 42%|████▏     | 763/1813 [2:03:37<2:35:19,  8.88s/it]"
     ]
    },
    {
     "name": "stdout",
     "output_type": "stream",
     "text": [
      "Saved  제6회 블랙나이트컵 전국 스쿼시 선수권 및 동호인 대회 준준준준준결승 25 최상귀 유창석\n"
     ]
    },
    {
     "name": "stderr",
     "output_type": "stream",
     "text": [
      " 42%|████▏     | 764/1813 [2:03:44<2:26:53,  8.40s/it]"
     ]
    },
    {
     "name": "stdout",
     "output_type": "stream",
     "text": [
      "Saved  제6회 블랙나이트컵 전국 스쿼시 선수권 및 동호인 대회 준준준준준결승 26 김광복 이상배\n"
     ]
    },
    {
     "name": "stderr",
     "output_type": "stream",
     "text": [
      " 42%|████▏     | 765/1813 [2:03:51<2:20:49,  8.06s/it]"
     ]
    },
    {
     "name": "stdout",
     "output_type": "stream",
     "text": [
      "Saved  제6회 블랙나이트컵 전국 스쿼시 선수권 및 동호인 대회 준준준준준결승 27 David Pierre 서동삼\n"
     ]
    },
    {
     "name": "stderr",
     "output_type": "stream",
     "text": [
      " 42%|████▏     | 766/1813 [2:04:06<2:56:50, 10.13s/it]"
     ]
    },
    {
     "name": "stdout",
     "output_type": "stream",
     "text": [
      "Saved  제6회 블랙나이트컵 전국 스쿼시 선수권 및 동호인 대회 준준준준준결승 28 박상현 심현달\n"
     ]
    },
    {
     "name": "stderr",
     "output_type": "stream",
     "text": [
      " 42%|████▏     | 767/1813 [2:04:13<2:40:35,  9.21s/it]"
     ]
    },
    {
     "name": "stdout",
     "output_type": "stream",
     "text": [
      "Saved  제6회 블랙나이트컵 전국 스쿼시 선수권 및 동호인 대회 준준준준준결승 29 이승철 김학선\n"
     ]
    },
    {
     "name": "stderr",
     "output_type": "stream",
     "text": [
      " 42%|████▏     | 768/1813 [2:04:20<2:27:55,  8.49s/it]"
     ]
    },
    {
     "name": "stdout",
     "output_type": "stream",
     "text": [
      "Saved  제6회 블랙나이트컵 전국 스쿼시 선수권 및 동호인 대회 준준준준준결승 30 윤종림 안상훈\n"
     ]
    },
    {
     "name": "stderr",
     "output_type": "stream",
     "text": [
      " 42%|████▏     | 769/1813 [2:04:27<2:19:53,  8.04s/it]"
     ]
    },
    {
     "name": "stdout",
     "output_type": "stream",
     "text": [
      "Saved  제6회 블랙나이트컵 전국 스쿼시 선수권 및 동호인 대회 준준준준준결승 31 강동우 박춘형\n"
     ]
    },
    {
     "name": "stderr",
     "output_type": "stream",
     "text": [
      " 42%|████▏     | 770/1813 [2:04:34<2:14:05,  7.71s/it]"
     ]
    },
    {
     "name": "stdout",
     "output_type": "stream",
     "text": [
      "Saved  제6회 블랙나이트컵 전국 스쿼시 선수권 및 동호인 대회 준준준준준결승 32 이용욱 박성찬\n"
     ]
    },
    {
     "name": "stderr",
     "output_type": "stream",
     "text": [
      " 43%|████▎     | 771/1813 [2:04:41<2:10:14,  7.50s/it]"
     ]
    },
    {
     "name": "stdout",
     "output_type": "stream",
     "text": [
      "Saved  제6회 블랙나이트컵 전국 스쿼시 선수권 및 동호인 대회 준준준준결승 1 이상민 최원철\n",
      "Saved  제6회 블랙나이트컵 전국 스쿼시 선수권 및 동호인 대회 준준준준결승 2 이재호 권준\n"
     ]
    },
    {
     "name": "stderr",
     "output_type": "stream",
     "text": [
      " 43%|████▎     | 773/1813 [2:05:05<2:41:57,  9.34s/it]"
     ]
    },
    {
     "name": "stdout",
     "output_type": "stream",
     "text": [
      "Saved  제6회 블랙나이트컵 전국 스쿼시 선수권 및 동호인 대회 준준준준결승 3 김곤호 권순교\n"
     ]
    },
    {
     "name": "stderr",
     "output_type": "stream",
     "text": [
      " 43%|████▎     | 774/1813 [2:05:12<2:30:16,  8.68s/it]"
     ]
    },
    {
     "name": "stdout",
     "output_type": "stream",
     "text": [
      "Saved  제6회 블랙나이트컵 전국 스쿼시 선수권 및 동호인 대회 준준준준결승 4 김성수 김신복\n"
     ]
    },
    {
     "name": "stderr",
     "output_type": "stream",
     "text": [
      " 43%|████▎     | 775/1813 [2:05:20<2:23:23,  8.29s/it]"
     ]
    },
    {
     "name": "stdout",
     "output_type": "stream",
     "text": [
      "Saved  제6회 블랙나이트컵 전국 스쿼시 선수권 및 동호인 대회 준준준준결승 5 이왕수 박경진\n"
     ]
    },
    {
     "name": "stderr",
     "output_type": "stream",
     "text": [
      " 43%|████▎     | 776/1813 [2:05:28<2:21:20,  8.18s/it]"
     ]
    },
    {
     "name": "stdout",
     "output_type": "stream",
     "text": [
      "Saved  제6회 블랙나이트컵 전국 스쿼시 선수권 및 동호인 대회 준준준준결승 6 이상진 김성태\n"
     ]
    },
    {
     "name": "stderr",
     "output_type": "stream",
     "text": [
      " 43%|████▎     | 777/1813 [2:05:43<2:56:19, 10.21s/it]"
     ]
    },
    {
     "name": "stdout",
     "output_type": "stream",
     "text": [
      "Saved  제6회 블랙나이트컵 전국 스쿼시 선수권 및 동호인 대회 준준준준결승 7 김종택 오세창\n"
     ]
    },
    {
     "name": "stderr",
     "output_type": "stream",
     "text": [
      " 43%|████▎     | 778/1813 [2:05:49<2:39:11,  9.23s/it]"
     ]
    },
    {
     "name": "stdout",
     "output_type": "stream",
     "text": [
      "Saved  제6회 블랙나이트컵 전국 스쿼시 선수권 및 동호인 대회 준준준준결승 8 함상운 김창영\n"
     ]
    },
    {
     "name": "stderr",
     "output_type": "stream",
     "text": [
      " 43%|████▎     | 779/1813 [2:05:56<2:27:00,  8.53s/it]"
     ]
    },
    {
     "name": "stdout",
     "output_type": "stream",
     "text": [
      "Saved  제6회 블랙나이트컵 전국 스쿼시 선수권 및 동호인 대회 준준준준결승 9 박성진 Hian Tee Pang\n"
     ]
    },
    {
     "name": "stderr",
     "output_type": "stream",
     "text": [
      " 43%|████▎     | 780/1813 [2:06:03<2:18:39,  8.05s/it]"
     ]
    },
    {
     "name": "stdout",
     "output_type": "stream",
     "text": [
      "Saved  제6회 블랙나이트컵 전국 스쿼시 선수권 및 동호인 대회 준준준준결승 10 전용택 정규웅\n"
     ]
    },
    {
     "name": "stderr",
     "output_type": "stream",
     "text": [
      " 43%|████▎     | 781/1813 [2:06:10<2:12:54,  7.73s/it]"
     ]
    },
    {
     "name": "stdout",
     "output_type": "stream",
     "text": [
      "Saved  제6회 블랙나이트컵 전국 스쿼시 선수권 및 동호인 대회 준준준준결승 11 김재준 이승욱\n"
     ]
    },
    {
     "name": "stderr",
     "output_type": "stream",
     "text": [
      " 43%|████▎     | 782/1813 [2:06:17<2:09:14,  7.52s/it]"
     ]
    },
    {
     "name": "stdout",
     "output_type": "stream",
     "text": [
      "Saved  제6회 블랙나이트컵 전국 스쿼시 선수권 및 동호인 대회 준준준준결승 12 한문섭 김광문\n"
     ]
    },
    {
     "name": "stderr",
     "output_type": "stream",
     "text": [
      " 43%|████▎     | 783/1813 [2:06:35<3:02:21, 10.62s/it]"
     ]
    },
    {
     "name": "stdout",
     "output_type": "stream",
     "text": [
      "Saved  제6회 블랙나이트컵 전국 스쿼시 선수권 및 동호인 대회 준준준준결승 13 유창석 김광복\n"
     ]
    },
    {
     "name": "stderr",
     "output_type": "stream",
     "text": [
      " 43%|████▎     | 784/1813 [2:06:42<2:43:48,  9.55s/it]"
     ]
    },
    {
     "name": "stdout",
     "output_type": "stream",
     "text": [
      "Saved  제6회 블랙나이트컵 전국 스쿼시 선수권 및 동호인 대회 준준준준결승 14 서동삼 박상현\n"
     ]
    },
    {
     "name": "stderr",
     "output_type": "stream",
     "text": [
      " 43%|████▎     | 785/1813 [2:06:49<2:29:39,  8.74s/it]"
     ]
    },
    {
     "name": "stdout",
     "output_type": "stream",
     "text": [
      "Saved  제6회 블랙나이트컵 전국 스쿼시 선수권 및 동호인 대회 준준준준결승 15 김학선 윤종림\n"
     ]
    },
    {
     "name": "stderr",
     "output_type": "stream",
     "text": [
      " 43%|████▎     | 786/1813 [2:06:56<2:20:13,  8.19s/it]"
     ]
    },
    {
     "name": "stdout",
     "output_type": "stream",
     "text": [
      "Saved  제6회 블랙나이트컵 전국 스쿼시 선수권 및 동호인 대회 준준준준결승 16 박춘형 이용욱\n"
     ]
    },
    {
     "name": "stderr",
     "output_type": "stream",
     "text": [
      " 43%|████▎     | 787/1813 [2:07:05<2:23:10,  8.37s/it]"
     ]
    },
    {
     "name": "stdout",
     "output_type": "stream",
     "text": [
      "Saved  제6회 블랙나이트컵 전국 스쿼시 선수권 및 동호인 대회 준준준결승경기１ 이상민 권준\n"
     ]
    },
    {
     "name": "stderr",
     "output_type": "stream",
     "text": [
      " 43%|████▎     | 788/1813 [2:07:20<2:56:34, 10.34s/it]"
     ]
    },
    {
     "name": "stdout",
     "output_type": "stream",
     "text": [
      "Saved  제6회 블랙나이트컵 전국 스쿼시 선수권 및 동호인 대회 준준준결승경기２ 권순교 김신복\n"
     ]
    },
    {
     "name": "stderr",
     "output_type": "stream",
     "text": [
      " 44%|████▎     | 789/1813 [2:07:27<2:39:36,  9.35s/it]"
     ]
    },
    {
     "name": "stdout",
     "output_type": "stream",
     "text": [
      "Saved  제6회 블랙나이트컵 전국 스쿼시 선수권 및 동호인 대회 준준준결승경기３ 이왕수 이상진\n"
     ]
    },
    {
     "name": "stderr",
     "output_type": "stream",
     "text": [
      " 44%|████▎     | 790/1813 [2:07:34<2:27:08,  8.63s/it]"
     ]
    },
    {
     "name": "stdout",
     "output_type": "stream",
     "text": [
      "Saved  제6회 블랙나이트컵 전국 스쿼시 선수권 및 동호인 대회 준준준결승경기４ 김종택 김창영\n"
     ]
    },
    {
     "name": "stderr",
     "output_type": "stream",
     "text": [
      " 44%|████▎     | 791/1813 [2:07:41<2:17:41,  8.08s/it]"
     ]
    },
    {
     "name": "stdout",
     "output_type": "stream",
     "text": [
      "Saved  제6회 블랙나이트컵 전국 스쿼시 선수권 및 동호인 대회 준준준결승경기５ Hian Tee Pang 정규웅\n"
     ]
    },
    {
     "name": "stderr",
     "output_type": "stream",
     "text": [
      " 44%|████▎     | 792/1813 [2:07:48<2:12:00,  7.76s/it]"
     ]
    },
    {
     "name": "stdout",
     "output_type": "stream",
     "text": [
      "Saved  제6회 블랙나이트컵 전국 스쿼시 선수권 및 동호인 대회 준준준결승경기６ 김재준 한문섭\n",
      "Saved  제6회 블랙나이트컵 전국 스쿼시 선수권 및 동호인 대회 준준준결승경기７ 유창석 서동삼\n"
     ]
    },
    {
     "name": "stderr",
     "output_type": "stream",
     "text": [
      " 44%|████▍     | 794/1813 [2:08:12<2:56:03, 10.37s/it]"
     ]
    },
    {
     "name": "stdout",
     "output_type": "stream",
     "text": [
      "Saved  제6회 블랙나이트컵 전국 스쿼시 선수권 및 동호인 대회 준준준결승경기８ 윤종림 박춘형\n"
     ]
    },
    {
     "name": "stderr",
     "output_type": "stream",
     "text": [
      " 44%|████▍     | 795/1813 [2:08:19<2:39:24,  9.40s/it]"
     ]
    },
    {
     "name": "stdout",
     "output_type": "stream",
     "text": [
      "Saved  제6회 블랙나이트컵 전국 스쿼시 선수권 및 동호인 대회 준준결승경기１ 이상민 권순교\n"
     ]
    },
    {
     "name": "stderr",
     "output_type": "stream",
     "text": [
      " 44%|████▍     | 796/1813 [2:08:26<2:26:23,  8.64s/it]"
     ]
    },
    {
     "name": "stdout",
     "output_type": "stream",
     "text": [
      "Saved  제6회 블랙나이트컵 전국 스쿼시 선수권 및 동호인 대회 준준결승경기２ 이상진 김종택\n"
     ]
    },
    {
     "name": "stderr",
     "output_type": "stream",
     "text": [
      " 44%|████▍     | 797/1813 [2:08:32<2:17:10,  8.10s/it]"
     ]
    },
    {
     "name": "stdout",
     "output_type": "stream",
     "text": [
      "No Information.\n"
     ]
    },
    {
     "name": "stderr",
     "output_type": "stream",
     "text": [
      " 44%|████▍     | 798/1813 [2:08:41<2:20:14,  8.29s/it]"
     ]
    },
    {
     "name": "stdout",
     "output_type": "stream",
     "text": [
      "Saved  제6회 블랙나이트컵 전국 스쿼시 선수권 및 동호인 대회 준준결승경기４ 서동삼 박춘형\n"
     ]
    },
    {
     "name": "stderr",
     "output_type": "stream",
     "text": [
      " 44%|████▍     | 799/1813 [2:08:48<2:14:09,  7.94s/it]"
     ]
    },
    {
     "name": "stdout",
     "output_type": "stream",
     "text": [
      "Saved  제6회 블랙나이트컵 전국 스쿼시 선수권 및 동호인 대회 준결승경기１ 이상민 이상진\n"
     ]
    },
    {
     "name": "stderr",
     "output_type": "stream",
     "text": [
      " 44%|████▍     | 800/1813 [2:09:05<2:59:11, 10.61s/it]"
     ]
    },
    {
     "name": "stdout",
     "output_type": "stream",
     "text": [
      "Saved  제6회 블랙나이트컵 전국 스쿼시 선수권 및 동호인 대회 준결승경기２ 정규웅 서동삼\n"
     ]
    },
    {
     "name": "stderr",
     "output_type": "stream",
     "text": [
      " 44%|████▍     | 801/1813 [2:09:12<2:41:37,  9.58s/it]"
     ]
    },
    {
     "name": "stdout",
     "output_type": "stream",
     "text": [
      "Saved  제6회 블랙나이트컵 전국 스쿼시 선수권 및 동호인 대회 결승 이상진 정규웅\n"
     ]
    },
    {
     "name": "stderr",
     "output_type": "stream",
     "text": [
      " 44%|████▍     | 802/1813 [2:09:19<2:27:59,  8.78s/it]"
     ]
    },
    {
     "name": "stdout",
     "output_type": "stream",
     "text": [
      "Saved  제6회 블랙나이트컵 전국 스쿼시 선수권 및 동호인 대회 예선경기２ 장유리나 김명희\n"
     ]
    },
    {
     "name": "stderr",
     "output_type": "stream",
     "text": [
      " 44%|████▍     | 803/1813 [2:09:26<2:18:19,  8.22s/it]"
     ]
    },
    {
     "name": "stdout",
     "output_type": "stream",
     "text": [
      "Saved  제6회 블랙나이트컵 전국 스쿼시 선수권 및 동호인 대회 예선경기３ 이경미 최순임\n"
     ]
    },
    {
     "name": "stderr",
     "output_type": "stream",
     "text": [
      " 44%|████▍     | 804/1813 [2:09:33<2:11:40,  7.83s/it]"
     ]
    },
    {
     "name": "stdout",
     "output_type": "stream",
     "text": [
      "Saved  제6회 블랙나이트컵 전국 스쿼시 선수권 및 동호인 대회 예선경기４ 안현옥 박영미\n"
     ]
    },
    {
     "name": "stderr",
     "output_type": "stream",
     "text": [
      " 44%|████▍     | 805/1813 [2:09:48<2:48:20, 10.02s/it]"
     ]
    },
    {
     "name": "stdout",
     "output_type": "stream",
     "text": [
      "Saved  제6회 블랙나이트컵 전국 스쿼시 선수권 및 동호인 대회 예선경기６ 송미영 오승희\n"
     ]
    },
    {
     "name": "stderr",
     "output_type": "stream",
     "text": [
      " 44%|████▍     | 806/1813 [2:09:55<2:33:07,  9.12s/it]"
     ]
    },
    {
     "name": "stdout",
     "output_type": "stream",
     "text": [
      "Saved  제6회 블랙나이트컵 전국 스쿼시 선수권 및 동호인 대회 예선경기７ 김윤경 이두남\n",
      "Saved  제6회 블랙나이트컵 전국 스쿼시 선수권 및 동호인 대회 예선경기１０ 이명숙 박경아\n"
     ]
    },
    {
     "name": "stderr",
     "output_type": "stream",
     "text": [
      " 45%|████▍     | 808/1813 [2:10:09<2:14:13,  8.01s/it]"
     ]
    },
    {
     "name": "stdout",
     "output_type": "stream",
     "text": [
      "Saved  제6회 블랙나이트컵 전국 스쿼시 선수권 및 동호인 대회 예선경기１１ 이우심 전은정\n"
     ]
    },
    {
     "name": "stderr",
     "output_type": "stream",
     "text": [
      " 45%|████▍     | 809/1813 [2:10:20<2:26:39,  8.76s/it]"
     ]
    },
    {
     "name": "stdout",
     "output_type": "stream",
     "text": [
      "Saved  제6회 블랙나이트컵 전국 스쿼시 선수권 및 동호인 대회 예선경기１２ 김은조 강영미\n"
     ]
    },
    {
     "name": "stderr",
     "output_type": "stream",
     "text": [
      " 45%|████▍     | 810/1813 [2:10:35<3:00:29, 10.80s/it]"
     ]
    },
    {
     "name": "stdout",
     "output_type": "stream",
     "text": [
      "Saved  제6회 블랙나이트컵 전국 스쿼시 선수권 및 동호인 대회 예선경기１３ 김정화 최아람\n"
     ]
    },
    {
     "name": "stderr",
     "output_type": "stream",
     "text": [
      " 45%|████▍     | 811/1813 [2:11:12<5:11:02, 18.63s/it]"
     ]
    },
    {
     "name": "stdout",
     "output_type": "stream",
     "text": [
      "Saved  제6회 블랙나이트컵 전국 스쿼시 선수권 및 동호인 대회 예선경기１４ 유시현 윤중현\n"
     ]
    },
    {
     "name": "stderr",
     "output_type": "stream",
     "text": [
      " 45%|████▍     | 812/1813 [2:11:19<4:13:46, 15.21s/it]"
     ]
    },
    {
     "name": "stdout",
     "output_type": "stream",
     "text": [
      "Saved  제6회 블랙나이트컵 전국 스쿼시 선수권 및 동호인 대회 예선경기１５ 김선미 이은주\n"
     ]
    },
    {
     "name": "stderr",
     "output_type": "stream",
     "text": [
      " 45%|████▍     | 813/1813 [2:11:31<3:56:11, 14.17s/it]"
     ]
    },
    {
     "name": "stdout",
     "output_type": "stream",
     "text": [
      "Saved  제6회 블랙나이트컵 전국 스쿼시 선수권 및 동호인 대회 준준준결승경기１ 유은영 김명희\n",
      "Saved  제6회 블랙나이트컵 전국 스쿼시 선수권 및 동호인 대회 준준준결승경기２ 이경미 안현옥\n"
     ]
    },
    {
     "name": "stderr",
     "output_type": "stream",
     "text": [
      " 45%|████▍     | 815/1813 [2:11:47<3:04:37, 11.10s/it]"
     ]
    },
    {
     "name": "stdout",
     "output_type": "stream",
     "text": [
      "Saved  제6회 블랙나이트컵 전국 스쿼시 선수권 및 동호인 대회 준준준결승경기３ 이경애 송미영\n"
     ]
    },
    {
     "name": "stderr",
     "output_type": "stream",
     "text": [
      " 45%|████▌     | 816/1813 [2:12:02<3:23:59, 12.28s/it]"
     ]
    },
    {
     "name": "stdout",
     "output_type": "stream",
     "text": [
      "Saved  제6회 블랙나이트컵 전국 스쿼시 선수권 및 동호인 대회 준준준결승경기４ 이두남 심나진\n"
     ]
    },
    {
     "name": "stderr",
     "output_type": "stream",
     "text": [
      " 45%|████▌     | 817/1813 [2:12:09<2:56:59, 10.66s/it]"
     ]
    },
    {
     "name": "stdout",
     "output_type": "stream",
     "text": [
      "Saved  제6회 블랙나이트컵 전국 스쿼시 선수권 및 동호인 대회 준준준결승경기５ 유숙재 박경아\n",
      "Saved  제6회 블랙나이트컵 전국 스쿼시 선수권 및 동호인 대회 준준준결승경기６ 이우심 김은조\n"
     ]
    },
    {
     "name": "stderr",
     "output_type": "stream",
     "text": [
      " 45%|████▌     | 819/1813 [2:12:25<2:36:09,  9.43s/it]"
     ]
    },
    {
     "name": "stdout",
     "output_type": "stream",
     "text": [
      "Saved  제6회 블랙나이트컵 전국 스쿼시 선수권 및 동호인 대회 준준준결승경기７ 김정화 윤중현\n"
     ]
    },
    {
     "name": "stderr",
     "output_type": "stream",
     "text": [
      " 45%|████▌     | 820/1813 [2:12:32<2:24:41,  8.74s/it]"
     ]
    },
    {
     "name": "stdout",
     "output_type": "stream",
     "text": [
      "Saved  제6회 블랙나이트컵 전국 스쿼시 선수권 및 동호인 대회 준준준결승경기８ 이은주 여정선\n"
     ]
    },
    {
     "name": "stderr",
     "output_type": "stream",
     "text": [
      " 45%|████▌     | 821/1813 [2:12:39<2:15:05,  8.17s/it]"
     ]
    },
    {
     "name": "stdout",
     "output_type": "stream",
     "text": [
      "Saved  제6회 블랙나이트컵 전국 스쿼시 선수권 및 동호인 대회 준준결승경기１ 유은영 이경미\n"
     ]
    },
    {
     "name": "stderr",
     "output_type": "stream",
     "text": [
      " 45%|████▌     | 822/1813 [2:12:57<3:01:09, 10.97s/it]"
     ]
    },
    {
     "name": "stdout",
     "output_type": "stream",
     "text": [
      "Saved  제6회 블랙나이트컵 전국 스쿼시 선수권 및 동호인 대회 준준결승경기２ 이경애 심나진\n"
     ]
    },
    {
     "name": "stderr",
     "output_type": "stream",
     "text": [
      " 45%|████▌     | 823/1813 [2:13:04<2:41:04,  9.76s/it]"
     ]
    },
    {
     "name": "stdout",
     "output_type": "stream",
     "text": [
      "Saved  제6회 블랙나이트컵 전국 스쿼시 선수권 및 동호인 대회 준준결승경기３ 박경아 김은조\n"
     ]
    },
    {
     "name": "stderr",
     "output_type": "stream",
     "text": [
      " 45%|████▌     | 824/1813 [2:13:12<2:35:53,  9.46s/it]"
     ]
    },
    {
     "name": "stdout",
     "output_type": "stream",
     "text": [
      "Saved  제6회 블랙나이트컵 전국 스쿼시 선수권 및 동호인 대회 준준결승경기４ 김정화 이은주\n"
     ]
    },
    {
     "name": "stderr",
     "output_type": "stream",
     "text": [
      " 46%|████▌     | 825/1813 [2:13:21<2:32:09,  9.24s/it]"
     ]
    },
    {
     "name": "stdout",
     "output_type": "stream",
     "text": [
      "Saved  제6회 블랙나이트컵 전국 스쿼시 선수권 및 동호인 대회 준결승경기１ 이경미 이경애\n"
     ]
    },
    {
     "name": "stderr",
     "output_type": "stream",
     "text": [
      " 46%|████▌     | 826/1813 [2:13:28<2:21:40,  8.61s/it]"
     ]
    },
    {
     "name": "stdout",
     "output_type": "stream",
     "text": [
      "Saved  제6회 블랙나이트컵 전국 스쿼시 선수권 및 동호인 대회 준결승경기２ 김은조 김정화\n"
     ]
    },
    {
     "name": "stderr",
     "output_type": "stream",
     "text": [
      " 46%|████▌     | 827/1813 [2:13:43<2:52:56, 10.52s/it]"
     ]
    },
    {
     "name": "stdout",
     "output_type": "stream",
     "text": [
      "Saved  제6회 블랙나이트컵 전국 스쿼시 선수권 및 동호인 대회 결승 이경애 김은조\n"
     ]
    },
    {
     "name": "stderr",
     "output_type": "stream",
     "text": [
      " 46%|████▌     | 828/1813 [2:13:50<2:35:37,  9.48s/it]"
     ]
    },
    {
     "name": "stdout",
     "output_type": "stream",
     "text": [
      "Saved  제6회 블랙나이트컵 전국 스쿼시 선수권 및 동호인 대회 예선경기２ 주은규 신민철\n"
     ]
    },
    {
     "name": "stderr",
     "output_type": "stream",
     "text": [
      " 46%|████▌     | 829/1813 [2:13:57<2:23:23,  8.74s/it]"
     ]
    },
    {
     "name": "stdout",
     "output_type": "stream",
     "text": [
      "Saved  제6회 블랙나이트컵 전국 스쿼시 선수권 및 동호인 대회 예선경기３ 심범석 권오진\n"
     ]
    },
    {
     "name": "stderr",
     "output_type": "stream",
     "text": [
      " 46%|████▌     | 830/1813 [2:14:04<2:15:11,  8.25s/it]"
     ]
    },
    {
     "name": "stdout",
     "output_type": "stream",
     "text": [
      "Saved  제6회 블랙나이트컵 전국 스쿼시 선수권 및 동호인 대회 예선경기４ 강석진 윤석희\n"
     ]
    },
    {
     "name": "stderr",
     "output_type": "stream",
     "text": [
      " 46%|████▌     | 831/1813 [2:14:11<2:09:22,  7.90s/it]"
     ]
    },
    {
     "name": "stdout",
     "output_type": "stream",
     "text": [
      "Saved  제6회 블랙나이트컵 전국 스쿼시 선수권 및 동호인 대회 예선경기５ 김철중 오민호\n"
     ]
    },
    {
     "name": "stderr",
     "output_type": "stream",
     "text": [
      " 46%|████▌     | 832/1813 [2:14:18<2:04:30,  7.62s/it]"
     ]
    },
    {
     "name": "stdout",
     "output_type": "stream",
     "text": [
      "Saved  제6회 블랙나이트컵 전국 스쿼시 선수권 및 동호인 대회 예선경기６ 최재성 김만수\n"
     ]
    },
    {
     "name": "stderr",
     "output_type": "stream",
     "text": [
      " 46%|████▌     | 833/1813 [2:14:35<2:49:55, 10.40s/it]"
     ]
    },
    {
     "name": "stdout",
     "output_type": "stream",
     "text": [
      "Saved  제6회 블랙나이트컵 전국 스쿼시 선수권 및 동호인 대회 예선경기７ 김용태 김승철\n"
     ]
    },
    {
     "name": "stderr",
     "output_type": "stream",
     "text": [
      " 46%|████▌     | 834/1813 [2:14:42<2:33:34,  9.41s/it]"
     ]
    },
    {
     "name": "stdout",
     "output_type": "stream",
     "text": [
      "Saved  제6회 블랙나이트컵 전국 스쿼시 선수권 및 동호인 대회 예선경기８ 김신호 문주\n",
      "Saved  제6회 블랙나이트컵 전국 스쿼시 선수권 및 동호인 대회 예선경기９ 한승진 조태준\n"
     ]
    },
    {
     "name": "stderr",
     "output_type": "stream",
     "text": [
      " 46%|████▌     | 836/1813 [2:14:57<2:15:28,  8.32s/it]"
     ]
    },
    {
     "name": "stdout",
     "output_type": "stream",
     "text": [
      "Saved  제6회 블랙나이트컵 전국 스쿼시 선수권 및 동호인 대회 예선경기１０ 이형석 김헌\n"
     ]
    },
    {
     "name": "stderr",
     "output_type": "stream",
     "text": [
      " 46%|████▌     | 837/1813 [2:15:06<2:17:29,  8.45s/it]"
     ]
    },
    {
     "name": "stdout",
     "output_type": "stream",
     "text": [
      "Saved  제6회 블랙나이트컵 전국 스쿼시 선수권 및 동호인 대회 예선경기１１ 최종성 이은근\n"
     ]
    },
    {
     "name": "stderr",
     "output_type": "stream",
     "text": [
      " 46%|████▌     | 838/1813 [2:15:13<2:10:37,  8.04s/it]"
     ]
    },
    {
     "name": "stdout",
     "output_type": "stream",
     "text": [
      "Saved  제6회 블랙나이트컵 전국 스쿼시 선수권 및 동호인 대회 예선경기１２ 강현정 백종옥\n"
     ]
    },
    {
     "name": "stderr",
     "output_type": "stream",
     "text": [
      " 46%|████▋     | 839/1813 [2:15:32<3:03:51, 11.33s/it]"
     ]
    },
    {
     "name": "stdout",
     "output_type": "stream",
     "text": [
      "Saved  제6회 블랙나이트컵 전국 스쿼시 선수권 및 동호인 대회 예선경기１３ 윤형섭 김형석\n"
     ]
    },
    {
     "name": "stderr",
     "output_type": "stream",
     "text": [
      " 46%|████▋     | 840/1813 [2:15:39<2:44:29, 10.14s/it]"
     ]
    },
    {
     "name": "stdout",
     "output_type": "stream",
     "text": [
      "Saved  제6회 블랙나이트컵 전국 스쿼시 선수권 및 동호인 대회 예선경기１４ 우철 박재형\n"
     ]
    },
    {
     "name": "stderr",
     "output_type": "stream",
     "text": [
      " 46%|████▋     | 841/1813 [2:15:49<2:41:56, 10.00s/it]"
     ]
    },
    {
     "name": "stdout",
     "output_type": "stream",
     "text": [
      "Saved  제6회 블랙나이트컵 전국 스쿼시 선수권 및 동호인 대회 예선경기１５ 나재성 최재혁\n"
     ]
    },
    {
     "name": "stderr",
     "output_type": "stream",
     "text": [
      " 46%|████▋     | 842/1813 [2:15:56<2:29:03,  9.21s/it]"
     ]
    },
    {
     "name": "stdout",
     "output_type": "stream",
     "text": [
      "Saved  제6회 블랙나이트컵 전국 스쿼시 선수권 및 동호인 대회 예선경기１６ 김성기 윤진호\n"
     ]
    },
    {
     "name": "stderr",
     "output_type": "stream",
     "text": [
      " 46%|████▋     | 843/1813 [2:16:03<2:18:54,  8.59s/it]"
     ]
    },
    {
     "name": "stdout",
     "output_type": "stream",
     "text": [
      "Saved  제6회 블랙나이트컵 전국 스쿼시 선수권 및 동호인 대회 예선경기１７ 김일권 노형렬\n"
     ]
    },
    {
     "name": "stderr",
     "output_type": "stream",
     "text": [
      " 47%|████▋     | 844/1813 [2:16:18<2:50:14, 10.54s/it]"
     ]
    },
    {
     "name": "stdout",
     "output_type": "stream",
     "text": [
      "Saved  제6회 블랙나이트컵 전국 스쿼시 선수권 및 동호인 대회 예선경기１８ 고영현 전찬권\n"
     ]
    },
    {
     "name": "stderr",
     "output_type": "stream",
     "text": [
      " 47%|████▋     | 845/1813 [2:16:25<2:32:20,  9.44s/it]"
     ]
    },
    {
     "name": "stdout",
     "output_type": "stream",
     "text": [
      "Saved  제6회 블랙나이트컵 전국 스쿼시 선수권 및 동호인 대회 예선경기１９ 박철래 이관재\n"
     ]
    },
    {
     "name": "stderr",
     "output_type": "stream",
     "text": [
      " 47%|████▋     | 846/1813 [2:16:34<2:30:25,  9.33s/it]"
     ]
    },
    {
     "name": "stdout",
     "output_type": "stream",
     "text": [
      "Saved  제6회 블랙나이트컵 전국 스쿼시 선수권 및 동호인 대회 예선경기２０ 박순용 배윤호\n"
     ]
    },
    {
     "name": "stderr",
     "output_type": "stream",
     "text": [
      " 47%|████▋     | 847/1813 [2:16:41<2:18:41,  8.61s/it]"
     ]
    },
    {
     "name": "stdout",
     "output_type": "stream",
     "text": [
      "Saved  제6회 블랙나이트컵 전국 스쿼시 선수권 및 동호인 대회 예선경기 21 오세민 방태남\n"
     ]
    },
    {
     "name": "stderr",
     "output_type": "stream",
     "text": [
      " 47%|████▋     | 848/1813 [2:16:48<2:11:17,  8.16s/it]"
     ]
    },
    {
     "name": "stdout",
     "output_type": "stream",
     "text": [
      "Saved  제6회 블랙나이트컵 전국 스쿼시 선수권 및 동호인 대회 예선경기 22 강종혁 최성욱\n",
      "Saved  제6회 블랙나이트컵 전국 스쿼시 선수권 및 동호인 대회 예선경기 23 현태민 주의종\n"
     ]
    },
    {
     "name": "stderr",
     "output_type": "stream",
     "text": [
      " 47%|████▋     | 850/1813 [2:17:15<2:58:12, 11.10s/it]"
     ]
    },
    {
     "name": "stdout",
     "output_type": "stream",
     "text": [
      "Saved  제6회 블랙나이트컵 전국 스쿼시 선수권 및 동호인 대회 예선경기 24 정문기 고병관\n"
     ]
    },
    {
     "name": "stderr",
     "output_type": "stream",
     "text": [
      " 47%|████▋     | 851/1813 [2:17:22<2:38:08,  9.86s/it]"
     ]
    },
    {
     "name": "stdout",
     "output_type": "stream",
     "text": [
      "Saved  제6회 블랙나이트컵 전국 스쿼시 선수권 및 동호인 대회 예선경기 25 최승렬 박주현\n"
     ]
    },
    {
     "name": "stderr",
     "output_type": "stream",
     "text": [
      " 47%|████▋     | 852/1813 [2:17:28<2:23:03,  8.93s/it]"
     ]
    },
    {
     "name": "stdout",
     "output_type": "stream",
     "text": [
      "Saved  제6회 블랙나이트컵 전국 스쿼시 선수권 및 동호인 대회 예선경기 26 김헌일 정호산\n"
     ]
    },
    {
     "name": "stderr",
     "output_type": "stream",
     "text": [
      " 47%|████▋     | 853/1813 [2:17:35<2:12:28,  8.28s/it]"
     ]
    },
    {
     "name": "stdout",
     "output_type": "stream",
     "text": [
      "Saved  제6회 블랙나이트컵 전국 스쿼시 선수권 및 동호인 대회 예선경기 27 이상일 한상윤\n"
     ]
    },
    {
     "name": "stderr",
     "output_type": "stream",
     "text": [
      " 47%|████▋     | 854/1813 [2:17:42<2:05:35,  7.86s/it]"
     ]
    },
    {
     "name": "stdout",
     "output_type": "stream",
     "text": [
      "Saved  제6회 블랙나이트컵 전국 스쿼시 선수권 및 동호인 대회 예선경기 28 전준기 박경배\n"
     ]
    },
    {
     "name": "stderr",
     "output_type": "stream",
     "text": [
      " 47%|████▋     | 855/1813 [2:17:57<2:40:01, 10.02s/it]"
     ]
    },
    {
     "name": "stdout",
     "output_type": "stream",
     "text": [
      "Saved  제6회 블랙나이트컵 전국 스쿼시 선수권 및 동호인 대회 예선경기 29 이민호 유상철\n"
     ]
    },
    {
     "name": "stderr",
     "output_type": "stream",
     "text": [
      " 47%|████▋     | 856/1813 [2:18:04<2:25:23,  9.12s/it]"
     ]
    },
    {
     "name": "stdout",
     "output_type": "stream",
     "text": [
      "Saved  제6회 블랙나이트컵 전국 스쿼시 선수권 및 동호인 대회 예선경기 30 손도현 김용철\n"
     ]
    },
    {
     "name": "stderr",
     "output_type": "stream",
     "text": [
      " 47%|████▋     | 857/1813 [2:18:11<2:15:12,  8.49s/it]"
     ]
    },
    {
     "name": "stdout",
     "output_type": "stream",
     "text": [
      "Saved  제6회 블랙나이트컵 전국 스쿼시 선수권 및 동호인 대회 예선경기 31 강지웅 전영석\n"
     ]
    },
    {
     "name": "stderr",
     "output_type": "stream",
     "text": [
      " 47%|████▋     | 858/1813 [2:18:18<2:06:57,  7.98s/it]"
     ]
    },
    {
     "name": "stdout",
     "output_type": "stream",
     "text": [
      "Saved  제6회 블랙나이트컵 전국 스쿼시 선수권 및 동호인 대회 예선경기 32 노희승 윤세진\n"
     ]
    },
    {
     "name": "stderr",
     "output_type": "stream",
     "text": [
      " 47%|████▋     | 859/1813 [2:18:25<2:02:02,  7.68s/it]"
     ]
    },
    {
     "name": "stdout",
     "output_type": "stream",
     "text": [
      "Saved  제6회 블랙나이트컵 전국 스쿼시 선수권 및 동호인 대회 예선경기 34 박순홍 유현호\n",
      "Saved  제6회 블랙나이트컵 전국 스쿼시 선수권 및 동호인 대회 예선경기 35 안도준 윤상철\n"
     ]
    },
    {
     "name": "stderr",
     "output_type": "stream",
     "text": [
      " 47%|████▋     | 861/1813 [2:18:49<2:45:52, 10.45s/it]"
     ]
    },
    {
     "name": "stdout",
     "output_type": "stream",
     "text": [
      "Saved  제6회 블랙나이트컵 전국 스쿼시 선수권 및 동호인 대회 예선경기 36 심규찬 최효성\n"
     ]
    },
    {
     "name": "stderr",
     "output_type": "stream",
     "text": [
      " 48%|████▊     | 862/1813 [2:18:58<2:37:47,  9.96s/it]"
     ]
    },
    {
     "name": "stdout",
     "output_type": "stream",
     "text": [
      "Saved  제6회 블랙나이트컵 전국 스쿼시 선수권 및 동호인 대회 예선경기 37 주윤철 하정완\n"
     ]
    },
    {
     "name": "stderr",
     "output_type": "stream",
     "text": [
      " 48%|████▊     | 863/1813 [2:19:05<2:22:41,  9.01s/it]"
     ]
    },
    {
     "name": "stdout",
     "output_type": "stream",
     "text": [
      "Saved  제6회 블랙나이트컵 전국 스쿼시 선수권 및 동호인 대회 예선경기 38 하순호 오일수\n"
     ]
    },
    {
     "name": "stderr",
     "output_type": "stream",
     "text": [
      " 48%|████▊     | 864/1813 [2:19:12<2:12:45,  8.39s/it]"
     ]
    },
    {
     "name": "stdout",
     "output_type": "stream",
     "text": [
      "Saved  제6회 블랙나이트컵 전국 스쿼시 선수권 및 동호인 대회 예선경기 39 성상현 허남진\n"
     ]
    },
    {
     "name": "stderr",
     "output_type": "stream",
     "text": [
      " 48%|████▊     | 865/1813 [2:19:19<2:06:21,  8.00s/it]"
     ]
    },
    {
     "name": "stdout",
     "output_type": "stream",
     "text": [
      "Saved  제6회 블랙나이트컵 전국 스쿼시 선수권 및 동호인 대회 예선경기 40 전경식 박우진\n"
     ]
    },
    {
     "name": "stderr",
     "output_type": "stream",
     "text": [
      " 48%|████▊     | 866/1813 [2:19:26<2:02:11,  7.74s/it]"
     ]
    },
    {
     "name": "stdout",
     "output_type": "stream",
     "text": [
      "Saved  제6회 블랙나이트컵 전국 스쿼시 선수권 및 동호인 대회 예선경기 41 오경민 정장현\n"
     ]
    },
    {
     "name": "stderr",
     "output_type": "stream",
     "text": [
      " 48%|████▊     | 867/1813 [2:19:43<2:45:17, 10.48s/it]"
     ]
    },
    {
     "name": "stdout",
     "output_type": "stream",
     "text": [
      "Saved  제6회 블랙나이트컵 전국 스쿼시 선수권 및 동호인 대회 예선경기 42 한덕환 정기철\n"
     ]
    },
    {
     "name": "stderr",
     "output_type": "stream",
     "text": [
      " 48%|████▊     | 868/1813 [2:19:50<2:29:52,  9.52s/it]"
     ]
    },
    {
     "name": "stdout",
     "output_type": "stream",
     "text": [
      "Saved  제6회 블랙나이트컵 전국 스쿼시 선수권 및 동호인 대회 예선경기 43 양승진 황득환\n"
     ]
    },
    {
     "name": "stderr",
     "output_type": "stream",
     "text": [
      " 48%|████▊     | 869/1813 [2:19:57<2:17:46,  8.76s/it]"
     ]
    },
    {
     "name": "stdout",
     "output_type": "stream",
     "text": [
      "Saved  제6회 블랙나이트컵 전국 스쿼시 선수권 및 동호인 대회 예선경기 44 김대진 김성범\n"
     ]
    },
    {
     "name": "stderr",
     "output_type": "stream",
     "text": [
      " 48%|████▊     | 870/1813 [2:20:04<2:08:48,  8.20s/it]"
     ]
    },
    {
     "name": "stdout",
     "output_type": "stream",
     "text": [
      "Saved  제6회 블랙나이트컵 전국 스쿼시 선수권 및 동호인 대회 예선경기 45 오종훈 박동준\n"
     ]
    },
    {
     "name": "stderr",
     "output_type": "stream",
     "text": [
      " 48%|████▊     | 871/1813 [2:20:11<2:03:46,  7.88s/it]"
     ]
    },
    {
     "name": "stdout",
     "output_type": "stream",
     "text": [
      "Saved  제6회 블랙나이트컵 전국 스쿼시 선수권 및 동호인 대회 예선경기 46 조재율 신명재\n"
     ]
    },
    {
     "name": "stderr",
     "output_type": "stream",
     "text": [
      " 48%|████▊     | 872/1813 [2:20:27<2:41:06, 10.27s/it]"
     ]
    },
    {
     "name": "stdout",
     "output_type": "stream",
     "text": [
      "Saved  제6회 블랙나이트컵 전국 스쿼시 선수권 및 동호인 대회 예선경기 47 이창화 이민재\n",
      "Saved  제6회 블랙나이트컵 전국 스쿼시 선수권 및 동호인 대회 예선경기 48 김용열 최승호\n"
     ]
    },
    {
     "name": "stderr",
     "output_type": "stream",
     "text": [
      " 48%|████▊     | 874/1813 [2:20:43<2:20:56,  9.01s/it]"
     ]
    },
    {
     "name": "stdout",
     "output_type": "stream",
     "text": [
      "Saved  제6회 블랙나이트컵 전국 스쿼시 선수권 및 동호인 대회 예선경기 49 유지석 이승우\n"
     ]
    },
    {
     "name": "stderr",
     "output_type": "stream",
     "text": [
      " 48%|████▊     | 875/1813 [2:20:50<2:11:35,  8.42s/it]"
     ]
    },
    {
     "name": "stdout",
     "output_type": "stream",
     "text": [
      "Saved  제6회 블랙나이트컵 전국 스쿼시 선수권 및 동호인 대회 예선경기 50 허수영 이영호\n"
     ]
    },
    {
     "name": "stderr",
     "output_type": "stream",
     "text": [
      " 48%|████▊     | 876/1813 [2:20:57<2:04:50,  7.99s/it]"
     ]
    },
    {
     "name": "stdout",
     "output_type": "stream",
     "text": [
      "Saved  제6회 블랙나이트컵 전국 스쿼시 선수권 및 동호인 대회 예선경기 51 김성렬 류민상\n"
     ]
    },
    {
     "name": "stderr",
     "output_type": "stream",
     "text": [
      " 48%|████▊     | 877/1813 [2:21:04<1:59:56,  7.69s/it]"
     ]
    },
    {
     "name": "stdout",
     "output_type": "stream",
     "text": [
      "Saved  제6회 블랙나이트컵 전국 스쿼시 선수권 및 동호인 대회 예선경기 52 최항석 김종완\n"
     ]
    },
    {
     "name": "stderr",
     "output_type": "stream",
     "text": [
      " 48%|████▊     | 878/1813 [2:21:21<2:43:42, 10.51s/it]"
     ]
    },
    {
     "name": "stdout",
     "output_type": "stream",
     "text": [
      "Saved  제6회 블랙나이트컵 전국 스쿼시 선수권 및 동호인 대회 예선경기 53 이삼성 구자영\n"
     ]
    },
    {
     "name": "stderr",
     "output_type": "stream",
     "text": [
      " 48%|████▊     | 879/1813 [2:21:28<2:26:54,  9.44s/it]"
     ]
    },
    {
     "name": "stdout",
     "output_type": "stream",
     "text": [
      "Saved  제6회 블랙나이트컵 전국 스쿼시 선수권 및 동호인 대회 예선경기 54 백창선 김민철\n"
     ]
    },
    {
     "name": "stderr",
     "output_type": "stream",
     "text": [
      " 49%|████▊     | 880/1813 [2:21:35<2:15:14,  8.70s/it]"
     ]
    },
    {
     "name": "stdout",
     "output_type": "stream",
     "text": [
      "Saved  제6회 블랙나이트컵 전국 스쿼시 선수권 및 동호인 대회 예선경기 55 오건영 전성용\n",
      "Saved  제6회 블랙나이트컵 전국 스쿼시 선수권 및 동호인 대회 예선경기 56 정하석 박진호\n"
     ]
    },
    {
     "name": "stderr",
     "output_type": "stream",
     "text": [
      " 49%|████▊     | 882/1813 [2:21:59<2:49:04, 10.90s/it]"
     ]
    },
    {
     "name": "stdout",
     "output_type": "stream",
     "text": [
      "Saved  제6회 블랙나이트컵 전국 스쿼시 선수권 및 동호인 대회 예선경기 57 김진원 김재경\n"
     ]
    },
    {
     "name": "stderr",
     "output_type": "stream",
     "text": [
      " 49%|████▊     | 883/1813 [2:22:14<3:07:53, 12.12s/it]"
     ]
    },
    {
     "name": "stdout",
     "output_type": "stream",
     "text": [
      "Saved  제6회 블랙나이트컵 전국 스쿼시 선수권 및 동호인 대회 예선경기 58 김기훈 이원희\n"
     ]
    },
    {
     "name": "stderr",
     "output_type": "stream",
     "text": [
      " 49%|████▉     | 884/1813 [2:22:23<2:53:24, 11.20s/it]"
     ]
    },
    {
     "name": "stdout",
     "output_type": "stream",
     "text": [
      "Saved  제6회 블랙나이트컵 전국 스쿼시 선수권 및 동호인 대회 예선경기 59 이용희 민경태\n"
     ]
    },
    {
     "name": "stderr",
     "output_type": "stream",
     "text": [
      " 49%|████▉     | 885/1813 [2:22:30<2:32:44,  9.88s/it]"
     ]
    },
    {
     "name": "stdout",
     "output_type": "stream",
     "text": [
      "Saved  제6회 블랙나이트컵 전국 스쿼시 선수권 및 동호인 대회 예선경기 60 장유수 이철규\n"
     ]
    },
    {
     "name": "stderr",
     "output_type": "stream",
     "text": [
      " 49%|████▉     | 886/1813 [2:22:37<2:19:25,  9.02s/it]"
     ]
    },
    {
     "name": "stdout",
     "output_type": "stream",
     "text": [
      "Saved  제6회 블랙나이트컵 전국 스쿼시 선수권 및 동호인 대회 예선경기 61 강창식 이명수\n"
     ]
    },
    {
     "name": "stderr",
     "output_type": "stream",
     "text": [
      " 49%|████▉     | 887/1813 [2:22:44<2:09:19,  8.38s/it]"
     ]
    },
    {
     "name": "stdout",
     "output_type": "stream",
     "text": [
      "Saved  제6회 블랙나이트컵 전국 스쿼시 선수권 및 동호인 대회 예선경기 62 박용호 한창훈\n"
     ]
    },
    {
     "name": "stderr",
     "output_type": "stream",
     "text": [
      " 49%|████▉     | 888/1813 [2:22:51<2:02:25,  7.94s/it]"
     ]
    },
    {
     "name": "stdout",
     "output_type": "stream",
     "text": [
      "Saved  제6회 블랙나이트컵 전국 스쿼시 선수권 및 동호인 대회 예선경기 63 김정완 이동규\n"
     ]
    },
    {
     "name": "stderr",
     "output_type": "stream",
     "text": [
      " 49%|████▉     | 889/1813 [2:23:08<2:44:05, 10.65s/it]"
     ]
    },
    {
     "name": "stdout",
     "output_type": "stream",
     "text": [
      "Saved  제6회 블랙나이트컵 전국 스쿼시 선수권 및 동호인 대회 준준준준준결승 1 임재영 신민철\n"
     ]
    },
    {
     "name": "stderr",
     "output_type": "stream",
     "text": [
      " 49%|████▉     | 890/1813 [2:23:15<2:26:39,  9.53s/it]"
     ]
    },
    {
     "name": "stdout",
     "output_type": "stream",
     "text": [
      "Saved  제6회 블랙나이트컵 전국 스쿼시 선수권 및 동호인 대회 준준준준준결승 2 권오진 강석진\n"
     ]
    },
    {
     "name": "stderr",
     "output_type": "stream",
     "text": [
      " 49%|████▉     | 891/1813 [2:23:22<2:14:43,  8.77s/it]"
     ]
    },
    {
     "name": "stdout",
     "output_type": "stream",
     "text": [
      "Saved  제6회 블랙나이트컵 전국 스쿼시 선수권 및 동호인 대회 준준준준준결승 3 오민호 김만수\n"
     ]
    },
    {
     "name": "stderr",
     "output_type": "stream",
     "text": [
      " 49%|████▉     | 892/1813 [2:23:29<2:06:17,  8.23s/it]"
     ]
    },
    {
     "name": "stdout",
     "output_type": "stream",
     "text": [
      "Saved  제6회 블랙나이트컵 전국 스쿼시 선수권 및 동호인 대회 준준준준준결승 4 김용태 문주\n"
     ]
    },
    {
     "name": "stderr",
     "output_type": "stream",
     "text": [
      " 49%|████▉     | 893/1813 [2:23:36<2:00:39,  7.87s/it]"
     ]
    },
    {
     "name": "stdout",
     "output_type": "stream",
     "text": [
      "Saved  제6회 블랙나이트컵 전국 스쿼시 선수권 및 동호인 대회 준준준준준결승 5 조태준 이형석\n"
     ]
    },
    {
     "name": "stderr",
     "output_type": "stream",
     "text": [
      " 49%|████▉     | 894/1813 [2:23:51<2:34:16, 10.07s/it]"
     ]
    },
    {
     "name": "stdout",
     "output_type": "stream",
     "text": [
      "Saved  제6회 블랙나이트컵 전국 스쿼시 선수권 및 동호인 대회 준준준준준결승 6 이은근 백종옥\n"
     ]
    },
    {
     "name": "stderr",
     "output_type": "stream",
     "text": [
      " 49%|████▉     | 895/1813 [2:23:58<2:20:13,  9.17s/it]"
     ]
    },
    {
     "name": "stdout",
     "output_type": "stream",
     "text": [
      "Saved  제6회 블랙나이트컵 전국 스쿼시 선수권 및 동호인 대회 준준준준준결승 7 김형석 박재형\n"
     ]
    },
    {
     "name": "stderr",
     "output_type": "stream",
     "text": [
      " 49%|████▉     | 896/1813 [2:24:05<2:09:26,  8.47s/it]"
     ]
    },
    {
     "name": "stdout",
     "output_type": "stream",
     "text": [
      "Saved  제6회 블랙나이트컵 전국 스쿼시 선수권 및 동호인 대회 준준준준준결승 8 나재성 김성기\n"
     ]
    },
    {
     "name": "stderr",
     "output_type": "stream",
     "text": [
      " 49%|████▉     | 897/1813 [2:24:12<2:01:40,  7.97s/it]"
     ]
    },
    {
     "name": "stdout",
     "output_type": "stream",
     "text": [
      "Saved  제6회 블랙나이트컵 전국 스쿼시 선수권 및 동호인 대회 준준준준준결승 9 김일권 전찬권\n"
     ]
    },
    {
     "name": "stderr",
     "output_type": "stream",
     "text": [
      " 50%|████▉     | 898/1813 [2:24:19<1:57:17,  7.69s/it]"
     ]
    },
    {
     "name": "stdout",
     "output_type": "stream",
     "text": [
      "Saved  제6회 블랙나이트컵 전국 스쿼시 선수권 및 동호인 대회 준준준준준결승 10 박철래 배윤호\n"
     ]
    },
    {
     "name": "stderr",
     "output_type": "stream",
     "text": [
      " 50%|████▉     | 899/1813 [2:24:26<1:54:29,  7.52s/it]"
     ]
    },
    {
     "name": "stdout",
     "output_type": "stream",
     "text": [
      "Saved  제6회 블랙나이트컵 전국 스쿼시 선수권 및 동호인 대회 준준준준준결승 11 오세민 강종혁\n"
     ]
    },
    {
     "name": "stderr",
     "output_type": "stream",
     "text": [
      " 50%|████▉     | 900/1813 [2:24:43<2:37:46, 10.37s/it]"
     ]
    },
    {
     "name": "stdout",
     "output_type": "stream",
     "text": [
      "Saved  제6회 블랙나이트컵 전국 스쿼시 선수권 및 동호인 대회 준준준준준결승 12 현태민 정문기\n"
     ]
    },
    {
     "name": "stderr",
     "output_type": "stream",
     "text": [
      " 50%|████▉     | 901/1813 [2:24:50<2:23:02,  9.41s/it]"
     ]
    },
    {
     "name": "stdout",
     "output_type": "stream",
     "text": [
      "Saved  제6회 블랙나이트컵 전국 스쿼시 선수권 및 동호인 대회 준준준준준결승 13 최승렬 김헌일\n"
     ]
    },
    {
     "name": "stderr",
     "output_type": "stream",
     "text": [
      " 50%|████▉     | 902/1813 [2:24:57<2:12:44,  8.74s/it]"
     ]
    },
    {
     "name": "stdout",
     "output_type": "stream",
     "text": [
      "Saved  제6회 블랙나이트컵 전국 스쿼시 선수권 및 동호인 대회 준준준준준결승 14 이상일 박경배\n"
     ]
    },
    {
     "name": "stderr",
     "output_type": "stream",
     "text": [
      " 50%|████▉     | 903/1813 [2:25:05<2:05:35,  8.28s/it]"
     ]
    },
    {
     "name": "stdout",
     "output_type": "stream",
     "text": [
      "Saved  제6회 블랙나이트컵 전국 스쿼시 선수권 및 동호인 대회 준준준준준결승 15 이민호 김용철\n"
     ]
    },
    {
     "name": "stderr",
     "output_type": "stream",
     "text": [
      " 50%|████▉     | 904/1813 [2:25:12<2:00:23,  7.95s/it]"
     ]
    },
    {
     "name": "stdout",
     "output_type": "stream",
     "text": [
      "Saved  제6회 블랙나이트컵 전국 스쿼시 선수권 및 동호인 대회 준준준준준결승 16 강지웅 노희승\n"
     ]
    },
    {
     "name": "stderr",
     "output_type": "stream",
     "text": [
      " 50%|████▉     | 905/1813 [2:25:28<2:38:51, 10.50s/it]"
     ]
    },
    {
     "name": "stdout",
     "output_type": "stream",
     "text": [
      "Saved  제6회 블랙나이트컵 전국 스쿼시 선수권 및 동호인 대회 준준준준준결승 17 진성호 박순홍\n"
     ]
    },
    {
     "name": "stderr",
     "output_type": "stream",
     "text": [
      " 50%|████▉     | 906/1813 [2:25:36<2:25:23,  9.62s/it]"
     ]
    },
    {
     "name": "stdout",
     "output_type": "stream",
     "text": [
      "Saved  제6회 블랙나이트컵 전국 스쿼시 선수권 및 동호인 대회 준준준준준결승 18 윤상철 심규찬\n"
     ]
    },
    {
     "name": "stderr",
     "output_type": "stream",
     "text": [
      " 50%|█████     | 907/1813 [2:25:43<2:13:34,  8.85s/it]"
     ]
    },
    {
     "name": "stdout",
     "output_type": "stream",
     "text": [
      "Saved  제6회 블랙나이트컵 전국 스쿼시 선수권 및 동호인 대회 준준준준준결승 19 주윤철 하순호\n"
     ]
    },
    {
     "name": "stderr",
     "output_type": "stream",
     "text": [
      " 50%|█████     | 908/1813 [2:25:50<2:05:32,  8.32s/it]"
     ]
    },
    {
     "name": "stdout",
     "output_type": "stream",
     "text": [
      "Saved  제6회 블랙나이트컵 전국 스쿼시 선수권 및 동호인 대회 준준준준준결승 20 성상현 전경식\n"
     ]
    },
    {
     "name": "stderr",
     "output_type": "stream",
     "text": [
      " 50%|█████     | 909/1813 [2:25:57<1:59:15,  7.92s/it]"
     ]
    },
    {
     "name": "stdout",
     "output_type": "stream",
     "text": [
      "Saved  제6회 블랙나이트컵 전국 스쿼시 선수권 및 동호인 대회 준준준준준결승 21 오경민 정기철\n",
      "Saved  제6회 블랙나이트컵 전국 스쿼시 선수권 및 동호인 대회 준준준준준결승 22 양승진 김대진\n"
     ]
    },
    {
     "name": "stderr",
     "output_type": "stream",
     "text": [
      " 50%|█████     | 911/1813 [2:26:21<2:36:28, 10.41s/it]"
     ]
    },
    {
     "name": "stdout",
     "output_type": "stream",
     "text": [
      "Saved  제6회 블랙나이트컵 전국 스쿼시 선수권 및 동호인 대회 준준준준준결승 23 박동준 조재율\n"
     ]
    },
    {
     "name": "stderr",
     "output_type": "stream",
     "text": [
      " 50%|█████     | 912/1813 [2:26:28<2:20:55,  9.38s/it]"
     ]
    },
    {
     "name": "stdout",
     "output_type": "stream",
     "text": [
      "Saved  제6회 블랙나이트컵 전국 스쿼시 선수권 및 동호인 대회 준준준준준결승 24 이민재 김용열\n"
     ]
    },
    {
     "name": "stderr",
     "output_type": "stream",
     "text": [
      " 50%|█████     | 913/1813 [2:26:35<2:09:25,  8.63s/it]"
     ]
    },
    {
     "name": "stdout",
     "output_type": "stream",
     "text": [
      "Saved  제6회 블랙나이트컵 전국 스쿼시 선수권 및 동호인 대회 준준준준준결승 25 이승우 이영호\n"
     ]
    },
    {
     "name": "stderr",
     "output_type": "stream",
     "text": [
      " 50%|█████     | 914/1813 [2:26:42<2:03:03,  8.21s/it]"
     ]
    },
    {
     "name": "stdout",
     "output_type": "stream",
     "text": [
      "Saved  제6회 블랙나이트컵 전국 스쿼시 선수권 및 동호인 대회 준준준준준결승 26 류민상 최항석\n"
     ]
    },
    {
     "name": "stderr",
     "output_type": "stream",
     "text": [
      " 50%|█████     | 915/1813 [2:26:49<1:56:31,  7.79s/it]"
     ]
    },
    {
     "name": "stdout",
     "output_type": "stream",
     "text": [
      "Saved  제6회 블랙나이트컵 전국 스쿼시 선수권 및 동호인 대회 준준준준준결승 27 이삼성 백창선\n"
     ]
    },
    {
     "name": "stderr",
     "output_type": "stream",
     "text": [
      " 51%|█████     | 916/1813 [2:27:04<2:29:07,  9.98s/it]"
     ]
    },
    {
     "name": "stdout",
     "output_type": "stream",
     "text": [
      "Saved  제6회 블랙나이트컵 전국 스쿼시 선수권 및 동호인 대회 준준준준준결승 28 오건영 박진호\n"
     ]
    },
    {
     "name": "stderr",
     "output_type": "stream",
     "text": [
      " 51%|█████     | 917/1813 [2:27:11<2:16:01,  9.11s/it]"
     ]
    },
    {
     "name": "stdout",
     "output_type": "stream",
     "text": [
      "Saved  제6회 블랙나이트컵 전국 스쿼시 선수권 및 동호인 대회 준준준준준결승 29 김재경 이원희\n",
      "Saved  제6회 블랙나이트컵 전국 스쿼시 선수권 및 동호인 대회 준준준준준결승 30 이용희 장유수\n"
     ]
    },
    {
     "name": "stderr",
     "output_type": "stream",
     "text": [
      " 51%|█████     | 919/1813 [2:27:27<2:08:38,  8.63s/it]"
     ]
    },
    {
     "name": "stdout",
     "output_type": "stream",
     "text": [
      "Saved  제6회 블랙나이트컵 전국 스쿼시 선수권 및 동호인 대회 준준준준준결승 31 이명수 박용호\n"
     ]
    },
    {
     "name": "stderr",
     "output_type": "stream",
     "text": [
      " 51%|█████     | 920/1813 [2:27:34<2:00:57,  8.13s/it]"
     ]
    },
    {
     "name": "stdout",
     "output_type": "stream",
     "text": [
      "Saved  제6회 블랙나이트컵 전국 스쿼시 선수권 및 동호인 대회 준준준준준결승 32 이동규 박준호\n"
     ]
    },
    {
     "name": "stderr",
     "output_type": "stream",
     "text": [
      " 51%|█████     | 921/1813 [2:27:40<1:54:44,  7.72s/it]"
     ]
    },
    {
     "name": "stdout",
     "output_type": "stream",
     "text": [
      "Saved  제6회 블랙나이트컵 전국 스쿼시 선수권 및 동호인 대회 준준준준결승 1 신민철 강석진\n"
     ]
    },
    {
     "name": "stderr",
     "output_type": "stream",
     "text": [
      " 51%|█████     | 922/1813 [2:27:57<2:35:31, 10.47s/it]"
     ]
    },
    {
     "name": "stdout",
     "output_type": "stream",
     "text": [
      "Saved  제6회 블랙나이트컵 전국 스쿼시 선수권 및 동호인 대회 준준준준결승 2 김만수 김용태\n"
     ]
    },
    {
     "name": "stderr",
     "output_type": "stream",
     "text": [
      " 51%|█████     | 923/1813 [2:28:04<2:19:44,  9.42s/it]"
     ]
    },
    {
     "name": "stdout",
     "output_type": "stream",
     "text": [
      "Saved  제6회 블랙나이트컵 전국 스쿼시 선수권 및 동호인 대회 준준준준결승 3 이형석 백종옥\n"
     ]
    },
    {
     "name": "stderr",
     "output_type": "stream",
     "text": [
      " 51%|█████     | 924/1813 [2:28:11<2:08:40,  8.68s/it]"
     ]
    },
    {
     "name": "stdout",
     "output_type": "stream",
     "text": [
      "Saved  제6회 블랙나이트컵 전국 스쿼시 선수권 및 동호인 대회 준준준준결승 4 김형석 김성기\n"
     ]
    },
    {
     "name": "stderr",
     "output_type": "stream",
     "text": [
      " 51%|█████     | 925/1813 [2:28:18<2:00:41,  8.16s/it]"
     ]
    },
    {
     "name": "stdout",
     "output_type": "stream",
     "text": [
      "Saved  제6회 블랙나이트컵 전국 스쿼시 선수권 및 동호인 대회 준준준준결승 5 김일권 박철래\n"
     ]
    },
    {
     "name": "stderr",
     "output_type": "stream",
     "text": [
      " 51%|█████     | 926/1813 [2:28:25<1:55:41,  7.83s/it]"
     ]
    },
    {
     "name": "stdout",
     "output_type": "stream",
     "text": [
      "Saved  제6회 블랙나이트컵 전국 스쿼시 선수권 및 동호인 대회 준준준준결승 6 강종혁 현태민\n"
     ]
    },
    {
     "name": "stderr",
     "output_type": "stream",
     "text": [
      " 51%|█████     | 927/1813 [2:28:40<2:27:10,  9.97s/it]"
     ]
    },
    {
     "name": "stdout",
     "output_type": "stream",
     "text": [
      "Saved  제6회 블랙나이트컵 전국 스쿼시 선수권 및 동호인 대회 준준준준결승 7 김헌일 박경배\n"
     ]
    },
    {
     "name": "stderr",
     "output_type": "stream",
     "text": [
      " 51%|█████     | 928/1813 [2:28:47<2:14:50,  9.14s/it]"
     ]
    },
    {
     "name": "stdout",
     "output_type": "stream",
     "text": [
      "Saved  제6회 블랙나이트컵 전국 스쿼시 선수권 및 동호인 대회 준준준준결승 8 이민호 노희승\n"
     ]
    },
    {
     "name": "stderr",
     "output_type": "stream",
     "text": [
      " 51%|█████     | 929/1813 [2:28:54<2:04:16,  8.44s/it]"
     ]
    },
    {
     "name": "stdout",
     "output_type": "stream",
     "text": [
      "Saved  제6회 블랙나이트컵 전국 스쿼시 선수권 및 동호인 대회 준준준준결승 9 진성호 심규찬\n"
     ]
    },
    {
     "name": "stderr",
     "output_type": "stream",
     "text": [
      " 51%|█████▏    | 930/1813 [2:29:01<1:58:45,  8.07s/it]"
     ]
    },
    {
     "name": "stdout",
     "output_type": "stream",
     "text": [
      "Saved  제6회 블랙나이트컵 전국 스쿼시 선수권 및 동호인 대회 준준준준결승 10 주윤철 전경식\n",
      "Saved  제6회 블랙나이트컵 전국 스쿼시 선수권 및 동호인 대회 준준준준결승 11 정기철 양승진\n"
     ]
    },
    {
     "name": "stderr",
     "output_type": "stream",
     "text": [
      " 51%|█████▏    | 932/1813 [2:29:17<1:58:14,  8.05s/it]"
     ]
    },
    {
     "name": "stdout",
     "output_type": "stream",
     "text": [
      "Saved  제6회 블랙나이트컵 전국 스쿼시 선수권 및 동호인 대회 준준준준결승 12 조재율 김용열\n"
     ]
    },
    {
     "name": "stderr",
     "output_type": "stream",
     "text": [
      " 51%|█████▏    | 933/1813 [2:29:34<2:37:16, 10.72s/it]"
     ]
    },
    {
     "name": "stdout",
     "output_type": "stream",
     "text": [
      "Saved  제6회 블랙나이트컵 전국 스쿼시 선수권 및 동호인 대회 준준준준결승 13 이영호 최항석\n"
     ]
    },
    {
     "name": "stderr",
     "output_type": "stream",
     "text": [
      " 52%|█████▏    | 934/1813 [2:29:41<2:21:07,  9.63s/it]"
     ]
    },
    {
     "name": "stdout",
     "output_type": "stream",
     "text": [
      "Saved  제6회 블랙나이트컵 전국 스쿼시 선수권 및 동호인 대회 준준준준결승 14 백창선 박진호\n",
      "Saved  제6회 블랙나이트컵 전국 스쿼시 선수권 및 동호인 대회 준준준준결승 15 김재경 이용희\n"
     ]
    },
    {
     "name": "stderr",
     "output_type": "stream",
     "text": [
      " 52%|█████▏    | 936/1813 [2:29:56<2:02:49,  8.40s/it]"
     ]
    },
    {
     "name": "stdout",
     "output_type": "stream",
     "text": [
      "Saved  제6회 블랙나이트컵 전국 스쿼시 선수권 및 동호인 대회 준준준준결승 16 박용호 이동규\n"
     ]
    },
    {
     "name": "stderr",
     "output_type": "stream",
     "text": [
      " 52%|█████▏    | 937/1813 [2:30:03<1:56:18,  7.97s/it]"
     ]
    },
    {
     "name": "stdout",
     "output_type": "stream",
     "text": [
      "Saved  제6회 블랙나이트컵 전국 스쿼시 선수권 및 동호인 대회 준준준결승경기１ 강석진 김용태\n"
     ]
    },
    {
     "name": "stderr",
     "output_type": "stream",
     "text": [
      " 52%|█████▏    | 938/1813 [2:30:18<2:26:26, 10.04s/it]"
     ]
    },
    {
     "name": "stdout",
     "output_type": "stream",
     "text": [
      "Saved  제6회 블랙나이트컵 전국 스쿼시 선수권 및 동호인 대회 준준준결승경기２ 이형석 김형석\n"
     ]
    },
    {
     "name": "stderr",
     "output_type": "stream",
     "text": [
      " 52%|█████▏    | 939/1813 [2:30:28<2:27:35, 10.13s/it]"
     ]
    },
    {
     "name": "stdout",
     "output_type": "stream",
     "text": [
      "Saved  제6회 블랙나이트컵 전국 스쿼시 선수권 및 동호인 대회 준준준결승경기３ 김일권 현태민\n"
     ]
    },
    {
     "name": "stderr",
     "output_type": "stream",
     "text": [
      " 52%|█████▏    | 940/1813 [2:30:36<2:18:51,  9.54s/it]"
     ]
    },
    {
     "name": "stdout",
     "output_type": "stream",
     "text": [
      "Saved  제6회 블랙나이트컵 전국 스쿼시 선수권 및 동호인 대회 준준준결승경기４ 박경배 이민호\n"
     ]
    },
    {
     "name": "stderr",
     "output_type": "stream",
     "text": [
      " 52%|█████▏    | 941/1813 [2:30:47<2:23:12,  9.85s/it]"
     ]
    },
    {
     "name": "stdout",
     "output_type": "stream",
     "text": [
      "Saved  제6회 블랙나이트컵 전국 스쿼시 선수권 및 동호인 대회 준준준결승경기５ 심규찬 전경식\n"
     ]
    },
    {
     "name": "stderr",
     "output_type": "stream",
     "text": [
      " 52%|█████▏    | 942/1813 [2:31:05<2:58:56, 12.33s/it]"
     ]
    },
    {
     "name": "stdout",
     "output_type": "stream",
     "text": [
      "Saved  제6회 블랙나이트컵 전국 스쿼시 선수권 및 동호인 대회 준준준결승경기６ 양승진 조재율\n"
     ]
    },
    {
     "name": "stderr",
     "output_type": "stream",
     "text": [
      " 52%|█████▏    | 943/1813 [2:31:16<2:53:37, 11.97s/it]"
     ]
    },
    {
     "name": "stdout",
     "output_type": "stream",
     "text": [
      "Saved  제6회 블랙나이트컵 전국 스쿼시 선수권 및 동호인 대회 준준준결승경기７ 최항석 백창선\n"
     ]
    },
    {
     "name": "stderr",
     "output_type": "stream",
     "text": [
      " 52%|█████▏    | 944/1813 [2:31:35<3:25:54, 14.22s/it]"
     ]
    },
    {
     "name": "stdout",
     "output_type": "stream",
     "text": [
      "Saved  제6회 블랙나이트컵 전국 스쿼시 선수권 및 동호인 대회 준준준결승경기８ 김재경 박용호\n",
      "Saved  제6회 블랙나이트컵 전국 스쿼시 선수권 및 동호인 대회 준준결승경기１ 강석진 이형석\n"
     ]
    },
    {
     "name": "stderr",
     "output_type": "stream",
     "text": [
      " 52%|█████▏    | 946/1813 [2:31:51<2:35:30, 10.76s/it]"
     ]
    },
    {
     "name": "stdout",
     "output_type": "stream",
     "text": [
      "Saved  제6회 블랙나이트컵 전국 스쿼시 선수권 및 동호인 대회 준준결승경기２ 현태민 이민호\n"
     ]
    },
    {
     "name": "stderr",
     "output_type": "stream",
     "text": [
      " 52%|█████▏    | 947/1813 [2:31:57<2:18:22,  9.59s/it]"
     ]
    },
    {
     "name": "stdout",
     "output_type": "stream",
     "text": [
      "Saved  제6회 블랙나이트컵 전국 스쿼시 선수권 및 동호인 대회 준준결승경기３ 심규찬 조재율\n"
     ]
    },
    {
     "name": "stderr",
     "output_type": "stream",
     "text": [
      " 52%|█████▏    | 948/1813 [2:32:04<2:06:04,  8.74s/it]"
     ]
    },
    {
     "name": "stdout",
     "output_type": "stream",
     "text": [
      "Saved  제6회 블랙나이트컵 전국 스쿼시 선수권 및 동호인 대회 준준결승경기４ 백창선 박용호\n"
     ]
    },
    {
     "name": "stderr",
     "output_type": "stream",
     "text": [
      " 52%|█████▏    | 949/1813 [2:32:19<2:32:12, 10.57s/it]"
     ]
    },
    {
     "name": "stdout",
     "output_type": "stream",
     "text": [
      "Saved  제6회 블랙나이트컵 전국 스쿼시 선수권 및 동호인 대회 준결승경기１ 이형석 이민호\n",
      "Saved  제6회 블랙나이트컵 전국 스쿼시 선수권 및 동호인 대회 준결승경기２ 심규찬 백창선\n"
     ]
    },
    {
     "name": "stderr",
     "output_type": "stream",
     "text": [
      " 52%|█████▏    | 951/1813 [2:32:33<2:06:16,  8.79s/it]"
     ]
    },
    {
     "name": "stdout",
     "output_type": "stream",
     "text": [
      "Saved  제6회 블랙나이트컵 전국 스쿼시 선수권 및 동호인 대회 결승 이형석 심규찬\n",
      "Saved  제6회 블랙나이트컵 전국 스쿼시 선수권 및 동호인 대회 예선경기２ 서민원 임지현\n"
     ]
    },
    {
     "name": "stderr",
     "output_type": "stream",
     "text": [
      " 53%|█████▎    | 953/1813 [2:32:50<2:00:24,  8.40s/it]"
     ]
    },
    {
     "name": "stdout",
     "output_type": "stream",
     "text": [
      "Saved  제6회 블랙나이트컵 전국 스쿼시 선수권 및 동호인 대회 준준준준준결승 1 이춘애 서민원\n"
     ]
    },
    {
     "name": "stderr",
     "output_type": "stream",
     "text": [
      " 53%|█████▎    | 954/1813 [2:32:57<1:53:36,  7.94s/it]"
     ]
    },
    {
     "name": "stdout",
     "output_type": "stream",
     "text": [
      "Saved  제6회 블랙나이트컵 전국 스쿼시 선수권 및 동호인 대회 준준준준준결승 2 최수옥 윤귀임\n"
     ]
    },
    {
     "name": "stderr",
     "output_type": "stream",
     "text": [
      " 53%|█████▎    | 955/1813 [2:33:15<2:40:31, 11.23s/it]"
     ]
    },
    {
     "name": "stdout",
     "output_type": "stream",
     "text": [
      "Saved  제6회 블랙나이트컵 전국 스쿼시 선수권 및 동호인 대회 준준준준준결승 3 박경순 성민정\n"
     ]
    },
    {
     "name": "stderr",
     "output_type": "stream",
     "text": [
      " 53%|█████▎    | 956/1813 [2:33:23<2:23:19, 10.03s/it]"
     ]
    },
    {
     "name": "stdout",
     "output_type": "stream",
     "text": [
      "Saved  제6회 블랙나이트컵 전국 스쿼시 선수권 및 동호인 대회 준준준준준결승 4 이은하 배성현\n"
     ]
    },
    {
     "name": "stderr",
     "output_type": "stream",
     "text": [
      " 53%|█████▎    | 957/1813 [2:33:30<2:10:02,  9.12s/it]"
     ]
    },
    {
     "name": "stdout",
     "output_type": "stream",
     "text": [
      "Saved  제6회 블랙나이트컵 전국 스쿼시 선수권 및 동호인 대회 준준준준준결승 5 황보영 유성미\n",
      "Saved  제6회 블랙나이트컵 전국 스쿼시 선수권 및 동호인 대회 준준준준준결승 6 이경순 이은영\n"
     ]
    },
    {
     "name": "stderr",
     "output_type": "stream",
     "text": [
      " 53%|█████▎    | 959/1813 [2:33:45<1:58:01,  8.29s/it]"
     ]
    },
    {
     "name": "stdout",
     "output_type": "stream",
     "text": [
      "Saved  제6회 블랙나이트컵 전국 스쿼시 선수권 및 동호인 대회 준준준준준결승 7 신정희 정영주\n"
     ]
    },
    {
     "name": "stderr",
     "output_type": "stream",
     "text": [
      " 53%|█████▎    | 960/1813 [2:34:00<2:27:54, 10.40s/it]"
     ]
    },
    {
     "name": "stdout",
     "output_type": "stream",
     "text": [
      "Saved  제6회 블랙나이트컵 전국 스쿼시 선수권 및 동호인 대회 준준준준준결승 8 김미랑 신수연\n"
     ]
    },
    {
     "name": "stderr",
     "output_type": "stream",
     "text": [
      " 53%|█████▎    | 961/1813 [2:34:07<2:13:13,  9.38s/it]"
     ]
    },
    {
     "name": "stdout",
     "output_type": "stream",
     "text": [
      "Saved  제6회 블랙나이트컵 전국 스쿼시 선수권 및 동호인 대회 준준준준준결승 9 노유경 송혜리\n",
      "Saved  제6회 블랙나이트컵 전국 스쿼시 선수권 및 동호인 대회 준준준준준결승 10 이정은 구미정\n"
     ]
    },
    {
     "name": "stderr",
     "output_type": "stream",
     "text": [
      " 53%|█████▎    | 963/1813 [2:34:21<1:56:50,  8.25s/it]"
     ]
    },
    {
     "name": "stdout",
     "output_type": "stream",
     "text": [
      "Saved  제6회 블랙나이트컵 전국 스쿼시 선수권 및 동호인 대회 준준준준준결승 11 박유화 명미숙\n",
      "Saved  제6회 블랙나이트컵 전국 스쿼시 선수권 및 동호인 대회 준준준준준결승 12 이경화 박미자\n"
     ]
    },
    {
     "name": "stderr",
     "output_type": "stream",
     "text": [
      " 53%|█████▎    | 965/1813 [2:34:36<1:49:06,  7.72s/it]"
     ]
    },
    {
     "name": "stdout",
     "output_type": "stream",
     "text": [
      "Saved  제6회 블랙나이트컵 전국 스쿼시 선수권 및 동호인 대회 준준준준준결승 13 최미란 김은지\n",
      "Saved  제6회 블랙나이트컵 전국 스쿼시 선수권 및 동호인 대회 준준준준준결승 14 변영진 이주희\n"
     ]
    },
    {
     "name": "stderr",
     "output_type": "stream",
     "text": [
      " 53%|█████▎    | 966/1813 [2:34:53<2:30:36, 10.67s/it]"
     ]
    },
    {
     "name": "stdout",
     "output_type": "stream",
     "text": [
      "Saved  제6회 블랙나이트컵 전국 스쿼시 선수권 및 동호인 대회 준준준준준결승 15 김미정 조만리\n"
     ]
    },
    {
     "name": "stderr",
     "output_type": "stream",
     "text": [
      " 53%|█████▎    | 967/1813 [2:35:01<2:16:20,  9.67s/it]"
     ]
    },
    {
     "name": "stdout",
     "output_type": "stream",
     "text": [
      "Saved  제6회 블랙나이트컵 전국 스쿼시 선수권 및 동호인 대회 준준준준준결승 16 김행미 이경자\n"
     ]
    },
    {
     "name": "stderr",
     "output_type": "stream",
     "text": [
      " 53%|█████▎    | 969/1813 [2:35:17<2:03:38,  8.79s/it]"
     ]
    },
    {
     "name": "stdout",
     "output_type": "stream",
     "text": [
      "Saved  제6회 블랙나이트컵 전국 스쿼시 선수권 및 동호인 대회 준준준준준결승 17 최성희 박경진\n"
     ]
    },
    {
     "name": "stderr",
     "output_type": "stream",
     "text": [
      " 54%|█████▎    | 970/1813 [2:35:28<2:12:41,  9.44s/it]"
     ]
    },
    {
     "name": "stdout",
     "output_type": "stream",
     "text": [
      "Saved  제6회 블랙나이트컵 전국 스쿼시 선수권 및 동호인 대회 준준준준준결승 18 김성미 박혜정\n"
     ]
    },
    {
     "name": "stderr",
     "output_type": "stream",
     "text": [
      " 54%|█████▎    | 971/1813 [2:35:46<2:48:18, 11.99s/it]"
     ]
    },
    {
     "name": "stdout",
     "output_type": "stream",
     "text": [
      "Saved  제6회 블랙나이트컵 전국 스쿼시 선수권 및 동호인 대회 준준준준준결승 19 양문경 장다희\n",
      "Saved  제6회 블랙나이트컵 전국 스쿼시 선수권 및 동호인 대회 준준준준준결승 20 김현솔 박윤정\n"
     ]
    },
    {
     "name": "stderr",
     "output_type": "stream",
     "text": [
      " 54%|█████▎    | 973/1813 [2:36:00<2:14:00,  9.57s/it]"
     ]
    },
    {
     "name": "stdout",
     "output_type": "stream",
     "text": [
      "Saved  제6회 블랙나이트컵 전국 스쿼시 선수권 및 동호인 대회 준준준준준결승 21 서금진 경민희\n"
     ]
    },
    {
     "name": "stderr",
     "output_type": "stream",
     "text": [
      " 54%|█████▎    | 974/1813 [2:36:07<2:03:20,  8.82s/it]"
     ]
    },
    {
     "name": "stdout",
     "output_type": "stream",
     "text": [
      "Saved  제6회 블랙나이트컵 전국 스쿼시 선수권 및 동호인 대회 준준준준준결승 22 우금부 홍수연\n"
     ]
    },
    {
     "name": "stderr",
     "output_type": "stream",
     "text": [
      " 54%|█████▍    | 975/1813 [2:36:14<1:55:53,  8.30s/it]"
     ]
    },
    {
     "name": "stdout",
     "output_type": "stream",
     "text": [
      "Saved  제6회 블랙나이트컵 전국 스쿼시 선수권 및 동호인 대회 준준준준준결승 23 박순희 이혜영\n"
     ]
    },
    {
     "name": "stderr",
     "output_type": "stream",
     "text": [
      " 54%|█████▍    | 976/1813 [2:36:21<1:50:11,  7.90s/it]"
     ]
    },
    {
     "name": "stdout",
     "output_type": "stream",
     "text": [
      "Saved  제6회 블랙나이트컵 전국 스쿼시 선수권 및 동호인 대회 준준준준준결승 24 박은별 장인희\n"
     ]
    },
    {
     "name": "stderr",
     "output_type": "stream",
     "text": [
      " 54%|█████▍    | 977/1813 [2:36:39<2:31:25, 10.87s/it]"
     ]
    },
    {
     "name": "stdout",
     "output_type": "stream",
     "text": [
      "Saved  제6회 블랙나이트컵 전국 스쿼시 선수권 및 동호인 대회 준준준준준결승 25 정선숙 임현정\n"
     ]
    },
    {
     "name": "stderr",
     "output_type": "stream",
     "text": [
      " 54%|█████▍    | 978/1813 [2:36:47<2:19:27, 10.02s/it]"
     ]
    },
    {
     "name": "stdout",
     "output_type": "stream",
     "text": [
      "Saved  제6회 블랙나이트컵 전국 스쿼시 선수권 및 동호인 대회 준준준준준결승 26 양수진 한수미\n"
     ]
    },
    {
     "name": "stderr",
     "output_type": "stream",
     "text": [
      " 54%|█████▍    | 979/1813 [2:36:54<2:07:07,  9.15s/it]"
     ]
    },
    {
     "name": "stdout",
     "output_type": "stream",
     "text": [
      "Saved  제6회 블랙나이트컵 전국 스쿼시 선수권 및 동호인 대회 준준준준준결승 27 류상수 유지영\n"
     ]
    },
    {
     "name": "stderr",
     "output_type": "stream",
     "text": [
      " 54%|█████▍    | 980/1813 [2:37:01<1:59:15,  8.59s/it]"
     ]
    },
    {
     "name": "stdout",
     "output_type": "stream",
     "text": [
      "Saved  제6회 블랙나이트컵 전국 스쿼시 선수권 및 동호인 대회 준준준준준결승 28 박영주 이민아\n"
     ]
    },
    {
     "name": "stderr",
     "output_type": "stream",
     "text": [
      " 54%|█████▍    | 981/1813 [2:37:08<1:52:36,  8.12s/it]"
     ]
    },
    {
     "name": "stdout",
     "output_type": "stream",
     "text": [
      "Saved  제6회 블랙나이트컵 전국 스쿼시 선수권 및 동호인 대회 준준준준준결승 29 오미경 김순희\n"
     ]
    },
    {
     "name": "stderr",
     "output_type": "stream",
     "text": [
      " 54%|█████▍    | 982/1813 [2:37:15<1:47:56,  7.79s/it]"
     ]
    },
    {
     "name": "stdout",
     "output_type": "stream",
     "text": [
      "Saved  제6회 블랙나이트컵 전국 스쿼시 선수권 및 동호인 대회 준준준준준결승 30 김미솔 김미선\n"
     ]
    },
    {
     "name": "stderr",
     "output_type": "stream",
     "text": [
      " 54%|█████▍    | 983/1813 [2:37:34<2:34:10, 11.15s/it]"
     ]
    },
    {
     "name": "stdout",
     "output_type": "stream",
     "text": [
      "Saved  제6회 블랙나이트컵 전국 스쿼시 선수권 및 동호인 대회 준준준준준결승 31 백소희 김미숙\n"
     ]
    },
    {
     "name": "stderr",
     "output_type": "stream",
     "text": [
      " 54%|█████▍    | 984/1813 [2:37:41<2:16:40,  9.89s/it]"
     ]
    },
    {
     "name": "stdout",
     "output_type": "stream",
     "text": [
      "Saved  제6회 블랙나이트컵 전국 스쿼시 선수권 및 동호인 대회 준준준준준결승 32 김미라 김미경\n"
     ]
    },
    {
     "name": "stderr",
     "output_type": "stream",
     "text": [
      " 54%|█████▍    | 985/1813 [2:37:48<2:04:37,  9.03s/it]"
     ]
    },
    {
     "name": "stdout",
     "output_type": "stream",
     "text": [
      "Saved  제6회 블랙나이트컵 전국 스쿼시 선수권 및 동호인 대회 준준준준결승 1 서민원 최수옥\n"
     ]
    },
    {
     "name": "stderr",
     "output_type": "stream",
     "text": [
      " 54%|█████▍    | 986/1813 [2:37:55<1:55:06,  8.35s/it]"
     ]
    },
    {
     "name": "stdout",
     "output_type": "stream",
     "text": [
      "Saved  제6회 블랙나이트컵 전국 스쿼시 선수권 및 동호인 대회 준준준준결승 2 박경순 배성현\n"
     ]
    },
    {
     "name": "stderr",
     "output_type": "stream",
     "text": [
      " 54%|█████▍    | 987/1813 [2:38:02<1:49:42,  7.97s/it]"
     ]
    },
    {
     "name": "stdout",
     "output_type": "stream",
     "text": [
      "Saved  제6회 블랙나이트컵 전국 스쿼시 선수권 및 동호인 대회 준준준준결승 3 유성미 이은영\n"
     ]
    },
    {
     "name": "stderr",
     "output_type": "stream",
     "text": [
      " 54%|█████▍    | 988/1813 [2:38:17<2:18:05, 10.04s/it]"
     ]
    },
    {
     "name": "stdout",
     "output_type": "stream",
     "text": [
      "Saved  제6회 블랙나이트컵 전국 스쿼시 선수권 및 동호인 대회 준준준준결승 4 정영주 신수연\n"
     ]
    },
    {
     "name": "stderr",
     "output_type": "stream",
     "text": [
      " 55%|█████▍    | 989/1813 [2:38:24<2:05:05,  9.11s/it]"
     ]
    },
    {
     "name": "stdout",
     "output_type": "stream",
     "text": [
      "Saved  제6회 블랙나이트컵 전국 스쿼시 선수권 및 동호인 대회 준준준준결승 5 노유경 구미정\n"
     ]
    },
    {
     "name": "stderr",
     "output_type": "stream",
     "text": [
      " 55%|█████▍    | 990/1813 [2:38:31<1:55:19,  8.41s/it]"
     ]
    },
    {
     "name": "stdout",
     "output_type": "stream",
     "text": [
      "Saved  제6회 블랙나이트컵 전국 스쿼시 선수권 및 동호인 대회 준준준준결승 6 명미숙 박미자\n"
     ]
    },
    {
     "name": "stderr",
     "output_type": "stream",
     "text": [
      " 55%|█████▍    | 991/1813 [2:38:38<1:49:09,  7.97s/it]"
     ]
    },
    {
     "name": "stdout",
     "output_type": "stream",
     "text": [
      "Saved  제6회 블랙나이트컵 전국 스쿼시 선수권 및 동호인 대회 준준준준결승 7 김은지 변영진\n"
     ]
    },
    {
     "name": "stderr",
     "output_type": "stream",
     "text": [
      " 55%|█████▍    | 992/1813 [2:38:45<1:45:55,  7.74s/it]"
     ]
    },
    {
     "name": "stdout",
     "output_type": "stream",
     "text": [
      "Saved  제6회 블랙나이트컵 전국 스쿼시 선수권 및 동호인 대회 준준준준결승 8 김미정 이경자\n"
     ]
    },
    {
     "name": "stderr",
     "output_type": "stream",
     "text": [
      " 55%|█████▍    | 993/1813 [2:38:52<1:44:28,  7.64s/it]"
     ]
    },
    {
     "name": "stdout",
     "output_type": "stream",
     "text": [
      "Saved  제6회 블랙나이트컵 전국 스쿼시 선수권 및 동호인 대회 준준준준결승 9 최성희 김성미\n"
     ]
    },
    {
     "name": "stderr",
     "output_type": "stream",
     "text": [
      " 55%|█████▍    | 994/1813 [2:39:09<2:23:06, 10.48s/it]"
     ]
    },
    {
     "name": "stdout",
     "output_type": "stream",
     "text": [
      "Saved  제6회 블랙나이트컵 전국 스쿼시 선수권 및 동호인 대회 준준준준결승 10 양문경 박윤정\n"
     ]
    },
    {
     "name": "stderr",
     "output_type": "stream",
     "text": [
      " 55%|█████▍    | 995/1813 [2:39:16<2:08:15,  9.41s/it]"
     ]
    },
    {
     "name": "stdout",
     "output_type": "stream",
     "text": [
      "Saved  제6회 블랙나이트컵 전국 스쿼시 선수권 및 동호인 대회 준준준준결승 11 서금진 홍수연\n"
     ]
    },
    {
     "name": "stderr",
     "output_type": "stream",
     "text": [
      " 55%|█████▍    | 996/1813 [2:39:23<1:58:32,  8.71s/it]"
     ]
    },
    {
     "name": "stdout",
     "output_type": "stream",
     "text": [
      "Saved  제6회 블랙나이트컵 전국 스쿼시 선수권 및 동호인 대회 준준준준결승 12 박순희 장인희\n"
     ]
    },
    {
     "name": "stderr",
     "output_type": "stream",
     "text": [
      " 55%|█████▍    | 997/1813 [2:39:30<1:50:58,  8.16s/it]"
     ]
    },
    {
     "name": "stdout",
     "output_type": "stream",
     "text": [
      "Saved  제6회 블랙나이트컵 전국 스쿼시 선수권 및 동호인 대회 준준준준결승 13 정선숙 한수미\n"
     ]
    },
    {
     "name": "stderr",
     "output_type": "stream",
     "text": [
      " 55%|█████▌    | 998/1813 [2:39:37<1:46:06,  7.81s/it]"
     ]
    },
    {
     "name": "stdout",
     "output_type": "stream",
     "text": [
      "Saved  제6회 블랙나이트컵 전국 스쿼시 선수권 및 동호인 대회 준준준준결승 14 유지영 박영주\n"
     ]
    },
    {
     "name": "stderr",
     "output_type": "stream",
     "text": [
      " 55%|█████▌    | 999/1813 [2:39:53<2:16:17, 10.05s/it]"
     ]
    },
    {
     "name": "stdout",
     "output_type": "stream",
     "text": [
      "Saved  제6회 블랙나이트컵 전국 스쿼시 선수권 및 동호인 대회 준준준준결승 15 김순희 김미선\n",
      "Saved  제6회 블랙나이트컵 전국 스쿼시 선수권 및 동호인 대회 준준준준결승 16 김미숙 김미라\n"
     ]
    },
    {
     "name": "stderr",
     "output_type": "stream",
     "text": [
      " 55%|█████▌    | 1000/1813 [2:40:00<2:04:44,  9.21s/it]"
     ]
    },
    {
     "name": "stdout",
     "output_type": "stream",
     "text": [
      "Saved  제6회 블랙나이트컵 전국 스쿼시 선수권 및 동호인 대회 준준준결승경기１ 서민원 박경순\n"
     ]
    },
    {
     "name": "stderr",
     "output_type": "stream",
     "text": [
      " 55%|█████▌    | 1002/1813 [2:40:14<1:50:48,  8.20s/it]"
     ]
    },
    {
     "name": "stdout",
     "output_type": "stream",
     "text": [
      "Saved  제6회 블랙나이트컵 전국 스쿼시 선수권 및 동호인 대회 준준준결승경기２ 이은영 신수연\n"
     ]
    },
    {
     "name": "stderr",
     "output_type": "stream",
     "text": [
      " 55%|█████▌    | 1003/1813 [2:40:21<1:45:51,  7.84s/it]"
     ]
    },
    {
     "name": "stdout",
     "output_type": "stream",
     "text": [
      "Saved  제6회 블랙나이트컵 전국 스쿼시 선수권 및 동호인 대회 준준준결승경기３ 노유경 박미자\n"
     ]
    },
    {
     "name": "stderr",
     "output_type": "stream",
     "text": [
      " 55%|█████▌    | 1004/1813 [2:40:28<1:41:34,  7.53s/it]"
     ]
    },
    {
     "name": "stdout",
     "output_type": "stream",
     "text": [
      "Saved  제6회 블랙나이트컵 전국 스쿼시 선수권 및 동호인 대회 준준준결승경기４ 변영진 김미정\n"
     ]
    },
    {
     "name": "stderr",
     "output_type": "stream",
     "text": [
      " 55%|█████▌    | 1005/1813 [2:40:45<2:19:51, 10.39s/it]"
     ]
    },
    {
     "name": "stdout",
     "output_type": "stream",
     "text": [
      "Saved  제6회 블랙나이트컵 전국 스쿼시 선수권 및 동호인 대회 준준준결승경기５ 최성희 박윤정\n"
     ]
    },
    {
     "name": "stderr",
     "output_type": "stream",
     "text": [
      " 55%|█████▌    | 1006/1813 [2:40:52<2:06:06,  9.38s/it]"
     ]
    },
    {
     "name": "stdout",
     "output_type": "stream",
     "text": [
      "Saved  제6회 블랙나이트컵 전국 스쿼시 선수권 및 동호인 대회 준준준결승경기６ 서금진 박순희\n"
     ]
    },
    {
     "name": "stderr",
     "output_type": "stream",
     "text": [
      " 56%|█████▌    | 1007/1813 [2:40:59<1:56:04,  8.64s/it]"
     ]
    },
    {
     "name": "stdout",
     "output_type": "stream",
     "text": [
      "Saved  제6회 블랙나이트컵 전국 스쿼시 선수권 및 동호인 대회 준준준결승경기７ 정선숙 유지영\n"
     ]
    },
    {
     "name": "stderr",
     "output_type": "stream",
     "text": [
      " 56%|█████▌    | 1008/1813 [2:41:07<1:50:46,  8.26s/it]"
     ]
    },
    {
     "name": "stdout",
     "output_type": "stream",
     "text": [
      "Saved  제6회 블랙나이트컵 전국 스쿼시 선수권 및 동호인 대회 준준준결승경기８ 김순희 김미숙\n"
     ]
    },
    {
     "name": "stderr",
     "output_type": "stream",
     "text": [
      " 56%|█████▌    | 1009/1813 [2:41:14<1:46:06,  7.92s/it]"
     ]
    },
    {
     "name": "stdout",
     "output_type": "stream",
     "text": [
      "Saved  제6회 블랙나이트컵 전국 스쿼시 선수권 및 동호인 대회 준준결승경기１ 서민원 이은영\n"
     ]
    },
    {
     "name": "stderr",
     "output_type": "stream",
     "text": [
      " 56%|█████▌    | 1010/1813 [2:41:29<2:14:32, 10.05s/it]"
     ]
    },
    {
     "name": "stdout",
     "output_type": "stream",
     "text": [
      "Saved  제6회 블랙나이트컵 전국 스쿼시 선수권 및 동호인 대회 준준결승경기２ 박미자 변영진\n"
     ]
    },
    {
     "name": "stderr",
     "output_type": "stream",
     "text": [
      " 56%|█████▌    | 1011/1813 [2:41:36<2:03:24,  9.23s/it]"
     ]
    },
    {
     "name": "stdout",
     "output_type": "stream",
     "text": [
      "Saved  제6회 블랙나이트컵 전국 스쿼시 선수권 및 동호인 대회 준준결승경기３ 최성희 박순희\n"
     ]
    },
    {
     "name": "stderr",
     "output_type": "stream",
     "text": [
      " 56%|█████▌    | 1012/1813 [2:41:43<1:54:21,  8.57s/it]"
     ]
    },
    {
     "name": "stdout",
     "output_type": "stream",
     "text": [
      "Saved  제6회 블랙나이트컵 전국 스쿼시 선수권 및 동호인 대회 준준결승경기４ 정선숙 김순희\n"
     ]
    },
    {
     "name": "stderr",
     "output_type": "stream",
     "text": [
      " 56%|█████▌    | 1013/1813 [2:41:50<1:47:43,  8.08s/it]"
     ]
    },
    {
     "name": "stdout",
     "output_type": "stream",
     "text": [
      "Saved  제6회 블랙나이트컵 전국 스쿼시 선수권 및 동호인 대회 준결승경기１ 서민원 박미자\n"
     ]
    },
    {
     "name": "stderr",
     "output_type": "stream",
     "text": [
      " 56%|█████▌    | 1014/1813 [2:41:57<1:43:29,  7.77s/it]"
     ]
    },
    {
     "name": "stdout",
     "output_type": "stream",
     "text": [
      "Saved  제6회 블랙나이트컵 전국 스쿼시 선수권 및 동호인 대회 준결승경기２ 최성희 정선숙\n"
     ]
    },
    {
     "name": "stderr",
     "output_type": "stream",
     "text": [
      " 56%|█████▌    | 1015/1813 [2:42:04<1:39:35,  7.49s/it]"
     ]
    },
    {
     "name": "stdout",
     "output_type": "stream",
     "text": [
      "Saved  제6회 블랙나이트컵 전국 스쿼시 선수권 및 동호인 대회 결승 서민원 정선숙\n"
     ]
    },
    {
     "name": "stderr",
     "output_type": "stream",
     "text": [
      " 56%|█████▌    | 1016/1813 [2:42:21<2:17:34, 10.36s/it]"
     ]
    },
    {
     "name": "stdout",
     "output_type": "stream",
     "text": [
      "Saved  2013 제6회 윌슨컵 코리아 오픈 스쿼시 챔피언쉽 예선경기２ 신헌수 이승욱\n"
     ]
    },
    {
     "name": "stderr",
     "output_type": "stream",
     "text": [
      " 56%|█████▌    | 1017/1813 [2:42:28<2:03:52,  9.34s/it]"
     ]
    },
    {
     "name": "stdout",
     "output_type": "stream",
     "text": [
      "Saved  2013 제6회 윌슨컵 코리아 오픈 스쿼시 챔피언쉽 예선경기３ 이은범 김재완\n"
     ]
    },
    {
     "name": "stderr",
     "output_type": "stream",
     "text": [
      " 56%|█████▌    | 1018/1813 [2:42:35<1:55:51,  8.74s/it]"
     ]
    },
    {
     "name": "stdout",
     "output_type": "stream",
     "text": [
      "Saved  2013 제6회 윌슨컵 코리아 오픈 스쿼시 챔피언쉽 예선경기７ 정영준 김종택\n"
     ]
    },
    {
     "name": "stderr",
     "output_type": "stream",
     "text": [
      " 56%|█████▌    | 1019/1813 [2:42:42<1:48:41,  8.21s/it]"
     ]
    },
    {
     "name": "stdout",
     "output_type": "stream",
     "text": [
      "Saved  2013 제6회 윌슨컵 코리아 오픈 스쿼시 챔피언쉽 예선경기１０ 김현용 이상민\n"
     ]
    },
    {
     "name": "stderr",
     "output_type": "stream",
     "text": [
      " 56%|█████▋    | 1020/1813 [2:42:49<1:43:51,  7.86s/it]"
     ]
    },
    {
     "name": "stdout",
     "output_type": "stream",
     "text": [
      "Saved  2013 제6회 윌슨컵 코리아 오픈 스쿼시 챔피언쉽 예선경기１４ 최동진 김규호\n"
     ]
    },
    {
     "name": "stderr",
     "output_type": "stream",
     "text": [
      " 56%|█████▋    | 1021/1813 [2:43:04<2:12:08, 10.01s/it]"
     ]
    },
    {
     "name": "stdout",
     "output_type": "stream",
     "text": [
      "Saved  2013 제6회 윌슨컵 코리아 오픈 스쿼시 챔피언쉽 예선경기１５ 진수철 이준행\n"
     ]
    },
    {
     "name": "stderr",
     "output_type": "stream",
     "text": [
      " 56%|█████▋    | 1022/1813 [2:43:11<2:00:27,  9.14s/it]"
     ]
    },
    {
     "name": "stdout",
     "output_type": "stream",
     "text": [
      "Saved  2013 제6회 윌슨컵 코리아 오픈 스쿼시 챔피언쉽 예선경기１８ 서여준 김상학\n"
     ]
    },
    {
     "name": "stderr",
     "output_type": "stream",
     "text": [
      " 56%|█████▋    | 1023/1813 [2:43:18<1:51:49,  8.49s/it]"
     ]
    },
    {
     "name": "stdout",
     "output_type": "stream",
     "text": [
      "Saved  2013 제6회 윌슨컵 코리아 오픈 스쿼시 챔피언쉽 예선경기 23 황지훈 조영훈\n"
     ]
    },
    {
     "name": "stderr",
     "output_type": "stream",
     "text": [
      " 56%|█████▋    | 1024/1813 [2:43:25<1:46:15,  8.08s/it]"
     ]
    },
    {
     "name": "stdout",
     "output_type": "stream",
     "text": [
      "Saved  2013 제6회 윌슨컵 코리아 오픈 스쿼시 챔피언쉽 예선경기 26 우창욱 이동현\n"
     ]
    },
    {
     "name": "stderr",
     "output_type": "stream",
     "text": [
      " 57%|█████▋    | 1025/1813 [2:43:35<1:49:58,  8.37s/it]"
     ]
    },
    {
     "name": "stdout",
     "output_type": "stream",
     "text": [
      "Saved  2013 제6회 윌슨컵 코리아 오픈 스쿼시 챔피언쉽 예선경기 30 박경진 노승화\n",
      "Saved  2013 제6회 윌슨컵 코리아 오픈 스쿼시 챔피언쉽 예선경기 31 김재준 박정규\n"
     ]
    },
    {
     "name": "stderr",
     "output_type": "stream",
     "text": [
      " 57%|█████▋    | 1027/1813 [2:43:58<2:19:35, 10.66s/it]"
     ]
    },
    {
     "name": "stdout",
     "output_type": "stream",
     "text": [
      "Saved  2013 제6회 윌슨컵 코리아 오픈 스쿼시 챔피언쉽 예선경기 34 김현준 정대훈\n"
     ]
    },
    {
     "name": "stderr",
     "output_type": "stream",
     "text": [
      " 57%|█████▋    | 1028/1813 [2:44:07<2:12:00, 10.09s/it]"
     ]
    },
    {
     "name": "stdout",
     "output_type": "stream",
     "text": [
      "Saved  2013 제6회 윌슨컵 코리아 오픈 스쿼시 챔피언쉽 예선경기 35 탁형진 이현욱\n"
     ]
    },
    {
     "name": "stderr",
     "output_type": "stream",
     "text": [
      " 57%|█████▋    | 1029/1813 [2:44:14<1:59:12,  9.12s/it]"
     ]
    },
    {
     "name": "stdout",
     "output_type": "stream",
     "text": [
      "Saved  2013 제6회 윌슨컵 코리아 오픈 스쿼시 챔피언쉽 예선경기 39 강성민 한창훈\n"
     ]
    },
    {
     "name": "stderr",
     "output_type": "stream",
     "text": [
      " 57%|█████▋    | 1030/1813 [2:44:21<1:50:23,  8.46s/it]"
     ]
    },
    {
     "name": "stdout",
     "output_type": "stream",
     "text": [
      "Saved  2013 제6회 윌슨컵 코리아 오픈 스쿼시 챔피언쉽 예선경기 42 김태년 최규희\n"
     ]
    },
    {
     "name": "stderr",
     "output_type": "stream",
     "text": [
      " 57%|█████▋    | 1031/1813 [2:44:28<1:44:09,  7.99s/it]"
     ]
    },
    {
     "name": "stdout",
     "output_type": "stream",
     "text": [
      "Saved  2013 제6회 윌슨컵 코리아 오픈 스쿼시 챔피언쉽 예선경기 47 권오석 허재선\n"
     ]
    },
    {
     "name": "stderr",
     "output_type": "stream",
     "text": [
      " 57%|█████▋    | 1032/1813 [2:44:45<2:17:40, 10.58s/it]"
     ]
    },
    {
     "name": "stdout",
     "output_type": "stream",
     "text": [
      "Saved  2013 제6회 윌슨컵 코리아 오픈 스쿼시 챔피언쉽 예선경기 50 김정원 엄수원\n"
     ]
    },
    {
     "name": "stderr",
     "output_type": "stream",
     "text": [
      " 57%|█████▋    | 1033/1813 [2:44:52<2:03:58,  9.54s/it]"
     ]
    },
    {
     "name": "stdout",
     "output_type": "stream",
     "text": [
      "Saved  2013 제6회 윌슨컵 코리아 오픈 스쿼시 챔피언쉽 예선경기 51 김종훈 탁효진\n"
     ]
    },
    {
     "name": "stderr",
     "output_type": "stream",
     "text": [
      " 57%|█████▋    | 1034/1813 [2:44:59<1:53:42,  8.76s/it]"
     ]
    },
    {
     "name": "stdout",
     "output_type": "stream",
     "text": [
      "Saved  2013 제6회 윌슨컵 코리아 오픈 스쿼시 챔피언쉽 예선경기 55 강석환 이건동\n"
     ]
    },
    {
     "name": "stderr",
     "output_type": "stream",
     "text": [
      " 57%|█████▋    | 1035/1813 [2:45:05<1:46:25,  8.21s/it]"
     ]
    },
    {
     "name": "stdout",
     "output_type": "stream",
     "text": [
      "Saved  2013 제6회 윌슨컵 코리아 오픈 스쿼시 챔피언쉽 예선경기 58 이승택 김성집\n"
     ]
    },
    {
     "name": "stderr",
     "output_type": "stream",
     "text": [
      " 57%|█████▋    | 1036/1813 [2:45:12<1:41:10,  7.81s/it]"
     ]
    },
    {
     "name": "stdout",
     "output_type": "stream",
     "text": [
      "Saved  2013 제6회 윌슨컵 코리아 오픈 스쿼시 챔피언쉽 예선경기 62 최지우 백승엽\n"
     ]
    },
    {
     "name": "stderr",
     "output_type": "stream",
     "text": [
      " 57%|█████▋    | 1037/1813 [2:45:20<1:39:08,  7.67s/it]"
     ]
    },
    {
     "name": "stdout",
     "output_type": "stream",
     "text": [
      "Saved  2013 제6회 윌슨컵 코리아 오픈 스쿼시 챔피언쉽 예선경기 63 임태섭 김광문\n"
     ]
    },
    {
     "name": "stderr",
     "output_type": "stream",
     "text": [
      " 57%|█████▋    | 1038/1813 [2:45:37<2:18:01, 10.69s/it]"
     ]
    },
    {
     "name": "stdout",
     "output_type": "stream",
     "text": [
      "Saved  2013 제6회 윌슨컵 코리아 오픈 스쿼시 챔피언쉽 준준준준준결승 1 권현준 이승욱\n"
     ]
    },
    {
     "name": "stderr",
     "output_type": "stream",
     "text": [
      " 57%|█████▋    | 1039/1813 [2:45:44<2:03:06,  9.54s/it]"
     ]
    },
    {
     "name": "stdout",
     "output_type": "stream",
     "text": [
      "Saved  2013 제6회 윌슨컵 코리아 오픈 스쿼시 챔피언쉽 준준준준준결승 2 이은범 박성찬\n"
     ]
    },
    {
     "name": "stderr",
     "output_type": "stream",
     "text": [
      " 57%|█████▋    | 1040/1813 [2:45:51<1:52:29,  8.73s/it]"
     ]
    },
    {
     "name": "stdout",
     "output_type": "stream",
     "text": [
      "Saved  2013 제6회 윌슨컵 코리아 오픈 스쿼시 챔피언쉽 준준준준준결승 3 원준호 이용희\n"
     ]
    },
    {
     "name": "stderr",
     "output_type": "stream",
     "text": [
      " 57%|█████▋    | 1041/1813 [2:45:58<1:44:31,  8.12s/it]"
     ]
    },
    {
     "name": "stdout",
     "output_type": "stream",
     "text": [
      "Saved  2013 제6회 윌슨컵 코리아 오픈 스쿼시 챔피언쉽 준준준준준결승 4 정영준 KIM HAN\n"
     ]
    },
    {
     "name": "stderr",
     "output_type": "stream",
     "text": [
      " 57%|█████▋    | 1042/1813 [2:46:05<1:40:23,  7.81s/it]"
     ]
    },
    {
     "name": "stdout",
     "output_type": "stream",
     "text": [
      "Saved  2013 제6회 윌슨컵 코리아 오픈 스쿼시 챔피언쉽 준준준준준결승 5 고영조 김현용\n"
     ]
    },
    {
     "name": "stderr",
     "output_type": "stream",
     "text": [
      " 58%|█████▊    | 1043/1813 [2:46:20<2:07:27,  9.93s/it]"
     ]
    },
    {
     "name": "stdout",
     "output_type": "stream",
     "text": [
      "Saved  2013 제6회 윌슨컵 코리아 오픈 스쿼시 챔피언쉽 준준준준준결승 6 정민채 류승한\n"
     ]
    },
    {
     "name": "stderr",
     "output_type": "stream",
     "text": [
      " 58%|█████▊    | 1044/1813 [2:46:27<1:55:51,  9.04s/it]"
     ]
    },
    {
     "name": "stdout",
     "output_type": "stream",
     "text": [
      "Saved  2013 제6회 윌슨컵 코리아 오픈 스쿼시 챔피언쉽 준준준준준결승 7 Taiki Kaido 김규호\n"
     ]
    },
    {
     "name": "stderr",
     "output_type": "stream",
     "text": [
      " 58%|█████▊    | 1045/1813 [2:46:33<1:46:44,  8.34s/it]"
     ]
    },
    {
     "name": "stdout",
     "output_type": "stream",
     "text": [
      "Saved  2013 제6회 윌슨컵 코리아 오픈 스쿼시 챔피언쉽 준준준준준결승 8 진수철 황중원\n"
     ]
    },
    {
     "name": "stderr",
     "output_type": "stream",
     "text": [
      " 58%|█████▊    | 1046/1813 [2:46:40<1:41:27,  7.94s/it]"
     ]
    },
    {
     "name": "stdout",
     "output_type": "stream",
     "text": [
      "Saved  2013 제6회 윌슨컵 코리아 오픈 스쿼시 챔피언쉽 준준준준준결승 9 원종수 김상학\n"
     ]
    },
    {
     "name": "stderr",
     "output_type": "stream",
     "text": [
      " 58%|█████▊    | 1047/1813 [2:46:47<1:36:29,  7.56s/it]"
     ]
    },
    {
     "name": "stdout",
     "output_type": "stream",
     "text": [
      "Saved  2013 제6회 윌슨컵 코리아 오픈 스쿼시 챔피언쉽 준준준준준결승 10 이승훈 Tang cheuk Yan\n"
     ]
    },
    {
     "name": "stderr",
     "output_type": "stream",
     "text": [
      " 58%|█████▊    | 1048/1813 [2:46:54<1:33:28,  7.33s/it]"
     ]
    },
    {
     "name": "stdout",
     "output_type": "stream",
     "text": [
      "Saved  2013 제6회 윌슨컵 코리아 오픈 스쿼시 챔피언쉽 준준준준준결승 11 진승우 유덕재\n"
     ]
    },
    {
     "name": "stderr",
     "output_type": "stream",
     "text": [
      " 58%|█████▊    | 1049/1813 [2:47:11<2:09:25, 10.16s/it]"
     ]
    },
    {
     "name": "stdout",
     "output_type": "stream",
     "text": [
      "Saved  2013 제6회 윌슨컵 코리아 오픈 스쿼시 챔피언쉽 준준준준준결승 12 조영훈 오성학\n"
     ]
    },
    {
     "name": "stderr",
     "output_type": "stream",
     "text": [
      " 58%|█████▊    | 1050/1813 [2:47:18<1:56:23,  9.15s/it]"
     ]
    },
    {
     "name": "stdout",
     "output_type": "stream",
     "text": [
      "Saved  2013 제6회 윌슨컵 코리아 오픈 스쿼시 챔피언쉽 준준준준준결승 13 류한동 우창욱\n"
     ]
    },
    {
     "name": "stderr",
     "output_type": "stream",
     "text": [
      " 58%|█████▊    | 1051/1813 [2:47:25<1:48:05,  8.51s/it]"
     ]
    },
    {
     "name": "stdout",
     "output_type": "stream",
     "text": [
      "Saved  2013 제6회 윌슨컵 코리아 오픈 스쿼시 챔피언쉽 준준준준준결승 14 한대희 최상철\n"
     ]
    },
    {
     "name": "stderr",
     "output_type": "stream",
     "text": [
      " 58%|█████▊    | 1052/1813 [2:47:31<1:41:40,  8.02s/it]"
     ]
    },
    {
     "name": "stdout",
     "output_type": "stream",
     "text": [
      "Saved  2013 제6회 윌슨컵 코리아 오픈 스쿼시 챔피언쉽 준준준준준결승 15 전성수 노승화\n",
      "Saved  2013 제6회 윌슨컵 코리아 오픈 스쿼시 챔피언쉽 준준준준준결승 16 박정규 이세현\n"
     ]
    },
    {
     "name": "stderr",
     "output_type": "stream",
     "text": [
      " 58%|█████▊    | 1054/1813 [2:47:53<2:05:15,  9.90s/it]"
     ]
    },
    {
     "name": "stdout",
     "output_type": "stream",
     "text": [
      "Saved  2013 제6회 윌슨컵 코리아 오픈 스쿼시 챔피언쉽 준준준준준결승 17 한승철 정대훈\n"
     ]
    },
    {
     "name": "stderr",
     "output_type": "stream",
     "text": [
      " 58%|█████▊    | 1055/1813 [2:48:00<1:54:03,  9.03s/it]"
     ]
    },
    {
     "name": "stdout",
     "output_type": "stream",
     "text": [
      "Saved  2013 제6회 윌슨컵 코리아 오픈 스쿼시 챔피언쉽 준준준준준결승 18 탁형진 이년호\n"
     ]
    },
    {
     "name": "stderr",
     "output_type": "stream",
     "text": [
      " 58%|█████▊    | 1056/1813 [2:48:07<1:46:21,  8.43s/it]"
     ]
    },
    {
     "name": "stdout",
     "output_type": "stream",
     "text": [
      "Saved  2013 제6회 윌슨컵 코리아 오픈 스쿼시 챔피언쉽 준준준준준결승 19 Masaki Suzuki 박종명\n"
     ]
    },
    {
     "name": "stderr",
     "output_type": "stream",
     "text": [
      " 58%|█████▊    | 1057/1813 [2:48:14<1:40:19,  7.96s/it]"
     ]
    },
    {
     "name": "stdout",
     "output_type": "stream",
     "text": [
      "Saved  2013 제6회 윌슨컵 코리아 오픈 스쿼시 챔피언쉽 준준준준준결승 20 강성민 유용민\n"
     ]
    },
    {
     "name": "stderr",
     "output_type": "stream",
     "text": [
      " 58%|█████▊    | 1058/1813 [2:48:21<1:36:13,  7.65s/it]"
     ]
    },
    {
     "name": "stdout",
     "output_type": "stream",
     "text": [
      "Saved  2013 제6회 윌슨컵 코리아 오픈 스쿼시 챔피언쉽 준준준준준결승 21 이승준 김태년\n"
     ]
    },
    {
     "name": "stderr",
     "output_type": "stream",
     "text": [
      " 58%|█████▊    | 1059/1813 [2:48:28<1:32:45,  7.38s/it]"
     ]
    },
    {
     "name": "stdout",
     "output_type": "stream",
     "text": [
      "Saved  2013 제6회 윌슨컵 코리아 오픈 스쿼시 챔피언쉽 준준준준준결승 22 조성환 최성훈\n"
     ]
    },
    {
     "name": "stderr",
     "output_type": "stream",
     "text": [
      " 58%|█████▊    | 1060/1813 [2:48:45<2:08:22, 10.23s/it]"
     ]
    },
    {
     "name": "stdout",
     "output_type": "stream",
     "text": [
      "Saved  2013 제6회 윌슨컵 코리아 오픈 스쿼시 챔피언쉽 준준준준준결승 23 최원석 김석진\n",
      "Saved  2013 제6회 윌슨컵 코리아 오픈 스쿼시 챔피언쉽 준준준준준결승 24 권오석 ROBERT ANDREW GARCIA\n"
     ]
    },
    {
     "name": "stderr",
     "output_type": "stream",
     "text": [
      " 59%|█████▊    | 1061/1813 [2:48:54<2:03:37,  9.86s/it]"
     ]
    },
    {
     "name": "stdout",
     "output_type": "stream",
     "text": [
      "Saved  2013 제6회 윌슨컵 코리아 오픈 스쿼시 챔피언쉽 준준준준준결승 25 황중찬 엄수원\n"
     ]
    },
    {
     "name": "stderr",
     "output_type": "stream",
     "text": [
      " 59%|█████▊    | 1063/1813 [2:49:10<1:49:18,  8.74s/it]"
     ]
    },
    {
     "name": "stdout",
     "output_type": "stream",
     "text": [
      "Saved  2013 제6회 윌슨컵 코리아 오픈 스쿼시 챔피언쉽 준준준준준결승 26 탁효진 Ma Tsz Hei\n"
     ]
    },
    {
     "name": "stderr",
     "output_type": "stream",
     "text": [
      " 59%|█████▊    | 1064/1813 [2:49:16<1:41:59,  8.17s/it]"
     ]
    },
    {
     "name": "stdout",
     "output_type": "stream",
     "text": [
      "Saved  2013 제6회 윌슨컵 코리아 오픈 스쿼시 챔피언쉽 준준준준준결승 27 장수혁 김남경\n"
     ]
    },
    {
     "name": "stderr",
     "output_type": "stream",
     "text": [
      " 59%|█████▊    | 1065/1813 [2:49:31<2:06:45, 10.17s/it]"
     ]
    },
    {
     "name": "stdout",
     "output_type": "stream",
     "text": [
      "Saved  2013 제6회 윌슨컵 코리아 오픈 스쿼시 챔피언쉽 준준준준준결승 28 이건동 윤호진\n"
     ]
    },
    {
     "name": "stderr",
     "output_type": "stream",
     "text": [
      " 59%|█████▉    | 1066/1813 [2:49:38<1:54:47,  9.22s/it]"
     ]
    },
    {
     "name": "stdout",
     "output_type": "stream",
     "text": [
      "Saved  2013 제6회 윌슨컵 코리아 오픈 스쿼시 챔피언쉽 준준준준준결승 29 유성연 이승택\n"
     ]
    },
    {
     "name": "stderr",
     "output_type": "stream",
     "text": [
      " 59%|█████▉    | 1067/1813 [2:49:45<1:45:51,  8.51s/it]"
     ]
    },
    {
     "name": "stdout",
     "output_type": "stream",
     "text": [
      "Saved  2013 제6회 윌슨컵 코리아 오픈 스쿼시 챔피언쉽 준준준준준결승 30 김현동 윤여훈\n",
      "Saved  2013 제6회 윌슨컵 코리아 오픈 스쿼시 챔피언쉽 준준준준준결승 31 윤태용 백승엽\n"
     ]
    },
    {
     "name": "stderr",
     "output_type": "stream",
     "text": [
      " 59%|█████▉    | 1069/1813 [2:49:59<1:36:21,  7.77s/it]"
     ]
    },
    {
     "name": "stdout",
     "output_type": "stream",
     "text": [
      "Saved  2013 제6회 윌슨컵 코리아 오픈 스쿼시 챔피언쉽 준준준준준결승 32 김광문 유재진\n"
     ]
    },
    {
     "name": "stderr",
     "output_type": "stream",
     "text": [
      " 59%|█████▉    | 1070/1813 [2:50:14<2:02:44,  9.91s/it]"
     ]
    },
    {
     "name": "stdout",
     "output_type": "stream",
     "text": [
      "Saved  2013 제6회 윌슨컵 코리아 오픈 스쿼시 챔피언쉽 준준준준결승 1 권현준 이은범\n"
     ]
    },
    {
     "name": "stderr",
     "output_type": "stream",
     "text": [
      " 59%|█████▉    | 1071/1813 [2:50:21<1:52:23,  9.09s/it]"
     ]
    },
    {
     "name": "stdout",
     "output_type": "stream",
     "text": [
      "Saved  2013 제6회 윌슨컵 코리아 오픈 스쿼시 챔피언쉽 준준준준결승 2 이용희 정영준\n"
     ]
    },
    {
     "name": "stderr",
     "output_type": "stream",
     "text": [
      " 59%|█████▉    | 1072/1813 [2:50:28<1:44:09,  8.43s/it]"
     ]
    },
    {
     "name": "stdout",
     "output_type": "stream",
     "text": [
      "Saved  2013 제6회 윌슨컵 코리아 오픈 스쿼시 챔피언쉽 준준준준결승 3 고영조 정민채\n"
     ]
    },
    {
     "name": "stderr",
     "output_type": "stream",
     "text": [
      " 59%|█████▉    | 1073/1813 [2:50:35<1:38:08,  7.96s/it]"
     ]
    },
    {
     "name": "stdout",
     "output_type": "stream",
     "text": [
      "Saved  2013 제6회 윌슨컵 코리아 오픈 스쿼시 챔피언쉽 준준준준결승 4 Taiki Kaido 황중원\n"
     ]
    },
    {
     "name": "stderr",
     "output_type": "stream",
     "text": [
      " 59%|█████▉    | 1074/1813 [2:50:42<1:33:43,  7.61s/it]"
     ]
    },
    {
     "name": "stdout",
     "output_type": "stream",
     "text": [
      "Saved  2013 제6회 윌슨컵 코리아 오픈 스쿼시 챔피언쉽 준준준준결승 5 김상학 Tang cheuk Yan\n"
     ]
    },
    {
     "name": "stderr",
     "output_type": "stream",
     "text": [
      " 59%|█████▉    | 1075/1813 [2:50:49<1:30:36,  7.37s/it]"
     ]
    },
    {
     "name": "stdout",
     "output_type": "stream",
     "text": [
      "Saved  2013 제6회 윌슨컵 코리아 오픈 스쿼시 챔피언쉽 준준준준결승 6 진승우 조영훈\n"
     ]
    },
    {
     "name": "stderr",
     "output_type": "stream",
     "text": [
      " 59%|█████▉    | 1076/1813 [2:51:06<2:05:40, 10.23s/it]"
     ]
    },
    {
     "name": "stdout",
     "output_type": "stream",
     "text": [
      "Saved  2013 제6회 윌슨컵 코리아 오픈 스쿼시 챔피언쉽 준준준준결승 7 우창욱 최상철\n"
     ]
    },
    {
     "name": "stderr",
     "output_type": "stream",
     "text": [
      " 59%|█████▉    | 1077/1813 [2:51:13<1:53:57,  9.29s/it]"
     ]
    },
    {
     "name": "stdout",
     "output_type": "stream",
     "text": [
      "Saved  2013 제6회 윌슨컵 코리아 오픈 스쿼시 챔피언쉽 준준준준결승 8 노승화 이세현\n"
     ]
    },
    {
     "name": "stderr",
     "output_type": "stream",
     "text": [
      " 59%|█████▉    | 1078/1813 [2:51:20<1:44:52,  8.56s/it]"
     ]
    },
    {
     "name": "stdout",
     "output_type": "stream",
     "text": [
      "Saved  2013 제6회 윌슨컵 코리아 오픈 스쿼시 챔피언쉽 준준준준결승 9 한승철 이년호\n"
     ]
    },
    {
     "name": "stderr",
     "output_type": "stream",
     "text": [
      " 60%|█████▉    | 1079/1813 [2:51:26<1:38:44,  8.07s/it]"
     ]
    },
    {
     "name": "stdout",
     "output_type": "stream",
     "text": [
      "Saved  2013 제6회 윌슨컵 코리아 오픈 스쿼시 챔피언쉽 준준준준결승 10 박종명 유용민\n"
     ]
    },
    {
     "name": "stderr",
     "output_type": "stream",
     "text": [
      " 60%|█████▉    | 1080/1813 [2:51:34<1:35:10,  7.79s/it]"
     ]
    },
    {
     "name": "stdout",
     "output_type": "stream",
     "text": [
      "Saved  2013 제6회 윌슨컵 코리아 오픈 스쿼시 챔피언쉽 준준준준결승 11 이승준 최성훈\n"
     ]
    },
    {
     "name": "stderr",
     "output_type": "stream",
     "text": [
      " 60%|█████▉    | 1081/1813 [2:51:49<2:00:57,  9.91s/it]"
     ]
    },
    {
     "name": "stdout",
     "output_type": "stream",
     "text": [
      "Saved  2013 제6회 윌슨컵 코리아 오픈 스쿼시 챔피언쉽 준준준준결승 12 최원석 ROBERT ANDREW GARCIA\n"
     ]
    },
    {
     "name": "stderr",
     "output_type": "stream",
     "text": [
      " 60%|█████▉    | 1082/1813 [2:51:57<1:56:55,  9.60s/it]"
     ]
    },
    {
     "name": "stdout",
     "output_type": "stream",
     "text": [
      "Saved  2013 제6회 윌슨컵 코리아 오픈 스쿼시 챔피언쉽 준준준준결승 13 황중찬 Ma Tsz Hei\n"
     ]
    },
    {
     "name": "stderr",
     "output_type": "stream",
     "text": [
      " 60%|█████▉    | 1083/1813 [2:52:04<1:47:19,  8.82s/it]"
     ]
    },
    {
     "name": "stdout",
     "output_type": "stream",
     "text": [
      "Saved  2013 제6회 윌슨컵 코리아 오픈 스쿼시 챔피언쉽 준준준준결승 14 김남경 이건동\n",
      "Saved  2013 제6회 윌슨컵 코리아 오픈 스쿼시 챔피언쉽 준준준준결승 15 이승택 김현동\n"
     ]
    },
    {
     "name": "stderr",
     "output_type": "stream",
     "text": [
      " 60%|█████▉    | 1085/1813 [2:52:18<1:35:30,  7.87s/it]"
     ]
    },
    {
     "name": "stdout",
     "output_type": "stream",
     "text": [
      "Saved  2013 제6회 윌슨컵 코리아 오픈 스쿼시 챔피언쉽 준준준준결승 16 백승엽 유재진\n"
     ]
    },
    {
     "name": "stderr",
     "output_type": "stream",
     "text": [
      " 60%|█████▉    | 1086/1813 [2:52:33<2:00:38,  9.96s/it]"
     ]
    },
    {
     "name": "stdout",
     "output_type": "stream",
     "text": [
      "Saved  2013 제6회 윌슨컵 코리아 오픈 스쿼시 챔피언쉽 준준준결승경기１ 권현준 이용희\n"
     ]
    },
    {
     "name": "stderr",
     "output_type": "stream",
     "text": [
      " 60%|█████▉    | 1087/1813 [2:52:40<1:49:43,  9.07s/it]"
     ]
    },
    {
     "name": "stdout",
     "output_type": "stream",
     "text": [
      "Saved  2013 제6회 윌슨컵 코리아 오픈 스쿼시 챔피언쉽 준준준결승경기２ 고영조 황중원\n"
     ]
    },
    {
     "name": "stderr",
     "output_type": "stream",
     "text": [
      " 60%|██████    | 1088/1813 [2:52:47<1:41:52,  8.43s/it]"
     ]
    },
    {
     "name": "stdout",
     "output_type": "stream",
     "text": [
      "Saved  2013 제6회 윌슨컵 코리아 오픈 스쿼시 챔피언쉽 준준준결승경기３ Tang cheuk Yan 진승우\n"
     ]
    },
    {
     "name": "stderr",
     "output_type": "stream",
     "text": [
      " 60%|██████    | 1089/1813 [2:52:54<1:36:46,  8.02s/it]"
     ]
    },
    {
     "name": "stdout",
     "output_type": "stream",
     "text": [
      "Saved  2013 제6회 윌슨컵 코리아 오픈 스쿼시 챔피언쉽 준준준결승경기４ 최상철 이세현\n"
     ]
    },
    {
     "name": "stderr",
     "output_type": "stream",
     "text": [
      " 60%|██████    | 1090/1813 [2:53:01<1:32:28,  7.67s/it]"
     ]
    },
    {
     "name": "stdout",
     "output_type": "stream",
     "text": [
      "Saved  2013 제6회 윌슨컵 코리아 오픈 스쿼시 챔피언쉽 준준준결승경기５ 이년호 박종명\n"
     ]
    },
    {
     "name": "stderr",
     "output_type": "stream",
     "text": [
      " 60%|██████    | 1091/1813 [2:53:08<1:29:28,  7.44s/it]"
     ]
    },
    {
     "name": "stdout",
     "output_type": "stream",
     "text": [
      "Saved  2013 제6회 윌슨컵 코리아 오픈 스쿼시 챔피언쉽 준준준결승경기６ 이승준 ROBERT ANDREW GARCIA\n"
     ]
    },
    {
     "name": "stderr",
     "output_type": "stream",
     "text": [
      " 60%|██████    | 1092/1813 [2:53:26<2:09:19, 10.76s/it]"
     ]
    },
    {
     "name": "stdout",
     "output_type": "stream",
     "text": [
      "Saved  2013 제6회 윌슨컵 코리아 오픈 스쿼시 챔피언쉽 준준준결승경기７ Ma Tsz Hei 이건동\n"
     ]
    },
    {
     "name": "stderr",
     "output_type": "stream",
     "text": [
      " 60%|██████    | 1093/1813 [2:53:33<1:55:45,  9.65s/it]"
     ]
    },
    {
     "name": "stdout",
     "output_type": "stream",
     "text": [
      "Saved  2013 제6회 윌슨컵 코리아 오픈 스쿼시 챔피언쉽 준준준결승경기８ 이승택 유재진\n"
     ]
    },
    {
     "name": "stderr",
     "output_type": "stream",
     "text": [
      " 60%|██████    | 1094/1813 [2:53:40<1:46:05,  8.85s/it]"
     ]
    },
    {
     "name": "stdout",
     "output_type": "stream",
     "text": [
      "Saved  2013 제6회 윌슨컵 코리아 오픈 스쿼시 챔피언쉽 준준결승경기１ 권현준 고영조\n"
     ]
    },
    {
     "name": "stderr",
     "output_type": "stream",
     "text": [
      " 60%|██████    | 1095/1813 [2:53:47<1:39:10,  8.29s/it]"
     ]
    },
    {
     "name": "stdout",
     "output_type": "stream",
     "text": [
      "Saved  2013 제6회 윌슨컵 코리아 오픈 스쿼시 챔피언쉽 준준결승경기２ 진승우 이세현\n"
     ]
    },
    {
     "name": "stderr",
     "output_type": "stream",
     "text": [
      " 60%|██████    | 1096/1813 [2:53:54<1:34:34,  7.91s/it]"
     ]
    },
    {
     "name": "stdout",
     "output_type": "stream",
     "text": [
      "Saved  2013 제6회 윌슨컵 코리아 오픈 스쿼시 챔피언쉽 준준결승경기３ 이년호 이승준\n"
     ]
    },
    {
     "name": "stderr",
     "output_type": "stream",
     "text": [
      " 61%|██████    | 1097/1813 [2:54:10<1:59:59, 10.05s/it]"
     ]
    },
    {
     "name": "stdout",
     "output_type": "stream",
     "text": [
      "Saved  2013 제6회 윌슨컵 코리아 오픈 스쿼시 챔피언쉽 준준결승경기４ 이건동 이승택\n"
     ]
    },
    {
     "name": "stderr",
     "output_type": "stream",
     "text": [
      " 61%|██████    | 1098/1813 [2:54:18<1:55:53,  9.72s/it]"
     ]
    },
    {
     "name": "stdout",
     "output_type": "stream",
     "text": [
      "Saved  2013 제6회 윌슨컵 코리아 오픈 스쿼시 챔피언쉽 준결승경기１ 권현준 이세현\n"
     ]
    },
    {
     "name": "stderr",
     "output_type": "stream",
     "text": [
      " 61%|██████    | 1099/1813 [2:54:25<1:45:48,  8.89s/it]"
     ]
    },
    {
     "name": "stdout",
     "output_type": "stream",
     "text": [
      "Saved  2013 제6회 윌슨컵 코리아 오픈 스쿼시 챔피언쉽 준결승경기２ 이승준 이건동\n"
     ]
    },
    {
     "name": "stderr",
     "output_type": "stream",
     "text": [
      " 61%|██████    | 1100/1813 [2:54:32<1:38:38,  8.30s/it]"
     ]
    },
    {
     "name": "stdout",
     "output_type": "stream",
     "text": [
      "Saved  2013 제6회 윌슨컵 코리아 오픈 스쿼시 챔피언쉽 결승 권현준 이승준\n"
     ]
    },
    {
     "name": "stderr",
     "output_type": "stream",
     "text": [
      " 61%|██████    | 1101/1813 [2:54:41<1:40:23,  8.46s/it]"
     ]
    },
    {
     "name": "stdout",
     "output_type": "stream",
     "text": [
      "Saved  2013 제6회 윌슨컵 코리아 오픈 스쿼시 챔피언쉽 예선경기２ 오세희 이우심\n"
     ]
    },
    {
     "name": "stderr",
     "output_type": "stream",
     "text": [
      " 61%|██████    | 1102/1813 [2:54:56<2:03:33, 10.43s/it]"
     ]
    },
    {
     "name": "stdout",
     "output_type": "stream",
     "text": [
      "Saved  2013 제6회 윌슨컵 코리아 오픈 스쿼시 챔피언쉽 예선경기３ 허민경 김은순\n"
     ]
    },
    {
     "name": "stderr",
     "output_type": "stream",
     "text": [
      " 61%|██████    | 1103/1813 [2:55:03<1:50:18,  9.32s/it]"
     ]
    },
    {
     "name": "stdout",
     "output_type": "stream",
     "text": [
      "Saved  2013 제6회 윌슨컵 코리아 오픈 스쿼시 챔피언쉽 예선경기４ 김선희 김다정\n"
     ]
    },
    {
     "name": "stderr",
     "output_type": "stream",
     "text": [
      " 61%|██████    | 1104/1813 [2:55:10<1:41:45,  8.61s/it]"
     ]
    },
    {
     "name": "stdout",
     "output_type": "stream",
     "text": [
      "Saved  2013 제6회 윌슨컵 코리아 오픈 스쿼시 챔피언쉽 예선경기６ 오성령 염지혜\n"
     ]
    },
    {
     "name": "stderr",
     "output_type": "stream",
     "text": [
      " 61%|██████    | 1105/1813 [2:55:17<1:36:24,  8.17s/it]"
     ]
    },
    {
     "name": "stdout",
     "output_type": "stream",
     "text": [
      "Saved  2013 제6회 윌슨컵 코리아 오픈 스쿼시 챔피언쉽 예선경기７ 김순여 김상미\n",
      "Saved  2013 제6회 윌슨컵 코리아 오픈 스쿼시 챔피언쉽 예선경기１０ 허정연 김미진\n"
     ]
    },
    {
     "name": "stderr",
     "output_type": "stream",
     "text": [
      " 61%|██████    | 1106/1813 [2:55:24<1:31:57,  7.80s/it]"
     ]
    },
    {
     "name": "stdout",
     "output_type": "stream",
     "text": [
      "Saved  2013 제6회 윌슨컵 코리아 오픈 스쿼시 챔피언쉽 예선경기１１ 배찬미 김은향\n"
     ]
    },
    {
     "name": "stderr",
     "output_type": "stream",
     "text": [
      " 61%|██████    | 1108/1813 [2:55:48<2:02:31, 10.43s/it]"
     ]
    },
    {
     "name": "stdout",
     "output_type": "stream",
     "text": [
      "Saved  2013 제6회 윌슨컵 코리아 오픈 스쿼시 챔피언쉽 예선경기１２ 박다빈 김가혜\n"
     ]
    },
    {
     "name": "stderr",
     "output_type": "stream",
     "text": [
      " 61%|██████    | 1109/1813 [2:55:55<1:49:45,  9.35s/it]"
     ]
    },
    {
     "name": "stdout",
     "output_type": "stream",
     "text": [
      "Saved  2013 제6회 윌슨컵 코리아 오픈 스쿼시 챔피언쉽 예선경기１３ 최수지 정혜란\n",
      "Saved  2013 제6회 윌슨컵 코리아 오픈 스쿼시 챔피언쉽 예선경기１４ 이지현 김정화\n"
     ]
    },
    {
     "name": "stderr",
     "output_type": "stream",
     "text": [
      " 61%|██████▏   | 1111/1813 [2:56:09<1:34:57,  8.12s/it]"
     ]
    },
    {
     "name": "stdout",
     "output_type": "stream",
     "text": [
      "Saved  2013 제6회 윌슨컵 코리아 오픈 스쿼시 챔피언쉽 예선경기１５ 문혜연 윤상은\n"
     ]
    },
    {
     "name": "stderr",
     "output_type": "stream",
     "text": [
      " 61%|██████▏   | 1112/1813 [2:56:16<1:30:50,  7.78s/it]"
     ]
    },
    {
     "name": "stdout",
     "output_type": "stream",
     "text": [
      "Saved  2013 제6회 윌슨컵 코리아 오픈 스쿼시 챔피언쉽 예선경기１８ 백지은 강은경\n"
     ]
    },
    {
     "name": "stderr",
     "output_type": "stream",
     "text": [
      " 61%|██████▏   | 1113/1813 [2:56:31<1:55:07,  9.87s/it]"
     ]
    },
    {
     "name": "stdout",
     "output_type": "stream",
     "text": [
      "Saved  2013 제6회 윌슨컵 코리아 오픈 스쿼시 챔피언쉽 예선경기１９ 박진주 김아현\n"
     ]
    },
    {
     "name": "stderr",
     "output_type": "stream",
     "text": [
      " 61%|██████▏   | 1114/1813 [2:56:38<1:45:15,  9.04s/it]"
     ]
    },
    {
     "name": "stdout",
     "output_type": "stream",
     "text": [
      "Saved  2013 제6회 윌슨컵 코리아 오픈 스쿼시 챔피언쉽 예선경기２０ 김가람 고혜선\n"
     ]
    },
    {
     "name": "stderr",
     "output_type": "stream",
     "text": [
      " 62%|██████▏   | 1115/1813 [2:56:45<1:38:50,  8.50s/it]"
     ]
    },
    {
     "name": "stdout",
     "output_type": "stream",
     "text": [
      "Saved  2013 제6회 윌슨컵 코리아 오픈 스쿼시 챔피언쉽 예선경기 21 강영진 성은미\n"
     ]
    },
    {
     "name": "stderr",
     "output_type": "stream",
     "text": [
      " 62%|██████▏   | 1116/1813 [2:56:54<1:40:00,  8.61s/it]"
     ]
    },
    {
     "name": "stdout",
     "output_type": "stream",
     "text": [
      "Saved  2013 제6회 윌슨컵 코리아 오픈 스쿼시 챔피언쉽 예선경기 22 김민영 엄화영\n"
     ]
    },
    {
     "name": "stderr",
     "output_type": "stream",
     "text": [
      " 62%|██████▏   | 1117/1813 [2:57:01<1:33:45,  8.08s/it]"
     ]
    },
    {
     "name": "stdout",
     "output_type": "stream",
     "text": [
      "Saved  2013 제6회 윌슨컵 코리아 오픈 스쿼시 챔피언쉽 예선경기 23 정영주 정미애\n"
     ]
    },
    {
     "name": "stderr",
     "output_type": "stream",
     "text": [
      " 62%|██████▏   | 1118/1813 [2:57:15<1:56:47, 10.08s/it]"
     ]
    },
    {
     "name": "stdout",
     "output_type": "stream",
     "text": [
      "Saved  2013 제6회 윌슨컵 코리아 오픈 스쿼시 챔피언쉽 예선경기 26 김선임 최유라\n"
     ]
    },
    {
     "name": "stderr",
     "output_type": "stream",
     "text": [
      " 62%|██████▏   | 1119/1813 [3:01:56<17:36:53, 91.37s/it]"
     ]
    },
    {
     "name": "stdout",
     "output_type": "stream",
     "text": [
      "Saved  2013 제6회 윌슨컵 코리아 오픈 스쿼시 챔피언쉽 예선경기 27 박미림 박다나\n"
     ]
    },
    {
     "name": "stderr",
     "output_type": "stream",
     "text": [
      " 62%|██████▏   | 1120/1813 [3:02:03<12:41:54, 65.97s/it]"
     ]
    },
    {
     "name": "stdout",
     "output_type": "stream",
     "text": [
      "Saved  2013 제6회 윌슨컵 코리아 오픈 스쿼시 챔피언쉽 예선경기 29 장유빈 이석주\n"
     ]
    },
    {
     "name": "stderr",
     "output_type": "stream",
     "text": [
      " 62%|██████▏   | 1121/1813 [3:02:10<9:16:18, 48.23s/it] "
     ]
    },
    {
     "name": "stdout",
     "output_type": "stream",
     "text": [
      "Saved  2013 제6회 윌슨컵 코리아 오픈 스쿼시 챔피언쉽 예선경기 30 장유진 성화영\n"
     ]
    },
    {
     "name": "stderr",
     "output_type": "stream",
     "text": [
      " 62%|██████▏   | 1122/1813 [3:02:17<6:52:00, 35.77s/it]"
     ]
    },
    {
     "name": "stdout",
     "output_type": "stream",
     "text": [
      "Saved  2013 제6회 윌슨컵 코리아 오픈 스쿼시 챔피언쉽 예선경기 31 김진희 홍서경\n"
     ]
    },
    {
     "name": "stderr",
     "output_type": "stream",
     "text": [
      " 62%|██████▏   | 1123/1813 [3:02:23<5:11:24, 27.08s/it]"
     ]
    },
    {
     "name": "stdout",
     "output_type": "stream",
     "text": [
      "Saved  2013 제6회 윌슨컵 코리아 오픈 스쿼시 챔피언쉽 준준준준결승 1 송선미 이우심\n"
     ]
    },
    {
     "name": "stderr",
     "output_type": "stream",
     "text": [
      " 62%|██████▏   | 1124/1813 [3:02:38<4:28:21, 23.37s/it]"
     ]
    },
    {
     "name": "stdout",
     "output_type": "stream",
     "text": [
      "Saved  2013 제6회 윌슨컵 코리아 오픈 스쿼시 챔피언쉽 준준준준결승 2 허민경 김선희\n"
     ]
    },
    {
     "name": "stderr",
     "output_type": "stream",
     "text": [
      " 62%|██████▏   | 1125/1813 [3:02:45<3:31:00, 18.40s/it]"
     ]
    },
    {
     "name": "stdout",
     "output_type": "stream",
     "text": [
      "Saved  2013 제6회 윌슨컵 코리아 오픈 스쿼시 챔피언쉽 준준준준결승 3 Mami Sakai 염지혜\n"
     ]
    },
    {
     "name": "stderr",
     "output_type": "stream",
     "text": [
      " 62%|██████▏   | 1126/1813 [3:02:52<2:51:20, 14.96s/it]"
     ]
    },
    {
     "name": "stdout",
     "output_type": "stream",
     "text": [
      "Saved  2013 제6회 윌슨컵 코리아 오픈 스쿼시 챔피언쉽 준준준준결승 4 김상미 Xiu Chen\n"
     ]
    },
    {
     "name": "stderr",
     "output_type": "stream",
     "text": [
      " 62%|██████▏   | 1127/1813 [3:02:59<2:23:45, 12.57s/it]"
     ]
    },
    {
     "name": "stdout",
     "output_type": "stream",
     "text": [
      "Saved  2013 제6회 윌슨컵 코리아 오픈 스쿼시 챔피언쉽 준준준준결승 5 Risa Sugimoto 김미진\n"
     ]
    },
    {
     "name": "stderr",
     "output_type": "stream",
     "text": [
      " 62%|██████▏   | 1128/1813 [3:03:06<2:04:16, 10.89s/it]"
     ]
    },
    {
     "name": "stdout",
     "output_type": "stream",
     "text": [
      "Saved  2013 제6회 윌슨컵 코리아 오픈 스쿼시 챔피언쉽 준준준준결승 6 배찬미 김가혜\n"
     ]
    },
    {
     "name": "stderr",
     "output_type": "stream",
     "text": [
      " 62%|██████▏   | 1129/1813 [3:03:21<2:18:06, 12.11s/it]"
     ]
    },
    {
     "name": "stdout",
     "output_type": "stream",
     "text": [
      "Saved  2013 제6회 윌슨컵 코리아 오픈 스쿼시 챔피언쉽 준준준준결승 7 최수지 이지현\n"
     ]
    },
    {
     "name": "stderr",
     "output_type": "stream",
     "text": [
      " 62%|██████▏   | 1130/1813 [3:03:28<2:00:38, 10.60s/it]"
     ]
    },
    {
     "name": "stdout",
     "output_type": "stream",
     "text": [
      "Saved  2013 제6회 윌슨컵 코리아 오픈 스쿼시 챔피언쉽 준준준준결승 8 문혜연 Mayu Yamazaki\n"
     ]
    },
    {
     "name": "stderr",
     "output_type": "stream",
     "text": [
      " 62%|██████▏   | 1131/1813 [3:03:35<1:48:22,  9.53s/it]"
     ]
    },
    {
     "name": "stdout",
     "output_type": "stream",
     "text": [
      "Saved  2013 제6회 윌슨컵 코리아 오픈 스쿼시 챔피언쉽 준준준준결승 9 양연수 강은경\n"
     ]
    },
    {
     "name": "stderr",
     "output_type": "stream",
     "text": [
      " 62%|██████▏   | 1132/1813 [3:03:42<1:38:46,  8.70s/it]"
     ]
    },
    {
     "name": "stdout",
     "output_type": "stream",
     "text": [
      "Saved  2013 제6회 윌슨컵 코리아 오픈 스쿼시 챔피언쉽 준준준준결승 10 김아현 김가람\n"
     ]
    },
    {
     "name": "stderr",
     "output_type": "stream",
     "text": [
      " 62%|██████▏   | 1133/1813 [3:03:49<1:32:14,  8.14s/it]"
     ]
    },
    {
     "name": "stdout",
     "output_type": "stream",
     "text": [
      "Saved  2013 제6회 윌슨컵 코리아 오픈 스쿼시 챔피언쉽 준준준준결승 11 강영진 엄화영\n"
     ]
    },
    {
     "name": "stderr",
     "output_type": "stream",
     "text": [
      " 63%|██████▎   | 1134/1813 [3:03:55<1:27:25,  7.73s/it]"
     ]
    },
    {
     "name": "stdout",
     "output_type": "stream",
     "text": [
      "Saved  2013 제6회 윌슨컵 코리아 오픈 스쿼시 챔피언쉽 준준준준결승 12 정미애 Miwa Maekawa\n"
     ]
    },
    {
     "name": "stderr",
     "output_type": "stream",
     "text": [
      " 63%|██████▎   | 1135/1813 [3:04:12<1:58:03, 10.45s/it]"
     ]
    },
    {
     "name": "stdout",
     "output_type": "stream",
     "text": [
      "Saved  2013 제6회 윌슨컵 코리아 오픈 스쿼시 챔피언쉽 준준준준결승 13 Nanami Takahashi 최유라\n"
     ]
    },
    {
     "name": "stderr",
     "output_type": "stream",
     "text": [
      " 63%|██████▎   | 1136/1813 [3:04:19<1:45:46,  9.37s/it]"
     ]
    },
    {
     "name": "stdout",
     "output_type": "stream",
     "text": [
      "Saved  2013 제6회 윌슨컵 코리아 오픈 스쿼시 챔피언쉽 준준준준결승 14 박미림 Li Dongjin\n"
     ]
    },
    {
     "name": "stderr",
     "output_type": "stream",
     "text": [
      " 63%|██████▎   | 1137/1813 [3:04:26<1:36:50,  8.59s/it]"
     ]
    },
    {
     "name": "stdout",
     "output_type": "stream",
     "text": [
      "Saved  2013 제6회 윌슨컵 코리아 오픈 스쿼시 챔피언쉽 준준준준결승 15 이석주 성화영\n"
     ]
    },
    {
     "name": "stderr",
     "output_type": "stream",
     "text": [
      " 63%|██████▎   | 1138/1813 [3:04:33<1:30:34,  8.05s/it]"
     ]
    },
    {
     "name": "stdout",
     "output_type": "stream",
     "text": [
      "Saved  2013 제6회 윌슨컵 코리아 오픈 스쿼시 챔피언쉽 준준준준결승 16 김진희 박은옥\n"
     ]
    },
    {
     "name": "stderr",
     "output_type": "stream",
     "text": [
      " 63%|██████▎   | 1139/1813 [3:04:39<1:25:32,  7.62s/it]"
     ]
    },
    {
     "name": "stdout",
     "output_type": "stream",
     "text": [
      "Saved  2013 제6회 윌슨컵 코리아 오픈 스쿼시 챔피언쉽 준준준결승경기１ 송선미 김선희\n"
     ]
    },
    {
     "name": "stderr",
     "output_type": "stream",
     "text": [
      " 63%|██████▎   | 1140/1813 [3:04:54<1:49:52,  9.80s/it]"
     ]
    },
    {
     "name": "stdout",
     "output_type": "stream",
     "text": [
      "Saved  2013 제6회 윌슨컵 코리아 오픈 스쿼시 챔피언쉽 준준준결승경기２ Mami Sakai Xiu Chen\n"
     ]
    },
    {
     "name": "stderr",
     "output_type": "stream",
     "text": [
      " 63%|██████▎   | 1141/1813 [3:05:01<1:40:38,  8.99s/it]"
     ]
    },
    {
     "name": "stdout",
     "output_type": "stream",
     "text": [
      "Saved  2013 제6회 윌슨컵 코리아 오픈 스쿼시 챔피언쉽 준준준결승경기３ Risa Sugimoto 김가혜\n"
     ]
    },
    {
     "name": "stderr",
     "output_type": "stream",
     "text": [
      " 63%|██████▎   | 1142/1813 [3:05:08<1:33:20,  8.35s/it]"
     ]
    },
    {
     "name": "stdout",
     "output_type": "stream",
     "text": [
      "Saved  2013 제6회 윌슨컵 코리아 오픈 스쿼시 챔피언쉽 준준준결승경기４ 이지현 Mayu Yamazaki\n"
     ]
    },
    {
     "name": "stderr",
     "output_type": "stream",
     "text": [
      " 63%|██████▎   | 1143/1813 [3:05:15<1:28:21,  7.91s/it]"
     ]
    },
    {
     "name": "stdout",
     "output_type": "stream",
     "text": [
      "Saved  2013 제6회 윌슨컵 코리아 오픈 스쿼시 챔피언쉽 준준준결승경기５ 양연수 김아현\n"
     ]
    },
    {
     "name": "stderr",
     "output_type": "stream",
     "text": [
      " 63%|██████▎   | 1144/1813 [3:05:22<1:24:44,  7.60s/it]"
     ]
    },
    {
     "name": "stdout",
     "output_type": "stream",
     "text": [
      "Saved  2013 제6회 윌슨컵 코리아 오픈 스쿼시 챔피언쉽 준준준결승경기６ 강영진 Miwa Maekawa\n"
     ]
    },
    {
     "name": "stderr",
     "output_type": "stream",
     "text": [
      " 63%|██████▎   | 1145/1813 [3:05:37<1:49:01,  9.79s/it]"
     ]
    },
    {
     "name": "stdout",
     "output_type": "stream",
     "text": [
      "Saved  2013 제6회 윌슨컵 코리아 오픈 스쿼시 챔피언쉽 준준준결승경기７ 최유라 Li Dongjin\n"
     ]
    },
    {
     "name": "stderr",
     "output_type": "stream",
     "text": [
      " 63%|██████▎   | 1146/1813 [3:05:44<1:39:03,  8.91s/it]"
     ]
    },
    {
     "name": "stdout",
     "output_type": "stream",
     "text": [
      "Saved  2013 제6회 윌슨컵 코리아 오픈 스쿼시 챔피언쉽 준준준결승경기８ 성화영 박은옥\n"
     ]
    },
    {
     "name": "stderr",
     "output_type": "stream",
     "text": [
      " 63%|██████▎   | 1147/1813 [3:05:50<1:32:07,  8.30s/it]"
     ]
    },
    {
     "name": "stdout",
     "output_type": "stream",
     "text": [
      "Saved  2013 제6회 윌슨컵 코리아 오픈 스쿼시 챔피언쉽 준준결승경기１ 송선미 Xiu Chen\n"
     ]
    },
    {
     "name": "stderr",
     "output_type": "stream",
     "text": [
      " 63%|██████▎   | 1148/1813 [3:05:57<1:26:41,  7.82s/it]"
     ]
    },
    {
     "name": "stdout",
     "output_type": "stream",
     "text": [
      "Saved  2013 제6회 윌슨컵 코리아 오픈 스쿼시 챔피언쉽 준준결승경기２ 김가혜 이지현\n"
     ]
    },
    {
     "name": "stderr",
     "output_type": "stream",
     "text": [
      " 63%|██████▎   | 1149/1813 [3:06:04<1:23:06,  7.51s/it]"
     ]
    },
    {
     "name": "stdout",
     "output_type": "stream",
     "text": [
      "Saved  2013 제6회 윌슨컵 코리아 오픈 스쿼시 챔피언쉽 준준결승경기３ 양연수 Miwa Maekawa\n",
      "Saved  2013 제6회 윌슨컵 코리아 오픈 스쿼시 챔피언쉽 준준결승경기４ Li Dongjin 박은옥\n"
     ]
    },
    {
     "name": "stderr",
     "output_type": "stream",
     "text": [
      " 63%|██████▎   | 1151/1813 [3:06:26<1:38:54,  8.96s/it]"
     ]
    },
    {
     "name": "stdout",
     "output_type": "stream",
     "text": [
      "Saved  2013 제6회 윌슨컵 코리아 오픈 스쿼시 챔피언쉽 준결승경기１ 송선미 김가혜\n"
     ]
    },
    {
     "name": "stderr",
     "output_type": "stream",
     "text": [
      " 64%|██████▎   | 1152/1813 [3:06:33<1:31:36,  8.31s/it]"
     ]
    },
    {
     "name": "stdout",
     "output_type": "stream",
     "text": [
      "Saved  2013 제6회 윌슨컵 코리아 오픈 스쿼시 챔피언쉽 준결승경기２ 양연수 박은옥\n"
     ]
    },
    {
     "name": "stderr",
     "output_type": "stream",
     "text": [
      " 64%|██████▎   | 1153/1813 [3:06:40<1:26:48,  7.89s/it]"
     ]
    },
    {
     "name": "stdout",
     "output_type": "stream",
     "text": [
      "Saved  2013 제6회 윌슨컵 코리아 오픈 스쿼시 챔피언쉽 결승 송선미 박은옥\n"
     ]
    },
    {
     "name": "stderr",
     "output_type": "stream",
     "text": [
      " 64%|██████▎   | 1154/1813 [3:06:47<1:23:22,  7.59s/it]"
     ]
    },
    {
     "name": "stdout",
     "output_type": "stream",
     "text": [
      "Saved  제6회 하계 전국 중고 스쿼시 선수권대회 예선경기１ 김태엽 박성준\n"
     ]
    },
    {
     "name": "stderr",
     "output_type": "stream",
     "text": [
      " 64%|██████▎   | 1155/1813 [3:06:54<1:21:20,  7.42s/it]"
     ]
    },
    {
     "name": "stdout",
     "output_type": "stream",
     "text": [
      "Saved  제6회 하계 전국 중고 스쿼시 선수권대회 예선경기２ 원종수 임도원\n"
     ]
    },
    {
     "name": "stderr",
     "output_type": "stream",
     "text": [
      " 64%|██████▍   | 1156/1813 [3:07:11<1:52:43, 10.29s/it]"
     ]
    },
    {
     "name": "stdout",
     "output_type": "stream",
     "text": [
      "Saved  제6회 하계 전국 중고 스쿼시 선수권대회 결승 김태엽 원종수\n"
     ]
    },
    {
     "name": "stderr",
     "output_type": "stream",
     "text": [
      " 64%|██████▍   | 1157/1813 [3:07:17<1:41:07,  9.25s/it]"
     ]
    },
    {
     "name": "stdout",
     "output_type": "stream",
     "text": [
      "Saved  제6회 하계 전국 중고 스쿼시 선수권대회 예선경기１ 백지은 김희윤\n"
     ]
    },
    {
     "name": "stderr",
     "output_type": "stream",
     "text": [
      " 64%|██████▍   | 1158/1813 [3:07:24<1:32:29,  8.47s/it]"
     ]
    },
    {
     "name": "stdout",
     "output_type": "stream",
     "text": [
      "Saved  제6회 하계 전국 중고 스쿼시 선수권대회 예선경기２ 권소희 김유라\n"
     ]
    },
    {
     "name": "stderr",
     "output_type": "stream",
     "text": [
      " 64%|██████▍   | 1159/1813 [3:07:31<1:26:51,  7.97s/it]"
     ]
    },
    {
     "name": "stdout",
     "output_type": "stream",
     "text": [
      "Saved  제6회 하계 전국 중고 스쿼시 선수권대회 결승 백지은 김유라\n"
     ]
    },
    {
     "name": "stderr",
     "output_type": "stream",
     "text": [
      " 64%|██████▍   | 1160/1813 [3:07:38<1:22:35,  7.59s/it]"
     ]
    },
    {
     "name": "stdout",
     "output_type": "stream",
     "text": [
      "Saved  제6회 하계 전국 중고 스쿼시 선수권대회 예선경기２ 전성수 구성진\n"
     ]
    },
    {
     "name": "stderr",
     "output_type": "stream",
     "text": [
      " 64%|██████▍   | 1161/1813 [3:07:52<1:46:16,  9.78s/it]"
     ]
    },
    {
     "name": "stdout",
     "output_type": "stream",
     "text": [
      "Saved  제6회 하계 전국 중고 스쿼시 선수권대회 예선경기３ 김태현 박준형\n"
     ]
    },
    {
     "name": "stderr",
     "output_type": "stream",
     "text": [
      " 64%|██████▍   | 1162/1813 [3:07:59<1:36:46,  8.92s/it]"
     ]
    },
    {
     "name": "stdout",
     "output_type": "stream",
     "text": [
      "Saved  제6회 하계 전국 중고 스쿼시 선수권대회 예선경기４ CHOI SEAN SEVIN 탁효진\n"
     ]
    },
    {
     "name": "stderr",
     "output_type": "stream",
     "text": [
      " 64%|██████▍   | 1163/1813 [3:08:06<1:29:55,  8.30s/it]"
     ]
    },
    {
     "name": "stdout",
     "output_type": "stream",
     "text": [
      "Saved  제6회 하계 전국 중고 스쿼시 선수권대회 예선경기５ 김석진 임태섭\n"
     ]
    },
    {
     "name": "stderr",
     "output_type": "stream",
     "text": [
      " 64%|██████▍   | 1164/1813 [3:08:13<1:24:59,  7.86s/it]"
     ]
    },
    {
     "name": "stdout",
     "output_type": "stream",
     "text": [
      "Saved  제6회 하계 전국 중고 스쿼시 선수권대회 예선경기６ 양재혁 조성환\n"
     ]
    },
    {
     "name": "stderr",
     "output_type": "stream",
     "text": [
      " 64%|██████▍   | 1165/1813 [3:08:20<1:21:55,  7.59s/it]"
     ]
    },
    {
     "name": "stdout",
     "output_type": "stream",
     "text": [
      "Saved  제6회 하계 전국 중고 스쿼시 선수권대회 예선경기７ 이준행 김정원\n"
     ]
    },
    {
     "name": "stderr",
     "output_type": "stream",
     "text": [
      " 64%|██████▍   | 1166/1813 [3:08:35<1:44:50,  9.72s/it]"
     ]
    },
    {
     "name": "stdout",
     "output_type": "stream",
     "text": [
      "Saved  제6회 하계 전국 중고 스쿼시 선수권대회 예선경기８ 오현민 강현범\n"
     ]
    },
    {
     "name": "stderr",
     "output_type": "stream",
     "text": [
      " 64%|██████▍   | 1167/1813 [3:08:43<1:41:01,  9.38s/it]"
     ]
    },
    {
     "name": "stdout",
     "output_type": "stream",
     "text": [
      "Saved  제6회 하계 전국 중고 스쿼시 선수권대회 준준결승경기１ 이상지 구성진\n"
     ]
    },
    {
     "name": "stderr",
     "output_type": "stream",
     "text": [
      " 64%|██████▍   | 1168/1813 [3:08:50<1:32:24,  8.60s/it]"
     ]
    },
    {
     "name": "stdout",
     "output_type": "stream",
     "text": [
      "Saved  제6회 하계 전국 중고 스쿼시 선수권대회 준준결승경기２ 김태현 탁효진\n"
     ]
    },
    {
     "name": "stderr",
     "output_type": "stream",
     "text": [
      " 64%|██████▍   | 1169/1813 [3:08:57<1:26:30,  8.06s/it]"
     ]
    },
    {
     "name": "stdout",
     "output_type": "stream",
     "text": [
      "Saved  제6회 하계 전국 중고 스쿼시 선수권대회 준준결승경기３ 김석진 양재혁\n"
     ]
    },
    {
     "name": "stderr",
     "output_type": "stream",
     "text": [
      " 65%|██████▍   | 1170/1813 [3:09:04<1:22:12,  7.67s/it]"
     ]
    },
    {
     "name": "stdout",
     "output_type": "stream",
     "text": [
      "Saved  제6회 하계 전국 중고 스쿼시 선수권대회 준준결승경기４ 김정원 강현범\n"
     ]
    },
    {
     "name": "stderr",
     "output_type": "stream",
     "text": [
      " 65%|██████▍   | 1171/1813 [3:09:10<1:19:11,  7.40s/it]"
     ]
    },
    {
     "name": "stdout",
     "output_type": "stream",
     "text": [
      "Saved  제6회 하계 전국 중고 스쿼시 선수권대회 준결승경기１ 이상지 탁효진\n"
     ]
    },
    {
     "name": "stderr",
     "output_type": "stream",
     "text": [
      " 65%|██████▍   | 1172/1813 [3:09:27<1:48:55, 10.20s/it]"
     ]
    },
    {
     "name": "stdout",
     "output_type": "stream",
     "text": [
      "Saved  제6회 하계 전국 중고 스쿼시 선수권대회 준결승경기２ 김석진 강현범\n"
     ]
    },
    {
     "name": "stderr",
     "output_type": "stream",
     "text": [
      " 65%|██████▍   | 1173/1813 [3:09:34<1:37:57,  9.18s/it]"
     ]
    },
    {
     "name": "stdout",
     "output_type": "stream",
     "text": [
      "Saved  제6회 하계 전국 중고 스쿼시 선수권대회 결승 탁효진 강현범\n"
     ]
    },
    {
     "name": "stderr",
     "output_type": "stream",
     "text": [
      " 65%|██████▍   | 1174/1813 [3:09:41<1:30:07,  8.46s/it]"
     ]
    },
    {
     "name": "stdout",
     "output_type": "stream",
     "text": [
      "Saved  제6회 하계 전국 중고 스쿼시 선수권대회 예선경기２ 홍서경 김은향\n"
     ]
    },
    {
     "name": "stderr",
     "output_type": "stream",
     "text": [
      " 65%|██████▍   | 1175/1813 [3:09:48<1:24:52,  7.98s/it]"
     ]
    },
    {
     "name": "stdout",
     "output_type": "stream",
     "text": [
      "Saved  제6회 하계 전국 중고 스쿼시 선수권대회 준준결승경기１ 김미소 홍서경\n"
     ]
    },
    {
     "name": "stderr",
     "output_type": "stream",
     "text": [
      " 65%|██████▍   | 1176/1813 [3:09:54<1:20:52,  7.62s/it]"
     ]
    },
    {
     "name": "stdout",
     "output_type": "stream",
     "text": [
      "Saved  제6회 하계 전국 중고 스쿼시 선수권대회 준준결승경기２ 오승희 윤예은\n"
     ]
    },
    {
     "name": "stderr",
     "output_type": "stream",
     "text": [
      " 65%|██████▍   | 1177/1813 [3:10:09<1:43:36,  9.77s/it]"
     ]
    },
    {
     "name": "stdout",
     "output_type": "stream",
     "text": [
      "Saved  제6회 하계 전국 중고 스쿼시 선수권대회 준준결승경기３ 김민영 송동주\n"
     ]
    },
    {
     "name": "stderr",
     "output_type": "stream",
     "text": [
      " 65%|██████▍   | 1178/1813 [3:10:16<1:34:41,  8.95s/it]"
     ]
    },
    {
     "name": "stdout",
     "output_type": "stream",
     "text": [
      "Saved  제6회 하계 전국 중고 스쿼시 선수권대회 준준결승경기４ 송채원 성지원\n"
     ]
    },
    {
     "name": "stderr",
     "output_type": "stream",
     "text": [
      " 65%|██████▌   | 1179/1813 [3:10:23<1:28:30,  8.38s/it]"
     ]
    },
    {
     "name": "stdout",
     "output_type": "stream",
     "text": [
      "Saved  제6회 하계 전국 중고 스쿼시 선수권대회 준결승경기１ 김미소 윤예은\n"
     ]
    },
    {
     "name": "stderr",
     "output_type": "stream",
     "text": [
      " 65%|██████▌   | 1180/1813 [3:10:30<1:23:56,  7.96s/it]"
     ]
    },
    {
     "name": "stdout",
     "output_type": "stream",
     "text": [
      "Saved  제6회 하계 전국 중고 스쿼시 선수권대회 준결승경기２ 김민영 송채원\n"
     ]
    },
    {
     "name": "stderr",
     "output_type": "stream",
     "text": [
      " 65%|██████▌   | 1181/1813 [3:10:37<1:20:11,  7.61s/it]"
     ]
    },
    {
     "name": "stdout",
     "output_type": "stream",
     "text": [
      "Saved  제6회 하계 전국 중고 스쿼시 선수권대회 결승 김미소 송채원\n"
     ]
    },
    {
     "name": "stderr",
     "output_type": "stream",
     "text": [
      " 65%|██████▌   | 1182/1813 [3:10:52<1:43:27,  9.84s/it]"
     ]
    },
    {
     "name": "stdout",
     "output_type": "stream",
     "text": [
      "Saved  제13회 회장배 전한국 스쿼시 선수권 대회 예선경기２ 오준혁 임도원\n"
     ]
    },
    {
     "name": "stderr",
     "output_type": "stream",
     "text": [
      " 65%|██████▌   | 1183/1813 [3:10:59<1:34:10,  8.97s/it]"
     ]
    },
    {
     "name": "stdout",
     "output_type": "stream",
     "text": [
      "Saved  제13회 회장배 전한국 스쿼시 선수권 대회 예선경기１８ 이승욱 최동진\n"
     ]
    },
    {
     "name": "stderr",
     "output_type": "stream",
     "text": [
      " 65%|██████▌   | 1184/1813 [3:11:07<1:32:28,  8.82s/it]"
     ]
    },
    {
     "name": "stdout",
     "output_type": "stream",
     "text": [
      "Saved  제13회 회장배 전한국 스쿼시 선수권 대회 예선경기 31 박준현 신승용\n"
     ]
    },
    {
     "name": "stderr",
     "output_type": "stream",
     "text": [
      " 65%|██████▌   | 1185/1813 [3:11:14<1:25:51,  8.20s/it]"
     ]
    },
    {
     "name": "stdout",
     "output_type": "stream",
     "text": [
      "Saved  제13회 회장배 전한국 스쿼시 선수권 대회 준준준준결승 2 원종수 강한준\n"
     ]
    },
    {
     "name": "stderr",
     "output_type": "stream",
     "text": [
      " 65%|██████▌   | 1186/1813 [3:11:21<1:21:13,  7.77s/it]"
     ]
    },
    {
     "name": "stdout",
     "output_type": "stream",
     "text": [
      "Saved  제13회 회장배 전한국 스쿼시 선수권 대회 준준준준결승 3 박요한 이원기\n"
     ]
    },
    {
     "name": "stderr",
     "output_type": "stream",
     "text": [
      " 65%|██████▌   | 1187/1813 [3:11:28<1:18:53,  7.56s/it]"
     ]
    },
    {
     "name": "stdout",
     "output_type": "stream",
     "text": [
      "Saved  제13회 회장배 전한국 스쿼시 선수권 대회 준준준준결승 4 이동현 김태엽\n"
     ]
    },
    {
     "name": "stderr",
     "output_type": "stream",
     "text": [
      " 66%|██████▌   | 1188/1813 [3:11:45<1:47:41, 10.34s/it]"
     ]
    },
    {
     "name": "stdout",
     "output_type": "stream",
     "text": [
      "Saved  제13회 회장배 전한국 스쿼시 선수권 대회 준준준준결승 5 유승범 최지우\n"
     ]
    },
    {
     "name": "stderr",
     "output_type": "stream",
     "text": [
      " 66%|██████▌   | 1189/1813 [3:11:52<1:36:37,  9.29s/it]"
     ]
    },
    {
     "name": "stdout",
     "output_type": "stream",
     "text": [
      "Saved  제13회 회장배 전한국 스쿼시 선수권 대회 준준준준결승 6 김병조 탁형진\n"
     ]
    },
    {
     "name": "stderr",
     "output_type": "stream",
     "text": [
      " 66%|██████▌   | 1190/1813 [3:11:59<1:29:20,  8.60s/it]"
     ]
    },
    {
     "name": "stdout",
     "output_type": "stream",
     "text": [
      "Saved  제13회 회장배 전한국 스쿼시 선수권 대회 준준준준결승 7 유덕재 장홍현\n"
     ]
    },
    {
     "name": "stderr",
     "output_type": "stream",
     "text": [
      " 66%|██████▌   | 1191/1813 [3:12:06<1:24:02,  8.11s/it]"
     ]
    },
    {
     "name": "stdout",
     "output_type": "stream",
     "text": [
      "Saved  제13회 회장배 전한국 스쿼시 선수권 대회 준준준준결승 8 배연우 권순주\n"
     ]
    },
    {
     "name": "stderr",
     "output_type": "stream",
     "text": [
      " 66%|██████▌   | 1192/1813 [3:12:13<1:20:17,  7.76s/it]"
     ]
    },
    {
     "name": "stdout",
     "output_type": "stream",
     "text": [
      "Saved  제13회 회장배 전한국 스쿼시 선수권 대회 준준준준결승 10 이동준 김태규\n"
     ]
    },
    {
     "name": "stderr",
     "output_type": "stream",
     "text": [
      " 66%|██████▌   | 1193/1813 [3:12:28<1:42:43,  9.94s/it]"
     ]
    },
    {
     "name": "stdout",
     "output_type": "stream",
     "text": [
      "Saved  제13회 회장배 전한국 스쿼시 선수권 대회 준준준준결승 11 김현용 박정식\n"
     ]
    },
    {
     "name": "stderr",
     "output_type": "stream",
     "text": [
      " 66%|██████▌   | 1194/1813 [3:12:35<1:33:06,  9.02s/it]"
     ]
    },
    {
     "name": "stdout",
     "output_type": "stream",
     "text": [
      "Saved  제13회 회장배 전한국 스쿼시 선수권 대회 준준준준결승 12 유성연 박성준\n"
     ]
    },
    {
     "name": "stderr",
     "output_type": "stream",
     "text": [
      " 66%|██████▌   | 1195/1813 [3:12:41<1:26:29,  8.40s/it]"
     ]
    },
    {
     "name": "stdout",
     "output_type": "stream",
     "text": [
      "Saved  제13회 회장배 전한국 스쿼시 선수권 대회 준준준준결승 13 김남정 김예일\n"
     ]
    },
    {
     "name": "stderr",
     "output_type": "stream",
     "text": [
      " 66%|██████▌   | 1196/1813 [3:12:48<1:21:37,  7.94s/it]"
     ]
    },
    {
     "name": "stdout",
     "output_type": "stream",
     "text": [
      "Saved  제13회 회장배 전한국 스쿼시 선수권 대회 준준준준결승 1 고영조 오준혁\n"
     ]
    },
    {
     "name": "stderr",
     "output_type": "stream",
     "text": [
      " 66%|██████▌   | 1197/1813 [3:12:55<1:18:45,  7.67s/it]"
     ]
    },
    {
     "name": "stdout",
     "output_type": "stream",
     "text": [
      "Saved  제13회 회장배 전한국 스쿼시 선수권 대회 준준준준결승 9 윤여훈 이승욱\n"
     ]
    },
    {
     "name": "stderr",
     "output_type": "stream",
     "text": [
      " 66%|██████▌   | 1198/1813 [3:13:10<1:41:29,  9.90s/it]"
     ]
    },
    {
     "name": "stdout",
     "output_type": "stream",
     "text": [
      "Saved  제13회 회장배 전한국 스쿼시 선수권 대회 준준준준결승 14 박병국 오성학\n"
     ]
    },
    {
     "name": "stderr",
     "output_type": "stream",
     "text": [
      " 66%|██████▌   | 1199/1813 [3:13:18<1:33:09,  9.10s/it]"
     ]
    },
    {
     "name": "stdout",
     "output_type": "stream",
     "text": [
      "Saved  제13회 회장배 전한국 스쿼시 선수권 대회 준준준준결승 15 박영복 이지환\n"
     ]
    },
    {
     "name": "stderr",
     "output_type": "stream",
     "text": [
      " 66%|██████▌   | 1200/1813 [3:13:25<1:26:21,  8.45s/it]"
     ]
    },
    {
     "name": "stdout",
     "output_type": "stream",
     "text": [
      "Saved  제13회 회장배 전한국 스쿼시 선수권 대회 준준준준결승 16 신승용 이승훈\n"
     ]
    },
    {
     "name": "stderr",
     "output_type": "stream",
     "text": [
      " 66%|██████▌   | 1201/1813 [3:13:32<1:21:27,  7.99s/it]"
     ]
    },
    {
     "name": "stdout",
     "output_type": "stream",
     "text": [
      "Saved  제13회 회장배 전한국 스쿼시 선수권 대회 준준준결승경기１ 고영조 원종수\n"
     ]
    },
    {
     "name": "stderr",
     "output_type": "stream",
     "text": [
      " 66%|██████▋   | 1202/1813 [3:13:38<1:17:54,  7.65s/it]"
     ]
    },
    {
     "name": "stdout",
     "output_type": "stream",
     "text": [
      "Saved  제13회 회장배 전한국 스쿼시 선수권 대회 준준준결승경기２ 박요한 이동현\n"
     ]
    },
    {
     "name": "stderr",
     "output_type": "stream",
     "text": [
      " 66%|██████▋   | 1203/1813 [3:13:45<1:15:47,  7.45s/it]"
     ]
    },
    {
     "name": "stdout",
     "output_type": "stream",
     "text": [
      "Saved  제13회 회장배 전한국 스쿼시 선수권 대회 준준준결승경기３ 유승범 탁형진\n"
     ]
    },
    {
     "name": "stderr",
     "output_type": "stream",
     "text": [
      " 66%|██████▋   | 1204/1813 [3:14:02<1:44:20, 10.28s/it]"
     ]
    },
    {
     "name": "stdout",
     "output_type": "stream",
     "text": [
      "Saved  제13회 회장배 전한국 스쿼시 선수권 대회 준준준결승경기４ 유덕재 배연우\n"
     ]
    },
    {
     "name": "stderr",
     "output_type": "stream",
     "text": [
      " 66%|██████▋   | 1205/1813 [3:14:09<1:33:57,  9.27s/it]"
     ]
    },
    {
     "name": "stdout",
     "output_type": "stream",
     "text": [
      "Saved  제13회 회장배 전한국 스쿼시 선수권 대회 준준준결승경기５ 윤여훈 이동준\n"
     ]
    },
    {
     "name": "stderr",
     "output_type": "stream",
     "text": [
      " 67%|██████▋   | 1206/1813 [3:14:16<1:26:53,  8.59s/it]"
     ]
    },
    {
     "name": "stdout",
     "output_type": "stream",
     "text": [
      "Saved  제13회 회장배 전한국 스쿼시 선수권 대회 준준준결승경기６ 김현용 유성연\n",
      "Saved  제13회 회장배 전한국 스쿼시 선수권 대회 준준준결승경기７ 김남정 오성학\n"
     ]
    },
    {
     "name": "stderr",
     "output_type": "stream",
     "text": [
      " 67%|██████▋   | 1208/1813 [3:14:30<1:18:50,  7.82s/it]"
     ]
    },
    {
     "name": "stdout",
     "output_type": "stream",
     "text": [
      "Saved  제13회 회장배 전한국 스쿼시 선수권 대회 준준준결승경기８ 박영복 이승훈\n"
     ]
    },
    {
     "name": "stderr",
     "output_type": "stream",
     "text": [
      " 67%|██████▋   | 1209/1813 [3:14:47<1:45:18, 10.46s/it]"
     ]
    },
    {
     "name": "stdout",
     "output_type": "stream",
     "text": [
      "Saved  제13회 회장배 전한국 스쿼시 선수권 대회 준준결승경기１ 고영조 박요한\n"
     ]
    },
    {
     "name": "stderr",
     "output_type": "stream",
     "text": [
      " 67%|██████▋   | 1210/1813 [3:14:54<1:34:31,  9.41s/it]"
     ]
    },
    {
     "name": "stdout",
     "output_type": "stream",
     "text": [
      "Saved  제13회 회장배 전한국 스쿼시 선수권 대회 준준결승경기２ 탁형진 유덕재\n"
     ]
    },
    {
     "name": "stderr",
     "output_type": "stream",
     "text": [
      " 67%|██████▋   | 1211/1813 [3:15:01<1:26:47,  8.65s/it]"
     ]
    },
    {
     "name": "stdout",
     "output_type": "stream",
     "text": [
      "Saved  제13회 회장배 전한국 스쿼시 선수권 대회 준준결승경기３ 이동준 김현용\n"
     ]
    },
    {
     "name": "stderr",
     "output_type": "stream",
     "text": [
      " 67%|██████▋   | 1212/1813 [3:15:08<1:21:13,  8.11s/it]"
     ]
    },
    {
     "name": "stdout",
     "output_type": "stream",
     "text": [
      "Saved  제13회 회장배 전한국 스쿼시 선수권 대회 준준결승경기４ 오성학 이승훈\n"
     ]
    },
    {
     "name": "stderr",
     "output_type": "stream",
     "text": [
      " 67%|██████▋   | 1213/1813 [3:15:15<1:17:32,  7.75s/it]"
     ]
    },
    {
     "name": "stdout",
     "output_type": "stream",
     "text": [
      "Saved  제13회 회장배 전한국 스쿼시 선수권 대회 준결승경기１ 고영조 유덕재\n"
     ]
    },
    {
     "name": "stderr",
     "output_type": "stream",
     "text": [
      " 67%|██████▋   | 1214/1813 [3:15:30<1:39:21,  9.95s/it]"
     ]
    },
    {
     "name": "stdout",
     "output_type": "stream",
     "text": [
      "Saved  제13회 회장배 전한국 스쿼시 선수권 대회 준결승경기２ 김현용 이승훈\n"
     ]
    },
    {
     "name": "stderr",
     "output_type": "stream",
     "text": [
      " 67%|██████▋   | 1215/1813 [3:15:37<1:30:20,  9.06s/it]"
     ]
    },
    {
     "name": "stdout",
     "output_type": "stream",
     "text": [
      "Saved  제13회 회장배 전한국 스쿼시 선수권 대회 결승 고영조 이승훈\n"
     ]
    },
    {
     "name": "stderr",
     "output_type": "stream",
     "text": [
      " 67%|██████▋   | 1216/1813 [3:15:45<1:28:51,  8.93s/it]"
     ]
    },
    {
     "name": "stdout",
     "output_type": "stream",
     "text": [
      "Saved  제13회 회장배 전한국 스쿼시 선수권 대회 예선경기２ 김현준 우창욱\n"
     ]
    },
    {
     "name": "stderr",
     "output_type": "stream",
     "text": [
      " 67%|██████▋   | 1217/1813 [3:15:54<1:28:00,  8.86s/it]"
     ]
    },
    {
     "name": "stdout",
     "output_type": "stream",
     "text": [
      "Saved  제13회 회장배 전한국 스쿼시 선수권 대회 예선경기３ 허재선 이단대\n"
     ]
    },
    {
     "name": "stderr",
     "output_type": "stream",
     "text": [
      " 67%|██████▋   | 1218/1813 [3:16:01<1:22:10,  8.29s/it]"
     ]
    },
    {
     "name": "stdout",
     "output_type": "stream",
     "text": [
      "Saved  제13회 회장배 전한국 스쿼시 선수권 대회 예선경기７ 원준호 최창환\n",
      "Saved  제13회 회장배 전한국 스쿼시 선수권 대회 예선경기１０ 길재호 이승호\n"
     ]
    },
    {
     "name": "stderr",
     "output_type": "stream",
     "text": [
      " 67%|██████▋   | 1220/1813 [3:16:25<1:44:40, 10.59s/it]"
     ]
    },
    {
     "name": "stdout",
     "output_type": "stream",
     "text": [
      "Saved  제13회 회장배 전한국 스쿼시 선수권 대회 예선경기１４ 엄수원 유재진\n"
     ]
    },
    {
     "name": "stderr",
     "output_type": "stream",
     "text": [
      " 67%|██████▋   | 1221/1813 [3:16:32<1:33:20,  9.46s/it]"
     ]
    },
    {
     "name": "stdout",
     "output_type": "stream",
     "text": [
      "Saved  제13회 회장배 전한국 스쿼시 선수권 대회 예선경기１５ 권혁제 류승한\n"
     ]
    },
    {
     "name": "stderr",
     "output_type": "stream",
     "text": [
      " 67%|██████▋   | 1222/1813 [3:16:39<1:25:35,  8.69s/it]"
     ]
    },
    {
     "name": "stdout",
     "output_type": "stream",
     "text": [
      "Saved  제13회 회장배 전한국 스쿼시 선수권 대회 준준준결승경기１ 진승우 우창욱\n"
     ]
    },
    {
     "name": "stderr",
     "output_type": "stream",
     "text": [
      " 67%|██████▋   | 1223/1813 [3:16:45<1:19:11,  8.05s/it]"
     ]
    },
    {
     "name": "stdout",
     "output_type": "stream",
     "text": [
      "Saved  제13회 회장배 전한국 스쿼시 선수권 대회 준준준결승경기２ 허재선 김재완\n"
     ]
    },
    {
     "name": "stderr",
     "output_type": "stream",
     "text": [
      " 68%|██████▊   | 1224/1813 [3:16:52<1:15:17,  7.67s/it]"
     ]
    },
    {
     "name": "stdout",
     "output_type": "stream",
     "text": [
      "Saved  제13회 회장배 전한국 스쿼시 선수권 대회 준준준결승경기３ 이재혁 강석환\n"
     ]
    },
    {
     "name": "stderr",
     "output_type": "stream",
     "text": [
      " 68%|██████▊   | 1225/1813 [3:17:07<1:36:33,  9.85s/it]"
     ]
    },
    {
     "name": "stdout",
     "output_type": "stream",
     "text": [
      "Saved  제13회 회장배 전한국 스쿼시 선수권 대회 준준준결승경기４ 원준호 김성집\n"
     ]
    },
    {
     "name": "stderr",
     "output_type": "stream",
     "text": [
      " 68%|██████▊   | 1226/1813 [3:17:16<1:33:05,  9.51s/it]"
     ]
    },
    {
     "name": "stdout",
     "output_type": "stream",
     "text": [
      "Saved  제13회 회장배 전한국 스쿼시 선수권 대회 준준준결승경기５ 박종명 이승호\n"
     ]
    },
    {
     "name": "stderr",
     "output_type": "stream",
     "text": [
      " 68%|██████▊   | 1227/1813 [3:17:22<1:24:55,  8.69s/it]"
     ]
    },
    {
     "name": "stdout",
     "output_type": "stream",
     "text": [
      "Saved  제13회 회장배 전한국 스쿼시 선수권 대회 준준준결승경기６ 황중찬 정욱진\n"
     ]
    },
    {
     "name": "stderr",
     "output_type": "stream",
     "text": [
      " 68%|██████▊   | 1228/1813 [3:17:29<1:19:28,  8.15s/it]"
     ]
    },
    {
     "name": "stdout",
     "output_type": "stream",
     "text": [
      "Saved  제13회 회장배 전한국 스쿼시 선수권 대회 준준준결승경기７ 조영훈 유재진\n"
     ]
    },
    {
     "name": "stderr",
     "output_type": "stream",
     "text": [
      " 68%|██████▊   | 1229/1813 [3:17:36<1:15:27,  7.75s/it]"
     ]
    },
    {
     "name": "stdout",
     "output_type": "stream",
     "text": [
      "Saved  제13회 회장배 전한국 스쿼시 선수권 대회 준준준결승경기８ 류승한 한승철\n"
     ]
    },
    {
     "name": "stderr",
     "output_type": "stream",
     "text": [
      " 68%|██████▊   | 1230/1813 [3:17:43<1:12:35,  7.47s/it]"
     ]
    },
    {
     "name": "stdout",
     "output_type": "stream",
     "text": [
      "Saved  제13회 회장배 전한국 스쿼시 선수권 대회 준준결승경기１ 진승우 허재선\n"
     ]
    },
    {
     "name": "stderr",
     "output_type": "stream",
     "text": [
      " 68%|██████▊   | 1231/1813 [3:18:00<1:39:25, 10.25s/it]"
     ]
    },
    {
     "name": "stdout",
     "output_type": "stream",
     "text": [
      "Saved  제13회 회장배 전한국 스쿼시 선수권 대회 준준결승경기２ 강석환 김성집\n"
     ]
    },
    {
     "name": "stderr",
     "output_type": "stream",
     "text": [
      " 68%|██████▊   | 1232/1813 [3:18:06<1:29:14,  9.22s/it]"
     ]
    },
    {
     "name": "stdout",
     "output_type": "stream",
     "text": [
      "Saved  제13회 회장배 전한국 스쿼시 선수권 대회 준준결승경기３ 박종명 황중찬\n"
     ]
    },
    {
     "name": "stderr",
     "output_type": "stream",
     "text": [
      " 68%|██████▊   | 1233/1813 [3:18:13<1:22:31,  8.54s/it]"
     ]
    },
    {
     "name": "stdout",
     "output_type": "stream",
     "text": [
      "Saved  제13회 회장배 전한국 스쿼시 선수권 대회 준준결승경기４ 유재진 한승철\n",
      "Saved  제13회 회장배 전한국 스쿼시 선수권 대회 준결승경기１ 진승우 강석환\n"
     ]
    },
    {
     "name": "stderr",
     "output_type": "stream",
     "text": [
      " 68%|██████▊   | 1235/1813 [3:18:27<1:14:19,  7.72s/it]"
     ]
    },
    {
     "name": "stdout",
     "output_type": "stream",
     "text": [
      "Saved  제13회 회장배 전한국 스쿼시 선수권 대회 준결승경기２ 박종명 유재진\n"
     ]
    },
    {
     "name": "stderr",
     "output_type": "stream",
     "text": [
      " 68%|██████▊   | 1236/1813 [3:18:42<1:34:42,  9.85s/it]"
     ]
    },
    {
     "name": "stdout",
     "output_type": "stream",
     "text": [
      "Saved  제13회 회장배 전한국 스쿼시 선수권 대회 결승 진승우 유재진\n"
     ]
    },
    {
     "name": "stderr",
     "output_type": "stream",
     "text": [
      " 68%|██████▊   | 1237/1813 [3:18:49<1:26:28,  9.01s/it]"
     ]
    },
    {
     "name": "stdout",
     "output_type": "stream",
     "text": [
      "Saved  제13회 회장배 전한국 스쿼시 선수권 대회 예선경기２ 유용민 임동현\n"
     ]
    },
    {
     "name": "stderr",
     "output_type": "stream",
     "text": [
      " 68%|██████▊   | 1238/1813 [3:18:56<1:20:01,  8.35s/it]"
     ]
    },
    {
     "name": "stdout",
     "output_type": "stream",
     "text": [
      "Saved  제13회 회장배 전한국 스쿼시 선수권 대회 예선경기７ 이상훈 최정운\n"
     ]
    },
    {
     "name": "stderr",
     "output_type": "stream",
     "text": [
      " 68%|██████▊   | 1239/1813 [3:19:03<1:15:28,  7.89s/it]"
     ]
    },
    {
     "name": "stdout",
     "output_type": "stream",
     "text": [
      "Saved  제13회 회장배 전한국 스쿼시 선수권 대회 예선경기１５ 김동우 진수철\n"
     ]
    },
    {
     "name": "stderr",
     "output_type": "stream",
     "text": [
      " 68%|██████▊   | 1240/1813 [3:19:10<1:12:25,  7.58s/it]"
     ]
    },
    {
     "name": "stdout",
     "output_type": "stream",
     "text": [
      "Saved  제13회 회장배 전한국 스쿼시 선수권 대회 예선경기１８ 민주홍 최동훈\n"
     ]
    },
    {
     "name": "stderr",
     "output_type": "stream",
     "text": [
      " 68%|██████▊   | 1241/1813 [3:19:24<1:32:40,  9.72s/it]"
     ]
    },
    {
     "name": "stdout",
     "output_type": "stream",
     "text": [
      "Saved  제13회 회장배 전한국 스쿼시 선수권 대회 예선경기 26 윤태용 이건동\n"
     ]
    },
    {
     "name": "stderr",
     "output_type": "stream",
     "text": [
      " 69%|██████▊   | 1242/1813 [3:19:31<1:24:59,  8.93s/it]"
     ]
    },
    {
     "name": "stdout",
     "output_type": "stream",
     "text": [
      "Saved  제13회 회장배 전한국 스쿼시 선수권 대회 예선경기 31 정대훈 김승욱\n",
      "Saved  제13회 회장배 전한국 스쿼시 선수권 대회 준준준준결승 2 최상철 유승룡\n"
     ]
    },
    {
     "name": "stderr",
     "output_type": "stream",
     "text": [
      " 69%|██████▊   | 1244/1813 [3:19:45<1:15:31,  7.96s/it]"
     ]
    },
    {
     "name": "stdout",
     "output_type": "stream",
     "text": [
      "Saved  제13회 회장배 전한국 스쿼시 선수권 대회 준준준준결승 3 이은범 정영준\n"
     ]
    },
    {
     "name": "stderr",
     "output_type": "stream",
     "text": [
      " 69%|██████▊   | 1245/1813 [3:19:52<1:12:26,  7.65s/it]"
     ]
    },
    {
     "name": "stdout",
     "output_type": "stream",
     "text": [
      "Saved  제13회 회장배 전한국 스쿼시 선수권 대회 준준준준결승 5 이세현 노승화\n"
     ]
    },
    {
     "name": "stderr",
     "output_type": "stream",
     "text": [
      " 69%|██████▊   | 1246/1813 [3:19:59<1:10:25,  7.45s/it]"
     ]
    },
    {
     "name": "stdout",
     "output_type": "stream",
     "text": [
      "Saved  제13회 회장배 전한국 스쿼시 선수권 대회 준준준준결승 6 정현도 정민채\n"
     ]
    },
    {
     "name": "stderr",
     "output_type": "stream",
     "text": [
      " 69%|██████▉   | 1247/1813 [3:20:18<1:41:44, 10.79s/it]"
     ]
    },
    {
     "name": "stdout",
     "output_type": "stream",
     "text": [
      "Saved  제13회 회장배 전한국 스쿼시 선수권 대회 준준준준결승 7 권현준 조광호\n"
     ]
    },
    {
     "name": "stderr",
     "output_type": "stream",
     "text": [
      " 69%|██████▉   | 1248/1813 [3:20:25<1:30:13,  9.58s/it]"
     ]
    },
    {
     "name": "stdout",
     "output_type": "stream",
     "text": [
      "Saved  제13회 회장배 전한국 스쿼시 선수권 대회 준준준준결승 10 권혁 김성영\n"
     ]
    },
    {
     "name": "stderr",
     "output_type": "stream",
     "text": [
      " 69%|██████▉   | 1249/1813 [3:20:32<1:22:20,  8.76s/it]"
     ]
    },
    {
     "name": "stdout",
     "output_type": "stream",
     "text": [
      "Saved  제13회 회장배 전한국 스쿼시 선수권 대회 준준준준결승 11 권오석 황지훈\n"
     ]
    },
    {
     "name": "stderr",
     "output_type": "stream",
     "text": [
      " 69%|██████▉   | 1250/1813 [3:20:38<1:16:54,  8.20s/it]"
     ]
    },
    {
     "name": "stdout",
     "output_type": "stream",
     "text": [
      "Saved  제13회 회장배 전한국 스쿼시 선수권 대회 준준준준결승 12 한성수 이용희\n"
     ]
    },
    {
     "name": "stderr",
     "output_type": "stream",
     "text": [
      " 69%|██████▉   | 1251/1813 [3:20:45<1:12:59,  7.79s/it]"
     ]
    },
    {
     "name": "stdout",
     "output_type": "stream",
     "text": [
      "Saved  제13회 회장배 전한국 스쿼시 선수권 대회 준준준준결승 14 최규희 김규호\n"
     ]
    },
    {
     "name": "stderr",
     "output_type": "stream",
     "text": [
      " 69%|██████▉   | 1252/1813 [3:21:00<1:32:51,  9.93s/it]"
     ]
    },
    {
     "name": "stdout",
     "output_type": "stream",
     "text": [
      "Saved  제13회 회장배 전한국 스쿼시 선수권 대회 준준준준결승 15 유성은 백승엽\n"
     ]
    },
    {
     "name": "stderr",
     "output_type": "stream",
     "text": [
      " 69%|██████▉   | 1253/1813 [3:21:07<1:24:11,  9.02s/it]"
     ]
    },
    {
     "name": "stdout",
     "output_type": "stream",
     "text": [
      "Saved  제13회 회장배 전한국 스쿼시 선수권 대회 준준준준결승 1 이승준 유용민\n"
     ]
    },
    {
     "name": "stderr",
     "output_type": "stream",
     "text": [
      " 69%|██████▉   | 1254/1813 [3:21:14<1:17:22,  8.31s/it]"
     ]
    },
    {
     "name": "stdout",
     "output_type": "stream",
     "text": [
      "Saved  제13회 회장배 전한국 스쿼시 선수권 대회 준준준준결승 4 최정운 김현동\n"
     ]
    },
    {
     "name": "stderr",
     "output_type": "stream",
     "text": [
      " 69%|██████▉   | 1255/1813 [3:21:21<1:13:14,  7.88s/it]"
     ]
    },
    {
     "name": "stdout",
     "output_type": "stream",
     "text": [
      "Saved  제13회 회장배 전한국 스쿼시 선수권 대회 준준준준결승 8 진수철 이승택\n"
     ]
    },
    {
     "name": "stderr",
     "output_type": "stream",
     "text": [
      " 69%|██████▉   | 1256/1813 [3:21:27<1:10:09,  7.56s/it]"
     ]
    },
    {
     "name": "stdout",
     "output_type": "stream",
     "text": [
      "Saved  제13회 회장배 전한국 스쿼시 선수권 대회 준준준준결승 9 황중원 민주홍\n"
     ]
    },
    {
     "name": "stderr",
     "output_type": "stream",
     "text": [
      " 69%|██████▉   | 1257/1813 [3:21:42<1:30:44,  9.79s/it]"
     ]
    },
    {
     "name": "stdout",
     "output_type": "stream",
     "text": [
      "Saved  제13회 회장배 전한국 스쿼시 선수권 대회 준준준준결승 13 김상학 이건동\n"
     ]
    },
    {
     "name": "stderr",
     "output_type": "stream",
     "text": [
      " 69%|██████▉   | 1258/1813 [3:21:49<1:22:45,  8.95s/it]"
     ]
    },
    {
     "name": "stdout",
     "output_type": "stream",
     "text": [
      "Saved  제13회 회장배 전한국 스쿼시 선수권 대회 준준준준결승 16 정대훈 이년호\n"
     ]
    },
    {
     "name": "stderr",
     "output_type": "stream",
     "text": [
      " 69%|██████▉   | 1259/1813 [3:21:56<1:16:36,  8.30s/it]"
     ]
    },
    {
     "name": "stdout",
     "output_type": "stream",
     "text": [
      "Saved  제13회 회장배 전한국 스쿼시 선수권 대회 준준준결승경기１ 이승준 유승룡\n"
     ]
    },
    {
     "name": "stderr",
     "output_type": "stream",
     "text": [
      " 69%|██████▉   | 1260/1813 [3:22:03<1:12:41,  7.89s/it]"
     ]
    },
    {
     "name": "stdout",
     "output_type": "stream",
     "text": [
      "Saved  제13회 회장배 전한국 스쿼시 선수권 대회 준준준결승경기２ 정영준 김현동\n"
     ]
    },
    {
     "name": "stderr",
     "output_type": "stream",
     "text": [
      " 70%|██████▉   | 1261/1813 [3:22:10<1:09:35,  7.57s/it]"
     ]
    },
    {
     "name": "stdout",
     "output_type": "stream",
     "text": [
      "Saved  제13회 회장배 전한국 스쿼시 선수권 대회 준준준결승경기３ 이세현 정민채\n"
     ]
    },
    {
     "name": "stderr",
     "output_type": "stream",
     "text": [
      " 70%|██████▉   | 1262/1813 [3:22:17<1:07:06,  7.31s/it]"
     ]
    },
    {
     "name": "stdout",
     "output_type": "stream",
     "text": [
      "Saved  제13회 회장배 전한국 스쿼시 선수권 대회 준준준결승경기４ 권현준 이승택\n"
     ]
    },
    {
     "name": "stderr",
     "output_type": "stream",
     "text": [
      " 70%|██████▉   | 1263/1813 [3:22:34<1:33:23, 10.19s/it]"
     ]
    },
    {
     "name": "stdout",
     "output_type": "stream",
     "text": [
      "Saved  제13회 회장배 전한국 스쿼시 선수권 대회 준준준결승경기５ 황중원 김성영\n"
     ]
    },
    {
     "name": "stderr",
     "output_type": "stream",
     "text": [
      " 70%|██████▉   | 1264/1813 [3:22:40<1:24:14,  9.21s/it]"
     ]
    },
    {
     "name": "stdout",
     "output_type": "stream",
     "text": [
      "Saved  제13회 회장배 전한국 스쿼시 선수권 대회 준준준결승경기６ 황지훈 한성수\n"
     ]
    },
    {
     "name": "stderr",
     "output_type": "stream",
     "text": [
      " 70%|██████▉   | 1265/1813 [3:22:47<1:17:45,  8.51s/it]"
     ]
    },
    {
     "name": "stdout",
     "output_type": "stream",
     "text": [
      "Saved  제13회 회장배 전한국 스쿼시 선수권 대회 준준준결승경기７ 이건동 최규희\n"
     ]
    },
    {
     "name": "stderr",
     "output_type": "stream",
     "text": [
      " 70%|██████▉   | 1266/1813 [3:22:54<1:13:23,  8.05s/it]"
     ]
    },
    {
     "name": "stdout",
     "output_type": "stream",
     "text": [
      "Saved  제13회 회장배 전한국 스쿼시 선수권 대회 준준준결승경기８ 백승엽 이년호\n"
     ]
    },
    {
     "name": "stderr",
     "output_type": "stream",
     "text": [
      " 70%|██████▉   | 1267/1813 [3:23:01<1:09:51,  7.68s/it]"
     ]
    },
    {
     "name": "stdout",
     "output_type": "stream",
     "text": [
      "Saved  제13회 회장배 전한국 스쿼시 선수권 대회 준준결승경기１ 이승준 김현동\n"
     ]
    },
    {
     "name": "stderr",
     "output_type": "stream",
     "text": [
      " 70%|██████▉   | 1268/1813 [3:23:16<1:28:58,  9.80s/it]"
     ]
    },
    {
     "name": "stdout",
     "output_type": "stream",
     "text": [
      "Saved  제13회 회장배 전한국 스쿼시 선수권 대회 준준결승경기２ 이세현 이승택\n",
      "Saved  제13회 회장배 전한국 스쿼시 선수권 대회 준준결승경기３ 황중원 한성수\n"
     ]
    },
    {
     "name": "stderr",
     "output_type": "stream",
     "text": [
      " 70%|███████   | 1270/1813 [3:23:30<1:15:18,  8.32s/it]"
     ]
    },
    {
     "name": "stdout",
     "output_type": "stream",
     "text": [
      "Saved  제13회 회장배 전한국 스쿼시 선수권 대회 준준결승경기４ 이건동 이년호\n"
     ]
    },
    {
     "name": "stderr",
     "output_type": "stream",
     "text": [
      " 70%|███████   | 1271/1813 [3:23:36<1:10:48,  7.84s/it]"
     ]
    },
    {
     "name": "stdout",
     "output_type": "stream",
     "text": [
      "Saved  제13회 회장배 전한국 스쿼시 선수권 대회 준결승경기１ 김현동 이세현\n"
     ]
    },
    {
     "name": "stderr",
     "output_type": "stream",
     "text": [
      " 70%|███████   | 1272/1813 [3:23:43<1:07:33,  7.49s/it]"
     ]
    },
    {
     "name": "stdout",
     "output_type": "stream",
     "text": [
      "Saved  제13회 회장배 전한국 스쿼시 선수권 대회 준결승경기２ 황중원 이건동\n"
     ]
    },
    {
     "name": "stderr",
     "output_type": "stream",
     "text": [
      " 70%|███████   | 1273/1813 [3:23:58<1:26:55,  9.66s/it]"
     ]
    },
    {
     "name": "stdout",
     "output_type": "stream",
     "text": [
      "Saved  제13회 회장배 전한국 스쿼시 선수권 대회 결승 이세현 황중원\n"
     ]
    },
    {
     "name": "stderr",
     "output_type": "stream",
     "text": [
      " 70%|███████   | 1274/1813 [3:24:05<1:18:42,  8.76s/it]"
     ]
    },
    {
     "name": "stdout",
     "output_type": "stream",
     "text": [
      "Saved  제13회 회장배 전한국 스쿼시 선수권 대회 예선경기２ 송하연 김희윤\n"
     ]
    },
    {
     "name": "stderr",
     "output_type": "stream",
     "text": [
      " 70%|███████   | 1275/1813 [3:24:11<1:13:21,  8.18s/it]"
     ]
    },
    {
     "name": "stdout",
     "output_type": "stream",
     "text": [
      "Saved  제13회 회장배 전한국 스쿼시 선수권 대회 예선경기３ 박은희 신유민\n"
     ]
    },
    {
     "name": "stderr",
     "output_type": "stream",
     "text": [
      " 70%|███████   | 1276/1813 [3:24:18<1:09:26,  7.76s/it]"
     ]
    },
    {
     "name": "stdout",
     "output_type": "stream",
     "text": [
      "Saved  제13회 회장배 전한국 스쿼시 선수권 대회 예선경기４ 김민지 김선희\n"
     ]
    },
    {
     "name": "stderr",
     "output_type": "stream",
     "text": [
      " 70%|███████   | 1277/1813 [3:24:25<1:06:41,  7.47s/it]"
     ]
    },
    {
     "name": "stdout",
     "output_type": "stream",
     "text": [
      "Saved  제13회 회장배 전한국 스쿼시 선수권 대회 예선경기６ 안예진 김하은\n"
     ]
    },
    {
     "name": "stderr",
     "output_type": "stream",
     "text": [
      " 70%|███████   | 1278/1813 [3:24:32<1:05:29,  7.35s/it]"
     ]
    },
    {
     "name": "stdout",
     "output_type": "stream",
     "text": [
      "Saved  제13회 회장배 전한국 스쿼시 선수권 대회 예선경기７ 김가은 권소희\n"
     ]
    },
    {
     "name": "stderr",
     "output_type": "stream",
     "text": [
      " 71%|███████   | 1279/1813 [3:24:50<1:33:53, 10.55s/it]"
     ]
    },
    {
     "name": "stdout",
     "output_type": "stream",
     "text": [
      "Saved  제13회 회장배 전한국 스쿼시 선수권 대회 예선경기１０ 김수림 황하윤\n"
     ]
    },
    {
     "name": "stderr",
     "output_type": "stream",
     "text": [
      " 71%|███████   | 1280/1813 [3:24:57<1:23:42,  9.42s/it]"
     ]
    },
    {
     "name": "stdout",
     "output_type": "stream",
     "text": [
      "Saved  제13회 회장배 전한국 스쿼시 선수권 대회 예선경기１１ 한지원 이석주\n"
     ]
    },
    {
     "name": "stderr",
     "output_type": "stream",
     "text": [
      " 71%|███████   | 1281/1813 [3:25:04<1:16:40,  8.65s/it]"
     ]
    },
    {
     "name": "stdout",
     "output_type": "stream",
     "text": [
      "Saved  제13회 회장배 전한국 스쿼시 선수권 대회 예선경기１２ 김조은 김유라\n"
     ]
    },
    {
     "name": "stderr",
     "output_type": "stream",
     "text": [
      " 71%|███████   | 1282/1813 [3:25:10<1:11:51,  8.12s/it]"
     ]
    },
    {
     "name": "stdout",
     "output_type": "stream",
     "text": [
      "Saved  제13회 회장배 전한국 스쿼시 선수권 대회 예선경기１３ 장유진 박민주\n"
     ]
    },
    {
     "name": "stderr",
     "output_type": "stream",
     "text": [
      " 71%|███████   | 1283/1813 [3:25:17<1:08:16,  7.73s/it]"
     ]
    },
    {
     "name": "stdout",
     "output_type": "stream",
     "text": [
      "Saved  제13회 회장배 전한국 스쿼시 선수권 대회 예선경기１４ 윤상은 문혜연\n"
     ]
    },
    {
     "name": "stderr",
     "output_type": "stream",
     "text": [
      " 71%|███████   | 1284/1813 [3:25:33<1:27:58,  9.98s/it]"
     ]
    },
    {
     "name": "stdout",
     "output_type": "stream",
     "text": [
      "Saved  제13회 회장배 전한국 스쿼시 선수권 대회 예선경기１５ 박다영 백지은\n"
     ]
    },
    {
     "name": "stderr",
     "output_type": "stream",
     "text": [
      " 71%|███████   | 1285/1813 [3:25:39<1:19:32,  9.04s/it]"
     ]
    },
    {
     "name": "stdout",
     "output_type": "stream",
     "text": [
      "Saved  제13회 회장배 전한국 스쿼시 선수권 대회 준준준결승경기１ 김미진 김희윤\n"
     ]
    },
    {
     "name": "stderr",
     "output_type": "stream",
     "text": [
      " 71%|███████   | 1286/1813 [3:25:46<1:13:42,  8.39s/it]"
     ]
    },
    {
     "name": "stdout",
     "output_type": "stream",
     "text": [
      "Saved  제13회 회장배 전한국 스쿼시 선수권 대회 준준준결승경기２ 박은희 김선희\n"
     ]
    },
    {
     "name": "stderr",
     "output_type": "stream",
     "text": [
      " 71%|███████   | 1287/1813 [3:25:53<1:09:22,  7.91s/it]"
     ]
    },
    {
     "name": "stdout",
     "output_type": "stream",
     "text": [
      "Saved  제13회 회장배 전한국 스쿼시 선수권 대회 준준준결승경기３ 허민경 안예진\n"
     ]
    },
    {
     "name": "stderr",
     "output_type": "stream",
     "text": [
      " 71%|███████   | 1288/1813 [3:26:00<1:06:18,  7.58s/it]"
     ]
    },
    {
     "name": "stdout",
     "output_type": "stream",
     "text": [
      "Saved  제13회 회장배 전한국 스쿼시 선수권 대회 준준준결승경기４ 김가은 최예솔\n"
     ]
    },
    {
     "name": "stderr",
     "output_type": "stream",
     "text": [
      " 71%|███████   | 1289/1813 [3:26:07<1:04:07,  7.34s/it]"
     ]
    },
    {
     "name": "stdout",
     "output_type": "stream",
     "text": [
      "Saved  제13회 회장배 전한국 스쿼시 선수권 대회 준준준결승경기５ 엄화영 김수림\n"
     ]
    },
    {
     "name": "stderr",
     "output_type": "stream",
     "text": [
      " 71%|███████   | 1290/1813 [3:26:24<1:29:09, 10.23s/it]"
     ]
    },
    {
     "name": "stdout",
     "output_type": "stream",
     "text": [
      "Saved  제13회 회장배 전한국 스쿼시 선수권 대회 준준준결승경기６ 이석주 김조은\n"
     ]
    },
    {
     "name": "stderr",
     "output_type": "stream",
     "text": [
      " 71%|███████   | 1291/1813 [3:26:30<1:19:48,  9.17s/it]"
     ]
    },
    {
     "name": "stdout",
     "output_type": "stream",
     "text": [
      "Saved  제13회 회장배 전한국 스쿼시 선수권 대회 준준준결승경기７ 박민주 문혜연\n"
     ]
    },
    {
     "name": "stderr",
     "output_type": "stream",
     "text": [
      " 71%|███████▏  | 1292/1813 [3:26:37<1:13:12,  8.43s/it]"
     ]
    },
    {
     "name": "stdout",
     "output_type": "stream",
     "text": [
      "Saved  제13회 회장배 전한국 스쿼시 선수권 대회 준준준결승경기８ 백지은 김기한\n"
     ]
    },
    {
     "name": "stderr",
     "output_type": "stream",
     "text": [
      " 71%|███████▏  | 1293/1813 [3:26:44<1:09:25,  8.01s/it]"
     ]
    },
    {
     "name": "stdout",
     "output_type": "stream",
     "text": [
      "Saved  제13회 회장배 전한국 스쿼시 선수권 대회 준준결승경기１ 김미진 김선희\n",
      "Saved  제13회 회장배 전한국 스쿼시 선수권 대회 준준결승경기２ 안예진 김가은\n"
     ]
    },
    {
     "name": "stderr",
     "output_type": "stream",
     "text": [
      " 71%|███████▏  | 1295/1813 [3:27:06<1:25:10,  9.87s/it]"
     ]
    },
    {
     "name": "stdout",
     "output_type": "stream",
     "text": [
      "Saved  제13회 회장배 전한국 스쿼시 선수권 대회 준준결승경기３ 엄화영 김조은\n"
     ]
    },
    {
     "name": "stderr",
     "output_type": "stream",
     "text": [
      " 71%|███████▏  | 1296/1813 [3:27:13<1:17:45,  9.02s/it]"
     ]
    },
    {
     "name": "stdout",
     "output_type": "stream",
     "text": [
      "Saved  제13회 회장배 전한국 스쿼시 선수권 대회 준준결승경기４ 박민주 김기한\n"
     ]
    },
    {
     "name": "stderr",
     "output_type": "stream",
     "text": [
      " 72%|███████▏  | 1297/1813 [3:27:20<1:12:02,  8.38s/it]"
     ]
    },
    {
     "name": "stdout",
     "output_type": "stream",
     "text": [
      "Saved  제13회 회장배 전한국 스쿼시 선수권 대회 준결승경기１ 김미진 안예진\n"
     ]
    },
    {
     "name": "stderr",
     "output_type": "stream",
     "text": [
      " 72%|███████▏  | 1298/1813 [3:27:27<1:07:50,  7.90s/it]"
     ]
    },
    {
     "name": "stdout",
     "output_type": "stream",
     "text": [
      "Saved  제13회 회장배 전한국 스쿼시 선수권 대회 준결승경기２ 엄화영 박민주\n"
     ]
    },
    {
     "name": "stderr",
     "output_type": "stream",
     "text": [
      " 72%|███████▏  | 1299/1813 [3:27:34<1:05:09,  7.61s/it]"
     ]
    },
    {
     "name": "stdout",
     "output_type": "stream",
     "text": [
      "Saved  제13회 회장배 전한국 스쿼시 선수권 대회 결승 김미진 박민주\n"
     ]
    },
    {
     "name": "stderr",
     "output_type": "stream",
     "text": [
      " 72%|███████▏  | 1300/1813 [3:27:40<1:02:44,  7.34s/it]"
     ]
    },
    {
     "name": "stdout",
     "output_type": "stream",
     "text": [
      "Saved  제13회 회장배 전한국 스쿼시 선수권 대회 예선경기２ 제연정 오세희\n"
     ]
    },
    {
     "name": "stderr",
     "output_type": "stream",
     "text": [
      " 72%|███████▏  | 1301/1813 [3:27:57<1:26:49, 10.17s/it]"
     ]
    },
    {
     "name": "stdout",
     "output_type": "stream",
     "text": [
      "Saved  제13회 회장배 전한국 스쿼시 선수권 대회 예선경기７ 고혜선 강한나\n"
     ]
    },
    {
     "name": "stderr",
     "output_type": "stream",
     "text": [
      " 72%|███████▏  | 1302/1813 [3:28:04<1:18:04,  9.17s/it]"
     ]
    },
    {
     "name": "stdout",
     "output_type": "stream",
     "text": [
      "Saved  제13회 회장배 전한국 스쿼시 선수권 대회 준준결승경기１ 최유라 제연정\n"
     ]
    },
    {
     "name": "stderr",
     "output_type": "stream",
     "text": [
      " 72%|███████▏  | 1303/1813 [3:28:11<1:12:01,  8.47s/it]"
     ]
    },
    {
     "name": "stdout",
     "output_type": "stream",
     "text": [
      "Saved  제13회 회장배 전한국 스쿼시 선수권 대회 준준결승경기２ 장유빈 김다정\n"
     ]
    },
    {
     "name": "stderr",
     "output_type": "stream",
     "text": [
      " 72%|███████▏  | 1304/1813 [3:28:18<1:08:06,  8.03s/it]"
     ]
    },
    {
     "name": "stdout",
     "output_type": "stream",
     "text": [
      "Saved  제13회 회장배 전한국 스쿼시 선수권 대회 준준결승경기３ 이지현 박다빈\n"
     ]
    },
    {
     "name": "stderr",
     "output_type": "stream",
     "text": [
      " 72%|███████▏  | 1305/1813 [3:28:25<1:05:04,  7.69s/it]"
     ]
    },
    {
     "name": "stdout",
     "output_type": "stream",
     "text": [
      "Saved  제13회 회장배 전한국 스쿼시 선수권 대회 준준결승경기４ 강한나 김상미\n"
     ]
    },
    {
     "name": "stderr",
     "output_type": "stream",
     "text": [
      " 72%|███████▏  | 1306/1813 [3:28:40<1:23:27,  9.88s/it]"
     ]
    },
    {
     "name": "stdout",
     "output_type": "stream",
     "text": [
      "Saved  제13회 회장배 전한국 스쿼시 선수권 대회 준결승경기１ 최유라 장유빈\n"
     ]
    },
    {
     "name": "stderr",
     "output_type": "stream",
     "text": [
      " 72%|███████▏  | 1307/1813 [3:28:47<1:16:11,  9.03s/it]"
     ]
    },
    {
     "name": "stdout",
     "output_type": "stream",
     "text": [
      "Saved  제13회 회장배 전한국 스쿼시 선수권 대회 준결승경기２ 이지현 김상미\n"
     ]
    },
    {
     "name": "stderr",
     "output_type": "stream",
     "text": [
      " 72%|███████▏  | 1308/1813 [3:28:54<1:10:43,  8.40s/it]"
     ]
    },
    {
     "name": "stdout",
     "output_type": "stream",
     "text": [
      "Saved  제13회 회장배 전한국 스쿼시 선수권 대회 결승 최유라 이지현\n"
     ]
    },
    {
     "name": "stderr",
     "output_type": "stream",
     "text": [
      " 72%|███████▏  | 1309/1813 [3:29:00<1:06:14,  7.89s/it]"
     ]
    },
    {
     "name": "stdout",
     "output_type": "stream",
     "text": [
      "Saved  제13회 회장배 전한국 스쿼시 선수권 대회 예선경기２ 김진희 김선임\n"
     ]
    },
    {
     "name": "stderr",
     "output_type": "stream",
     "text": [
      " 72%|███████▏  | 1310/1813 [3:29:07<1:03:28,  7.57s/it]"
     ]
    },
    {
     "name": "stdout",
     "output_type": "stream",
     "text": [
      "Saved  제13회 회장배 전한국 스쿼시 선수권 대회 예선경기７ 이해경 성화영\n"
     ]
    },
    {
     "name": "stderr",
     "output_type": "stream",
     "text": [
      " 72%|███████▏  | 1311/1813 [3:29:22<1:21:36,  9.75s/it]"
     ]
    },
    {
     "name": "stdout",
     "output_type": "stream",
     "text": [
      "Saved  제13회 회장배 전한국 스쿼시 선수권 대회 예선경기１０ 박진주 강영진\n"
     ]
    },
    {
     "name": "stderr",
     "output_type": "stream",
     "text": [
      " 72%|███████▏  | 1312/1813 [3:29:29<1:14:48,  8.96s/it]"
     ]
    },
    {
     "name": "stdout",
     "output_type": "stream",
     "text": [
      "Saved  제13회 회장배 전한국 스쿼시 선수권 대회 예선경기１５ 강은경 김아현\n"
     ]
    },
    {
     "name": "stderr",
     "output_type": "stream",
     "text": [
      " 72%|███████▏  | 1313/1813 [3:29:36<1:09:55,  8.39s/it]"
     ]
    },
    {
     "name": "stdout",
     "output_type": "stream",
     "text": [
      "Saved  제13회 회장배 전한국 스쿼시 선수권 대회 준준준결승경기１ 김가혜 김진희\n"
     ]
    },
    {
     "name": "stderr",
     "output_type": "stream",
     "text": [
      " 72%|███████▏  | 1314/1813 [3:29:43<1:05:58,  7.93s/it]"
     ]
    },
    {
     "name": "stdout",
     "output_type": "stream",
     "text": [
      "Saved  제13회 회장배 전한국 스쿼시 선수권 대회 준준준결승경기２ 성은미 이영욱\n"
     ]
    },
    {
     "name": "stderr",
     "output_type": "stream",
     "text": [
      " 73%|███████▎  | 1315/1813 [3:29:50<1:03:11,  7.61s/it]"
     ]
    },
    {
     "name": "stdout",
     "output_type": "stream",
     "text": [
      "Saved  제13회 회장배 전한국 스쿼시 선수권 대회 준준준결승경기３ 배찬미 송선미\n"
     ]
    },
    {
     "name": "stderr",
     "output_type": "stream",
     "text": [
      " 73%|███████▎  | 1316/1813 [3:29:57<1:01:18,  7.40s/it]"
     ]
    },
    {
     "name": "stdout",
     "output_type": "stream",
     "text": [
      "Saved  제13회 회장배 전한국 스쿼시 선수권 대회 준준준결승경기４ 이해경 오성령\n"
     ]
    },
    {
     "name": "stderr",
     "output_type": "stream",
     "text": [
      " 73%|███████▎  | 1317/1813 [3:30:14<1:24:32, 10.23s/it]"
     ]
    },
    {
     "name": "stdout",
     "output_type": "stream",
     "text": [
      "Saved  제13회 회장배 전한국 스쿼시 선수권 대회 준준준결승경기５ 양연수 박진주\n"
     ]
    },
    {
     "name": "stderr",
     "output_type": "stream",
     "text": [
      " 73%|███████▎  | 1318/1813 [3:30:21<1:16:19,  9.25s/it]"
     ]
    },
    {
     "name": "stdout",
     "output_type": "stream",
     "text": [
      "Saved  제13회 회장배 전한국 스쿼시 선수권 대회 준준준결승경기６ 김가람 박미림\n"
     ]
    },
    {
     "name": "stderr",
     "output_type": "stream",
     "text": [
      " 73%|███████▎  | 1319/1813 [3:30:28<1:10:29,  8.56s/it]"
     ]
    },
    {
     "name": "stdout",
     "output_type": "stream",
     "text": [
      "Saved  제13회 회장배 전한국 스쿼시 선수권 대회 준준준결승경기７ 박영미 김은순\n"
     ]
    },
    {
     "name": "stderr",
     "output_type": "stream",
     "text": [
      " 73%|███████▎  | 1320/1813 [3:30:35<1:06:33,  8.10s/it]"
     ]
    },
    {
     "name": "stdout",
     "output_type": "stream",
     "text": [
      "Saved  제13회 회장배 전한국 스쿼시 선수권 대회 준준준결승경기８ 김아현 박은옥\n"
     ]
    },
    {
     "name": "stderr",
     "output_type": "stream",
     "text": [
      " 73%|███████▎  | 1321/1813 [3:30:41<1:03:17,  7.72s/it]"
     ]
    },
    {
     "name": "stdout",
     "output_type": "stream",
     "text": [
      "Saved  제13회 회장배 전한국 스쿼시 선수권 대회 준준결승경기１ 김가혜 이영욱\n",
      "Saved  제13회 회장배 전한국 스쿼시 선수권 대회 준준결승경기２ 송선미 이해경\n"
     ]
    },
    {
     "name": "stderr",
     "output_type": "stream",
     "text": [
      " 73%|███████▎  | 1323/1813 [3:31:04<1:14:00,  9.06s/it]"
     ]
    },
    {
     "name": "stdout",
     "output_type": "stream",
     "text": [
      "Saved  제13회 회장배 전한국 스쿼시 선수권 대회 준준결승경기３ 양연수 박미림\n"
     ]
    },
    {
     "name": "stderr",
     "output_type": "stream",
     "text": [
      " 73%|███████▎  | 1324/1813 [3:31:10<1:08:42,  8.43s/it]"
     ]
    },
    {
     "name": "stdout",
     "output_type": "stream",
     "text": [
      "Saved  제13회 회장배 전한국 스쿼시 선수권 대회 준준결승경기４ 박영미 박은옥\n"
     ]
    },
    {
     "name": "stderr",
     "output_type": "stream",
     "text": [
      " 73%|███████▎  | 1325/1813 [3:31:17<1:04:45,  7.96s/it]"
     ]
    },
    {
     "name": "stdout",
     "output_type": "stream",
     "text": [
      "Saved  제13회 회장배 전한국 스쿼시 선수권 대회 준결승경기１ 김가혜 송선미\n"
     ]
    },
    {
     "name": "stderr",
     "output_type": "stream",
     "text": [
      " 73%|███████▎  | 1326/1813 [3:31:24<1:01:29,  7.58s/it]"
     ]
    },
    {
     "name": "stdout",
     "output_type": "stream",
     "text": [
      "Saved  제13회 회장배 전한국 스쿼시 선수권 대회 준결승경기２ 양연수 박은옥\n"
     ]
    },
    {
     "name": "stderr",
     "output_type": "stream",
     "text": [
      " 73%|███████▎  | 1327/1813 [3:31:41<1:23:22, 10.29s/it]"
     ]
    },
    {
     "name": "stdout",
     "output_type": "stream",
     "text": [
      "Saved  제13회 회장배 전한국 스쿼시 선수권 대회 결승 송선미 박은옥\n"
     ]
    },
    {
     "name": "stderr",
     "output_type": "stream",
     "text": [
      " 73%|███████▎  | 1328/1813 [3:31:48<1:15:02,  9.28s/it]"
     ]
    },
    {
     "name": "stdout",
     "output_type": "stream",
     "text": [
      "Saved  제13회 회장배 전한국 스쿼시 선수권 대회 예선경기１ 장수혁 박우성\n"
     ]
    },
    {
     "name": "stderr",
     "output_type": "stream",
     "text": [
      " 73%|███████▎  | 1329/1813 [3:31:54<1:08:58,  8.55s/it]"
     ]
    },
    {
     "name": "stdout",
     "output_type": "stream",
     "text": [
      "Saved  제13회 회장배 전한국 스쿼시 선수권 대회 예선경기２ 강우석 장은준\n"
     ]
    },
    {
     "name": "stderr",
     "output_type": "stream",
     "text": [
      " 73%|███████▎  | 1330/1813 [3:32:01<1:04:31,  8.02s/it]"
     ]
    },
    {
     "name": "stdout",
     "output_type": "stream",
     "text": [
      "Saved  제13회 회장배 전한국 스쿼시 선수권 대회 예선경기３ 박인훈 김지환\n"
     ]
    },
    {
     "name": "stderr",
     "output_type": "stream",
     "text": [
      " 73%|███████▎  | 1331/1813 [3:32:08<1:01:27,  7.65s/it]"
     ]
    },
    {
     "name": "stdout",
     "output_type": "stream",
     "text": [
      "Saved  제13회 회장배 전한국 스쿼시 선수권 대회 예선경기４ KIM HAN 김태민\n"
     ]
    },
    {
     "name": "stderr",
     "output_type": "stream",
     "text": [
      " 73%|███████▎  | 1332/1813 [3:32:15<59:50,  7.47s/it]  "
     ]
    },
    {
     "name": "stdout",
     "output_type": "stream",
     "text": [
      "Saved  제13회 회장배 전한국 스쿼시 선수권 대회 준결승경기１ 장수혁 장은준\n"
     ]
    },
    {
     "name": "stderr",
     "output_type": "stream",
     "text": [
      " 74%|███████▎  | 1333/1813 [3:32:32<1:22:40, 10.34s/it]"
     ]
    },
    {
     "name": "stdout",
     "output_type": "stream",
     "text": [
      "Saved  제13회 회장배 전한국 스쿼시 선수권 대회 준결승경기２ 김지환 KIM HAN\n"
     ]
    },
    {
     "name": "stderr",
     "output_type": "stream",
     "text": [
      " 74%|███████▎  | 1334/1813 [3:32:39<1:13:56,  9.26s/it]"
     ]
    },
    {
     "name": "stdout",
     "output_type": "stream",
     "text": [
      "Saved  제13회 회장배 전한국 스쿼시 선수권 대회 결승 장수혁 김지환\n"
     ]
    },
    {
     "name": "stderr",
     "output_type": "stream",
     "text": [
      " 74%|███████▎  | 1335/1813 [3:32:48<1:12:24,  9.09s/it]"
     ]
    },
    {
     "name": "stdout",
     "output_type": "stream",
     "text": [
      "Saved  제13회 회장배 전한국 스쿼시 선수권 대회 예선경기２ 김남경 양재혁\n"
     ]
    },
    {
     "name": "stderr",
     "output_type": "stream",
     "text": [
      " 74%|███████▎  | 1336/1813 [3:32:54<1:06:46,  8.40s/it]"
     ]
    },
    {
     "name": "stdout",
     "output_type": "stream",
     "text": [
      "Saved  제13회 회장배 전한국 스쿼시 선수권 대회 예선경기３ 김정원 임태섭\n"
     ]
    },
    {
     "name": "stderr",
     "output_type": "stream",
     "text": [
      " 74%|███████▎  | 1337/1813 [3:33:01<1:02:50,  7.92s/it]"
     ]
    },
    {
     "name": "stdout",
     "output_type": "stream",
     "text": [
      "Saved  제13회 회장배 전한국 스쿼시 선수권 대회 예선경기４ 석지훈 오수현\n"
     ]
    },
    {
     "name": "stderr",
     "output_type": "stream",
     "text": [
      " 74%|███████▍  | 1338/1813 [3:33:16<1:19:24, 10.03s/it]"
     ]
    },
    {
     "name": "stdout",
     "output_type": "stream",
     "text": [
      "Saved  제13회 회장배 전한국 스쿼시 선수권 대회 예선경기６ 강현범 이용정\n"
     ]
    },
    {
     "name": "stderr",
     "output_type": "stream",
     "text": [
      " 74%|███████▍  | 1339/1813 [3:33:23<1:12:00,  9.11s/it]"
     ]
    },
    {
     "name": "stdout",
     "output_type": "stream",
     "text": [
      "Saved  제13회 회장배 전한국 스쿼시 선수권 대회 예선경기７ 조성환 김대운\n"
     ]
    },
    {
     "name": "stderr",
     "output_type": "stream",
     "text": [
      " 74%|███████▍  | 1340/1813 [3:33:30<1:06:48,  8.48s/it]"
     ]
    },
    {
     "name": "stdout",
     "output_type": "stream",
     "text": [
      "Saved  제13회 회장배 전한국 스쿼시 선수권 대회 예선경기１０ 이동민 이현준\n"
     ]
    },
    {
     "name": "stderr",
     "output_type": "stream",
     "text": [
      " 74%|███████▍  | 1341/1813 [3:33:37<1:03:35,  8.08s/it]"
     ]
    },
    {
     "name": "stdout",
     "output_type": "stream",
     "text": [
      "Saved  제13회 회장배 전한국 스쿼시 선수권 대회 예선경기１１ CHOI SEAN SEVIN 양재혁\n"
     ]
    },
    {
     "name": "stderr",
     "output_type": "stream",
     "text": [
      " 74%|███████▍  | 1342/1813 [3:33:44<1:00:53,  7.76s/it]"
     ]
    },
    {
     "name": "stdout",
     "output_type": "stream",
     "text": [
      "Saved  제13회 회장배 전한국 스쿼시 선수권 대회 예선경기１４ 오현민 이준행\n"
     ]
    },
    {
     "name": "stderr",
     "output_type": "stream",
     "text": [
      " 74%|███████▍  | 1343/1813 [3:33:53<1:03:05,  8.05s/it]"
     ]
    },
    {
     "name": "stdout",
     "output_type": "stream",
     "text": [
      "Saved  제13회 회장배 전한국 스쿼시 선수권 대회 예선경기１５ 김석진 이상지\n"
     ]
    },
    {
     "name": "stderr",
     "output_type": "stream",
     "text": [
      " 74%|███████▍  | 1344/1813 [3:34:12<1:28:00, 11.26s/it]"
     ]
    },
    {
     "name": "stdout",
     "output_type": "stream",
     "text": [
      "Saved  제13회 회장배 전한국 스쿼시 선수권 대회 준준준결승경기１ 류한동 김남경\n"
     ]
    },
    {
     "name": "stderr",
     "output_type": "stream",
     "text": [
      " 74%|███████▍  | 1345/1813 [3:34:19<1:17:47,  9.97s/it]"
     ]
    },
    {
     "name": "stdout",
     "output_type": "stream",
     "text": [
      "Saved  제13회 회장배 전한국 스쿼시 선수권 대회 준준준결승경기２ 임태섭 오수현\n"
     ]
    },
    {
     "name": "stderr",
     "output_type": "stream",
     "text": [
      " 74%|███████▍  | 1346/1813 [3:34:26<1:10:22,  9.04s/it]"
     ]
    },
    {
     "name": "stdout",
     "output_type": "stream",
     "text": [
      "Saved  제13회 회장배 전한국 스쿼시 선수권 대회 준준준결승경기３ 황수연 강현범\n"
     ]
    },
    {
     "name": "stderr",
     "output_type": "stream",
     "text": [
      " 74%|███████▍  | 1347/1813 [3:34:32<1:05:00,  8.37s/it]"
     ]
    },
    {
     "name": "stdout",
     "output_type": "stream",
     "text": [
      "Saved  제13회 회장배 전한국 스쿼시 선수권 대회 준준준결승경기４ 김대운 탁효진\n"
     ]
    },
    {
     "name": "stderr",
     "output_type": "stream",
     "text": [
      " 74%|███████▍  | 1348/1813 [3:34:39<1:01:43,  7.96s/it]"
     ]
    },
    {
     "name": "stdout",
     "output_type": "stream",
     "text": [
      "Saved  제13회 회장배 전한국 스쿼시 선수권 대회 준준준결승경기５ 이인우 이동민\n"
     ]
    },
    {
     "name": "stderr",
     "output_type": "stream",
     "text": [
      " 74%|███████▍  | 1349/1813 [3:34:55<1:20:33, 10.42s/it]"
     ]
    },
    {
     "name": "stdout",
     "output_type": "stream",
     "text": [
      "Saved  제13회 회장배 전한국 스쿼시 선수권 대회 준준준결승경기６ CHOI SEAN SEVIN 전성수\n"
     ]
    },
    {
     "name": "stderr",
     "output_type": "stream",
     "text": [
      " 74%|███████▍  | 1350/1813 [3:35:02<1:12:14,  9.36s/it]"
     ]
    },
    {
     "name": "stdout",
     "output_type": "stream",
     "text": [
      "Saved  제13회 회장배 전한국 스쿼시 선수권 대회 준준준결승경기７ 구성진 오현민\n"
     ]
    },
    {
     "name": "stderr",
     "output_type": "stream",
     "text": [
      " 75%|███████▍  | 1351/1813 [3:35:09<1:06:43,  8.67s/it]"
     ]
    },
    {
     "name": "stdout",
     "output_type": "stream",
     "text": [
      "Saved  제13회 회장배 전한국 스쿼시 선수권 대회 준준준결승경기８ 김석진 박성찬\n"
     ]
    },
    {
     "name": "stderr",
     "output_type": "stream",
     "text": [
      " 75%|███████▍  | 1352/1813 [3:35:16<1:02:56,  8.19s/it]"
     ]
    },
    {
     "name": "stdout",
     "output_type": "stream",
     "text": [
      "Saved  제13회 회장배 전한국 스쿼시 선수권 대회 준준결승경기１ 류한동 오수현\n"
     ]
    },
    {
     "name": "stderr",
     "output_type": "stream",
     "text": [
      " 75%|███████▍  | 1353/1813 [3:35:24<1:00:12,  7.85s/it]"
     ]
    },
    {
     "name": "stdout",
     "output_type": "stream",
     "text": [
      "Saved  제13회 회장배 전한국 스쿼시 선수권 대회 준준결승경기２ 강현범 탁효진\n"
     ]
    },
    {
     "name": "stderr",
     "output_type": "stream",
     "text": [
      " 75%|███████▍  | 1354/1813 [3:35:39<1:17:00, 10.07s/it]"
     ]
    },
    {
     "name": "stdout",
     "output_type": "stream",
     "text": [
      "Saved  제13회 회장배 전한국 스쿼시 선수권 대회 준준결승경기３ 이동민 CHOI SEAN SEVIN\n"
     ]
    },
    {
     "name": "stderr",
     "output_type": "stream",
     "text": [
      " 75%|███████▍  | 1355/1813 [3:35:46<1:09:09,  9.06s/it]"
     ]
    },
    {
     "name": "stdout",
     "output_type": "stream",
     "text": [
      "Saved  제13회 회장배 전한국 스쿼시 선수권 대회 준준결승경기４ 오현민 박성찬\n"
     ]
    },
    {
     "name": "stderr",
     "output_type": "stream",
     "text": [
      " 75%|███████▍  | 1356/1813 [3:35:52<1:03:47,  8.37s/it]"
     ]
    },
    {
     "name": "stdout",
     "output_type": "stream",
     "text": [
      "Saved  제13회 회장배 전한국 스쿼시 선수권 대회 준결승경기１ 류한동 강현범\n"
     ]
    },
    {
     "name": "stderr",
     "output_type": "stream",
     "text": [
      " 75%|███████▍  | 1357/1813 [3:36:00<1:01:14,  8.06s/it]"
     ]
    },
    {
     "name": "stdout",
     "output_type": "stream",
     "text": [
      "Saved  제13회 회장배 전한국 스쿼시 선수권 대회 준결승경기２ 이동민 박성찬\n"
     ]
    },
    {
     "name": "stderr",
     "output_type": "stream",
     "text": [
      " 75%|███████▍  | 1358/1813 [3:36:07<59:06,  7.79s/it]  "
     ]
    },
    {
     "name": "stdout",
     "output_type": "stream",
     "text": [
      "Saved  제13회 회장배 전한국 스쿼시 선수권 대회 결승 류한동 박성찬\n"
     ]
    },
    {
     "name": "stderr",
     "output_type": "stream",
     "text": [
      " 75%|███████▍  | 1359/1813 [3:36:14<57:28,  7.60s/it]"
     ]
    },
    {
     "name": "stdout",
     "output_type": "stream",
     "text": [
      "Saved  제13회 회장배 전한국 스쿼시 선수권 대회 예선경기２ 김민서 김진솔\n"
     ]
    },
    {
     "name": "stderr",
     "output_type": "stream",
     "text": [
      " 75%|███████▌  | 1360/1813 [3:36:31<1:18:32, 10.40s/it]"
     ]
    },
    {
     "name": "stdout",
     "output_type": "stream",
     "text": [
      "Saved  제13회 회장배 전한국 스쿼시 선수권 대회 예선경기３ 구나현 이루리\n"
     ]
    },
    {
     "name": "stderr",
     "output_type": "stream",
     "text": [
      " 75%|███████▌  | 1361/1813 [3:36:38<1:10:51,  9.41s/it]"
     ]
    },
    {
     "name": "stdout",
     "output_type": "stream",
     "text": [
      "Saved  제13회 회장배 전한국 스쿼시 선수권 대회 예선경기４ 차연재 김다미\n"
     ]
    },
    {
     "name": "stderr",
     "output_type": "stream",
     "text": [
      " 75%|███████▌  | 1362/1813 [3:36:45<1:06:12,  8.81s/it]"
     ]
    },
    {
     "name": "stdout",
     "output_type": "stream",
     "text": [
      "Saved  제13회 회장배 전한국 스쿼시 선수권 대회 준결승경기１ 전아인 김민서\n"
     ]
    },
    {
     "name": "stderr",
     "output_type": "stream",
     "text": [
      " 75%|███████▌  | 1363/1813 [3:36:53<1:02:22,  8.32s/it]"
     ]
    },
    {
     "name": "stdout",
     "output_type": "stream",
     "text": [
      "Saved  제13회 회장배 전한국 스쿼시 선수권 대회 준결승경기２ 이루리 김다미\n"
     ]
    },
    {
     "name": "stderr",
     "output_type": "stream",
     "text": [
      " 75%|███████▌  | 1364/1813 [3:36:59<59:09,  7.91s/it]  "
     ]
    },
    {
     "name": "stdout",
     "output_type": "stream",
     "text": [
      "Saved  제13회 회장배 전한국 스쿼시 선수권 대회 결승 전아인 김다미\n"
     ]
    },
    {
     "name": "stderr",
     "output_type": "stream",
     "text": [
      " 75%|███████▌  | 1365/1813 [3:37:14<1:14:54, 10.03s/it]"
     ]
    },
    {
     "name": "stdout",
     "output_type": "stream",
     "text": [
      "Saved  제13회 회장배 전한국 스쿼시 선수권 대회 예선경기２ 정다은 김은향\n"
     ]
    },
    {
     "name": "stderr",
     "output_type": "stream",
     "text": [
      " 75%|███████▌  | 1366/1813 [3:37:24<1:12:34,  9.74s/it]"
     ]
    },
    {
     "name": "stdout",
     "output_type": "stream",
     "text": [
      "Saved  제13회 회장배 전한국 스쿼시 선수권 대회 예선경기７ 곽다연 홍서경\n"
     ]
    },
    {
     "name": "stderr",
     "output_type": "stream",
     "text": [
      " 75%|███████▌  | 1367/1813 [3:37:31<1:06:28,  8.94s/it]"
     ]
    },
    {
     "name": "stdout",
     "output_type": "stream",
     "text": [
      "Saved  제13회 회장배 전한국 스쿼시 선수권 대회 준준결승경기１ 최유주 정다은\n"
     ]
    },
    {
     "name": "stderr",
     "output_type": "stream",
     "text": [
      " 75%|███████▌  | 1368/1813 [3:37:38<1:02:01,  8.36s/it]"
     ]
    },
    {
     "name": "stdout",
     "output_type": "stream",
     "text": [
      "Saved  제13회 회장배 전한국 스쿼시 선수권 대회 준준결승경기２ 조민영 오승희\n"
     ]
    },
    {
     "name": "stderr",
     "output_type": "stream",
     "text": [
      " 76%|███████▌  | 1369/1813 [3:37:44<58:12,  7.87s/it]  "
     ]
    },
    {
     "name": "stdout",
     "output_type": "stream",
     "text": [
      "Saved  제13회 회장배 전한국 스쿼시 선수권 대회 준준결승경기３ 송채원 김규리\n"
     ]
    },
    {
     "name": "stderr",
     "output_type": "stream",
     "text": [
      " 76%|███████▌  | 1370/1813 [3:37:51<56:08,  7.60s/it]"
     ]
    },
    {
     "name": "stdout",
     "output_type": "stream",
     "text": [
      "Saved  제13회 회장배 전한국 스쿼시 선수권 대회 준준결승경기４ 곽다연 김민영\n"
     ]
    },
    {
     "name": "stderr",
     "output_type": "stream",
     "text": [
      " 76%|███████▌  | 1371/1813 [3:38:08<1:16:45, 10.42s/it]"
     ]
    },
    {
     "name": "stdout",
     "output_type": "stream",
     "text": [
      "Saved  제13회 회장배 전한국 스쿼시 선수권 대회 준결승경기１ 최유주 오승희\n"
     ]
    },
    {
     "name": "stderr",
     "output_type": "stream",
     "text": [
      " 76%|███████▌  | 1372/1813 [3:38:15<1:08:50,  9.37s/it]"
     ]
    },
    {
     "name": "stdout",
     "output_type": "stream",
     "text": [
      "Saved  제13회 회장배 전한국 스쿼시 선수권 대회 준결승경기２ 김규리 곽다연\n"
     ]
    },
    {
     "name": "stderr",
     "output_type": "stream",
     "text": [
      " 76%|███████▌  | 1373/1813 [3:38:22<1:03:01,  8.59s/it]"
     ]
    },
    {
     "name": "stdout",
     "output_type": "stream",
     "text": [
      "Saved  제13회 회장배 전한국 스쿼시 선수권 대회 결승 최유주 김규리\n"
     ]
    },
    {
     "name": "stderr",
     "output_type": "stream",
     "text": [
      " 76%|███████▌  | 1374/1813 [3:38:29<58:54,  8.05s/it]  "
     ]
    },
    {
     "name": "stdout",
     "output_type": "stream",
     "text": [
      "Saved  제16회 금곡배 전국 초중고 스쿼시 선수권 대회 예선경기２ 이승욱 이동준\n"
     ]
    },
    {
     "name": "stderr",
     "output_type": "stream",
     "text": [
      " 76%|███████▌  | 1375/1813 [3:38:36<56:07,  7.69s/it]"
     ]
    },
    {
     "name": "stdout",
     "output_type": "stream",
     "text": [
      "Saved  제16회 금곡배 전국 초중고 스쿼시 선수권 대회 예선경기 31 윤호진 김태엽\n",
      "Saved  제16회 금곡배 전국 초중고 스쿼시 선수권 대회 준준준준결승 2 유성연 배연우\n"
     ]
    },
    {
     "name": "stderr",
     "output_type": "stream",
     "text": [
      " 76%|███████▌  | 1377/1813 [3:38:58<1:05:32,  9.02s/it]"
     ]
    },
    {
     "name": "stdout",
     "output_type": "stream",
     "text": [
      "Saved  제16회 금곡배 전국 초중고 스쿼시 선수권 대회 준준준준결승 3 박영복 권창혁\n"
     ]
    },
    {
     "name": "stderr",
     "output_type": "stream",
     "text": [
      " 76%|███████▌  | 1378/1813 [3:39:05<1:00:41,  8.37s/it]"
     ]
    },
    {
     "name": "stdout",
     "output_type": "stream",
     "text": [
      "Saved  제16회 금곡배 전국 초중고 스쿼시 선수권 대회 준준준준결승 4 신승용 오준혁\n"
     ]
    },
    {
     "name": "stderr",
     "output_type": "stream",
     "text": [
      " 76%|███████▌  | 1379/1813 [3:39:11<57:26,  7.94s/it]  "
     ]
    },
    {
     "name": "stdout",
     "output_type": "stream",
     "text": [
      "Saved  제16회 금곡배 전국 초중고 스쿼시 선수권 대회 준준준준결승 5 임지훈 이원기\n"
     ]
    },
    {
     "name": "stderr",
     "output_type": "stream",
     "text": [
      " 76%|███████▌  | 1380/1813 [3:39:18<54:47,  7.59s/it]"
     ]
    },
    {
     "name": "stdout",
     "output_type": "stream",
     "text": [
      "Saved  제16회 금곡배 전국 초중고 스쿼시 선수권 대회 준준준준결승 6 권순주 김남정\n"
     ]
    },
    {
     "name": "stderr",
     "output_type": "stream",
     "text": [
      " 76%|███████▌  | 1381/1813 [3:39:25<53:41,  7.46s/it]"
     ]
    },
    {
     "name": "stdout",
     "output_type": "stream",
     "text": [
      "Saved  제16회 금곡배 전국 초중고 스쿼시 선수권 대회 준준준준결승 7 신상용 유승범\n"
     ]
    },
    {
     "name": "stderr",
     "output_type": "stream",
     "text": [
      " 76%|███████▌  | 1382/1813 [3:39:43<1:14:26, 10.36s/it]"
     ]
    },
    {
     "name": "stdout",
     "output_type": "stream",
     "text": [
      "Saved  제16회 금곡배 전국 초중고 스쿼시 선수권 대회 준준준준결승 8 최지우 탁형진\n"
     ]
    },
    {
     "name": "stderr",
     "output_type": "stream",
     "text": [
      " 76%|███████▋  | 1383/1813 [3:39:50<1:08:01,  9.49s/it]"
     ]
    },
    {
     "name": "stdout",
     "output_type": "stream",
     "text": [
      "Saved  제16회 금곡배 전국 초중고 스쿼시 선수권 대회 준준준준결승 9 이현욱 유덕재\n",
      "Saved  제16회 금곡배 전국 초중고 스쿼시 선수권 대회 준준준준결승 10 이동현 윤여훈\n"
     ]
    },
    {
     "name": "stderr",
     "output_type": "stream",
     "text": [
      " 76%|███████▋  | 1385/1813 [3:40:04<59:15,  8.31s/it]  "
     ]
    },
    {
     "name": "stdout",
     "output_type": "stream",
     "text": [
      "Saved  제16회 금곡배 전국 초중고 스쿼시 선수권 대회 준준준준결승 11 박병국 원종수\n"
     ]
    },
    {
     "name": "stderr",
     "output_type": "stream",
     "text": [
      " 76%|███████▋  | 1386/1813 [3:40:11<55:43,  7.83s/it]"
     ]
    },
    {
     "name": "stdout",
     "output_type": "stream",
     "text": [
      "Saved  제16회 금곡배 전국 초중고 스쿼시 선수권 대회 준준준준결승 12 양성훈 박정식\n"
     ]
    },
    {
     "name": "stderr",
     "output_type": "stream",
     "text": [
      " 77%|███████▋  | 1387/1813 [3:40:26<1:10:45,  9.97s/it]"
     ]
    },
    {
     "name": "stdout",
     "output_type": "stream",
     "text": [
      "Saved  제16회 금곡배 전국 초중고 스쿼시 선수권 대회 준준준준결승 13 이승훈 박성준\n"
     ]
    },
    {
     "name": "stderr",
     "output_type": "stream",
     "text": [
      " 77%|███████▋  | 1388/1813 [3:40:33<1:03:59,  9.04s/it]"
     ]
    },
    {
     "name": "stdout",
     "output_type": "stream",
     "text": [
      "Saved  제16회 금곡배 전국 초중고 스쿼시 선수권 대회 준준준준결승 1 고영조 이동준\n"
     ]
    },
    {
     "name": "stderr",
     "output_type": "stream",
     "text": [
      " 77%|███████▋  | 1389/1813 [3:40:41<1:02:38,  8.87s/it]"
     ]
    },
    {
     "name": "stdout",
     "output_type": "stream",
     "text": [
      "Saved  제16회 금곡배 전국 초중고 스쿼시 선수권 대회 준준준준결승 14 김태규 최동진\n"
     ]
    },
    {
     "name": "stderr",
     "output_type": "stream",
     "text": [
      " 77%|███████▋  | 1390/1813 [3:40:48<58:10,  8.25s/it]  "
     ]
    },
    {
     "name": "stdout",
     "output_type": "stream",
     "text": [
      "Saved  제16회 금곡배 전국 초중고 스쿼시 선수권 대회 준준준준결승 15 강한준 박민우\n"
     ]
    },
    {
     "name": "stderr",
     "output_type": "stream",
     "text": [
      " 77%|███████▋  | 1391/1813 [3:40:55<54:52,  7.80s/it]"
     ]
    },
    {
     "name": "stdout",
     "output_type": "stream",
     "text": [
      "Saved  제16회 금곡배 전국 초중고 스쿼시 선수권 대회 준준준준결승 16 윤호진 김현용\n"
     ]
    },
    {
     "name": "stderr",
     "output_type": "stream",
     "text": [
      " 77%|███████▋  | 1392/1813 [3:41:10<1:09:38,  9.93s/it]"
     ]
    },
    {
     "name": "stdout",
     "output_type": "stream",
     "text": [
      "Saved  제16회 금곡배 전국 초중고 스쿼시 선수권 대회 준준준결승경기１ 고영조 배연우\n"
     ]
    },
    {
     "name": "stderr",
     "output_type": "stream",
     "text": [
      " 77%|███████▋  | 1393/1813 [3:41:17<1:03:16,  9.04s/it]"
     ]
    },
    {
     "name": "stdout",
     "output_type": "stream",
     "text": [
      "Saved  제16회 금곡배 전국 초중고 스쿼시 선수권 대회 준준준결승경기２ 박영복 신승용\n"
     ]
    },
    {
     "name": "stderr",
     "output_type": "stream",
     "text": [
      " 77%|███████▋  | 1394/1813 [3:41:24<58:43,  8.41s/it]  "
     ]
    },
    {
     "name": "stdout",
     "output_type": "stream",
     "text": [
      "Saved  제16회 금곡배 전국 초중고 스쿼시 선수권 대회 준준준결승경기３ 임지훈 김남정\n",
      "Saved  제16회 금곡배 전국 초중고 스쿼시 선수권 대회 준준준결승경기４ 신상용 탁형진\n"
     ]
    },
    {
     "name": "stderr",
     "output_type": "stream",
     "text": [
      " 77%|███████▋  | 1396/1813 [3:41:38<53:27,  7.69s/it]"
     ]
    },
    {
     "name": "stdout",
     "output_type": "stream",
     "text": [
      "Saved  제16회 금곡배 전국 초중고 스쿼시 선수권 대회 준준준결승경기５ 유덕재 이동현\n"
     ]
    },
    {
     "name": "stderr",
     "output_type": "stream",
     "text": [
      " 77%|███████▋  | 1397/1813 [3:41:45<51:33,  7.44s/it]"
     ]
    },
    {
     "name": "stdout",
     "output_type": "stream",
     "text": [
      "Saved  제16회 금곡배 전국 초중고 스쿼시 선수권 대회 준준준결승경기６ 박병국 박정식\n"
     ]
    },
    {
     "name": "stderr",
     "output_type": "stream",
     "text": [
      " 77%|███████▋  | 1398/1813 [3:42:01<1:11:05, 10.28s/it]"
     ]
    },
    {
     "name": "stdout",
     "output_type": "stream",
     "text": [
      "Saved  제16회 금곡배 전국 초중고 스쿼시 선수권 대회 준준준결승경기７ 이승훈 최동진\n"
     ]
    },
    {
     "name": "stderr",
     "output_type": "stream",
     "text": [
      " 77%|███████▋  | 1399/1813 [3:42:08<1:04:09,  9.30s/it]"
     ]
    },
    {
     "name": "stdout",
     "output_type": "stream",
     "text": [
      "Saved  제16회 금곡배 전국 초중고 스쿼시 선수권 대회 준준준결승경기８ 박민우 김현용\n"
     ]
    },
    {
     "name": "stderr",
     "output_type": "stream",
     "text": [
      " 77%|███████▋  | 1400/1813 [3:42:15<58:52,  8.55s/it]  "
     ]
    },
    {
     "name": "stdout",
     "output_type": "stream",
     "text": [
      "Saved  제16회 금곡배 전국 초중고 스쿼시 선수권 대회 준준결승경기１ 고영조 신승용\n"
     ]
    },
    {
     "name": "stderr",
     "output_type": "stream",
     "text": [
      " 77%|███████▋  | 1401/1813 [3:42:22<55:44,  8.12s/it]"
     ]
    },
    {
     "name": "stdout",
     "output_type": "stream",
     "text": [
      "Saved  제16회 금곡배 전국 초중고 스쿼시 선수권 대회 준준결승경기２ 김남정 탁형진\n"
     ]
    },
    {
     "name": "stderr",
     "output_type": "stream",
     "text": [
      " 77%|███████▋  | 1402/1813 [3:42:29<53:13,  7.77s/it]"
     ]
    },
    {
     "name": "stdout",
     "output_type": "stream",
     "text": [
      "Saved  제16회 금곡배 전국 초중고 스쿼시 선수권 대회 준준결승경기３ 유덕재 박병국\n",
      "Saved  제16회 금곡배 전국 초중고 스쿼시 선수권 대회 준준결승경기４ 이승훈 김현용\n"
     ]
    },
    {
     "name": "stderr",
     "output_type": "stream",
     "text": [
      " 77%|███████▋  | 1404/1813 [3:42:51<1:01:58,  9.09s/it]"
     ]
    },
    {
     "name": "stdout",
     "output_type": "stream",
     "text": [
      "Saved  제16회 금곡배 전국 초중고 스쿼시 선수권 대회 준결승경기１ 고영조 탁형진\n"
     ]
    },
    {
     "name": "stderr",
     "output_type": "stream",
     "text": [
      " 77%|███████▋  | 1405/1813 [3:42:58<57:27,  8.45s/it]  "
     ]
    },
    {
     "name": "stdout",
     "output_type": "stream",
     "text": [
      "Saved  제16회 금곡배 전국 초중고 스쿼시 선수권 대회 준결승경기２ 유덕재 김현용\n"
     ]
    },
    {
     "name": "stderr",
     "output_type": "stream",
     "text": [
      " 78%|███████▊  | 1406/1813 [3:43:05<54:07,  7.98s/it]"
     ]
    },
    {
     "name": "stdout",
     "output_type": "stream",
     "text": [
      "Saved  제16회 금곡배 전국 초중고 스쿼시 선수권 대회 결승 고영조 유덕재\n"
     ]
    },
    {
     "name": "stderr",
     "output_type": "stream",
     "text": [
      " 78%|███████▊  | 1407/1813 [3:43:12<51:59,  7.68s/it]"
     ]
    },
    {
     "name": "stdout",
     "output_type": "stream",
     "text": [
      "Saved  제16회 금곡배 전국 초중고 스쿼시 선수권 대회 예선경기２ 송하연 김수림\n"
     ]
    },
    {
     "name": "stderr",
     "output_type": "stream",
     "text": [
      " 78%|███████▊  | 1408/1813 [3:43:27<1:06:15,  9.82s/it]"
     ]
    },
    {
     "name": "stdout",
     "output_type": "stream",
     "text": [
      "Saved  제16회 금곡배 전국 초중고 스쿼시 선수권 대회 예선경기３ 김미진 김선희\n"
     ]
    },
    {
     "name": "stderr",
     "output_type": "stream",
     "text": [
      " 78%|███████▊  | 1409/1813 [3:43:34<1:00:35,  9.00s/it]"
     ]
    },
    {
     "name": "stdout",
     "output_type": "stream",
     "text": [
      "Saved  제16회 금곡배 전국 초중고 스쿼시 선수권 대회 예선경기４ 김조은 성제은\n",
      "Saved  제16회 금곡배 전국 초중고 스쿼시 선수권 대회 예선경기６ 최예솔 신유민\n"
     ]
    },
    {
     "name": "stderr",
     "output_type": "stream",
     "text": [
      " 78%|███████▊  | 1411/1813 [3:43:48<53:45,  8.02s/it]  "
     ]
    },
    {
     "name": "stdout",
     "output_type": "stream",
     "text": [
      "Saved  제16회 금곡배 전국 초중고 스쿼시 선수권 대회 예선경기７ 백지은 김유라\n"
     ]
    },
    {
     "name": "stderr",
     "output_type": "stream",
     "text": [
      " 78%|███████▊  | 1412/1813 [3:43:57<55:11,  8.26s/it]"
     ]
    },
    {
     "name": "stdout",
     "output_type": "stream",
     "text": [
      "Saved  제16회 금곡배 전국 초중고 스쿼시 선수권 대회 예선경기１０ 장유진 오영민\n"
     ]
    },
    {
     "name": "stderr",
     "output_type": "stream",
     "text": [
      " 78%|███████▊  | 1413/1813 [3:44:06<56:03,  8.41s/it]"
     ]
    },
    {
     "name": "stdout",
     "output_type": "stream",
     "text": [
      "Saved  제16회 금곡배 전국 초중고 스쿼시 선수권 대회 예선경기１１ 문혜연 김하은\n"
     ]
    },
    {
     "name": "stderr",
     "output_type": "stream",
     "text": [
      " 78%|███████▊  | 1414/1813 [3:44:23<1:13:08, 11.00s/it]"
     ]
    },
    {
     "name": "stdout",
     "output_type": "stream",
     "text": [
      "Saved  제16회 금곡배 전국 초중고 스쿼시 선수권 대회 예선경기１４ 선나라 김민영\n"
     ]
    },
    {
     "name": "stderr",
     "output_type": "stream",
     "text": [
      " 78%|███████▊  | 1415/1813 [3:44:30<1:05:18,  9.85s/it]"
     ]
    },
    {
     "name": "stdout",
     "output_type": "stream",
     "text": [
      "Saved  제16회 금곡배 전국 초중고 스쿼시 선수권 대회 예선경기１５ 김민지 박다영\n"
     ]
    },
    {
     "name": "stderr",
     "output_type": "stream",
     "text": [
      " 78%|███████▊  | 1416/1813 [3:44:37<59:12,  8.95s/it]  "
     ]
    },
    {
     "name": "stdout",
     "output_type": "stream",
     "text": [
      "Saved  제16회 금곡배 전국 초중고 스쿼시 선수권 대회 준준준결승경기１ 엄화영 김수림\n"
     ]
    },
    {
     "name": "stderr",
     "output_type": "stream",
     "text": [
      " 78%|███████▊  | 1417/1813 [3:44:44<54:57,  8.33s/it]"
     ]
    },
    {
     "name": "stdout",
     "output_type": "stream",
     "text": [
      "Saved  제16회 금곡배 전국 초중고 스쿼시 선수권 대회 준준준결승경기２ 김미진 김조은\n"
     ]
    },
    {
     "name": "stderr",
     "output_type": "stream",
     "text": [
      " 78%|███████▊  | 1418/1813 [3:44:51<52:32,  7.98s/it]"
     ]
    },
    {
     "name": "stdout",
     "output_type": "stream",
     "text": [
      "Saved  제16회 금곡배 전국 초중고 스쿼시 선수권 대회 준준준결승경기３ 허민경 신유민\n"
     ]
    },
    {
     "name": "stderr",
     "output_type": "stream",
     "text": [
      " 78%|███████▊  | 1419/1813 [3:45:06<1:06:39, 10.15s/it]"
     ]
    },
    {
     "name": "stdout",
     "output_type": "stream",
     "text": [
      "Saved  제16회 금곡배 전국 초중고 스쿼시 선수권 대회 준준준결승경기４ 백지은 윤상은\n",
      "Saved  제16회 금곡배 전국 초중고 스쿼시 선수권 대회 준준준결승경기５ 이석주 장유진\n"
     ]
    },
    {
     "name": "stderr",
     "output_type": "stream",
     "text": [
      " 78%|███████▊  | 1421/1813 [3:45:21<56:17,  8.62s/it]  "
     ]
    },
    {
     "name": "stdout",
     "output_type": "stream",
     "text": [
      "Saved  제16회 금곡배 전국 초중고 스쿼시 선수권 대회 준준준결승경기６ 문혜연 권소희\n"
     ]
    },
    {
     "name": "stderr",
     "output_type": "stream",
     "text": [
      " 78%|███████▊  | 1422/1813 [3:45:28<52:59,  8.13s/it]"
     ]
    },
    {
     "name": "stdout",
     "output_type": "stream",
     "text": [
      "Saved  제16회 금곡배 전국 초중고 스쿼시 선수권 대회 준준준결승경기７ 한지원 김민영\n"
     ]
    },
    {
     "name": "stderr",
     "output_type": "stream",
     "text": [
      " 78%|███████▊  | 1423/1813 [3:45:35<50:45,  7.81s/it]"
     ]
    },
    {
     "name": "stdout",
     "output_type": "stream",
     "text": [
      "Saved  제16회 금곡배 전국 초중고 스쿼시 선수권 대회 준준준결승경기８ 김민지 김기한\n"
     ]
    },
    {
     "name": "stderr",
     "output_type": "stream",
     "text": [
      " 79%|███████▊  | 1424/1813 [3:45:42<50:16,  7.75s/it]"
     ]
    },
    {
     "name": "stdout",
     "output_type": "stream",
     "text": [
      "Saved  제16회 금곡배 전국 초중고 스쿼시 선수권 대회 준준결승경기１ 엄화영 김미진\n"
     ]
    },
    {
     "name": "stderr",
     "output_type": "stream",
     "text": [
      " 79%|███████▊  | 1425/1813 [3:45:59<1:08:09, 10.54s/it]"
     ]
    },
    {
     "name": "stdout",
     "output_type": "stream",
     "text": [
      "Saved  제16회 금곡배 전국 초중고 스쿼시 선수권 대회 준준결승경기２ 허민경 백지은\n"
     ]
    },
    {
     "name": "stderr",
     "output_type": "stream",
     "text": [
      " 79%|███████▊  | 1426/1813 [3:46:06<1:01:03,  9.47s/it]"
     ]
    },
    {
     "name": "stdout",
     "output_type": "stream",
     "text": [
      "Saved  제16회 금곡배 전국 초중고 스쿼시 선수권 대회 준준결승경기３ 장유진 문혜연\n",
      "Saved  제16회 금곡배 전국 초중고 스쿼시 선수권 대회 준준결승경기４ 김민영 김기한\n"
     ]
    },
    {
     "name": "stderr",
     "output_type": "stream",
     "text": [
      " 79%|███████▉  | 1428/1813 [3:46:20<52:45,  8.22s/it]  "
     ]
    },
    {
     "name": "stdout",
     "output_type": "stream",
     "text": [
      "Saved  제16회 금곡배 전국 초중고 스쿼시 선수권 대회 준결승경기１ 김미진 허민경\n"
     ]
    },
    {
     "name": "stderr",
     "output_type": "stream",
     "text": [
      " 79%|███████▉  | 1429/1813 [3:46:27<50:17,  7.86s/it]"
     ]
    },
    {
     "name": "stdout",
     "output_type": "stream",
     "text": [
      "Saved  제16회 금곡배 전국 초중고 스쿼시 선수권 대회 준결승경기２ 장유진 김기한\n"
     ]
    },
    {
     "name": "stderr",
     "output_type": "stream",
     "text": [
      " 79%|███████▉  | 1430/1813 [3:46:42<1:03:42,  9.98s/it]"
     ]
    },
    {
     "name": "stdout",
     "output_type": "stream",
     "text": [
      "Saved  제16회 금곡배 전국 초중고 스쿼시 선수권 대회 결승 김미진 김기한\n"
     ]
    },
    {
     "name": "stderr",
     "output_type": "stream",
     "text": [
      " 79%|███████▉  | 1431/1813 [3:46:49<57:55,  9.10s/it]  "
     ]
    },
    {
     "name": "stdout",
     "output_type": "stream",
     "text": [
      "Saved  제16회 금곡배 전국 초중고 스쿼시 선수권 대회 예선경기２ 김우석 박우성\n"
     ]
    },
    {
     "name": "stderr",
     "output_type": "stream",
     "text": [
      " 79%|███████▉  | 1432/1813 [3:46:56<54:03,  8.51s/it]"
     ]
    },
    {
     "name": "stdout",
     "output_type": "stream",
     "text": [
      "Saved  제16회 금곡배 전국 초중고 스쿼시 선수권 대회 예선경기６ KIM HAN 강우석\n"
     ]
    },
    {
     "name": "stderr",
     "output_type": "stream",
     "text": [
      " 79%|███████▉  | 1433/1813 [3:47:03<50:56,  8.04s/it]"
     ]
    },
    {
     "name": "stdout",
     "output_type": "stream",
     "text": [
      "Saved  제16회 금곡배 전국 초중고 스쿼시 선수권 대회 예선경기７ 장은준 최호진\n"
     ]
    },
    {
     "name": "stderr",
     "output_type": "stream",
     "text": [
      " 79%|███████▉  | 1434/1813 [3:47:11<49:13,  7.79s/it]"
     ]
    },
    {
     "name": "stdout",
     "output_type": "stream",
     "text": [
      "Saved  제16회 금곡배 전국 초중고 스쿼시 선수권 대회 준준결승경기１ 장수혁 김우석\n"
     ]
    },
    {
     "name": "stderr",
     "output_type": "stream",
     "text": [
      " 79%|███████▉  | 1435/1813 [3:47:26<1:02:44,  9.96s/it]"
     ]
    },
    {
     "name": "stdout",
     "output_type": "stream",
     "text": [
      "Saved  제16회 금곡배 전국 초중고 스쿼시 선수권 대회 준준결승경기２ 박일석 김태민\n"
     ]
    },
    {
     "name": "stderr",
     "output_type": "stream",
     "text": [
      " 79%|███████▉  | 1436/1813 [3:47:32<56:39,  9.02s/it]  "
     ]
    },
    {
     "name": "stdout",
     "output_type": "stream",
     "text": [
      "Saved  제16회 금곡배 전국 초중고 스쿼시 선수권 대회 준준결승경기３ 김지환 KIM HAN\n"
     ]
    },
    {
     "name": "stderr",
     "output_type": "stream",
     "text": [
      " 79%|███████▉  | 1437/1813 [3:47:39<52:30,  8.38s/it]"
     ]
    },
    {
     "name": "stdout",
     "output_type": "stream",
     "text": [
      "Saved  제16회 금곡배 전국 초중고 스쿼시 선수권 대회 준준결승경기４ 장은준 김기찬\n"
     ]
    },
    {
     "name": "stderr",
     "output_type": "stream",
     "text": [
      " 79%|███████▉  | 1438/1813 [3:47:46<49:52,  7.98s/it]"
     ]
    },
    {
     "name": "stdout",
     "output_type": "stream",
     "text": [
      "Saved  제16회 금곡배 전국 초중고 스쿼시 선수권 대회 준결승경기１ 장수혁 박일석\n"
     ]
    },
    {
     "name": "stderr",
     "output_type": "stream",
     "text": [
      " 79%|███████▉  | 1439/1813 [3:47:53<47:29,  7.62s/it]"
     ]
    },
    {
     "name": "stdout",
     "output_type": "stream",
     "text": [
      "Saved  제16회 금곡배 전국 초중고 스쿼시 선수권 대회 준결승경기２ 김지환 장은준\n"
     ]
    },
    {
     "name": "stderr",
     "output_type": "stream",
     "text": [
      " 79%|███████▉  | 1440/1813 [3:48:00<45:54,  7.38s/it]"
     ]
    },
    {
     "name": "stdout",
     "output_type": "stream",
     "text": [
      "Saved  제16회 금곡배 전국 초중고 스쿼시 선수권 대회 결승 장수혁 김지환\n"
     ]
    },
    {
     "name": "stderr",
     "output_type": "stream",
     "text": [
      " 79%|███████▉  | 1441/1813 [3:48:17<1:03:03, 10.17s/it]"
     ]
    },
    {
     "name": "stdout",
     "output_type": "stream",
     "text": [
      "Saved  제16회 금곡배 전국 초중고 스쿼시 선수권 대회 예선경기２ 김대운 김태현\n"
     ]
    },
    {
     "name": "stderr",
     "output_type": "stream",
     "text": [
      " 80%|███████▉  | 1442/1813 [3:48:24<57:04,  9.23s/it]  "
     ]
    },
    {
     "name": "stdout",
     "output_type": "stream",
     "text": [
      "Saved  제16회 금곡배 전국 초중고 스쿼시 선수권 대회 예선경기７ 김석진 이현준\n"
     ]
    },
    {
     "name": "stderr",
     "output_type": "stream",
     "text": [
      " 80%|███████▉  | 1443/1813 [3:48:31<52:49,  8.57s/it]"
     ]
    },
    {
     "name": "stdout",
     "output_type": "stream",
     "text": [
      "Saved  제16회 금곡배 전국 초중고 스쿼시 선수권 대회 예선경기１０ 김남경 이용정\n"
     ]
    },
    {
     "name": "stderr",
     "output_type": "stream",
     "text": [
      " 80%|███████▉  | 1444/1813 [3:48:38<49:57,  8.12s/it]"
     ]
    },
    {
     "name": "stdout",
     "output_type": "stream",
     "text": [
      "Saved  제16회 금곡배 전국 초중고 스쿼시 선수권 대회 예선경기１５ 강현범 김정원\n"
     ]
    },
    {
     "name": "stderr",
     "output_type": "stream",
     "text": [
      " 80%|███████▉  | 1445/1813 [3:48:45<47:23,  7.73s/it]"
     ]
    },
    {
     "name": "stdout",
     "output_type": "stream",
     "text": [
      "Saved  제16회 금곡배 전국 초중고 스쿼시 선수권 대회 준준준결승경기１ 류한동 김대운\n"
     ]
    },
    {
     "name": "stderr",
     "output_type": "stream",
     "text": [
      " 80%|███████▉  | 1446/1813 [3:48:59<1:00:12,  9.84s/it]"
     ]
    },
    {
     "name": "stdout",
     "output_type": "stream",
     "text": [
      "Saved  제16회 금곡배 전국 초중고 스쿼시 선수권 대회 준준준결승경기２ 이동민 오수현\n"
     ]
    },
    {
     "name": "stderr",
     "output_type": "stream",
     "text": [
      " 80%|███████▉  | 1447/1813 [3:49:06<54:46,  8.98s/it]  "
     ]
    },
    {
     "name": "stdout",
     "output_type": "stream",
     "text": [
      "Saved  제16회 금곡배 전국 초중고 스쿼시 선수권 대회 준준준결승경기３ 조성환 양재혁\n"
     ]
    },
    {
     "name": "stderr",
     "output_type": "stream",
     "text": [
      " 80%|███████▉  | 1448/1813 [3:49:13<51:03,  8.39s/it]"
     ]
    },
    {
     "name": "stdout",
     "output_type": "stream",
     "text": [
      "Saved  제16회 금곡배 전국 초중고 스쿼시 선수권 대회 준준준결승경기４ 김석진 이준행\n"
     ]
    },
    {
     "name": "stderr",
     "output_type": "stream",
     "text": [
      " 80%|███████▉  | 1449/1813 [3:49:20<47:57,  7.91s/it]"
     ]
    },
    {
     "name": "stdout",
     "output_type": "stream",
     "text": [
      "Saved  제16회 금곡배 전국 초중고 스쿼시 선수권 대회 준준준결승경기５ 이인우 김남경\n"
     ]
    },
    {
     "name": "stderr",
     "output_type": "stream",
     "text": [
      " 80%|███████▉  | 1450/1813 [3:49:27<45:56,  7.59s/it]"
     ]
    },
    {
     "name": "stdout",
     "output_type": "stream",
     "text": [
      "Saved  제16회 금곡배 전국 초중고 스쿼시 선수권 대회 준준준결승경기６ 탁효진 전성수\n"
     ]
    },
    {
     "name": "stderr",
     "output_type": "stream",
     "text": [
      " 80%|████████  | 1451/1813 [3:49:34<44:11,  7.33s/it]"
     ]
    },
    {
     "name": "stdout",
     "output_type": "stream",
     "text": [
      "Saved  제16회 금곡배 전국 초중고 스쿼시 선수권 대회 준준준결승경기７ 황수연 오현민\n"
     ]
    },
    {
     "name": "stderr",
     "output_type": "stream",
     "text": [
      " 80%|████████  | 1452/1813 [3:49:52<1:04:29, 10.72s/it]"
     ]
    },
    {
     "name": "stdout",
     "output_type": "stream",
     "text": [
      "Saved  제16회 금곡배 전국 초중고 스쿼시 선수권 대회 준준준결승경기８ 강현범 박성찬\n"
     ]
    },
    {
     "name": "stderr",
     "output_type": "stream",
     "text": [
      " 80%|████████  | 1453/1813 [3:49:59<57:20,  9.56s/it]  "
     ]
    },
    {
     "name": "stdout",
     "output_type": "stream",
     "text": [
      "Saved  제16회 금곡배 전국 초중고 스쿼시 선수권 대회 준준결승경기１ 류한동 오수현\n",
      "Saved  제16회 금곡배 전국 초중고 스쿼시 선수권 대회 준준결승경기２ 양재혁 김석진\n"
     ]
    },
    {
     "name": "stderr",
     "output_type": "stream",
     "text": [
      " 80%|████████  | 1454/1813 [3:50:06<52:27,  8.77s/it]"
     ]
    },
    {
     "name": "stdout",
     "output_type": "stream",
     "text": [
      "Saved  제16회 금곡배 전국 초중고 스쿼시 선수권 대회 준준결승경기３ 이인우 탁효진\n"
     ]
    },
    {
     "name": "stderr",
     "output_type": "stream",
     "text": [
      " 80%|████████  | 1456/1813 [3:50:21<47:21,  7.96s/it]"
     ]
    },
    {
     "name": "stdout",
     "output_type": "stream",
     "text": [
      "Saved  제16회 금곡배 전국 초중고 스쿼시 선수권 대회 준준결승경기４ 오현민 박성찬\n"
     ]
    },
    {
     "name": "stderr",
     "output_type": "stream",
     "text": [
      " 80%|████████  | 1457/1813 [3:50:35<59:21, 10.00s/it]"
     ]
    },
    {
     "name": "stdout",
     "output_type": "stream",
     "text": [
      "Saved  제16회 금곡배 전국 초중고 스쿼시 선수권 대회 준결승경기１ 류한동 김석진\n"
     ]
    },
    {
     "name": "stderr",
     "output_type": "stream",
     "text": [
      " 80%|████████  | 1458/1813 [3:51:29<2:16:52, 23.13s/it]"
     ]
    },
    {
     "name": "stdout",
     "output_type": "stream",
     "text": [
      "Saved  제16회 금곡배 전국 초중고 스쿼시 선수권 대회 준결승경기２ 이인우 박성찬\n"
     ]
    },
    {
     "name": "stderr",
     "output_type": "stream",
     "text": [
      " 80%|████████  | 1459/1813 [3:51:36<1:47:35, 18.24s/it]"
     ]
    },
    {
     "name": "stdout",
     "output_type": "stream",
     "text": [
      "Saved  제16회 금곡배 전국 초중고 스쿼시 선수권 대회 결승 류한동 박성찬\n"
     ]
    },
    {
     "name": "stderr",
     "output_type": "stream",
     "text": [
      " 81%|████████  | 1460/1813 [3:51:43<1:27:18, 14.84s/it]"
     ]
    },
    {
     "name": "stdout",
     "output_type": "stream",
     "text": [
      "Saved  제16회 금곡배 전국 초중고 스쿼시 선수권 대회 예선경기１ CHO OLIVIA IN YOUNG 구나현\n"
     ]
    },
    {
     "name": "stderr",
     "output_type": "stream",
     "text": [
      " 81%|████████  | 1461/1813 [3:51:50<1:13:05, 12.46s/it]"
     ]
    },
    {
     "name": "stdout",
     "output_type": "stream",
     "text": [
      "Saved  제16회 금곡배 전국 초중고 스쿼시 선수권 대회 예선경기２ 전아인 최이안\n"
     ]
    },
    {
     "name": "stderr",
     "output_type": "stream",
     "text": [
      " 81%|████████  | 1462/1813 [3:52:05<1:17:00, 13.16s/it]"
     ]
    },
    {
     "name": "stdout",
     "output_type": "stream",
     "text": [
      "Saved  제16회 금곡배 전국 초중고 스쿼시 선수권 대회 결승 구나현 전아인\n"
     ]
    },
    {
     "name": "stderr",
     "output_type": "stream",
     "text": [
      " 81%|████████  | 1463/1813 [3:52:11<1:05:51, 11.29s/it]"
     ]
    },
    {
     "name": "stdout",
     "output_type": "stream",
     "text": [
      "Saved  제16회 금곡배 전국 초중고 스쿼시 선수권 대회 예선경기２ 곽다연 홍서경\n"
     ]
    },
    {
     "name": "stderr",
     "output_type": "stream",
     "text": [
      " 81%|████████  | 1464/1813 [3:52:18<58:12, 10.01s/it]  "
     ]
    },
    {
     "name": "stdout",
     "output_type": "stream",
     "text": [
      "Saved  제16회 금곡배 전국 초중고 스쿼시 선수권 대회 준준결승경기１ 최유주 곽다연\n"
     ]
    },
    {
     "name": "stderr",
     "output_type": "stream",
     "text": [
      " 81%|████████  | 1465/1813 [3:52:25<52:31,  9.05s/it]"
     ]
    },
    {
     "name": "stdout",
     "output_type": "stream",
     "text": [
      "Saved  제16회 금곡배 전국 초중고 스쿼시 선수권 대회 준준결승경기２ 이현원 송동주\n"
     ]
    },
    {
     "name": "stderr",
     "output_type": "stream",
     "text": [
      " 81%|████████  | 1466/1813 [3:52:34<51:31,  8.91s/it]"
     ]
    },
    {
     "name": "stdout",
     "output_type": "stream",
     "text": [
      "Saved  제16회 금곡배 전국 초중고 스쿼시 선수권 대회 준준결승경기３ 조민영 박지연\n"
     ]
    },
    {
     "name": "stderr",
     "output_type": "stream",
     "text": [
      " 81%|████████  | 1467/1813 [3:52:41<47:54,  8.31s/it]"
     ]
    },
    {
     "name": "stdout",
     "output_type": "stream",
     "text": [
      "Saved  제16회 금곡배 전국 초중고 스쿼시 선수권 대회 준준결승경기４ 오승희 송채원\n"
     ]
    },
    {
     "name": "stderr",
     "output_type": "stream",
     "text": [
      " 81%|████████  | 1468/1813 [3:52:58<1:02:26, 10.86s/it]"
     ]
    },
    {
     "name": "stdout",
     "output_type": "stream",
     "text": [
      "Saved  제16회 금곡배 전국 초중고 스쿼시 선수권 대회 준결승경기１ 최유주 송동주\n"
     ]
    },
    {
     "name": "stderr",
     "output_type": "stream",
     "text": [
      " 81%|████████  | 1469/1813 [3:53:04<55:25,  9.67s/it]  "
     ]
    },
    {
     "name": "stdout",
     "output_type": "stream",
     "text": [
      "Saved  제16회 금곡배 전국 초중고 스쿼시 선수권 대회 준결승경기２ 조민영 오승희\n",
      "Saved  제16회 금곡배 전국 초중고 스쿼시 선수권 대회 결승 최유주 오승희\n"
     ]
    },
    {
     "name": "stderr",
     "output_type": "stream",
     "text": [
      " 81%|████████  | 1471/1813 [3:53:19<47:30,  8.33s/it]"
     ]
    },
    {
     "name": "stdout",
     "output_type": "stream",
     "text": [
      "Saved  제7회 전북연맹회장배 전국 스쿼시 선수권 대회 예선경기２ 장홍현 김병조\n"
     ]
    },
    {
     "name": "stderr",
     "output_type": "stream",
     "text": [
      " 81%|████████  | 1472/1813 [3:53:25<44:46,  7.88s/it]"
     ]
    },
    {
     "name": "stdout",
     "output_type": "stream",
     "text": [
      "Saved  제7회 전북연맹회장배 전국 스쿼시 선수권 대회 예선경기７ 윤여훈 박성준\n"
     ]
    },
    {
     "name": "stderr",
     "output_type": "stream",
     "text": [
      " 81%|████████  | 1473/1813 [3:53:40<56:17,  9.93s/it]"
     ]
    },
    {
     "name": "stdout",
     "output_type": "stream",
     "text": [
      "Saved  제7회 전북연맹회장배 전국 스쿼시 선수권 대회 예선경기１０ 강한준 유덕재\n"
     ]
    },
    {
     "name": "stderr",
     "output_type": "stream",
     "text": [
      " 81%|████████▏ | 1474/1813 [3:53:47<51:46,  9.16s/it]"
     ]
    },
    {
     "name": "stdout",
     "output_type": "stream",
     "text": [
      "Saved  제7회 전북연맹회장배 전국 스쿼시 선수권 대회 예선경기１５ 김남정 이원기\n"
     ]
    },
    {
     "name": "stderr",
     "output_type": "stream",
     "text": [
      " 81%|████████▏ | 1475/1813 [3:53:56<51:16,  9.10s/it]"
     ]
    },
    {
     "name": "stdout",
     "output_type": "stream",
     "text": [
      "Saved  제7회 전북연맹회장배 전국 스쿼시 선수권 대회 준준준결승경기１ 오성학 김병조\n"
     ]
    },
    {
     "name": "stderr",
     "output_type": "stream",
     "text": [
      " 81%|████████▏ | 1476/1813 [3:54:03<47:04,  8.38s/it]"
     ]
    },
    {
     "name": "stdout",
     "output_type": "stream",
     "text": [
      "Saved  제7회 전북연맹회장배 전국 스쿼시 선수권 대회 준준준결승경기２ 박정식 이동현\n"
     ]
    },
    {
     "name": "stderr",
     "output_type": "stream",
     "text": [
      " 81%|████████▏ | 1477/1813 [3:54:10<44:18,  7.91s/it]"
     ]
    },
    {
     "name": "stdout",
     "output_type": "stream",
     "text": [
      "Saved  제7회 전북연맹회장배 전국 스쿼시 선수권 대회 준준준결승경기３ 김예일 김태엽\n",
      "Saved  제7회 전북연맹회장배 전국 스쿼시 선수권 대회 준준준결승경기４ 윤여훈 김현용\n"
     ]
    },
    {
     "name": "stderr",
     "output_type": "stream",
     "text": [
      " 82%|████████▏ | 1479/1813 [3:54:34<57:55, 10.40s/it]"
     ]
    },
    {
     "name": "stdout",
     "output_type": "stream",
     "text": [
      "Saved  제7회 전북연맹회장배 전국 스쿼시 선수권 대회 준준준결승경기５ 최지우 유덕재\n"
     ]
    },
    {
     "name": "stderr",
     "output_type": "stream",
     "text": [
      " 82%|████████▏ | 1480/1813 [3:54:41<52:02,  9.38s/it]"
     ]
    },
    {
     "name": "stdout",
     "output_type": "stream",
     "text": [
      "Saved  제7회 전북연맹회장배 전국 스쿼시 선수권 대회 준준준결승경기６ 이승욱 신승용\n"
     ]
    },
    {
     "name": "stderr",
     "output_type": "stream",
     "text": [
      " 82%|████████▏ | 1481/1813 [3:54:48<47:32,  8.59s/it]"
     ]
    },
    {
     "name": "stdout",
     "output_type": "stream",
     "text": [
      "Saved  제7회 전북연맹회장배 전국 스쿼시 선수권 대회 준준준결승경기７ 이동준 이현욱\n"
     ]
    },
    {
     "name": "stderr",
     "output_type": "stream",
     "text": [
      " 82%|████████▏ | 1482/1813 [3:54:54<44:37,  8.09s/it]"
     ]
    },
    {
     "name": "stdout",
     "output_type": "stream",
     "text": [
      "Saved  제7회 전북연맹회장배 전국 스쿼시 선수권 대회 준준준결승경기８ 김남정 권순주\n"
     ]
    },
    {
     "name": "stderr",
     "output_type": "stream",
     "text": [
      " 82%|████████▏ | 1483/1813 [3:55:01<42:40,  7.76s/it]"
     ]
    },
    {
     "name": "stdout",
     "output_type": "stream",
     "text": [
      "Saved  제7회 전북연맹회장배 전국 스쿼시 선수권 대회 준준결승경기１ 오성학 박정식\n"
     ]
    },
    {
     "name": "stderr",
     "output_type": "stream",
     "text": [
      " 82%|████████▏ | 1484/1813 [3:55:16<54:18,  9.91s/it]"
     ]
    },
    {
     "name": "stdout",
     "output_type": "stream",
     "text": [
      "Saved  제7회 전북연맹회장배 전국 스쿼시 선수권 대회 준준결승경기２ 김태엽 김현용\n"
     ]
    },
    {
     "name": "stderr",
     "output_type": "stream",
     "text": [
      " 82%|████████▏ | 1485/1813 [3:55:24<49:50,  9.12s/it]"
     ]
    },
    {
     "name": "stdout",
     "output_type": "stream",
     "text": [
      "Saved  제7회 전북연맹회장배 전국 스쿼시 선수권 대회 준준결승경기３ 유덕재 신승용\n"
     ]
    },
    {
     "name": "stderr",
     "output_type": "stream",
     "text": [
      " 82%|████████▏ | 1486/1813 [3:55:31<46:36,  8.55s/it]"
     ]
    },
    {
     "name": "stdout",
     "output_type": "stream",
     "text": [
      "Saved  제7회 전북연맹회장배 전국 스쿼시 선수권 대회 준준결승경기４ 이동준 김남정\n"
     ]
    },
    {
     "name": "stderr",
     "output_type": "stream",
     "text": [
      " 82%|████████▏ | 1487/1813 [3:55:38<43:30,  8.01s/it]"
     ]
    },
    {
     "name": "stdout",
     "output_type": "stream",
     "text": [
      "Saved  제7회 전북연맹회장배 전국 스쿼시 선수권 대회 준결승경기１ 오성학 김현용\n"
     ]
    },
    {
     "name": "stderr",
     "output_type": "stream",
     "text": [
      " 82%|████████▏ | 1488/1813 [3:55:45<41:43,  7.70s/it]"
     ]
    },
    {
     "name": "stdout",
     "output_type": "stream",
     "text": [
      "Saved  제7회 전북연맹회장배 전국 스쿼시 선수권 대회 준결승경기２ 유덕재 김남정\n"
     ]
    },
    {
     "name": "stderr",
     "output_type": "stream",
     "text": [
      " 82%|████████▏ | 1489/1813 [3:56:01<56:04, 10.38s/it]"
     ]
    },
    {
     "name": "stdout",
     "output_type": "stream",
     "text": [
      "Saved  제7회 전북연맹회장배 전국 스쿼시 선수권 대회 결승 김현용 유덕재\n"
     ]
    },
    {
     "name": "stderr",
     "output_type": "stream",
     "text": [
      " 82%|████████▏ | 1490/1813 [3:56:08<50:09,  9.32s/it]"
     ]
    },
    {
     "name": "stdout",
     "output_type": "stream",
     "text": [
      "Saved  제7회 전북연맹회장배 전국 스쿼시 선수권 대회 예선경기２ 김재완 최창환\n"
     ]
    },
    {
     "name": "stderr",
     "output_type": "stream",
     "text": [
      " 82%|████████▏ | 1491/1813 [3:56:15<46:13,  8.61s/it]"
     ]
    },
    {
     "name": "stdout",
     "output_type": "stream",
     "text": [
      "Saved  제7회 전북연맹회장배 전국 스쿼시 선수권 대회 예선경기３ 원준호 강석환\n"
     ]
    },
    {
     "name": "stderr",
     "output_type": "stream",
     "text": [
      " 82%|████████▏ | 1492/1813 [3:56:22<43:09,  8.07s/it]"
     ]
    },
    {
     "name": "stdout",
     "output_type": "stream",
     "text": [
      "Saved  제7회 전북연맹회장배 전국 스쿼시 선수권 대회 예선경기４ 이단대 황중찬\n"
     ]
    },
    {
     "name": "stderr",
     "output_type": "stream",
     "text": [
      " 82%|████████▏ | 1493/1813 [3:56:29<41:13,  7.73s/it]"
     ]
    },
    {
     "name": "stdout",
     "output_type": "stream",
     "text": [
      "Saved  제7회 전북연맹회장배 전국 스쿼시 선수권 대회 예선경기５ 유재진 엄수원\n"
     ]
    },
    {
     "name": "stderr",
     "output_type": "stream",
     "text": [
      " 82%|████████▏ | 1494/1813 [3:56:38<42:57,  8.08s/it]"
     ]
    },
    {
     "name": "stdout",
     "output_type": "stream",
     "text": [
      "Saved  제7회 전북연맹회장배 전국 스쿼시 선수권 대회 예선경기６ 이승호 김현준\n"
     ]
    },
    {
     "name": "stderr",
     "output_type": "stream",
     "text": [
      " 82%|████████▏ | 1495/1813 [3:56:55<57:10, 10.79s/it]"
     ]
    },
    {
     "name": "stdout",
     "output_type": "stream",
     "text": [
      "Saved  제7회 전북연맹회장배 전국 스쿼시 선수권 대회 예선경기７ 김성집 정성진\n"
     ]
    },
    {
     "name": "stderr",
     "output_type": "stream",
     "text": [
      " 83%|████████▎ | 1496/1813 [3:57:02<50:58,  9.65s/it]"
     ]
    },
    {
     "name": "stdout",
     "output_type": "stream",
     "text": [
      "Saved  제7회 전북연맹회장배 전국 스쿼시 선수권 대회 예선경기８ 한대희 박종명\n"
     ]
    },
    {
     "name": "stderr",
     "output_type": "stream",
     "text": [
      " 83%|████████▎ | 1497/1813 [3:57:09<46:23,  8.81s/it]"
     ]
    },
    {
     "name": "stdout",
     "output_type": "stream",
     "text": [
      "Saved  제7회 전북연맹회장배 전국 스쿼시 선수권 대회 준준결승경기１ 진승우 김재완\n"
     ]
    },
    {
     "name": "stderr",
     "output_type": "stream",
     "text": [
      " 83%|████████▎ | 1498/1813 [3:57:15<43:01,  8.19s/it]"
     ]
    },
    {
     "name": "stdout",
     "output_type": "stream",
     "text": [
      "Saved  제7회 전북연맹회장배 전국 스쿼시 선수권 대회 준준결승경기２ 강석환 황중찬\n"
     ]
    },
    {
     "name": "stderr",
     "output_type": "stream",
     "text": [
      " 83%|████████▎ | 1499/1813 [3:57:22<41:01,  7.84s/it]"
     ]
    },
    {
     "name": "stdout",
     "output_type": "stream",
     "text": [
      "Saved  제7회 전북연맹회장배 전국 스쿼시 선수권 대회 준준결승경기３ 유재진 이승호\n"
     ]
    },
    {
     "name": "stderr",
     "output_type": "stream",
     "text": [
      " 83%|████████▎ | 1500/1813 [3:57:37<51:48,  9.93s/it]"
     ]
    },
    {
     "name": "stdout",
     "output_type": "stream",
     "text": [
      "Saved  제7회 전북연맹회장배 전국 스쿼시 선수권 대회 준준결승경기４ 김성집 박종명\n"
     ]
    },
    {
     "name": "stderr",
     "output_type": "stream",
     "text": [
      " 83%|████████▎ | 1501/1813 [3:57:44<46:53,  9.02s/it]"
     ]
    },
    {
     "name": "stdout",
     "output_type": "stream",
     "text": [
      "Saved  제7회 전북연맹회장배 전국 스쿼시 선수권 대회 준결승경기１ 진승우 강석환\n"
     ]
    },
    {
     "name": "stderr",
     "output_type": "stream",
     "text": [
      " 83%|████████▎ | 1502/1813 [3:57:51<43:35,  8.41s/it]"
     ]
    },
    {
     "name": "stdout",
     "output_type": "stream",
     "text": [
      "Saved  제7회 전북연맹회장배 전국 스쿼시 선수권 대회 준결승경기２ 유재진 박종명\n"
     ]
    },
    {
     "name": "stderr",
     "output_type": "stream",
     "text": [
      " 83%|████████▎ | 1503/1813 [3:57:58<40:54,  7.92s/it]"
     ]
    },
    {
     "name": "stdout",
     "output_type": "stream",
     "text": [
      "Saved  제7회 전북연맹회장배 전국 스쿼시 선수권 대회 결승 진승우 유재진\n"
     ]
    },
    {
     "name": "stderr",
     "output_type": "stream",
     "text": [
      " 83%|████████▎ | 1504/1813 [3:58:05<39:10,  7.61s/it]"
     ]
    },
    {
     "name": "stdout",
     "output_type": "stream",
     "text": [
      "Saved  제7회 전북연맹회장배 전국 스쿼시 선수권 대회 예선경기２ 유성은 한상철\n"
     ]
    },
    {
     "name": "stderr",
     "output_type": "stream",
     "text": [
      " 83%|████████▎ | 1505/1813 [3:58:20<50:24,  9.82s/it]"
     ]
    },
    {
     "name": "stdout",
     "output_type": "stream",
     "text": [
      "Saved  제7회 전북연맹회장배 전국 스쿼시 선수권 대회 예선경기３ 민주홍 임동현\n"
     ]
    },
    {
     "name": "stderr",
     "output_type": "stream",
     "text": [
      " 83%|████████▎ | 1506/1813 [3:58:27<45:48,  8.95s/it]"
     ]
    },
    {
     "name": "stdout",
     "output_type": "stream",
     "text": [
      "Saved  제7회 전북연맹회장배 전국 스쿼시 선수권 대회 예선경기４ 최상철 김상학\n"
     ]
    },
    {
     "name": "stderr",
     "output_type": "stream",
     "text": [
      " 83%|████████▎ | 1507/1813 [3:58:34<42:30,  8.34s/it]"
     ]
    },
    {
     "name": "stdout",
     "output_type": "stream",
     "text": [
      "Saved  제7회 전북연맹회장배 전국 스쿼시 선수권 대회 예선경기５ 김성영 최규희\n"
     ]
    },
    {
     "name": "stderr",
     "output_type": "stream",
     "text": [
      " 83%|████████▎ | 1508/1813 [3:58:42<43:17,  8.52s/it]"
     ]
    },
    {
     "name": "stdout",
     "output_type": "stream",
     "text": [
      "Saved  제7회 전북연맹회장배 전국 스쿼시 선수권 대회 예선경기６ 백승엽 이승준\n"
     ]
    },
    {
     "name": "stderr",
     "output_type": "stream",
     "text": [
      " 83%|████████▎ | 1509/1813 [3:58:50<40:54,  8.07s/it]"
     ]
    },
    {
     "name": "stdout",
     "output_type": "stream",
     "text": [
      "Saved  제7회 전북연맹회장배 전국 스쿼시 선수권 대회 예선경기７ 임지훈 권오석\n"
     ]
    },
    {
     "name": "stderr",
     "output_type": "stream",
     "text": [
      " 83%|████████▎ | 1510/1813 [3:58:57<39:21,  7.79s/it]"
     ]
    },
    {
     "name": "stdout",
     "output_type": "stream",
     "text": [
      "Saved  제7회 전북연맹회장배 전국 스쿼시 선수권 대회 예선경기１０ 정대훈 권혁\n"
     ]
    },
    {
     "name": "stderr",
     "output_type": "stream",
     "text": [
      " 83%|████████▎ | 1511/1813 [3:59:14<53:06, 10.55s/it]"
     ]
    },
    {
     "name": "stdout",
     "output_type": "stream",
     "text": [
      "Saved  제7회 전북연맹회장배 전국 스쿼시 선수권 대회 예선경기１１ 진수철 한성수\n"
     ]
    },
    {
     "name": "stderr",
     "output_type": "stream",
     "text": [
      " 83%|████████▎ | 1512/1813 [3:59:21<47:34,  9.48s/it]"
     ]
    },
    {
     "name": "stdout",
     "output_type": "stream",
     "text": [
      "Saved  제7회 전북연맹회장배 전국 스쿼시 선수권 대회 예선경기１２ 황중원 강성민\n"
     ]
    },
    {
     "name": "stderr",
     "output_type": "stream",
     "text": [
      " 83%|████████▎ | 1513/1813 [3:59:28<43:39,  8.73s/it]"
     ]
    },
    {
     "name": "stdout",
     "output_type": "stream",
     "text": [
      "Saved  제7회 전북연맹회장배 전국 스쿼시 선수권 대회 예선경기１３ 유용민 조광호\n"
     ]
    },
    {
     "name": "stderr",
     "output_type": "stream",
     "text": [
      " 84%|████████▎ | 1514/1813 [3:59:34<40:39,  8.16s/it]"
     ]
    },
    {
     "name": "stdout",
     "output_type": "stream",
     "text": [
      "Saved  제7회 전북연맹회장배 전국 스쿼시 선수권 대회 예선경기１４ 이세현 정민채\n",
      "Saved  제7회 전북연맹회장배 전국 스쿼시 선수권 대회 예선경기１５ 황지훈 최정운\n"
     ]
    },
    {
     "name": "stderr",
     "output_type": "stream",
     "text": [
      " 84%|████████▎ | 1516/1813 [3:59:57<49:39, 10.03s/it]"
     ]
    },
    {
     "name": "stdout",
     "output_type": "stream",
     "text": [
      "Saved  제7회 전북연맹회장배 전국 스쿼시 선수권 대회 준준준결승경기１ 김동우 한상철\n"
     ]
    },
    {
     "name": "stderr",
     "output_type": "stream",
     "text": [
      " 84%|████████▎ | 1517/1813 [4:00:04<45:00,  9.12s/it]"
     ]
    },
    {
     "name": "stdout",
     "output_type": "stream",
     "text": [
      "Saved  제7회 전북연맹회장배 전국 스쿼시 선수권 대회 준준준결승경기２ 임동현 최상철\n",
      "Saved  제7회 전북연맹회장배 전국 스쿼시 선수권 대회 준준준결승경기３ 김성영 이승준\n"
     ]
    },
    {
     "name": "stderr",
     "output_type": "stream",
     "text": [
      " 84%|████████▍ | 1519/1813 [4:00:18<39:28,  8.06s/it]"
     ]
    },
    {
     "name": "stdout",
     "output_type": "stream",
     "text": [
      "Saved  제7회 전북연맹회장배 전국 스쿼시 선수권 대회 준준준결승경기４ 권오석 이건동\n"
     ]
    },
    {
     "name": "stderr",
     "output_type": "stream",
     "text": [
      " 84%|████████▍ | 1520/1813 [4:00:25<37:37,  7.70s/it]"
     ]
    },
    {
     "name": "stdout",
     "output_type": "stream",
     "text": [
      "Saved  제7회 전북연맹회장배 전국 스쿼시 선수권 대회 준준준결승경기５ 유승룡 정대훈\n"
     ]
    },
    {
     "name": "stderr",
     "output_type": "stream",
     "text": [
      " 84%|████████▍ | 1521/1813 [4:00:32<36:29,  7.50s/it]"
     ]
    },
    {
     "name": "stdout",
     "output_type": "stream",
     "text": [
      "Saved  제7회 전북연맹회장배 전국 스쿼시 선수권 대회 준준준결승경기６ 한성수 황중원\n"
     ]
    },
    {
     "name": "stderr",
     "output_type": "stream",
     "text": [
      " 84%|████████▍ | 1522/1813 [4:00:49<50:08, 10.34s/it]"
     ]
    },
    {
     "name": "stdout",
     "output_type": "stream",
     "text": [
      "Saved  제7회 전북연맹회장배 전국 스쿼시 선수권 대회 준준준결승경기７ 유용민 이세현\n"
     ]
    },
    {
     "name": "stderr",
     "output_type": "stream",
     "text": [
      " 84%|████████▍ | 1523/1813 [4:00:55<44:56,  9.30s/it]"
     ]
    },
    {
     "name": "stdout",
     "output_type": "stream",
     "text": [
      "Saved  제7회 전북연맹회장배 전국 스쿼시 선수권 대회 준준준결승경기８ 최정운 이승택\n"
     ]
    },
    {
     "name": "stderr",
     "output_type": "stream",
     "text": [
      " 84%|████████▍ | 1524/1813 [4:01:02<41:19,  8.58s/it]"
     ]
    },
    {
     "name": "stdout",
     "output_type": "stream",
     "text": [
      "Saved  제7회 전북연맹회장배 전국 스쿼시 선수권 대회 준준결승경기１ 김동우 최상철\n"
     ]
    },
    {
     "name": "stderr",
     "output_type": "stream",
     "text": [
      " 84%|████████▍ | 1525/1813 [4:01:09<38:49,  8.09s/it]"
     ]
    },
    {
     "name": "stdout",
     "output_type": "stream",
     "text": [
      "Saved  제7회 전북연맹회장배 전국 스쿼시 선수권 대회 준준결승경기２ 이승준 이건동\n"
     ]
    },
    {
     "name": "stderr",
     "output_type": "stream",
     "text": [
      " 84%|████████▍ | 1526/1813 [4:01:16<36:53,  7.71s/it]"
     ]
    },
    {
     "name": "stdout",
     "output_type": "stream",
     "text": [
      "Saved  제7회 전북연맹회장배 전국 스쿼시 선수권 대회 준준결승경기３ 정대훈 한성수\n"
     ]
    },
    {
     "name": "stderr",
     "output_type": "stream",
     "text": [
      " 84%|████████▍ | 1527/1813 [4:01:31<47:07,  9.89s/it]"
     ]
    },
    {
     "name": "stdout",
     "output_type": "stream",
     "text": [
      "Saved  제7회 전북연맹회장배 전국 스쿼시 선수권 대회 준준결승경기４ 유용민 이승택\n"
     ]
    },
    {
     "name": "stderr",
     "output_type": "stream",
     "text": [
      " 84%|████████▍ | 1528/1813 [4:01:38<42:47,  9.01s/it]"
     ]
    },
    {
     "name": "stdout",
     "output_type": "stream",
     "text": [
      "Saved  제7회 전북연맹회장배 전국 스쿼시 선수권 대회 준결승경기１ 김동우 이건동\n"
     ]
    },
    {
     "name": "stderr",
     "output_type": "stream",
     "text": [
      " 84%|████████▍ | 1529/1813 [4:01:45<39:40,  8.38s/it]"
     ]
    },
    {
     "name": "stdout",
     "output_type": "stream",
     "text": [
      "Saved  제7회 전북연맹회장배 전국 스쿼시 선수권 대회 준결승경기２ 한성수 이승택\n"
     ]
    },
    {
     "name": "stderr",
     "output_type": "stream",
     "text": [
      " 84%|████████▍ | 1530/1813 [4:01:52<37:56,  8.04s/it]"
     ]
    },
    {
     "name": "stdout",
     "output_type": "stream",
     "text": [
      "Saved  제7회 전북연맹회장배 전국 스쿼시 선수권 대회 결승 이건동 이승택\n"
     ]
    },
    {
     "name": "stderr",
     "output_type": "stream",
     "text": [
      " 84%|████████▍ | 1531/1813 [4:01:59<35:58,  7.65s/it]"
     ]
    },
    {
     "name": "stdout",
     "output_type": "stream",
     "text": [
      "Saved  제7회 전북연맹회장배 전국 스쿼시 선수권 대회 예선경기２ 송하연 권소희\n"
     ]
    },
    {
     "name": "stderr",
     "output_type": "stream",
     "text": [
      " 85%|████████▍ | 1532/1813 [4:02:14<45:52,  9.79s/it]"
     ]
    },
    {
     "name": "stdout",
     "output_type": "stream",
     "text": [
      "Saved  제7회 전북연맹회장배 전국 스쿼시 선수권 대회 예선경기７ 박다영 오영민\n"
     ]
    },
    {
     "name": "stderr",
     "output_type": "stream",
     "text": [
      " 85%|████████▍ | 1533/1813 [4:02:20<41:26,  8.88s/it]"
     ]
    },
    {
     "name": "stdout",
     "output_type": "stream",
     "text": [
      "Saved  제7회 전북연맹회장배 전국 스쿼시 선수권 대회 준준결승경기１ 박민주 송하연\n"
     ]
    },
    {
     "name": "stderr",
     "output_type": "stream",
     "text": [
      " 85%|████████▍ | 1534/1813 [4:02:27<38:20,  8.25s/it]"
     ]
    },
    {
     "name": "stdout",
     "output_type": "stream",
     "text": [
      "Saved  제7회 전북연맹회장배 전국 스쿼시 선수권 대회 준준결승경기２ 김기한 김조은\n"
     ]
    },
    {
     "name": "stderr",
     "output_type": "stream",
     "text": [
      " 85%|████████▍ | 1535/1813 [4:02:34<36:14,  7.82s/it]"
     ]
    },
    {
     "name": "stdout",
     "output_type": "stream",
     "text": [
      "Saved  제7회 전북연맹회장배 전국 스쿼시 선수권 대회 준준결승경기３ 황하윤 김민영\n"
     ]
    },
    {
     "name": "stderr",
     "output_type": "stream",
     "text": [
      " 85%|████████▍ | 1536/1813 [4:02:41<34:57,  7.57s/it]"
     ]
    },
    {
     "name": "stdout",
     "output_type": "stream",
     "text": [
      "Saved  제7회 전북연맹회장배 전국 스쿼시 선수권 대회 준준결승경기４ 박다영 안예진\n"
     ]
    },
    {
     "name": "stderr",
     "output_type": "stream",
     "text": [
      " 85%|████████▍ | 1537/1813 [4:02:56<45:01,  9.79s/it]"
     ]
    },
    {
     "name": "stdout",
     "output_type": "stream",
     "text": [
      "Saved  제7회 전북연맹회장배 전국 스쿼시 선수권 대회 준결승경기１ 박민주 김조은\n"
     ]
    },
    {
     "name": "stderr",
     "output_type": "stream",
     "text": [
      " 85%|████████▍ | 1538/1813 [4:03:03<40:55,  8.93s/it]"
     ]
    },
    {
     "name": "stdout",
     "output_type": "stream",
     "text": [
      "Saved  제7회 전북연맹회장배 전국 스쿼시 선수권 대회 준결승경기２ 김민영 안예진\n"
     ]
    },
    {
     "name": "stderr",
     "output_type": "stream",
     "text": [
      " 85%|████████▍ | 1539/1813 [4:03:10<37:53,  8.30s/it]"
     ]
    },
    {
     "name": "stdout",
     "output_type": "stream",
     "text": [
      "Saved  제7회 전북연맹회장배 전국 스쿼시 선수권 대회 결승 박민주 안예진\n"
     ]
    },
    {
     "name": "stderr",
     "output_type": "stream",
     "text": [
      " 85%|████████▍ | 1540/1813 [4:03:17<35:40,  7.84s/it]"
     ]
    },
    {
     "name": "stdout",
     "output_type": "stream",
     "text": [
      "Saved  제7회 전북연맹회장배 전국 스쿼시 선수권 대회 예선경기２ 장유빈 박다나\n"
     ]
    },
    {
     "name": "stderr",
     "output_type": "stream",
     "text": [
      " 85%|████████▍ | 1541/1813 [4:03:23<34:13,  7.55s/it]"
     ]
    },
    {
     "name": "stdout",
     "output_type": "stream",
     "text": [
      "Saved  제7회 전북연맹회장배 전국 스쿼시 선수권 대회 예선경기３ 김상미 박다빈\n"
     ]
    },
    {
     "name": "stderr",
     "output_type": "stream",
     "text": [
      " 85%|████████▌ | 1542/1813 [4:03:31<33:39,  7.45s/it]"
     ]
    },
    {
     "name": "stdout",
     "output_type": "stream",
     "text": [
      "Saved  제7회 전북연맹회장배 전국 스쿼시 선수권 대회 준결승경기１ 최유라 박다나\n"
     ]
    },
    {
     "name": "stderr",
     "output_type": "stream",
     "text": [
      " 85%|████████▌ | 1543/1813 [4:03:48<46:17, 10.29s/it]"
     ]
    },
    {
     "name": "stdout",
     "output_type": "stream",
     "text": [
      "Saved  제7회 전북연맹회장배 전국 스쿼시 선수권 대회 준결승경기２ 김상미 이지현\n"
     ]
    },
    {
     "name": "stderr",
     "output_type": "stream",
     "text": [
      " 85%|████████▌ | 1544/1813 [4:03:54<41:32,  9.27s/it]"
     ]
    },
    {
     "name": "stdout",
     "output_type": "stream",
     "text": [
      "Saved  제7회 전북연맹회장배 전국 스쿼시 선수권 대회 결승 최유라 이지현\n"
     ]
    },
    {
     "name": "stderr",
     "output_type": "stream",
     "text": [
      " 85%|████████▌ | 1545/1813 [4:04:01<38:02,  8.52s/it]"
     ]
    },
    {
     "name": "stdout",
     "output_type": "stream",
     "text": [
      "Saved  제7회 전북연맹회장배 전국 스쿼시 선수권 대회 예선경기１ 박은옥 김순여\n"
     ]
    },
    {
     "name": "stderr",
     "output_type": "stream",
     "text": [
      " 85%|████████▌ | 1546/1813 [4:04:08<35:42,  8.02s/it]"
     ]
    },
    {
     "name": "stdout",
     "output_type": "stream",
     "text": [
      "Saved  제7회 전북연맹회장배 전국 스쿼시 선수권 대회 예선경기２ 성화영 이해경\n"
     ]
    },
    {
     "name": "stderr",
     "output_type": "stream",
     "text": [
      " 85%|████████▌ | 1547/1813 [4:04:15<34:38,  7.81s/it]"
     ]
    },
    {
     "name": "stdout",
     "output_type": "stream",
     "text": [
      "Saved  제7회 전북연맹회장배 전국 스쿼시 선수권 대회 예선경기３ 배찬미 성은미\n",
      "Saved  제7회 전북연맹회장배 전국 스쿼시 선수권 대회 예선경기４ 이영욱 박진주\n"
     ]
    },
    {
     "name": "stderr",
     "output_type": "stream",
     "text": [
      " 85%|████████▌ | 1549/1813 [4:04:38<40:00,  9.09s/it]"
     ]
    },
    {
     "name": "stdout",
     "output_type": "stream",
     "text": [
      "Saved  제7회 전북연맹회장배 전국 스쿼시 선수권 대회 예선경기５ 양연수 안은찬\n"
     ]
    },
    {
     "name": "stderr",
     "output_type": "stream",
     "text": [
      " 85%|████████▌ | 1550/1813 [4:04:44<36:44,  8.38s/it]"
     ]
    },
    {
     "name": "stdout",
     "output_type": "stream",
     "text": [
      "Saved  제7회 전북연맹회장배 전국 스쿼시 선수권 대회 예선경기６ 박미림 송선미\n"
     ]
    },
    {
     "name": "stderr",
     "output_type": "stream",
     "text": [
      " 86%|████████▌ | 1551/1813 [4:04:51<34:45,  7.96s/it]"
     ]
    },
    {
     "name": "stdout",
     "output_type": "stream",
     "text": [
      "Saved  제7회 전북연맹회장배 전국 스쿼시 선수권 대회 예선경기７ 권성은 김다정\n"
     ]
    },
    {
     "name": "stderr",
     "output_type": "stream",
     "text": [
      " 86%|████████▌ | 1552/1813 [4:04:58<33:06,  7.61s/it]"
     ]
    },
    {
     "name": "stdout",
     "output_type": "stream",
     "text": [
      "Saved  제7회 전북연맹회장배 전국 스쿼시 선수권 대회 예선경기８ 김진희 오성령\n"
     ]
    },
    {
     "name": "stderr",
     "output_type": "stream",
     "text": [
      " 86%|████████▌ | 1553/1813 [4:05:05<32:11,  7.43s/it]"
     ]
    },
    {
     "name": "stdout",
     "output_type": "stream",
     "text": [
      "Saved  제7회 전북연맹회장배 전국 스쿼시 선수권 대회 준준결승경기１ 박은옥 이해경\n"
     ]
    },
    {
     "name": "stderr",
     "output_type": "stream",
     "text": [
      " 86%|████████▌ | 1554/1813 [4:05:22<44:21, 10.28s/it]"
     ]
    },
    {
     "name": "stdout",
     "output_type": "stream",
     "text": [
      "Saved  제7회 전북연맹회장배 전국 스쿼시 선수권 대회 준준결승경기２ 배찬미 박진주\n"
     ]
    },
    {
     "name": "stderr",
     "output_type": "stream",
     "text": [
      " 86%|████████▌ | 1555/1813 [4:05:29<39:55,  9.29s/it]"
     ]
    },
    {
     "name": "stdout",
     "output_type": "stream",
     "text": [
      "Saved  제7회 전북연맹회장배 전국 스쿼시 선수권 대회 준준결승경기３ 안은찬 송선미\n"
     ]
    },
    {
     "name": "stderr",
     "output_type": "stream",
     "text": [
      " 86%|████████▌ | 1556/1813 [4:05:36<37:02,  8.65s/it]"
     ]
    },
    {
     "name": "stdout",
     "output_type": "stream",
     "text": [
      "Saved  제7회 전북연맹회장배 전국 스쿼시 선수권 대회 준준결승경기４ 권성은 오성령\n"
     ]
    },
    {
     "name": "stderr",
     "output_type": "stream",
     "text": [
      " 86%|████████▌ | 1557/1813 [4:05:43<34:44,  8.14s/it]"
     ]
    },
    {
     "name": "stdout",
     "output_type": "stream",
     "text": [
      "Saved  제7회 전북연맹회장배 전국 스쿼시 선수권 대회 준결승경기１ 박은옥 배찬미\n"
     ]
    },
    {
     "name": "stderr",
     "output_type": "stream",
     "text": [
      " 86%|████████▌ | 1558/1813 [4:05:50<33:01,  7.77s/it]"
     ]
    },
    {
     "name": "stdout",
     "output_type": "stream",
     "text": [
      "Saved  제7회 전북연맹회장배 전국 스쿼시 선수권 대회 준결승경기２ 송선미 오성령\n"
     ]
    },
    {
     "name": "stderr",
     "output_type": "stream",
     "text": [
      " 86%|████████▌ | 1559/1813 [4:06:05<41:46,  9.87s/it]"
     ]
    },
    {
     "name": "stdout",
     "output_type": "stream",
     "text": [
      "Saved  제7회 전북연맹회장배 전국 스쿼시 선수권 대회 결승 박은옥 송선미\n"
     ]
    },
    {
     "name": "stderr",
     "output_type": "stream",
     "text": [
      " 86%|████████▌ | 1560/1813 [4:06:12<37:44,  8.95s/it]"
     ]
    },
    {
     "name": "stdout",
     "output_type": "stream",
     "text": [
      "Saved  제7회 전북연맹회장배 전국 스쿼시 선수권 대회 예선경기２ 강현우 박준하\n",
      "Saved  제7회 전북연맹회장배 전국 스쿼시 선수권 대회 예선경기３ 강치우 장은준\n"
     ]
    },
    {
     "name": "stderr",
     "output_type": "stream",
     "text": [
      " 86%|████████▌ | 1562/1813 [4:06:26<33:14,  7.95s/it]"
     ]
    },
    {
     "name": "stdout",
     "output_type": "stream",
     "text": [
      "Saved  제7회 전북연맹회장배 전국 스쿼시 선수권 대회 준결승경기１ 장수혁 박준하\n",
      "Saved  제7회 전북연맹회장배 전국 스쿼시 선수권 대회 준결승경기２ 장은준 김지환\n"
     ]
    },
    {
     "name": "stderr",
     "output_type": "stream",
     "text": [
      " 86%|████████▋ | 1564/1813 [4:06:49<42:37, 10.27s/it]"
     ]
    },
    {
     "name": "stdout",
     "output_type": "stream",
     "text": [
      "Saved  제7회 전북연맹회장배 전국 스쿼시 선수권 대회 결승 장수혁 김지환\n",
      "Saved  제7회 전북연맹회장배 전국 스쿼시 선수권 대회 예선경기２ 이상지 김정원\n"
     ]
    },
    {
     "name": "stderr",
     "output_type": "stream",
     "text": [
      " 86%|████████▋ | 1566/1813 [4:07:04<35:29,  8.62s/it]"
     ]
    },
    {
     "name": "stdout",
     "output_type": "stream",
     "text": [
      "Saved  제7회 전북연맹회장배 전국 스쿼시 선수권 대회 예선경기１５ 김석진 구성진\n"
     ]
    },
    {
     "name": "stderr",
     "output_type": "stream",
     "text": [
      " 86%|████████▋ | 1567/1813 [4:07:11<33:26,  8.16s/it]"
     ]
    },
    {
     "name": "stdout",
     "output_type": "stream",
     "text": [
      "Saved  제7회 전북연맹회장배 전국 스쿼시 선수권 대회 준준준결승경기１ 이인우 이상지\n"
     ]
    },
    {
     "name": "stderr",
     "output_type": "stream",
     "text": [
      " 86%|████████▋ | 1568/1813 [4:07:17<31:35,  7.74s/it]"
     ]
    },
    {
     "name": "stdout",
     "output_type": "stream",
     "text": [
      "Saved  제7회 전북연맹회장배 전국 스쿼시 선수권 대회 준준준결승경기２ 강현범 김남경\n"
     ]
    },
    {
     "name": "stderr",
     "output_type": "stream",
     "text": [
      " 87%|████████▋ | 1569/1813 [4:07:24<30:45,  7.56s/it]"
     ]
    },
    {
     "name": "stdout",
     "output_type": "stream",
     "text": [
      "Saved  제7회 전북연맹회장배 전국 스쿼시 선수권 대회 준준준결승경기４ 김대운 양재혁\n",
      "Saved  제7회 전북연맹회장배 전국 스쿼시 선수권 대회 준준준결승경기５ 임주찬 이용정\n"
     ]
    },
    {
     "name": "stderr",
     "output_type": "stream",
     "text": [
      " 87%|████████▋ | 1571/1813 [4:07:48<37:30,  9.30s/it]"
     ]
    },
    {
     "name": "stdout",
     "output_type": "stream",
     "text": [
      "Saved  제7회 전북연맹회장배 전국 스쿼시 선수권 대회 준준준결승경기６ 이동민 박성찬\n"
     ]
    },
    {
     "name": "stderr",
     "output_type": "stream",
     "text": [
      " 87%|████████▋ | 1572/1813 [4:07:55<34:41,  8.64s/it]"
     ]
    },
    {
     "name": "stdout",
     "output_type": "stream",
     "text": [
      "Saved  제7회 전북연맹회장배 전국 스쿼시 선수권 대회 준준준결승경기７ 신경훈 오현민\n"
     ]
    },
    {
     "name": "stderr",
     "output_type": "stream",
     "text": [
      " 87%|████████▋ | 1573/1813 [4:08:03<33:02,  8.26s/it]"
     ]
    },
    {
     "name": "stdout",
     "output_type": "stream",
     "text": [
      "Saved  제7회 전북연맹회장배 전국 스쿼시 선수권 대회 준준준결승경기８ 김석진 황수연\n"
     ]
    },
    {
     "name": "stderr",
     "output_type": "stream",
     "text": [
      " 87%|████████▋ | 1574/1813 [4:08:10<31:19,  7.86s/it]"
     ]
    },
    {
     "name": "stdout",
     "output_type": "stream",
     "text": [
      "Saved  제7회 전북연맹회장배 전국 스쿼시 선수권 대회 준준결승경기１ 이인우 강현범\n",
      "Saved  제7회 전북연맹회장배 전국 스쿼시 선수권 대회 준준결승경기２ 이현준 김대운\n"
     ]
    },
    {
     "name": "stderr",
     "output_type": "stream",
     "text": [
      " 87%|████████▋ | 1576/1813 [4:08:32<36:04,  9.13s/it]"
     ]
    },
    {
     "name": "stdout",
     "output_type": "stream",
     "text": [
      "Saved  제7회 전북연맹회장배 전국 스쿼시 선수권 대회 준준결승경기３ 이용정 박성찬\n",
      "Saved  제7회 전북연맹회장배 전국 스쿼시 선수권 대회 준준결승경기４ 오현민 김석진\n"
     ]
    },
    {
     "name": "stderr",
     "output_type": "stream",
     "text": [
      " 87%|████████▋ | 1578/1813 [4:08:46<31:33,  8.06s/it]"
     ]
    },
    {
     "name": "stdout",
     "output_type": "stream",
     "text": [
      "Saved  제7회 전북연맹회장배 전국 스쿼시 선수권 대회 준결승경기１ 이인우 이현준\n"
     ]
    },
    {
     "name": "stderr",
     "output_type": "stream",
     "text": [
      " 87%|████████▋ | 1579/1813 [4:08:53<29:50,  7.65s/it]"
     ]
    },
    {
     "name": "stdout",
     "output_type": "stream",
     "text": [
      "Saved  제7회 전북연맹회장배 전국 스쿼시 선수권 대회 준결승경기２ 박성찬 오현민\n"
     ]
    },
    {
     "name": "stderr",
     "output_type": "stream",
     "text": [
      " 87%|████████▋ | 1580/1813 [4:09:07<38:01,  9.79s/it]"
     ]
    },
    {
     "name": "stdout",
     "output_type": "stream",
     "text": [
      "Saved  제7회 전북연맹회장배 전국 스쿼시 선수권 대회 결승 이인우 박성찬\n"
     ]
    },
    {
     "name": "stderr",
     "output_type": "stream",
     "text": [
      " 87%|████████▋ | 1581/1813 [4:09:14<34:39,  8.96s/it]"
     ]
    },
    {
     "name": "stdout",
     "output_type": "stream",
     "text": [
      "Saved  제7회 전북연맹회장배 전국 스쿼시 선수권 대회 예선경기２ 송동주 송채원\n"
     ]
    },
    {
     "name": "stderr",
     "output_type": "stream",
     "text": [
      " 87%|████████▋ | 1582/1813 [4:09:21<32:06,  8.34s/it]"
     ]
    },
    {
     "name": "stdout",
     "output_type": "stream",
     "text": [
      "Saved  제7회 전북연맹회장배 전국 스쿼시 선수권 대회 예선경기３ 곽다연 최유주\n"
     ]
    },
    {
     "name": "stderr",
     "output_type": "stream",
     "text": [
      " 87%|████████▋ | 1583/1813 [4:09:28<30:11,  7.88s/it]"
     ]
    },
    {
     "name": "stdout",
     "output_type": "stream",
     "text": [
      "Saved  제7회 전북연맹회장배 전국 스쿼시 선수권 대회 예선경기４ 조민영 오승희\n"
     ]
    },
    {
     "name": "stderr",
     "output_type": "stream",
     "text": [
      " 87%|████████▋ | 1584/1813 [4:09:35<28:57,  7.59s/it]"
     ]
    },
    {
     "name": "stdout",
     "output_type": "stream",
     "text": [
      "Saved  제7회 전북연맹회장배 전국 스쿼시 선수권 대회 준결승경기１ 홍서경 송동주\n"
     ]
    },
    {
     "name": "stderr",
     "output_type": "stream",
     "text": [
      " 87%|████████▋ | 1585/1813 [4:09:42<27:50,  7.33s/it]"
     ]
    },
    {
     "name": "stdout",
     "output_type": "stream",
     "text": [
      "Saved  제7회 전북연맹회장배 전국 스쿼시 선수권 대회 준결승경기２ 최유주 오승희\n"
     ]
    },
    {
     "name": "stderr",
     "output_type": "stream",
     "text": [
      " 87%|████████▋ | 1586/1813 [4:09:59<38:38, 10.21s/it]"
     ]
    },
    {
     "name": "stdout",
     "output_type": "stream",
     "text": [
      "Saved  제7회 전북연맹회장배 전국 스쿼시 선수권 대회 결승 송동주 최유주\n"
     ]
    },
    {
     "name": "stderr",
     "output_type": "stream",
     "text": [
      " 88%|████████▊ | 1587/1813 [4:10:05<34:43,  9.22s/it]"
     ]
    },
    {
     "name": "stdout",
     "output_type": "stream",
     "text": [
      "Saved  제10회 회장배 전국 학생 스쿼시선수권대회 예선경기２ 오성학 최동진\n"
     ]
    },
    {
     "name": "stderr",
     "output_type": "stream",
     "text": [
      " 88%|████████▊ | 1588/1813 [4:10:12<31:58,  8.53s/it]"
     ]
    },
    {
     "name": "stdout",
     "output_type": "stream",
     "text": [
      "Saved  제10회 회장배 전국 학생 스쿼시선수권대회 예선경기３ 박준현 탁형진\n"
     ]
    },
    {
     "name": "stderr",
     "output_type": "stream",
     "text": [
      " 88%|████████▊ | 1589/1813 [4:10:19<29:54,  8.01s/it]"
     ]
    },
    {
     "name": "stdout",
     "output_type": "stream",
     "text": [
      "Saved  제10회 회장배 전국 학생 스쿼시선수권대회 예선경기４ 장준영 박요한\n"
     ]
    },
    {
     "name": "stderr",
     "output_type": "stream",
     "text": [
      " 88%|████████▊ | 1590/1813 [4:10:26<28:40,  7.72s/it]"
     ]
    },
    {
     "name": "stdout",
     "output_type": "stream",
     "text": [
      "Saved  제10회 회장배 전국 학생 스쿼시선수권대회 예선경기６ 박병국 장홍현\n"
     ]
    },
    {
     "name": "stderr",
     "output_type": "stream",
     "text": [
      " 88%|████████▊ | 1591/1813 [4:10:41<36:46,  9.94s/it]"
     ]
    },
    {
     "name": "stdout",
     "output_type": "stream",
     "text": [
      "Saved  제10회 회장배 전국 학생 스쿼시선수권대회 예선경기７ 유성연 이승훈\n"
     ]
    },
    {
     "name": "stderr",
     "output_type": "stream",
     "text": [
      " 88%|████████▊ | 1592/1813 [4:10:49<33:48,  9.18s/it]"
     ]
    },
    {
     "name": "stdout",
     "output_type": "stream",
     "text": [
      "Saved  제10회 회장배 전국 학생 스쿼시선수권대회 준준결승경기１ 고영조 오성학\n"
     ]
    },
    {
     "name": "stderr",
     "output_type": "stream",
     "text": [
      " 88%|████████▊ | 1593/1813 [4:10:56<31:11,  8.51s/it]"
     ]
    },
    {
     "name": "stdout",
     "output_type": "stream",
     "text": [
      "Saved  제10회 회장배 전국 학생 스쿼시선수권대회 준준결승경기２ 탁형진 박요한\n"
     ]
    },
    {
     "name": "stderr",
     "output_type": "stream",
     "text": [
      " 88%|████████▊ | 1594/1813 [4:11:03<29:15,  8.02s/it]"
     ]
    },
    {
     "name": "stdout",
     "output_type": "stream",
     "text": [
      "Saved  제10회 회장배 전국 학생 스쿼시선수권대회 준준결승경기３ 오준혁 박병국\n"
     ]
    },
    {
     "name": "stderr",
     "output_type": "stream",
     "text": [
      " 88%|████████▊ | 1595/1813 [4:11:09<27:43,  7.63s/it]"
     ]
    },
    {
     "name": "stdout",
     "output_type": "stream",
     "text": [
      "Saved  제10회 회장배 전국 학생 스쿼시선수권대회 준준결승경기４ 이승훈 김예일\n"
     ]
    },
    {
     "name": "stderr",
     "output_type": "stream",
     "text": [
      " 88%|████████▊ | 1596/1813 [4:11:18<28:44,  7.95s/it]"
     ]
    },
    {
     "name": "stdout",
     "output_type": "stream",
     "text": [
      "Saved  제10회 회장배 전국 학생 스쿼시선수권대회 준결승경기１ 고영조 탁형진\n"
     ]
    },
    {
     "name": "stderr",
     "output_type": "stream",
     "text": [
      " 88%|████████▊ | 1597/1813 [4:11:35<38:13, 10.62s/it]"
     ]
    },
    {
     "name": "stdout",
     "output_type": "stream",
     "text": [
      "Saved  제10회 회장배 전국 학생 스쿼시선수권대회 준결승경기２ 박병국 이승훈\n"
     ]
    },
    {
     "name": "stderr",
     "output_type": "stream",
     "text": [
      " 88%|████████▊ | 1598/1813 [4:11:42<34:20,  9.58s/it]"
     ]
    },
    {
     "name": "stdout",
     "output_type": "stream",
     "text": [
      "Saved  제10회 회장배 전국 학생 스쿼시선수권대회 결승 고영조 이승훈\n",
      "Saved  제10회 회장배 전국 학생 스쿼시선수권대회 예선경기２ 김성집 김재완\n"
     ]
    },
    {
     "name": "stderr",
     "output_type": "stream",
     "text": [
      " 88%|████████▊ | 1600/1813 [4:11:56<29:24,  8.28s/it]"
     ]
    },
    {
     "name": "stdout",
     "output_type": "stream",
     "text": [
      "Saved  제10회 회장배 전국 학생 스쿼시선수권대회 예선경기３ 강석환 유재진\n"
     ]
    },
    {
     "name": "stderr",
     "output_type": "stream",
     "text": [
      " 88%|████████▊ | 1601/1813 [4:12:03<27:36,  7.81s/it]"
     ]
    },
    {
     "name": "stdout",
     "output_type": "stream",
     "text": [
      "Saved  제10회 회장배 전국 학생 스쿼시선수권대회 예선경기６ 이승호 윤병민\n",
      "Saved  제10회 회장배 전국 학생 스쿼시선수권대회 예선경기７ 한승철 김현준\n"
     ]
    },
    {
     "name": "stderr",
     "output_type": "stream",
     "text": [
      " 88%|████████▊ | 1603/1813 [4:12:25<31:52,  9.11s/it]"
     ]
    },
    {
     "name": "stdout",
     "output_type": "stream",
     "text": [
      "Saved  제10회 회장배 전국 학생 스쿼시선수권대회 준준결승경기１ 진승우 김성집\n"
     ]
    },
    {
     "name": "stderr",
     "output_type": "stream",
     "text": [
      " 88%|████████▊ | 1604/1813 [4:12:32<29:50,  8.57s/it]"
     ]
    },
    {
     "name": "stdout",
     "output_type": "stream",
     "text": [
      "Saved  제10회 회장배 전국 학생 스쿼시선수권대회 준준결승경기２ 유재진 강보성\n"
     ]
    },
    {
     "name": "stderr",
     "output_type": "stream",
     "text": [
      " 89%|████████▊ | 1605/1813 [4:12:42<31:11,  9.00s/it]"
     ]
    },
    {
     "name": "stdout",
     "output_type": "stream",
     "text": [
      "Saved  제10회 회장배 전국 학생 스쿼시선수권대회 준준결승경기３ 박종명 이승호\n"
     ]
    },
    {
     "name": "stderr",
     "output_type": "stream",
     "text": [
      " 89%|████████▊ | 1606/1813 [4:12:49<28:54,  8.38s/it]"
     ]
    },
    {
     "name": "stdout",
     "output_type": "stream",
     "text": [
      "Saved  제10회 회장배 전국 학생 스쿼시선수권대회 준준결승경기４ 한승철 황중찬\n",
      "Saved  제10회 회장배 전국 학생 스쿼시선수권대회 준결승경기１ 진승우 유재진\n"
     ]
    },
    {
     "name": "stderr",
     "output_type": "stream",
     "text": [
      " 89%|████████▊ | 1608/1813 [4:13:13<33:56,  9.93s/it]"
     ]
    },
    {
     "name": "stdout",
     "output_type": "stream",
     "text": [
      "Saved  제10회 회장배 전국 학생 스쿼시선수권대회 준결승경기２ 박종명 한승철\n"
     ]
    },
    {
     "name": "stderr",
     "output_type": "stream",
     "text": [
      " 89%|████████▊ | 1609/1813 [4:13:20<30:40,  9.02s/it]"
     ]
    },
    {
     "name": "stdout",
     "output_type": "stream",
     "text": [
      "Saved  제10회 회장배 전국 학생 스쿼시선수권대회 결승 진승우 박종명\n"
     ]
    },
    {
     "name": "stderr",
     "output_type": "stream",
     "text": [
      " 89%|████████▉ | 1610/1813 [4:13:27<28:22,  8.39s/it]"
     ]
    },
    {
     "name": "stdout",
     "output_type": "stream",
     "text": [
      "Saved  제10회 회장배 전국 학생 스쿼시선수권대회 예선경기２ 최누리 김기한\n"
     ]
    },
    {
     "name": "stderr",
     "output_type": "stream",
     "text": [
      " 89%|████████▉ | 1611/1813 [4:13:34<27:04,  8.04s/it]"
     ]
    },
    {
     "name": "stdout",
     "output_type": "stream",
     "text": [
      "Saved  제10회 회장배 전국 학생 스쿼시선수권대회 예선경기３ 김선희 허민경\n"
     ]
    },
    {
     "name": "stderr",
     "output_type": "stream",
     "text": [
      " 89%|████████▉ | 1612/1813 [4:13:43<27:52,  8.32s/it]"
     ]
    },
    {
     "name": "stdout",
     "output_type": "stream",
     "text": [
      "Saved  제10회 회장배 전국 학생 스쿼시선수권대회 예선경기７ 장유진 백지은\n"
     ]
    },
    {
     "name": "stderr",
     "output_type": "stream",
     "text": [
      " 89%|████████▉ | 1613/1813 [4:14:01<36:47, 11.04s/it]"
     ]
    },
    {
     "name": "stdout",
     "output_type": "stream",
     "text": [
      "Saved  제10회 회장배 전국 학생 스쿼시선수권대회 준준결승경기１ 안예진 김기한\n"
     ]
    },
    {
     "name": "stderr",
     "output_type": "stream",
     "text": [
      " 89%|████████▉ | 1614/1813 [4:14:08<32:47,  9.89s/it]"
     ]
    },
    {
     "name": "stdout",
     "output_type": "stream",
     "text": [
      "Saved  제10회 회장배 전국 학생 스쿼시선수권대회 준준결승경기２ 김선희 황하윤\n"
     ]
    },
    {
     "name": "stderr",
     "output_type": "stream",
     "text": [
      " 89%|████████▉ | 1615/1813 [4:14:15<29:42,  9.00s/it]"
     ]
    },
    {
     "name": "stdout",
     "output_type": "stream",
     "text": [
      "Saved  제10회 회장배 전국 학생 스쿼시선수권대회 준준결승경기３ 엄화영 박은희\n"
     ]
    },
    {
     "name": "stderr",
     "output_type": "stream",
     "text": [
      " 89%|████████▉ | 1616/1813 [4:14:23<29:10,  8.88s/it]"
     ]
    },
    {
     "name": "stdout",
     "output_type": "stream",
     "text": [
      "Saved  제10회 회장배 전국 학생 스쿼시선수권대회 준준결승경기４ 장유진 김미진\n"
     ]
    },
    {
     "name": "stderr",
     "output_type": "stream",
     "text": [
      " 89%|████████▉ | 1617/1813 [4:14:30<27:00,  8.27s/it]"
     ]
    },
    {
     "name": "stdout",
     "output_type": "stream",
     "text": [
      "Saved  제10회 회장배 전국 학생 스쿼시선수권대회 준결승경기１ 안예진 김선희\n",
      "Saved  제10회 회장배 전국 학생 스쿼시선수권대회 준결승경기２ 엄화영 김미진\n"
     ]
    },
    {
     "name": "stderr",
     "output_type": "stream",
     "text": [
      " 89%|████████▉ | 1619/1813 [4:14:52<29:56,  9.26s/it]"
     ]
    },
    {
     "name": "stdout",
     "output_type": "stream",
     "text": [
      "Saved  제10회 회장배 전국 학생 스쿼시선수권대회 결승 안예진 김미진\n"
     ]
    },
    {
     "name": "stderr",
     "output_type": "stream",
     "text": [
      " 89%|████████▉ | 1620/1813 [4:14:59<27:28,  8.54s/it]"
     ]
    },
    {
     "name": "stdout",
     "output_type": "stream",
     "text": [
      "Saved  제10회 회장배 전국 학생 스쿼시선수권대회 예선경기１ 최유라 장유빈\n"
     ]
    },
    {
     "name": "stderr",
     "output_type": "stream",
     "text": [
      " 89%|████████▉ | 1621/1813 [4:15:06<25:41,  8.03s/it]"
     ]
    },
    {
     "name": "stdout",
     "output_type": "stream",
     "text": [
      "Saved  제10회 회장배 전국 학생 스쿼시선수권대회 예선경기２ 이지현 김상미\n"
     ]
    },
    {
     "name": "stderr",
     "output_type": "stream",
     "text": [
      " 89%|████████▉ | 1622/1813 [4:15:13<24:33,  7.71s/it]"
     ]
    },
    {
     "name": "stdout",
     "output_type": "stream",
     "text": [
      "Saved  제10회 회장배 전국 학생 스쿼시선수권대회 결승 최유라 이지현\n"
     ]
    },
    {
     "name": "stderr",
     "output_type": "stream",
     "text": [
      " 90%|████████▉ | 1623/1813 [4:15:29<33:01, 10.43s/it]"
     ]
    },
    {
     "name": "stdout",
     "output_type": "stream",
     "text": [
      "Saved  제10회 회장배 전국 학생 스쿼시선수권대회 예선경기２ 강현우 박준하\n"
     ]
    },
    {
     "name": "stderr",
     "output_type": "stream",
     "text": [
      " 90%|████████▉ | 1624/1813 [4:15:37<29:46,  9.45s/it]"
     ]
    },
    {
     "name": "stdout",
     "output_type": "stream",
     "text": [
      "Saved  제10회 회장배 전국 학생 스쿼시선수권대회 예선경기３ 장은준 이승재\n"
     ]
    },
    {
     "name": "stderr",
     "output_type": "stream",
     "text": [
      " 90%|████████▉ | 1625/1813 [4:15:44<27:29,  8.77s/it]"
     ]
    },
    {
     "name": "stdout",
     "output_type": "stream",
     "text": [
      "Saved  제10회 회장배 전국 학생 스쿼시선수권대회 예선경기４ 강치우 박인훈\n"
     ]
    },
    {
     "name": "stderr",
     "output_type": "stream",
     "text": [
      " 90%|████████▉ | 1626/1813 [4:15:51<25:31,  8.19s/it]"
     ]
    },
    {
     "name": "stdout",
     "output_type": "stream",
     "text": [
      "Saved  제10회 회장배 전국 학생 스쿼시선수권대회 예선경기６ 김태민 KIM HAN\n"
     ]
    },
    {
     "name": "stderr",
     "output_type": "stream",
     "text": [
      " 90%|████████▉ | 1627/1813 [4:15:58<24:12,  7.81s/it]"
     ]
    },
    {
     "name": "stdout",
     "output_type": "stream",
     "text": [
      "Saved  제10회 회장배 전국 학생 스쿼시선수권대회 예선경기７ 공민서 김지환\n"
     ]
    },
    {
     "name": "stderr",
     "output_type": "stream",
     "text": [
      " 90%|████████▉ | 1628/1813 [4:16:04<23:01,  7.47s/it]"
     ]
    },
    {
     "name": "stdout",
     "output_type": "stream",
     "text": [
      "Saved  제10회 회장배 전국 학생 스쿼시선수권대회 준준결승경기１ 장수혁 박준하\n"
     ]
    },
    {
     "name": "stderr",
     "output_type": "stream",
     "text": [
      " 90%|████████▉ | 1629/1813 [4:16:21<31:25, 10.25s/it]"
     ]
    },
    {
     "name": "stdout",
     "output_type": "stream",
     "text": [
      "Saved  제10회 회장배 전국 학생 스쿼시선수권대회 준준결승경기２ 장은준 박인훈\n"
     ]
    },
    {
     "name": "stderr",
     "output_type": "stream",
     "text": [
      " 90%|████████▉ | 1630/1813 [4:16:28<28:11,  9.25s/it]"
     ]
    },
    {
     "name": "stdout",
     "output_type": "stream",
     "text": [
      "Saved  제10회 회장배 전국 학생 스쿼시선수권대회 준준결승경기３ 임재혁 KIM HAN\n"
     ]
    },
    {
     "name": "stderr",
     "output_type": "stream",
     "text": [
      " 90%|████████▉ | 1631/1813 [4:16:35<25:45,  8.49s/it]"
     ]
    },
    {
     "name": "stdout",
     "output_type": "stream",
     "text": [
      "Saved  제10회 회장배 전국 학생 스쿼시선수권대회 준준결승경기４ 김지환 이재형\n",
      "Saved  제10회 회장배 전국 학생 스쿼시선수권대회 준결승경기１ 장수혁 장은준\n"
     ]
    },
    {
     "name": "stderr",
     "output_type": "stream",
     "text": [
      " 90%|█████████ | 1633/1813 [4:16:50<24:16,  8.09s/it]"
     ]
    },
    {
     "name": "stdout",
     "output_type": "stream",
     "text": [
      "Saved  제10회 회장배 전국 학생 스쿼시선수권대회 준결승경기２ KIM HAN 김지환\n"
     ]
    },
    {
     "name": "stderr",
     "output_type": "stream",
     "text": [
      " 90%|█████████ | 1634/1813 [4:17:05<30:16, 10.15s/it]"
     ]
    },
    {
     "name": "stdout",
     "output_type": "stream",
     "text": [
      "Saved  제10회 회장배 전국 학생 스쿼시선수권대회 결승 장수혁 김지환\n"
     ]
    },
    {
     "name": "stderr",
     "output_type": "stream",
     "text": [
      " 90%|█████████ | 1635/1813 [4:17:12<27:11,  9.17s/it]"
     ]
    },
    {
     "name": "stdout",
     "output_type": "stream",
     "text": [
      "Saved  제10회 회장배 전국 학생 스쿼시선수권대회 예선경기２ 임주찬 김남경\n"
     ]
    },
    {
     "name": "stderr",
     "output_type": "stream",
     "text": [
      " 90%|█████████ | 1636/1813 [4:17:19<25:23,  8.61s/it]"
     ]
    },
    {
     "name": "stdout",
     "output_type": "stream",
     "text": [
      "Saved  제10회 회장배 전국 학생 스쿼시선수권대회 준준준결승경기２ 이용정 오수현\n"
     ]
    },
    {
     "name": "stderr",
     "output_type": "stream",
     "text": [
      " 90%|█████████ | 1637/1813 [4:17:26<23:39,  8.06s/it]"
     ]
    },
    {
     "name": "stdout",
     "output_type": "stream",
     "text": [
      "Saved  제10회 회장배 전국 학생 스쿼시선수권대회 준준준결승경기３ 김대운 김정원\n",
      "Saved  제10회 회장배 전국 학생 스쿼시선수권대회 준준준결승경기４ 김석진 황수연\n"
     ]
    },
    {
     "name": "stderr",
     "output_type": "stream",
     "text": [
      " 90%|█████████ | 1639/1813 [4:17:40<21:41,  7.48s/it]"
     ]
    },
    {
     "name": "stdout",
     "output_type": "stream",
     "text": [
      "Saved  제10회 회장배 전국 학생 스쿼시선수권대회 준준준결승경기５ 임태섭 이현준\n"
     ]
    },
    {
     "name": "stderr",
     "output_type": "stream",
     "text": [
      " 90%|█████████ | 1640/1813 [4:17:57<29:36, 10.27s/it]"
     ]
    },
    {
     "name": "stdout",
     "output_type": "stream",
     "text": [
      "Saved  제10회 회장배 전국 학생 스쿼시선수권대회 준준준결승경기６ 탁효진 오현민\n",
      "Saved  제10회 회장배 전국 학생 스쿼시선수권대회 준준준결승경기７ 강현범 구성진\n"
     ]
    },
    {
     "name": "stderr",
     "output_type": "stream",
     "text": [
      " 91%|█████████ | 1641/1813 [4:18:04<26:40,  9.31s/it]"
     ]
    },
    {
     "name": "stdout",
     "output_type": "stream",
     "text": [
      "Saved  제10회 회장배 전국 학생 스쿼시선수권대회 준준준결승경기８ 양재혁 박성찬\n"
     ]
    },
    {
     "name": "stderr",
     "output_type": "stream",
     "text": [
      " 91%|█████████ | 1643/1813 [4:18:18<23:05,  8.15s/it]"
     ]
    },
    {
     "name": "stdout",
     "output_type": "stream",
     "text": [
      "Saved  제10회 회장배 전국 학생 스쿼시선수권대회 준준준결승경기１ 류한동 김남경\n"
     ]
    },
    {
     "name": "stderr",
     "output_type": "stream",
     "text": [
      " 91%|█████████ | 1644/1813 [4:18:27<23:30,  8.35s/it]"
     ]
    },
    {
     "name": "stdout",
     "output_type": "stream",
     "text": [
      "Saved  제10회 회장배 전국 학생 스쿼시선수권대회 준준결승경기１ 류한동 오수현\n"
     ]
    },
    {
     "name": "stderr",
     "output_type": "stream",
     "text": [
      " 91%|█████████ | 1645/1813 [4:18:42<29:04, 10.38s/it]"
     ]
    },
    {
     "name": "stdout",
     "output_type": "stream",
     "text": [
      "Saved  제10회 회장배 전국 학생 스쿼시선수권대회 준준결승경기２ 김대운 황수연\n",
      "Saved  제10회 회장배 전국 학생 스쿼시선수권대회 준준결승경기３ 이현준 탁효진\n"
     ]
    },
    {
     "name": "stderr",
     "output_type": "stream",
     "text": [
      " 91%|█████████ | 1646/1813 [4:18:51<27:30,  9.88s/it]"
     ]
    },
    {
     "name": "stdout",
     "output_type": "stream",
     "text": [
      "Saved  제10회 회장배 전국 학생 스쿼시선수권대회 준준결승경기４ 강현범 박성찬\n"
     ]
    },
    {
     "name": "stderr",
     "output_type": "stream",
     "text": [
      " 91%|█████████ | 1648/1813 [4:19:05<23:10,  8.43s/it]"
     ]
    },
    {
     "name": "stdout",
     "output_type": "stream",
     "text": [
      "Saved  제10회 회장배 전국 학생 스쿼시선수권대회 준결승경기１ 류한동 황수연\n"
     ]
    },
    {
     "name": "stderr",
     "output_type": "stream",
     "text": [
      " 91%|█████████ | 1649/1813 [4:19:12<21:50,  7.99s/it]"
     ]
    },
    {
     "name": "stdout",
     "output_type": "stream",
     "text": [
      "Saved  제10회 회장배 전국 학생 스쿼시선수권대회 준결승경기２ 탁효진 박성찬\n"
     ]
    },
    {
     "name": "stderr",
     "output_type": "stream",
     "text": [
      " 91%|█████████ | 1650/1813 [4:19:21<22:20,  8.22s/it]"
     ]
    },
    {
     "name": "stdout",
     "output_type": "stream",
     "text": [
      "Saved  제10회 회장배 전국 학생 스쿼시선수권대회 결승 류한동 박성찬\n"
     ]
    },
    {
     "name": "stderr",
     "output_type": "stream",
     "text": [
      " 91%|█████████ | 1651/1813 [4:19:38<29:27, 10.91s/it]"
     ]
    },
    {
     "name": "stdout",
     "output_type": "stream",
     "text": [
      "Saved  제10회 회장배 전국 학생 스쿼시선수권대회 예선경기２ 오승희 김규리\n"
     ]
    },
    {
     "name": "stderr",
     "output_type": "stream",
     "text": [
      " 91%|█████████ | 1652/1813 [4:19:45<26:07,  9.74s/it]"
     ]
    },
    {
     "name": "stdout",
     "output_type": "stream",
     "text": [
      "Saved  제10회 회장배 전국 학생 스쿼시선수권대회 예선경기３ 송동주 송채원\n"
     ]
    },
    {
     "name": "stderr",
     "output_type": "stream",
     "text": [
      " 91%|█████████ | 1653/1813 [4:19:52<24:04,  9.03s/it]"
     ]
    },
    {
     "name": "stdout",
     "output_type": "stream",
     "text": [
      "Saved  제10회 회장배 전국 학생 스쿼시선수권대회 준결승경기１ 최유주 오승희\n"
     ]
    },
    {
     "name": "stderr",
     "output_type": "stream",
     "text": [
      " 91%|█████████ | 1654/1813 [4:19:59<22:15,  8.40s/it]"
     ]
    },
    {
     "name": "stdout",
     "output_type": "stream",
     "text": [
      "Saved  제10회 회장배 전국 학생 스쿼시선수권대회 준결승경기２ 송동주 박지연\n",
      "Saved  제10회 회장배 전국 학생 스쿼시선수권대회 결승 최유주 송동주\n"
     ]
    },
    {
     "name": "stderr",
     "output_type": "stream",
     "text": [
      " 91%|█████████▏| 1656/1813 [4:20:21<26:20, 10.06s/it]"
     ]
    },
    {
     "name": "stdout",
     "output_type": "stream",
     "text": [
      "Saved  제9회 대한체육회장배 전국 스쿼시 선수권 대회 예선경기２ 장홍현 배연우\n"
     ]
    },
    {
     "name": "stderr",
     "output_type": "stream",
     "text": [
      " 91%|█████████▏| 1657/1813 [4:20:28<23:56,  9.21s/it]"
     ]
    },
    {
     "name": "stdout",
     "output_type": "stream",
     "text": [
      "Saved  제9회 대한체육회장배 전국 스쿼시 선수권 대회 예선경기７ 김찬희 박정식\n"
     ]
    },
    {
     "name": "stderr",
     "output_type": "stream",
     "text": [
      " 91%|█████████▏| 1658/1813 [4:20:35<22:10,  8.58s/it]"
     ]
    },
    {
     "name": "stdout",
     "output_type": "stream",
     "text": [
      "Saved  제9회 대한체육회장배 전국 스쿼시 선수권 대회 예선경기１５ 이동현 탁형진\n"
     ]
    },
    {
     "name": "stderr",
     "output_type": "stream",
     "text": [
      " 92%|█████████▏| 1659/1813 [4:20:42<20:49,  8.11s/it]"
     ]
    },
    {
     "name": "stdout",
     "output_type": "stream",
     "text": [
      "Saved  제9회 대한체육회장배 전국 스쿼시 선수권 대회 예선경기１８ 김남정 강한준\n"
     ]
    },
    {
     "name": "stderr",
     "output_type": "stream",
     "text": [
      " 92%|█████████▏| 1660/1813 [4:20:51<21:15,  8.34s/it]"
     ]
    },
    {
     "name": "stdout",
     "output_type": "stream",
     "text": [
      "Saved  제9회 대한체육회장배 전국 스쿼시 선수권 대회 예선경기 23 최지우 유승범\n"
     ]
    },
    {
     "name": "stderr",
     "output_type": "stream",
     "text": [
      " 92%|█████████▏| 1661/1813 [4:21:08<27:30, 10.86s/it]"
     ]
    },
    {
     "name": "stdout",
     "output_type": "stream",
     "text": [
      "Saved  제9회 대한체육회장배 전국 스쿼시 선수권 대회 예선경기 26 장준영 신상용\n"
     ]
    },
    {
     "name": "stderr",
     "output_type": "stream",
     "text": [
      " 92%|█████████▏| 1662/1813 [4:21:15<24:25,  9.70s/it]"
     ]
    },
    {
     "name": "stdout",
     "output_type": "stream",
     "text": [
      "Saved  제9회 대한체육회장배 전국 스쿼시 선수권 대회 예선경기 31 이동준 최승열\n"
     ]
    },
    {
     "name": "stderr",
     "output_type": "stream",
     "text": [
      " 92%|█████████▏| 1663/1813 [4:21:22<22:07,  8.85s/it]"
     ]
    },
    {
     "name": "stdout",
     "output_type": "stream",
     "text": [
      "Saved  제9회 대한체육회장배 전국 스쿼시 선수권 대회 준준준준결승 1 유덕재 배연우\n"
     ]
    },
    {
     "name": "stderr",
     "output_type": "stream",
     "text": [
      " 92%|█████████▏| 1664/1813 [4:21:29<20:32,  8.27s/it]"
     ]
    },
    {
     "name": "stdout",
     "output_type": "stream",
     "text": [
      "Saved  제9회 대한체육회장배 전국 스쿼시 선수권 대회 준준준준결승 2 임지훈 박성준\n"
     ]
    },
    {
     "name": "stderr",
     "output_type": "stream",
     "text": [
      " 92%|█████████▏| 1665/1813 [4:21:36<19:55,  8.08s/it]"
     ]
    },
    {
     "name": "stdout",
     "output_type": "stream",
     "text": [
      "Saved  제9회 대한체육회장배 전국 스쿼시 선수권 대회 준준준준결승 3 양성훈 오성학\n"
     ]
    },
    {
     "name": "stderr",
     "output_type": "stream",
     "text": [
      " 92%|█████████▏| 1666/1813 [4:21:43<18:52,  7.70s/it]"
     ]
    },
    {
     "name": "stdout",
     "output_type": "stream",
     "text": [
      "Saved  제9회 대한체육회장배 전국 스쿼시 선수권 대회 준준준준결승 4 박정식 최동진\n"
     ]
    },
    {
     "name": "stderr",
     "output_type": "stream",
     "text": [
      " 92%|█████████▏| 1667/1813 [4:22:01<26:19, 10.82s/it]"
     ]
    },
    {
     "name": "stdout",
     "output_type": "stream",
     "text": [
      "Saved  제9회 대한체육회장배 전국 스쿼시 선수권 대회 준준준준결승 5 하재민 박병국\n"
     ]
    },
    {
     "name": "stderr",
     "output_type": "stream",
     "text": [
      " 92%|█████████▏| 1668/1813 [4:22:10<24:55, 10.31s/it]"
     ]
    },
    {
     "name": "stdout",
     "output_type": "stream",
     "text": [
      "Saved  제9회 대한체육회장배 전국 스쿼시 선수권 대회 준준준준결승 6 고영조 원종수\n"
     ]
    },
    {
     "name": "stderr",
     "output_type": "stream",
     "text": [
      " 92%|█████████▏| 1669/1813 [4:22:17<22:23,  9.33s/it]"
     ]
    },
    {
     "name": "stdout",
     "output_type": "stream",
     "text": [
      "Saved  제9회 대한체육회장배 전국 스쿼시 선수권 대회 준준준준결승 7 김현용 임도원\n"
     ]
    },
    {
     "name": "stderr",
     "output_type": "stream",
     "text": [
      " 92%|█████████▏| 1670/1813 [4:22:24<20:29,  8.60s/it]"
     ]
    },
    {
     "name": "stdout",
     "output_type": "stream",
     "text": [
      "Saved  제9회 대한체육회장배 전국 스쿼시 선수권 대회 준준준준결승 8 탁형진 김태규\n"
     ]
    },
    {
     "name": "stderr",
     "output_type": "stream",
     "text": [
      " 92%|█████████▏| 1671/1813 [4:22:31<19:07,  8.08s/it]"
     ]
    },
    {
     "name": "stdout",
     "output_type": "stream",
     "text": [
      "Saved  제9회 대한체육회장배 전국 스쿼시 선수권 대회 준준준준결승 9 박민우 김남정\n"
     ]
    },
    {
     "name": "stderr",
     "output_type": "stream",
     "text": [
      " 92%|█████████▏| 1672/1813 [4:22:46<23:43, 10.10s/it]"
     ]
    },
    {
     "name": "stdout",
     "output_type": "stream",
     "text": [
      "Saved  제9회 대한체육회장배 전국 스쿼시 선수권 대회 준준준준결승 10 이승욱 윤여훈\n"
     ]
    },
    {
     "name": "stderr",
     "output_type": "stream",
     "text": [
      " 92%|█████████▏| 1673/1813 [4:22:53<21:20,  9.15s/it]"
     ]
    },
    {
     "name": "stdout",
     "output_type": "stream",
     "text": [
      "Saved  제9회 대한체육회장배 전국 스쿼시 선수권 대회 준준준준결승 11 이현욱 김태엽\n"
     ]
    },
    {
     "name": "stderr",
     "output_type": "stream",
     "text": [
      " 92%|█████████▏| 1674/1813 [4:23:00<19:42,  8.51s/it]"
     ]
    },
    {
     "name": "stdout",
     "output_type": "stream",
     "text": [
      "Saved  제9회 대한체육회장배 전국 스쿼시 선수권 대회 준준준준결승 12 최지우 권창혁\n",
      "Saved  제9회 대한체육회장배 전국 스쿼시 선수권 대회 준준준준결승 13 신승용 장준영\n"
     ]
    },
    {
     "name": "stderr",
     "output_type": "stream",
     "text": [
      " 92%|█████████▏| 1676/1813 [4:23:14<17:48,  7.80s/it]"
     ]
    },
    {
     "name": "stdout",
     "output_type": "stream",
     "text": [
      "Saved  제9회 대한체육회장배 전국 스쿼시 선수권 대회 준준준준결승 14 김병조 박영복\n"
     ]
    },
    {
     "name": "stderr",
     "output_type": "stream",
     "text": [
      " 92%|█████████▏| 1677/1813 [4:23:29<22:33,  9.95s/it]"
     ]
    },
    {
     "name": "stdout",
     "output_type": "stream",
     "text": [
      "Saved  제9회 대한체육회장배 전국 스쿼시 선수권 대회 준준준준결승 15 권순주 유성연\n"
     ]
    },
    {
     "name": "stderr",
     "output_type": "stream",
     "text": [
      " 93%|█████████▎| 1678/1813 [4:23:36<20:22,  9.06s/it]"
     ]
    },
    {
     "name": "stdout",
     "output_type": "stream",
     "text": [
      "Saved  제9회 대한체육회장배 전국 스쿼시 선수권 대회 준준준준결승 16 이동준 이승훈\n"
     ]
    },
    {
     "name": "stderr",
     "output_type": "stream",
     "text": [
      " 93%|█████████▎| 1679/1813 [4:23:43<18:47,  8.41s/it]"
     ]
    },
    {
     "name": "stdout",
     "output_type": "stream",
     "text": [
      "Saved  제9회 대한체육회장배 전국 스쿼시 선수권 대회 준준준결승경기１ 유덕재 임지훈\n"
     ]
    },
    {
     "name": "stderr",
     "output_type": "stream",
     "text": [
      " 93%|█████████▎| 1680/1813 [4:23:50<17:40,  7.97s/it]"
     ]
    },
    {
     "name": "stdout",
     "output_type": "stream",
     "text": [
      "Saved  제9회 대한체육회장배 전국 스쿼시 선수권 대회 준준준결승경기２ 오성학 박정식\n"
     ]
    },
    {
     "name": "stderr",
     "output_type": "stream",
     "text": [
      " 93%|█████████▎| 1681/1813 [4:23:57<16:57,  7.71s/it]"
     ]
    },
    {
     "name": "stdout",
     "output_type": "stream",
     "text": [
      "Saved  제9회 대한체육회장배 전국 스쿼시 선수권 대회 준준준결승경기３ 박병국 고영조\n"
     ]
    },
    {
     "name": "stderr",
     "output_type": "stream",
     "text": [
      " 93%|█████████▎| 1682/1813 [4:24:04<16:19,  7.48s/it]"
     ]
    },
    {
     "name": "stdout",
     "output_type": "stream",
     "text": [
      "Saved  제9회 대한체육회장배 전국 스쿼시 선수권 대회 준준준결승경기４ 김현용 탁형진\n"
     ]
    },
    {
     "name": "stderr",
     "output_type": "stream",
     "text": [
      " 93%|█████████▎| 1683/1813 [4:24:21<22:19, 10.30s/it]"
     ]
    },
    {
     "name": "stdout",
     "output_type": "stream",
     "text": [
      "Saved  제9회 대한체육회장배 전국 스쿼시 선수권 대회 준준준결승경기５ 김남정 윤여훈\n"
     ]
    },
    {
     "name": "stderr",
     "output_type": "stream",
     "text": [
      " 93%|█████████▎| 1684/1813 [4:24:28<20:03,  9.33s/it]"
     ]
    },
    {
     "name": "stdout",
     "output_type": "stream",
     "text": [
      "Saved  제9회 대한체육회장배 전국 스쿼시 선수권 대회 준준준결승경기６ 이현욱 최지우\n",
      "Saved  제9회 대한체육회장배 전국 스쿼시 선수권 대회 준준준결승경기７ 신승용 김병조\n"
     ]
    },
    {
     "name": "stderr",
     "output_type": "stream",
     "text": [
      " 93%|█████████▎| 1686/1813 [4:24:44<18:20,  8.67s/it]"
     ]
    },
    {
     "name": "stdout",
     "output_type": "stream",
     "text": [
      "Saved  제9회 대한체육회장배 전국 스쿼시 선수권 대회 준준준결승경기８ 유성연 이승훈\n"
     ]
    },
    {
     "name": "stderr",
     "output_type": "stream",
     "text": [
      " 93%|█████████▎| 1687/1813 [4:24:51<17:13,  8.20s/it]"
     ]
    },
    {
     "name": "stdout",
     "output_type": "stream",
     "text": [
      "Saved  제9회 대한체육회장배 전국 스쿼시 선수권 대회 준준결승경기１ 유덕재 오성학\n"
     ]
    },
    {
     "name": "stderr",
     "output_type": "stream",
     "text": [
      " 93%|█████████▎| 1688/1813 [4:25:07<21:57, 10.54s/it]"
     ]
    },
    {
     "name": "stdout",
     "output_type": "stream",
     "text": [
      "Saved  제9회 대한체육회장배 전국 스쿼시 선수권 대회 준준결승경기２ 고영조 탁형진\n",
      "Saved  제9회 대한체육회장배 전국 스쿼시 선수권 대회 준준결승경기３ 김남정 최지우\n"
     ]
    },
    {
     "name": "stderr",
     "output_type": "stream",
     "text": [
      " 93%|█████████▎| 1690/1813 [4:25:22<18:01,  8.80s/it]"
     ]
    },
    {
     "name": "stdout",
     "output_type": "stream",
     "text": [
      "Saved  제9회 대한체육회장배 전국 스쿼시 선수권 대회 준준결승경기４ 김병조 이승훈\n"
     ]
    },
    {
     "name": "stderr",
     "output_type": "stream",
     "text": [
      " 93%|█████████▎| 1691/1813 [4:25:28<16:40,  8.20s/it]"
     ]
    },
    {
     "name": "stdout",
     "output_type": "stream",
     "text": [
      "Saved  제9회 대한체육회장배 전국 스쿼시 선수권 대회 준결승경기１ 유덕재 고영조\n"
     ]
    },
    {
     "name": "stderr",
     "output_type": "stream",
     "text": [
      " 93%|█████████▎| 1692/1813 [4:25:36<15:49,  7.84s/it]"
     ]
    },
    {
     "name": "stdout",
     "output_type": "stream",
     "text": [
      "Saved  제9회 대한체육회장배 전국 스쿼시 선수권 대회 준결승경기２ 김남정 이승훈\n"
     ]
    },
    {
     "name": "stderr",
     "output_type": "stream",
     "text": [
      " 93%|█████████▎| 1693/1813 [4:25:42<15:05,  7.54s/it]"
     ]
    },
    {
     "name": "stdout",
     "output_type": "stream",
     "text": [
      "Saved  제9회 대한체육회장배 전국 스쿼시 선수권 대회 결승 고영조 이승훈\n"
     ]
    },
    {
     "name": "stderr",
     "output_type": "stream",
     "text": [
      " 93%|█████████▎| 1694/1813 [4:25:59<20:35, 10.38s/it]"
     ]
    },
    {
     "name": "stdout",
     "output_type": "stream",
     "text": [
      "Saved  제9회 대한체육회장배 전국 스쿼시 선수권 대회 예선경기１ 진승우 이단대\n",
      "Saved  제9회 대한체육회장배 전국 스쿼시 선수권 대회 예선경기２ 한승철 김성집\n"
     ]
    },
    {
     "name": "stderr",
     "output_type": "stream",
     "text": [
      " 94%|█████████▎| 1696/1813 [4:26:13<16:54,  8.67s/it]"
     ]
    },
    {
     "name": "stdout",
     "output_type": "stream",
     "text": [
      "Saved  제9회 대한체육회장배 전국 스쿼시 선수권 대회 예선경기３ 길재호 원준호\n"
     ]
    },
    {
     "name": "stderr",
     "output_type": "stream",
     "text": [
      " 94%|█████████▎| 1697/1813 [4:26:21<15:51,  8.20s/it]"
     ]
    },
    {
     "name": "stdout",
     "output_type": "stream",
     "text": [
      "Saved  제9회 대한체육회장배 전국 스쿼시 선수권 대회 예선경기４ 유재진 정욱진\n"
     ]
    },
    {
     "name": "stderr",
     "output_type": "stream",
     "text": [
      " 94%|█████████▎| 1698/1813 [4:26:28<15:02,  7.85s/it]"
     ]
    },
    {
     "name": "stdout",
     "output_type": "stream",
     "text": [
      "Saved  제9회 대한체육회장배 전국 스쿼시 선수권 대회 예선경기５ 강석환 이승호\n"
     ]
    },
    {
     "name": "stderr",
     "output_type": "stream",
     "text": [
      " 94%|█████████▎| 1699/1813 [4:26:42<18:56,  9.97s/it]"
     ]
    },
    {
     "name": "stdout",
     "output_type": "stream",
     "text": [
      "Saved  제9회 대한체육회장배 전국 스쿼시 선수권 대회 예선경기６ 허재선 김현준\n"
     ]
    },
    {
     "name": "stderr",
     "output_type": "stream",
     "text": [
      " 94%|█████████▍| 1700/1813 [4:26:50<17:09,  9.11s/it]"
     ]
    },
    {
     "name": "stdout",
     "output_type": "stream",
     "text": [
      "Saved  제9회 대한체육회장배 전국 스쿼시 선수권 대회 예선경기７ 황중찬 정성진\n"
     ]
    },
    {
     "name": "stderr",
     "output_type": "stream",
     "text": [
      " 94%|█████████▍| 1701/1813 [4:26:57<15:52,  8.50s/it]"
     ]
    },
    {
     "name": "stdout",
     "output_type": "stream",
     "text": [
      "Saved  제9회 대한체육회장배 전국 스쿼시 선수권 대회 예선경기８ 권혁제 박종명\n"
     ]
    },
    {
     "name": "stderr",
     "output_type": "stream",
     "text": [
      " 94%|█████████▍| 1702/1813 [4:27:04<14:52,  8.04s/it]"
     ]
    },
    {
     "name": "stdout",
     "output_type": "stream",
     "text": [
      "Saved  제9회 대한체육회장배 전국 스쿼시 선수권 대회 준준결승경기１ 진승우 한승철\n"
     ]
    },
    {
     "name": "stderr",
     "output_type": "stream",
     "text": [
      " 94%|█████████▍| 1703/1813 [4:27:11<14:13,  7.76s/it]"
     ]
    },
    {
     "name": "stdout",
     "output_type": "stream",
     "text": [
      "Saved  제9회 대한체육회장배 전국 스쿼시 선수권 대회 준준결승경기２ 원준호 유재진\n"
     ]
    },
    {
     "name": "stderr",
     "output_type": "stream",
     "text": [
      " 94%|█████████▍| 1704/1813 [4:27:26<18:00,  9.91s/it]"
     ]
    },
    {
     "name": "stdout",
     "output_type": "stream",
     "text": [
      "Saved  제9회 대한체육회장배 전국 스쿼시 선수권 대회 준준결승경기３ 강석환 허재선\n",
      "Saved  제9회 대한체육회장배 전국 스쿼시 선수권 대회 준준결승경기４ 황중찬 박종명\n"
     ]
    },
    {
     "name": "stderr",
     "output_type": "stream",
     "text": [
      " 94%|█████████▍| 1706/1813 [4:27:40<14:59,  8.40s/it]"
     ]
    },
    {
     "name": "stdout",
     "output_type": "stream",
     "text": [
      "Saved  제9회 대한체육회장배 전국 스쿼시 선수권 대회 준결승경기１ 진승우 유재진\n"
     ]
    },
    {
     "name": "stderr",
     "output_type": "stream",
     "text": [
      " 94%|█████████▍| 1707/1813 [4:27:47<14:07,  8.00s/it]"
     ]
    },
    {
     "name": "stdout",
     "output_type": "stream",
     "text": [
      "Saved  제9회 대한체육회장배 전국 스쿼시 선수권 대회 준결승경기２ 강석환 박종명\n"
     ]
    },
    {
     "name": "stderr",
     "output_type": "stream",
     "text": [
      " 94%|█████████▍| 1708/1813 [4:27:55<14:23,  8.22s/it]"
     ]
    },
    {
     "name": "stdout",
     "output_type": "stream",
     "text": [
      "Saved  제9회 대한체육회장배 전국 스쿼시 선수권 대회 결승 유재진 박종명\n"
     ]
    },
    {
     "name": "stderr",
     "output_type": "stream",
     "text": [
      " 94%|█████████▍| 1709/1813 [4:28:02<13:35,  7.84s/it]"
     ]
    },
    {
     "name": "stdout",
     "output_type": "stream",
     "text": [
      "Saved  제9회 대한체육회장배 전국 스쿼시 선수권 대회 예선경기１ 이승준 김태우\n"
     ]
    },
    {
     "name": "stderr",
     "output_type": "stream",
     "text": [
      " 94%|█████████▍| 1710/1813 [4:28:19<18:13, 10.62s/it]"
     ]
    },
    {
     "name": "stdout",
     "output_type": "stream",
     "text": [
      "Saved  제9회 대한체육회장배 전국 스쿼시 선수권 대회 예선경기２ 윤태용 이은범\n"
     ]
    },
    {
     "name": "stderr",
     "output_type": "stream",
     "text": [
      " 94%|█████████▍| 1711/1813 [4:28:27<16:18,  9.60s/it]"
     ]
    },
    {
     "name": "stdout",
     "output_type": "stream",
     "text": [
      "Saved  제9회 대한체육회장배 전국 스쿼시 선수권 대회 예선경기３ 김동우 이승택\n"
     ]
    },
    {
     "name": "stderr",
     "output_type": "stream",
     "text": [
      " 94%|█████████▍| 1712/1813 [4:28:34<14:59,  8.91s/it]"
     ]
    },
    {
     "name": "stdout",
     "output_type": "stream",
     "text": [
      "Saved  제9회 대한체육회장배 전국 스쿼시 선수권 대회 예선경기４ 한상철 정대훈\n"
     ]
    },
    {
     "name": "stderr",
     "output_type": "stream",
     "text": [
      " 94%|█████████▍| 1713/1813 [4:28:41<13:45,  8.26s/it]"
     ]
    },
    {
     "name": "stdout",
     "output_type": "stream",
     "text": [
      "Saved  제9회 대한체육회장배 전국 스쿼시 선수권 대회 예선경기５ 최정운 임지훈\n"
     ]
    },
    {
     "name": "stderr",
     "output_type": "stream",
     "text": [
      " 95%|█████████▍| 1714/1813 [4:28:48<13:02,  7.90s/it]"
     ]
    },
    {
     "name": "stdout",
     "output_type": "stream",
     "text": [
      "Saved  제9회 대한체육회장배 전국 스쿼시 선수권 대회 예선경기６ 안성수 정민채\n"
     ]
    },
    {
     "name": "stderr",
     "output_type": "stream",
     "text": [
      " 95%|█████████▍| 1715/1813 [4:29:03<16:21, 10.02s/it]"
     ]
    },
    {
     "name": "stdout",
     "output_type": "stream",
     "text": [
      "Saved  제9회 대한체육회장배 전국 스쿼시 선수권 대회 예선경기７ 유용민 정현도\n"
     ]
    },
    {
     "name": "stderr",
     "output_type": "stream",
     "text": [
      " 95%|█████████▍| 1716/1813 [4:29:10<14:50,  9.18s/it]"
     ]
    },
    {
     "name": "stdout",
     "output_type": "stream",
     "text": [
      "Saved  제9회 대한체육회장배 전국 스쿼시 선수권 대회 예선경기８ 권오석 권현준\n"
     ]
    },
    {
     "name": "stderr",
     "output_type": "stream",
     "text": [
      " 95%|█████████▍| 1717/1813 [4:29:17<13:43,  8.58s/it]"
     ]
    },
    {
     "name": "stdout",
     "output_type": "stream",
     "text": [
      "Saved  제9회 대한체육회장배 전국 스쿼시 선수권 대회 예선경기９ 이건동 황상엽\n"
     ]
    },
    {
     "name": "stderr",
     "output_type": "stream",
     "text": [
      " 95%|█████████▍| 1718/1813 [4:29:24<12:45,  8.06s/it]"
     ]
    },
    {
     "name": "stdout",
     "output_type": "stream",
     "text": [
      "Saved  제9회 대한체육회장배 전국 스쿼시 선수권 대회 예선경기１０ 이호국 엄수원\n"
     ]
    },
    {
     "name": "stderr",
     "output_type": "stream",
     "text": [
      " 95%|█████████▍| 1719/1813 [4:29:31<12:10,  7.77s/it]"
     ]
    },
    {
     "name": "stdout",
     "output_type": "stream",
     "text": [
      "Saved  제9회 대한체육회장배 전국 스쿼시 선수권 대회 예선경기１１ 황중원 진수철\n",
      "Saved  제9회 대한체육회장배 전국 스쿼시 선수권 대회 예선경기１２ 이년호 강성민\n"
     ]
    },
    {
     "name": "stderr",
     "output_type": "stream",
     "text": [
      " 95%|█████████▍| 1721/1813 [4:29:54<14:07,  9.21s/it]"
     ]
    },
    {
     "name": "stdout",
     "output_type": "stream",
     "text": [
      "Saved  제9회 대한체육회장배 전국 스쿼시 선수권 대회 예선경기１３ 구륜회 노승화\n",
      "Saved  제9회 대한체육회장배 전국 스쿼시 선수권 대회 예선경기１４ 한성수 이세현\n"
     ]
    },
    {
     "name": "stderr",
     "output_type": "stream",
     "text": [
      " 95%|█████████▌| 1723/1813 [4:30:08<12:16,  8.18s/it]"
     ]
    },
    {
     "name": "stdout",
     "output_type": "stream",
     "text": [
      "Saved  제9회 대한체육회장배 전국 스쿼시 선수권 대회 예선경기１５ 김종훈 유승룡\n"
     ]
    },
    {
     "name": "stderr",
     "output_type": "stream",
     "text": [
      " 95%|█████████▌| 1724/1813 [4:30:15<11:40,  7.87s/it]"
     ]
    },
    {
     "name": "stdout",
     "output_type": "stream",
     "text": [
      "Saved  제9회 대한체육회장배 전국 스쿼시 선수권 대회 예선경기１６ 황지훈 김현동\n"
     ]
    },
    {
     "name": "stderr",
     "output_type": "stream",
     "text": [
      " 95%|█████████▌| 1725/1813 [4:30:22<11:09,  7.61s/it]"
     ]
    },
    {
     "name": "stdout",
     "output_type": "stream",
     "text": [
      "Saved  제9회 대한체육회장배 전국 스쿼시 선수권 대회 준준준결승경기１ 이승준 이은범\n"
     ]
    },
    {
     "name": "stderr",
     "output_type": "stream",
     "text": [
      " 95%|█████████▌| 1726/1813 [4:30:41<16:02, 11.06s/it]"
     ]
    },
    {
     "name": "stdout",
     "output_type": "stream",
     "text": [
      "Saved  제9회 대한체육회장배 전국 스쿼시 선수권 대회 준준준결승경기２ 이승택 정대훈\n"
     ]
    },
    {
     "name": "stderr",
     "output_type": "stream",
     "text": [
      " 95%|█████████▌| 1727/1813 [4:30:48<14:09,  9.88s/it]"
     ]
    },
    {
     "name": "stdout",
     "output_type": "stream",
     "text": [
      "Saved  제9회 대한체육회장배 전국 스쿼시 선수권 대회 준준준결승경기３ 최정운 정민채\n"
     ]
    },
    {
     "name": "stderr",
     "output_type": "stream",
     "text": [
      " 95%|█████████▌| 1728/1813 [4:30:56<13:01,  9.20s/it]"
     ]
    },
    {
     "name": "stdout",
     "output_type": "stream",
     "text": [
      "Saved  제9회 대한체육회장배 전국 스쿼시 선수권 대회 준준준결승경기４ 유용민 권현준\n"
     ]
    },
    {
     "name": "stderr",
     "output_type": "stream",
     "text": [
      " 95%|█████████▌| 1729/1813 [4:31:03<12:01,  8.59s/it]"
     ]
    },
    {
     "name": "stdout",
     "output_type": "stream",
     "text": [
      "Saved  제9회 대한체육회장배 전국 스쿼시 선수권 대회 준준준결승경기５ 이건동 엄수원\n"
     ]
    },
    {
     "name": "stderr",
     "output_type": "stream",
     "text": [
      " 95%|█████████▌| 1730/1813 [4:31:10<11:15,  8.14s/it]"
     ]
    },
    {
     "name": "stdout",
     "output_type": "stream",
     "text": [
      "Saved  제9회 대한체육회장배 전국 스쿼시 선수권 대회 준준준결승경기６ 황중원 이년호\n"
     ]
    },
    {
     "name": "stderr",
     "output_type": "stream",
     "text": [
      " 95%|█████████▌| 1731/1813 [4:31:26<14:24, 10.55s/it]"
     ]
    },
    {
     "name": "stdout",
     "output_type": "stream",
     "text": [
      "Saved  제9회 대한체육회장배 전국 스쿼시 선수권 대회 준준준결승경기７ 구륜회 이세현\n"
     ]
    },
    {
     "name": "stderr",
     "output_type": "stream",
     "text": [
      " 96%|█████████▌| 1732/1813 [4:31:34<13:00,  9.63s/it]"
     ]
    },
    {
     "name": "stdout",
     "output_type": "stream",
     "text": [
      "Saved  제9회 대한체육회장배 전국 스쿼시 선수권 대회 준준준결승경기８ 김종훈 김현동\n"
     ]
    },
    {
     "name": "stderr",
     "output_type": "stream",
     "text": [
      " 96%|█████████▌| 1733/1813 [4:31:41<11:50,  8.88s/it]"
     ]
    },
    {
     "name": "stdout",
     "output_type": "stream",
     "text": [
      "Saved  제9회 대한체육회장배 전국 스쿼시 선수권 대회 준준결승경기１ 이승준 이승택\n"
     ]
    },
    {
     "name": "stderr",
     "output_type": "stream",
     "text": [
      " 96%|█████████▌| 1734/1813 [4:31:48<10:55,  8.30s/it]"
     ]
    },
    {
     "name": "stdout",
     "output_type": "stream",
     "text": [
      "Saved  제9회 대한체육회장배 전국 스쿼시 선수권 대회 준준결승경기２ 최정운 권현준\n"
     ]
    },
    {
     "name": "stderr",
     "output_type": "stream",
     "text": [
      " 96%|█████████▌| 1735/1813 [4:31:55<10:14,  7.88s/it]"
     ]
    },
    {
     "name": "stdout",
     "output_type": "stream",
     "text": [
      "Saved  제9회 대한체육회장배 전국 스쿼시 선수권 대회 준준결승경기３ 이건동 이년호\n",
      "Saved  제9회 대한체육회장배 전국 스쿼시 선수권 대회 준준결승경기４ 이세현 김현동\n"
     ]
    },
    {
     "name": "stderr",
     "output_type": "stream",
     "text": [
      " 96%|█████████▌| 1737/1813 [4:32:18<11:49,  9.34s/it]"
     ]
    },
    {
     "name": "stdout",
     "output_type": "stream",
     "text": [
      "Saved  제9회 대한체육회장배 전국 스쿼시 선수권 대회 준결승경기１ 이승준 최정운\n"
     ]
    },
    {
     "name": "stderr",
     "output_type": "stream",
     "text": [
      " 96%|█████████▌| 1738/1813 [4:32:25<10:56,  8.75s/it]"
     ]
    },
    {
     "name": "stdout",
     "output_type": "stream",
     "text": [
      "Saved  제9회 대한체육회장배 전국 스쿼시 선수권 대회 준결승경기２ 이건동 이세현\n"
     ]
    },
    {
     "name": "stderr",
     "output_type": "stream",
     "text": [
      " 96%|█████████▌| 1739/1813 [4:32:32<10:16,  8.34s/it]"
     ]
    },
    {
     "name": "stdout",
     "output_type": "stream",
     "text": [
      "Saved  제9회 대한체육회장배 전국 스쿼시 선수권 대회 결승 이승준 이세현\n"
     ]
    },
    {
     "name": "stderr",
     "output_type": "stream",
     "text": [
      " 96%|█████████▌| 1740/1813 [4:32:40<09:44,  8.00s/it]"
     ]
    },
    {
     "name": "stdout",
     "output_type": "stream",
     "text": [
      "Saved  제9회 대한체육회장배 전국 스쿼시 선수권 대회 예선경기２ 박지선 신유민\n"
     ]
    },
    {
     "name": "stderr",
     "output_type": "stream",
     "text": [
      " 96%|█████████▌| 1741/1813 [4:32:47<09:14,  7.70s/it]"
     ]
    },
    {
     "name": "stdout",
     "output_type": "stream",
     "text": [
      "Saved  제9회 대한체육회장배 전국 스쿼시 선수권 대회 예선경기３ 최예솔 김민지\n",
      "Saved  제9회 대한체육회장배 전국 스쿼시 선수권 대회 예선경기４ 허민경 오영민\n"
     ]
    },
    {
     "name": "stderr",
     "output_type": "stream",
     "text": [
      " 96%|█████████▌| 1743/1813 [4:33:11<11:06,  9.52s/it]"
     ]
    },
    {
     "name": "stdout",
     "output_type": "stream",
     "text": [
      "Saved  제9회 대한체육회장배 전국 스쿼시 선수권 대회 예선경기５ 김수림 박은희\n"
     ]
    },
    {
     "name": "stderr",
     "output_type": "stream",
     "text": [
      " 96%|█████████▌| 1744/1813 [4:33:19<10:24,  9.05s/it]"
     ]
    },
    {
     "name": "stdout",
     "output_type": "stream",
     "text": [
      "Saved  제9회 대한체육회장배 전국 스쿼시 선수권 대회 예선경기６ 장유진 한지원\n",
      "Saved  제9회 대한체육회장배 전국 스쿼시 선수권 대회 예선경기７ 황하윤 엄화영\n"
     ]
    },
    {
     "name": "stderr",
     "output_type": "stream",
     "text": [
      " 96%|█████████▋| 1746/1813 [4:33:34<09:13,  8.27s/it]"
     ]
    },
    {
     "name": "stdout",
     "output_type": "stream",
     "text": [
      "Saved  제9회 대한체육회장배 전국 스쿼시 선수권 대회 예선경기１０ 박다영 김선희\n"
     ]
    },
    {
     "name": "stderr",
     "output_type": "stream",
     "text": [
      " 96%|█████████▋| 1747/1813 [4:33:49<11:28, 10.44s/it]"
     ]
    },
    {
     "name": "stdout",
     "output_type": "stream",
     "text": [
      "Saved  제9회 대한체육회장배 전국 스쿼시 선수권 대회 예선경기１１ 김조은 송하연\n"
     ]
    },
    {
     "name": "stderr",
     "output_type": "stream",
     "text": [
      " 96%|█████████▋| 1748/1813 [4:33:57<10:13,  9.44s/it]"
     ]
    },
    {
     "name": "stdout",
     "output_type": "stream",
     "text": [
      "Saved  제9회 대한체육회장배 전국 스쿼시 선수권 대회 예선경기１２ 이석주 김하은\n"
     ]
    },
    {
     "name": "stderr",
     "output_type": "stream",
     "text": [
      " 96%|█████████▋| 1749/1813 [4:34:04<09:18,  8.72s/it]"
     ]
    },
    {
     "name": "stdout",
     "output_type": "stream",
     "text": [
      "Saved  제9회 대한체육회장배 전국 스쿼시 선수권 대회 예선경기１３ 김민영 김유라\n"
     ]
    },
    {
     "name": "stderr",
     "output_type": "stream",
     "text": [
      " 97%|█████████▋| 1750/1813 [4:34:11<08:37,  8.22s/it]"
     ]
    },
    {
     "name": "stdout",
     "output_type": "stream",
     "text": [
      "Saved  제9회 대한체육회장배 전국 스쿼시 선수권 대회 예선경기１４ 선나라 최누리\n"
     ]
    },
    {
     "name": "stderr",
     "output_type": "stream",
     "text": [
      " 97%|█████████▋| 1751/1813 [4:34:18<08:08,  7.87s/it]"
     ]
    },
    {
     "name": "stdout",
     "output_type": "stream",
     "text": [
      "Saved  제9회 대한체육회장배 전국 스쿼시 선수권 대회 예선경기１５ 문혜연 백지은\n"
     ]
    },
    {
     "name": "stderr",
     "output_type": "stream",
     "text": [
      " 97%|█████████▋| 1752/1813 [4:34:33<10:14, 10.07s/it]"
     ]
    },
    {
     "name": "stdout",
     "output_type": "stream",
     "text": [
      "Saved  제9회 대한체육회장배 전국 스쿼시 선수권 대회 준준준결승경기１ 박민주 신유민\n"
     ]
    },
    {
     "name": "stderr",
     "output_type": "stream",
     "text": [
      " 97%|█████████▋| 1753/1813 [4:34:40<09:16,  9.27s/it]"
     ]
    },
    {
     "name": "stdout",
     "output_type": "stream",
     "text": [
      "Saved  제9회 대한체육회장배 전국 스쿼시 선수권 대회 준준준결승경기２ 김민지 허민경\n",
      "Saved  제9회 대한체육회장배 전국 스쿼시 선수권 대회 준준준결승경기３ 박은희 장유진\n"
     ]
    },
    {
     "name": "stderr",
     "output_type": "stream",
     "text": [
      " 97%|█████████▋| 1755/1813 [4:34:55<08:03,  8.33s/it]"
     ]
    },
    {
     "name": "stdout",
     "output_type": "stream",
     "text": [
      "Saved  제9회 대한체육회장배 전국 스쿼시 선수권 대회 준준준결승경기４ 엄화영 권소희\n"
     ]
    },
    {
     "name": "stderr",
     "output_type": "stream",
     "text": [
      " 97%|█████████▋| 1756/1813 [4:35:02<07:34,  7.98s/it]"
     ]
    },
    {
     "name": "stdout",
     "output_type": "stream",
     "text": [
      "Saved  제9회 대한체육회장배 전국 스쿼시 선수권 대회 준준준결승경기５ 김미진 김선희\n"
     ]
    },
    {
     "name": "stderr",
     "output_type": "stream",
     "text": [
      " 97%|█████████▋| 1757/1813 [4:35:09<07:10,  7.70s/it]"
     ]
    },
    {
     "name": "stdout",
     "output_type": "stream",
     "text": [
      "Saved  제9회 대한체육회장배 전국 스쿼시 선수권 대회 준준준결승경기６ 김조은 이석주\n"
     ]
    },
    {
     "name": "stderr",
     "output_type": "stream",
     "text": [
      " 97%|█████████▋| 1758/1813 [4:35:27<09:49, 10.72s/it]"
     ]
    },
    {
     "name": "stdout",
     "output_type": "stream",
     "text": [
      "Saved  제9회 대한체육회장배 전국 스쿼시 선수권 대회 준준준결승경기７ 김민영 최누리\n"
     ]
    },
    {
     "name": "stderr",
     "output_type": "stream",
     "text": [
      " 97%|█████████▋| 1759/1813 [4:35:36<09:04, 10.07s/it]"
     ]
    },
    {
     "name": "stdout",
     "output_type": "stream",
     "text": [
      "Saved  제9회 대한체육회장배 전국 스쿼시 선수권 대회 준준준결승경기８ 문혜연 안예진\n"
     ]
    },
    {
     "name": "stderr",
     "output_type": "stream",
     "text": [
      " 97%|█████████▋| 1760/1813 [4:35:43<08:12,  9.29s/it]"
     ]
    },
    {
     "name": "stdout",
     "output_type": "stream",
     "text": [
      "Saved  제9회 대한체육회장배 전국 스쿼시 선수권 대회 준준결승경기１ 박민주 허민경\n",
      "Saved  제9회 대한체육회장배 전국 스쿼시 선수권 대회 준준결승경기２ 장유진 엄화영\n"
     ]
    },
    {
     "name": "stderr",
     "output_type": "stream",
     "text": [
      " 97%|█████████▋| 1762/1813 [4:35:58<07:01,  8.26s/it]"
     ]
    },
    {
     "name": "stdout",
     "output_type": "stream",
     "text": [
      "Saved  제9회 대한체육회장배 전국 스쿼시 선수권 대회 준준결승경기３ 김미진 김조은\n",
      "Saved  제9회 대한체육회장배 전국 스쿼시 선수권 대회 준준결승경기４ 김민영 안예진\n"
     ]
    },
    {
     "name": "stderr",
     "output_type": "stream",
     "text": [
      " 97%|█████████▋| 1764/1813 [4:36:20<07:43,  9.45s/it]"
     ]
    },
    {
     "name": "stdout",
     "output_type": "stream",
     "text": [
      "Saved  제9회 대한체육회장배 전국 스쿼시 선수권 대회 준결승경기１ 박민주 엄화영\n"
     ]
    },
    {
     "name": "stderr",
     "output_type": "stream",
     "text": [
      " 97%|█████████▋| 1765/1813 [4:36:28<07:02,  8.80s/it]"
     ]
    },
    {
     "name": "stdout",
     "output_type": "stream",
     "text": [
      "Saved  제9회 대한체육회장배 전국 스쿼시 선수권 대회 준결승경기２ 김미진 안예진\n",
      "Saved  제9회 대한체육회장배 전국 스쿼시 선수권 대회 결승 박민주 김미진\n"
     ]
    },
    {
     "name": "stderr",
     "output_type": "stream",
     "text": [
      " 97%|█████████▋| 1767/1813 [4:36:43<06:15,  8.16s/it]"
     ]
    },
    {
     "name": "stdout",
     "output_type": "stream",
     "text": [
      "Saved  제9회 대한체육회장배 전국 스쿼시 선수권 대회 예선경기２ 강한나 장유빈\n",
      "Saved  제9회 대한체육회장배 전국 스쿼시 선수권 대회 예선경기３ 이지현 제연정\n"
     ]
    },
    {
     "name": "stderr",
     "output_type": "stream",
     "text": [
      " 98%|█████████▊| 1769/1813 [4:37:05<06:49,  9.32s/it]"
     ]
    },
    {
     "name": "stdout",
     "output_type": "stream",
     "text": [
      "Saved  제9회 대한체육회장배 전국 스쿼시 선수권 대회 예선경기４ 박다나 김상미\n"
     ]
    },
    {
     "name": "stderr",
     "output_type": "stream",
     "text": [
      " 98%|█████████▊| 1770/1813 [4:37:12<06:08,  8.58s/it]"
     ]
    },
    {
     "name": "stdout",
     "output_type": "stream",
     "text": [
      "Saved  제9회 대한체육회장배 전국 스쿼시 선수권 대회 준결승경기１ 최유라 강한나\n"
     ]
    },
    {
     "name": "stderr",
     "output_type": "stream",
     "text": [
      " 98%|█████████▊| 1771/1813 [4:37:19<05:41,  8.13s/it]"
     ]
    },
    {
     "name": "stdout",
     "output_type": "stream",
     "text": [
      "Saved  제9회 대한체육회장배 전국 스쿼시 선수권 대회 준결승경기２ 이지현 김상미\n"
     ]
    },
    {
     "name": "stderr",
     "output_type": "stream",
     "text": [
      " 98%|█████████▊| 1772/1813 [4:37:26<05:20,  7.82s/it]"
     ]
    },
    {
     "name": "stdout",
     "output_type": "stream",
     "text": [
      "Saved  제9회 대한체육회장배 전국 스쿼시 선수권 대회 결승 최유라 이지현\n"
     ]
    },
    {
     "name": "stderr",
     "output_type": "stream",
     "text": [
      " 98%|█████████▊| 1773/1813 [4:37:33<05:03,  7.58s/it]"
     ]
    },
    {
     "name": "stdout",
     "output_type": "stream",
     "text": [
      "Saved  제9회 대한체육회장배 전국 스쿼시 선수권 대회 예선경기１ 박은옥 박미림\n"
     ]
    },
    {
     "name": "stderr",
     "output_type": "stream",
     "text": [
      " 98%|█████████▊| 1774/1813 [4:37:50<06:47, 10.46s/it]"
     ]
    },
    {
     "name": "stdout",
     "output_type": "stream",
     "text": [
      "Saved  제9회 대한체육회장배 전국 스쿼시 선수권 대회 예선경기２ 박영미 김선임\n"
     ]
    },
    {
     "name": "stderr",
     "output_type": "stream",
     "text": [
      " 98%|█████████▊| 1775/1813 [4:37:57<05:57,  9.40s/it]"
     ]
    },
    {
     "name": "stdout",
     "output_type": "stream",
     "text": [
      "Saved  제9회 대한체육회장배 전국 스쿼시 선수권 대회 예선경기３ 안은찬 김진희\n"
     ]
    },
    {
     "name": "stderr",
     "output_type": "stream",
     "text": [
      " 98%|█████████▊| 1776/1813 [4:38:04<05:20,  8.66s/it]"
     ]
    },
    {
     "name": "stdout",
     "output_type": "stream",
     "text": [
      "Saved  제9회 대한체육회장배 전국 스쿼시 선수권 대회 예선경기４ 이영욱 오성령\n"
     ]
    },
    {
     "name": "stderr",
     "output_type": "stream",
     "text": [
      " 98%|█████████▊| 1777/1813 [4:38:11<04:53,  8.14s/it]"
     ]
    },
    {
     "name": "stdout",
     "output_type": "stream",
     "text": [
      "Saved  제9회 대한체육회장배 전국 스쿼시 선수권 대회 예선경기５ 양연수 권성은\n",
      "Saved  제9회 대한체육회장배 전국 스쿼시 선수권 대회 예선경기６ 박진주 김아현\n"
     ]
    },
    {
     "name": "stderr",
     "output_type": "stream",
     "text": [
      " 98%|█████████▊| 1779/1813 [4:38:33<05:40, 10.02s/it]"
     ]
    },
    {
     "name": "stdout",
     "output_type": "stream",
     "text": [
      "Saved  제9회 대한체육회장배 전국 스쿼시 선수권 대회 예선경기７ 김다정 안혜진\n"
     ]
    },
    {
     "name": "stderr",
     "output_type": "stream",
     "text": [
      " 98%|█████████▊| 1780/1813 [4:38:40<05:02,  9.15s/it]"
     ]
    },
    {
     "name": "stdout",
     "output_type": "stream",
     "text": [
      "Saved  제9회 대한체육회장배 전국 스쿼시 선수권 대회 예선경기８ 김가혜 배찬미\n",
      "Saved  제9회 대한체육회장배 전국 스쿼시 선수권 대회 준준결승경기１ 박은옥 김선임\n"
     ]
    },
    {
     "name": "stderr",
     "output_type": "stream",
     "text": [
      " 98%|█████████▊| 1782/1813 [4:38:57<04:27,  8.63s/it]"
     ]
    },
    {
     "name": "stdout",
     "output_type": "stream",
     "text": [
      "Saved  제9회 대한체육회장배 전국 스쿼시 선수권 대회 준준결승경기２ 안은찬 오성령\n"
     ]
    },
    {
     "name": "stderr",
     "output_type": "stream",
     "text": [
      " 98%|█████████▊| 1783/1813 [4:39:04<04:04,  8.15s/it]"
     ]
    },
    {
     "name": "stdout",
     "output_type": "stream",
     "text": [
      "Saved  제9회 대한체육회장배 전국 스쿼시 선수권 대회 준준결승경기３ 양연수 김아현\n"
     ]
    },
    {
     "name": "stderr",
     "output_type": "stream",
     "text": [
      " 98%|█████████▊| 1784/1813 [4:39:11<03:46,  7.82s/it]"
     ]
    },
    {
     "name": "stdout",
     "output_type": "stream",
     "text": [
      "Saved  제9회 대한체육회장배 전국 스쿼시 선수권 대회 준준결승경기４ 김다정 김가혜\n"
     ]
    },
    {
     "name": "stderr",
     "output_type": "stream",
     "text": [
      " 98%|█████████▊| 1785/1813 [4:39:28<04:55, 10.55s/it]"
     ]
    },
    {
     "name": "stdout",
     "output_type": "stream",
     "text": [
      "Saved  제9회 대한체육회장배 전국 스쿼시 선수권 대회 준결승경기１ 박은옥 안은찬\n"
     ]
    },
    {
     "name": "stderr",
     "output_type": "stream",
     "text": [
      " 99%|█████████▊| 1786/1813 [4:39:35<04:16,  9.52s/it]"
     ]
    },
    {
     "name": "stdout",
     "output_type": "stream",
     "text": [
      "Saved  제9회 대한체육회장배 전국 스쿼시 선수권 대회 준결승경기２ 양연수 김가혜\n"
     ]
    },
    {
     "name": "stderr",
     "output_type": "stream",
     "text": [
      " 99%|█████████▊| 1787/1813 [4:39:42<03:48,  8.79s/it]"
     ]
    },
    {
     "name": "stdout",
     "output_type": "stream",
     "text": [
      "Saved  제9회 대한체육회장배 전국 스쿼시 선수권 대회 결승 박은옥 양연수\n"
     ]
    },
    {
     "name": "stderr",
     "output_type": "stream",
     "text": [
      " 99%|█████████▊| 1788/1813 [4:39:49<03:26,  8.27s/it]"
     ]
    },
    {
     "name": "stdout",
     "output_type": "stream",
     "text": [
      "Saved  제9회 대한체육회장배 전국 스쿼시 선수권 대회 예선경기１ 장수혁 박준하\n"
     ]
    },
    {
     "name": "stderr",
     "output_type": "stream",
     "text": [
      " 99%|█████████▊| 1789/1813 [4:39:56<03:09,  7.90s/it]"
     ]
    },
    {
     "name": "stdout",
     "output_type": "stream",
     "text": [
      "Saved  제9회 대한체육회장배 전국 스쿼시 선수권 대회 예선경기２ 강우석 장은준\n"
     ]
    },
    {
     "name": "stderr",
     "output_type": "stream",
     "text": [
      " 99%|█████████▊| 1790/1813 [4:44:38<34:34, 90.18s/it]"
     ]
    },
    {
     "name": "stdout",
     "output_type": "stream",
     "text": [
      "Saved  제9회 대한체육회장배 전국 스쿼시 선수권 대회 결승 장수혁 장은준\n",
      "Saved  제9회 대한체육회장배 전국 스쿼시 선수권 대회 예선경기２ 김남경 오현민\n"
     ]
    },
    {
     "name": "stderr",
     "output_type": "stream",
     "text": [
      " 99%|█████████▉| 1792/1813 [4:44:52<16:43, 47.77s/it]"
     ]
    },
    {
     "name": "stdout",
     "output_type": "stream",
     "text": [
      "Saved  제9회 대한체육회장배 전국 스쿼시 선수권 대회 예선경기３ 이용정 탁효진\n"
     ]
    },
    {
     "name": "stderr",
     "output_type": "stream",
     "text": [
      " 99%|█████████▉| 1793/1813 [4:45:00<11:51, 35.60s/it]"
     ]
    },
    {
     "name": "stdout",
     "output_type": "stream",
     "text": [
      "Saved  제9회 대한체육회장배 전국 스쿼시 선수권 대회 예선경기４ 김석진 이현준\n"
     ]
    },
    {
     "name": "stderr",
     "output_type": "stream",
     "text": [
      " 99%|█████████▉| 1794/1813 [4:45:07<08:33, 27.03s/it]"
     ]
    },
    {
     "name": "stdout",
     "output_type": "stream",
     "text": [
      "Saved  제9회 대한체육회장배 전국 스쿼시 선수권 대회 예선경기５ 신경훈 김태현\n"
     ]
    },
    {
     "name": "stderr",
     "output_type": "stream",
     "text": [
      " 99%|█████████▉| 1795/1813 [4:45:22<07:01, 23.44s/it]"
     ]
    },
    {
     "name": "stdout",
     "output_type": "stream",
     "text": [
      "Saved  제9회 대한체육회장배 전국 스쿼시 선수권 대회 예선경기６ 이동민 양재혁\n"
     ]
    },
    {
     "name": "stderr",
     "output_type": "stream",
     "text": [
      " 99%|█████████▉| 1796/1813 [4:45:29<05:17, 18.70s/it]"
     ]
    },
    {
     "name": "stdout",
     "output_type": "stream",
     "text": [
      "Saved  제9회 대한체육회장배 전국 스쿼시 선수권 대회 예선경기７ 황수연 구성진\n"
     ]
    },
    {
     "name": "stderr",
     "output_type": "stream",
     "text": [
      " 99%|█████████▉| 1797/1813 [4:45:37<04:03, 15.23s/it]"
     ]
    },
    {
     "name": "stdout",
     "output_type": "stream",
     "text": [
      "Saved  제9회 대한체육회장배 전국 스쿼시 선수권 대회 준준결승경기１ 류한동 김남경\n"
     ]
    },
    {
     "name": "stderr",
     "output_type": "stream",
     "text": [
      " 99%|█████████▉| 1798/1813 [4:45:43<03:10, 12.72s/it]"
     ]
    },
    {
     "name": "stdout",
     "output_type": "stream",
     "text": [
      "Saved  제9회 대한체육회장배 전국 스쿼시 선수권 대회 준준결승경기２ 탁효진 김석진\n"
     ]
    },
    {
     "name": "stderr",
     "output_type": "stream",
     "text": [
      " 99%|█████████▉| 1799/1813 [4:45:51<02:34, 11.04s/it]"
     ]
    },
    {
     "name": "stdout",
     "output_type": "stream",
     "text": [
      "Saved  제9회 대한체육회장배 전국 스쿼시 선수권 대회 준준결승경기３ 신경훈 이동민\n"
     ]
    },
    {
     "name": "stderr",
     "output_type": "stream",
     "text": [
      " 99%|█████████▉| 1800/1813 [4:45:57<02:07,  9.79s/it]"
     ]
    },
    {
     "name": "stdout",
     "output_type": "stream",
     "text": [
      "Saved  제9회 대한체육회장배 전국 스쿼시 선수권 대회 준준결승경기４ 황수연 박성찬\n"
     ]
    },
    {
     "name": "stderr",
     "output_type": "stream",
     "text": [
      " 99%|█████████▉| 1801/1813 [4:46:14<02:22, 11.88s/it]"
     ]
    },
    {
     "name": "stdout",
     "output_type": "stream",
     "text": [
      "Saved  제9회 대한체육회장배 전국 스쿼시 선수권 대회 준결승경기１ 류한동 탁효진\n"
     ]
    },
    {
     "name": "stderr",
     "output_type": "stream",
     "text": [
      " 99%|█████████▉| 1802/1813 [4:46:21<01:54, 10.40s/it]"
     ]
    },
    {
     "name": "stdout",
     "output_type": "stream",
     "text": [
      "Saved  제9회 대한체육회장배 전국 스쿼시 선수권 대회 준결승경기２ 이동민 박성찬\n"
     ]
    },
    {
     "name": "stderr",
     "output_type": "stream",
     "text": [
      " 99%|█████████▉| 1803/1813 [4:46:28<01:33,  9.34s/it]"
     ]
    },
    {
     "name": "stdout",
     "output_type": "stream",
     "text": [
      "Saved  제9회 대한체육회장배 전국 스쿼시 선수권 대회 결승 류한동 박성찬\n"
     ]
    },
    {
     "name": "stderr",
     "output_type": "stream",
     "text": [
      "100%|█████████▉| 1804/1813 [4:46:35<01:17,  8.64s/it]"
     ]
    },
    {
     "name": "stdout",
     "output_type": "stream",
     "text": [
      "Saved  제9회 대한체육회장배 전국 스쿼시 선수권 대회 예선경기１ 전아인 LEEARIANANAYEON\n"
     ]
    },
    {
     "name": "stderr",
     "output_type": "stream",
     "text": [
      "100%|█████████▉| 1805/1813 [4:46:42<01:05,  8.17s/it]"
     ]
    },
    {
     "name": "stdout",
     "output_type": "stream",
     "text": [
      "Saved  제9회 대한체육회장배 전국 스쿼시 선수권 대회 예선경기２ CHO OLIVIA IN YOUNG 최이안\n"
     ]
    },
    {
     "name": "stderr",
     "output_type": "stream",
     "text": [
      "100%|█████████▉| 1806/1813 [4:46:57<01:11, 10.24s/it]"
     ]
    },
    {
     "name": "stdout",
     "output_type": "stream",
     "text": [
      "Saved  제9회 대한체육회장배 전국 스쿼시 선수권 대회 결승 전아인 CHO OLIVIA IN YOUNG\n"
     ]
    },
    {
     "name": "stderr",
     "output_type": "stream",
     "text": [
      "100%|█████████▉| 1807/1813 [4:47:04<00:55,  9.25s/it]"
     ]
    },
    {
     "name": "stdout",
     "output_type": "stream",
     "text": [
      "Saved  제9회 대한체육회장배 전국 스쿼시 선수권 대회 예선경기１ 최유주 오승희\n"
     ]
    },
    {
     "name": "stderr",
     "output_type": "stream",
     "text": [
      "100%|█████████▉| 1808/1813 [4:47:11<00:42,  8.57s/it]"
     ]
    },
    {
     "name": "stdout",
     "output_type": "stream",
     "text": [
      "Saved  제9회 대한체육회장배 전국 스쿼시 선수권 대회 예선경기２ 조민영 송동주\n"
     ]
    },
    {
     "name": "stderr",
     "output_type": "stream",
     "text": [
      "100%|█████████▉| 1809/1813 [4:47:18<00:32,  8.23s/it]"
     ]
    },
    {
     "name": "stdout",
     "output_type": "stream",
     "text": [
      "Saved  제9회 대한체육회장배 전국 스쿼시 선수권 대회 예선경기３ 곽다연 박지연\n"
     ]
    },
    {
     "name": "stderr",
     "output_type": "stream",
     "text": [
      "100%|█████████▉| 1810/1813 [4:47:25<00:23,  7.75s/it]"
     ]
    },
    {
     "name": "stdout",
     "output_type": "stream",
     "text": [
      "Saved  제9회 대한체육회장배 전국 스쿼시 선수권 대회 예선경기４ 김미소 김규리\n"
     ]
    },
    {
     "name": "stderr",
     "output_type": "stream",
     "text": [
      "100%|█████████▉| 1811/1813 [4:47:41<00:20, 10.16s/it]"
     ]
    },
    {
     "name": "stdout",
     "output_type": "stream",
     "text": [
      "Saved  제9회 대한체육회장배 전국 스쿼시 선수권 대회 준결승경기１ 최유주 송동주\n"
     ]
    },
    {
     "name": "stderr",
     "output_type": "stream",
     "text": [
      "100%|█████████▉| 1812/1813 [4:47:48<00:09,  9.20s/it]"
     ]
    },
    {
     "name": "stdout",
     "output_type": "stream",
     "text": [
      "Saved  제9회 대한체육회장배 전국 스쿼시 선수권 대회 준결승경기２ 곽다연 김규리\n"
     ]
    },
    {
     "name": "stderr",
     "output_type": "stream",
     "text": [
      "100%|██████████| 1813/1813 [4:47:55<00:00,  9.53s/it]"
     ]
    },
    {
     "name": "stdout",
     "output_type": "stream",
     "text": [
      "Saved  제9회 대한체육회장배 전국 스쿼시 선수권 대회 결승 최유주 김규리\n"
     ]
    },
    {
     "name": "stderr",
     "output_type": "stream",
     "text": [
      "\n"
     ]
    }
   ],
   "source": [
    "file = pd.read_csv(\"All_Mathces_Combined.csv\")\n",
    "columns = [\"Year\", \"Tournament\",\"Division\", \"Stage\", \"Team\",\"Player\", \"Team\", \"Oppoenent\", \"Result\", \"Player Games Won\", \"Opponent Games Won\", \"Player Game Scores\", \"Opponent Game Scores\"]\n",
    "combined_df = pd.DataFrame(columns=columns)\n",
    "    \n",
    "e = selenium.common.exceptions.UnexpectedAlertPresentException()\n",
    "\n",
    "# Load the web page\n",
    "for i in tqdm(range(1884+198+248+17+7+84+244+140+2303, len(file))):\n",
    "    try:\n",
    "        tourney_name = file['대회명'][i]\n",
    "        url = file['경기결과'][i]\n",
    "        driver = webdriver.Chrome(executable_path=r'C:\\Users\\h00ns\\Oasis\\chromedriver')\n",
    "        driver.get(url)\n",
    "\n",
    "        # Wait for the page to fully load\n",
    "        #driver.implicitly_wait(5)\n",
    "        #time.sleep(5)\n",
    "\n",
    "        #create beautifulsoup object to read html\n",
    "        soup = BeautifulSoup(driver.page_source, 'lxml')\n",
    "        tables = soup.find_all('table')\n",
    "        dfs = pd.read_html(str(tables))\n",
    "        \n",
    "        try:\n",
    "            #Get Tournament Info\n",
    "            year = int(dfs[0][1][0].split(\".\")[0])\n",
    "            division = dfs[0][1][1].split(' ')[0]\n",
    "            \n",
    "            #get player info\n",
    "            team_1 = dfs[2].columns.levels[0][0]\n",
    "            player_1 = dfs[2][team_1]['성명'][0]\n",
    "\n",
    "            team_2 = dfs[3].columns.levels[0][0]\n",
    "            player_2 = dfs[3][team_2]['성명'][0]\n",
    "\n",
    "            #get stage\n",
    "            stage = dfs[0].iloc[1].iloc[1].split(\" - \")[-1]\n",
    "            #print(stage)\n",
    "\n",
    "            #get match result\n",
    "\n",
    "            result_1 = dfs[1].iloc[1].loc[3]\n",
    "            result_2 = dfs[1].iloc[1].loc[9]\n",
    "\n",
    "            set_1 = dfs[1].iloc[2].loc[3]\n",
    "            set_2 = dfs[1].iloc[2].loc[9]\n",
    "\n",
    "            score_1 = []\n",
    "            score_2 = []\n",
    "\n",
    "\n",
    "            for i in range(5):\n",
    "                try:\n",
    "                    neg_i = -i-1\n",
    "                    point_1 = int(dfs[1].iloc[neg_i].loc[3])\n",
    "                    point_2 = int(dfs[1].iloc[neg_i].loc[9])\n",
    "\n",
    "                    score_1.append(point_1)\n",
    "                    score_2.append(point_2)\n",
    "                    #print(int(point_1), int(point_2))\n",
    "\n",
    "                except ValueError:\n",
    "                    score_1.append(0)\n",
    "                    score_2.append(0)\n",
    "\n",
    "            p1 = [year, tourney_name, division, stage, team_1, player_1, team_2, player_2, result_1, set_1, set_2, score_1, score_2]\n",
    "            p2 = [year, tourney_name, division, stage, team_2, player_2, team_1, player_1, result_2, set_2, set_1, score_2, score_1]\n",
    "\n",
    "            df = pd.DataFrame([p1,p2], columns=columns)\n",
    "\n",
    "            combined_df = combined_df.append(df)\n",
    "\n",
    "            combined_df.to_csv(\"Player_Results_CSV_Final_6.csv\", index=None, mode='a')\n",
    "            #with pd.ExcelWriter(\"Player_Results_Excel_Final_6.xlsx\",engine=\"openpyxl\", mode='a') as writer:  \n",
    "                    #combined_df.to_excel(writer, index=None)\n",
    "\n",
    "\n",
    "            print(\"Saved \", tourney_name, stage, player_1, player_2)\n",
    "            driver.close()\n",
    "\n",
    "        except IndexError:\n",
    "            print(\"No Information.\")\n",
    "            driver.close()\n",
    "        \n",
    "    except:\n",
    "        print(\"Error: Refreshing Chrome\")\n",
    "        driver.refresh()\n",
    "        driver.implicitly_wait(15)\n",
    "        soup = BeautifulSoup(driver.page_source, 'lxml')\n",
    "        tables = soup.find_all('table')\n",
    "        dfs = pd.read_html(str(tables))\n",
    "\n",
    "        try:\n",
    "            #get player info\n",
    "            team_1 = dfs[2].columns.levels[0][0]\n",
    "            player_1 = dfs[2][team_1]['성명'][0]\n",
    "\n",
    "            team_2 = dfs[3].columns.levels[0][0]\n",
    "            player_2 = dfs[3][team_2]['성명'][0]\n",
    "\n",
    "            #get stage\n",
    "            stage = dfs[0].iloc[1].iloc[1].split(\" - \")[-1]\n",
    "            #print(stage)\n",
    "\n",
    "            #get match result\n",
    "\n",
    "            result_1 = dfs[1].iloc[1].loc[3]\n",
    "            result_2 = dfs[1].iloc[1].loc[9]\n",
    "\n",
    "            set_1 = dfs[1].iloc[2].loc[3]\n",
    "            set_2 = dfs[1].iloc[2].loc[9]\n",
    "\n",
    "            score_1 = []\n",
    "            score_2 = []\n",
    "\n",
    "\n",
    "            for i in range(5):\n",
    "                try:\n",
    "                    neg_i = -i-1\n",
    "                    point_1 = int(dfs[1].iloc[neg_i].loc[3])\n",
    "                    point_2 = int(dfs[1].iloc[neg_i].loc[9])\n",
    "\n",
    "                    score_1.append(point_1)\n",
    "                    score_2.append(point_2)\n",
    "                    #print(int(point_1), int(point_2))\n",
    "\n",
    "                except ValueError:\n",
    "                    score_1.append(0)\n",
    "                    score_2.append(0)\n",
    "\n",
    "            p1 = [year, tourney_name, division, stage, team_1, player_1, team_2, player_2, result_1, set_1, set_2, score_1, score_2]\n",
    "            p2 = [year, tourney_name, division, stage, team_2, player_2, team_1, player_1, result_2, set_2, set_1, score_2, score_1]\n",
    "\n",
    "            df = pd.DataFrame([p1,p2], columns=columns)\n",
    "\n",
    "            combined_df = combined_df.append(df)\n",
    "\n",
    "            combined_df.to_csv(\"Player_Results_CSV_Final_6.csv\", index=None, mode='a')\n",
    "            #with pd.ExcelWriter(\"Player_Results_Excel_Final_6.xlsx\",engine=\"openpyxl\", mode='a') as writer:  \n",
    "                #combined_df.to_excel(writer, index=None)\n",
    "\n",
    "            print(\"Saved \", year, tourney_name, division, stage, player_1, player_2)\n",
    "            driver.close()\n",
    "\n",
    "        except IndexError:\n",
    "            print(\"No Information.\")\n",
    "            driver.close()\n",
    "\n",
    "   "
   ]
  },
  {
   "cell_type": "code",
   "execution_count": null,
   "metadata": {},
   "outputs": [],
   "source": []
  }
 ],
 "metadata": {
  "kernelspec": {
   "display_name": "Python 3",
   "language": "python",
   "name": "python3"
  },
  "language_info": {
   "codemirror_mode": {
    "name": "ipython",
    "version": 3
   },
   "file_extension": ".py",
   "mimetype": "text/x-python",
   "name": "python",
   "nbconvert_exporter": "python",
   "pygments_lexer": "ipython3",
   "version": "3.8.5"
  }
 },
 "nbformat": 4,
 "nbformat_minor": 4
}
